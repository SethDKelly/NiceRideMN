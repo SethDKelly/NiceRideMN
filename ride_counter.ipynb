{
 "cells": [
  {
   "cell_type": "code",
   "execution_count": 1,
   "metadata": {},
   "outputs": [],
   "source": [
    "import pandas as pd\n",
    "import numpy as np\n",
    "\n",
    "    #######################################################################################\n",
    "    # Creates a dataframe with the total count of rides from station start and station end\n",
    "    # Start_id \tEnd_id \tcounts\n",
    "    #\n",
    "    # Requires a data frame that has columns for station start_id's and End_id's\n",
    "    #######################################################################################\n",
    "    \n",
    "for year in [2010 + x for x in range(8)] :\n",
    "\n",
    "    # Load in the data and change to pandas DataFrame\n",
    "    ridership_dict = pd.read_csv(\"~/Projects/NiceRide/Nice_Ride_data/\"+str(year)+\"/NiceRide_trip_history_\"+str(year)+\".csv\")\n",
    "    NR_ridership = pd.DataFrame(ridership_dict)\n",
    "    \n",
    "    assert 'Start_id' in NR_ridership.columns, \"Column named `Start_id` must be in arg DataFrame\"\n",
    "    assert 'End_id' in NR_ridership.columns, \"Column named `End_id` must be in arg DataFrame\"\n",
    "\n",
    "    ride_counts = NR_ridership.drop(['Start_date', 'Start_name', \\\n",
    "                                     'End_date', 'End_name', \\\n",
    "                                     'duration', 'account'], axis=1)\n",
    "    \n",
    "    ride_counts['counts'] = 0 # create a new column filled with zeroes for a default value\n",
    "\n",
    "    # fill the count column by count aggregrating terminals by start_id and end_id\n",
    "    ride_counts = ride_counts.groupby(by=['Start_id', 'End_id'],axis=0, as_index=False)['counts'].count()\n",
    "    \n",
    "    ride_counts.to_csv(\"~/Projects/NiceRide/Nice_Ride_data/\"+str(year)+\"/NiceRide_ride_count_\"+str(year)+\".csv\")"
   ]
  }
 ],
 "metadata": {
  "kernelspec": {
   "display_name": "Python 3",
   "language": "python",
   "name": "python3"
  },
  "language_info": {
   "codemirror_mode": {
    "name": "ipython",
    "version": 3
   },
   "file_extension": ".py",
   "mimetype": "text/x-python",
   "name": "python",
   "nbconvert_exporter": "python",
   "pygments_lexer": "ipython3",
   "version": "3.6.2"
  }
 },
 "nbformat": 4,
 "nbformat_minor": 2
}
