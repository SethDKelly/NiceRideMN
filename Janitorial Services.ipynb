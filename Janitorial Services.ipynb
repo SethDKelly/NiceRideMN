{
 "cells": [
  {
   "cell_type": "markdown",
   "metadata": {},
   "source": [
    "# Process of cleaning 2010 trip history data"
   ]
  },
  {
   "cell_type": "markdown",
   "metadata": {},
   "source": [
    "**Load dependencies and data set**"
   ]
  },
  {
   "cell_type": "code",
   "execution_count": 1,
   "metadata": {},
   "outputs": [],
   "source": [
    "import numpy as np\n",
    "import pandas as pd\n",
    "import datetime\n",
    "\n",
    "nr_2010_old = nr_2010 = pd.read_csv(\"~/Projects/NiceRide/Nice_Ride_data/2010/Nice_Ride_trip_history_2010_season.csv\")\n",
    "# can't coerce \"dtype = {'End terminal':np.int32, 'Total duration (ms)':np.int32})\" due to NaN values"
   ]
  },
  {
   "cell_type": "markdown",
   "metadata": {},
   "source": [
    "**Check how data loaded, and row count**"
   ]
  },
  {
   "cell_type": "code",
   "execution_count": 2,
   "metadata": {},
   "outputs": [
    {
     "name": "stdout",
     "output_type": "stream",
     "text": [
      "Start date             101851\n",
      "Start station          101851\n",
      "Start terminal         101851\n",
      "End date               101428\n",
      "End station            101426\n",
      "End terminal           101426\n",
      "Total duration (ms)    101428\n",
      "Account type           101851\n",
      "dtype: int64\n"
     ]
    },
    {
     "data": {
      "text/html": [
       "<div>\n",
       "<style scoped>\n",
       "    .dataframe tbody tr th:only-of-type {\n",
       "        vertical-align: middle;\n",
       "    }\n",
       "\n",
       "    .dataframe tbody tr th {\n",
       "        vertical-align: top;\n",
       "    }\n",
       "\n",
       "    .dataframe thead th {\n",
       "        text-align: right;\n",
       "    }\n",
       "</style>\n",
       "<table border=\"1\" class=\"dataframe\">\n",
       "  <thead>\n",
       "    <tr style=\"text-align: right;\">\n",
       "      <th></th>\n",
       "      <th>Start date</th>\n",
       "      <th>Start station</th>\n",
       "      <th>Start terminal</th>\n",
       "      <th>End date</th>\n",
       "      <th>End station</th>\n",
       "      <th>End terminal</th>\n",
       "      <th>Total duration (ms)</th>\n",
       "      <th>Account type</th>\n",
       "    </tr>\n",
       "  </thead>\n",
       "  <tbody>\n",
       "    <tr>\n",
       "      <th>0</th>\n",
       "      <td>6/10/2010 8:01</td>\n",
       "      <td>100 Main Street SE</td>\n",
       "      <td>30000</td>\n",
       "      <td>6/10/2010 8:01</td>\n",
       "      <td>100 Main Street SE</td>\n",
       "      <td>30000.0</td>\n",
       "      <td>8018.0</td>\n",
       "      <td>Casual</td>\n",
       "    </tr>\n",
       "  </tbody>\n",
       "</table>\n",
       "</div>"
      ],
      "text/plain": [
       "       Start date       Start station  Start terminal        End date  \\\n",
       "0  6/10/2010 8:01  100 Main Street SE           30000  6/10/2010 8:01   \n",
       "\n",
       "          End station  End terminal  Total duration (ms) Account type  \n",
       "0  100 Main Street SE       30000.0               8018.0       Casual  "
      ]
     },
     "execution_count": 2,
     "metadata": {},
     "output_type": "execute_result"
    }
   ],
   "source": [
    "print(nr_2010.count())\n",
    "nr_2010.head(1) # Discrepancy shows NaN values"
   ]
  },
  {
   "cell_type": "markdown",
   "metadata": {},
   "source": [
    "**Another method checking if Dataframe has any NaN and where they are located**"
   ]
  },
  {
   "cell_type": "code",
   "execution_count": 3,
   "metadata": {},
   "outputs": [
    {
     "data": {
      "text/plain": [
       "Start date               0\n",
       "Start station            0\n",
       "Start terminal           0\n",
       "End date               423\n",
       "End station            425\n",
       "End terminal           425\n",
       "Total duration (ms)    423\n",
       "Account type             0\n",
       "dtype: int64"
      ]
     },
     "execution_count": 3,
     "metadata": {},
     "output_type": "execute_result"
    }
   ],
   "source": [
    "nr_2010.isnull().sum()\n",
    "# A boolean variation :\n",
    "# nr_2010.isnull().any()"
   ]
  },
  {
   "cell_type": "markdown",
   "metadata": {},
   "source": [
    "**NaN removal**"
   ]
  },
  {
   "cell_type": "code",
   "execution_count": 4,
   "metadata": {},
   "outputs": [],
   "source": [
    "nr_2010 = nr_2010.dropna()"
   ]
  },
  {
   "cell_type": "code",
   "execution_count": 5,
   "metadata": {},
   "outputs": [
    {
     "data": {
      "text/plain": [
       "Start date             101426\n",
       "Start station          101426\n",
       "Start terminal         101426\n",
       "End date               101426\n",
       "End station            101426\n",
       "End terminal           101426\n",
       "Total duration (ms)    101426\n",
       "Account type           101426\n",
       "dtype: int64"
      ]
     },
     "execution_count": 5,
     "metadata": {},
     "output_type": "execute_result"
    }
   ],
   "source": [
    "nr_2010.count()\n",
    "# Notice how all the columns are now equal"
   ]
  },
  {
   "cell_type": "code",
   "execution_count": 6,
   "metadata": {},
   "outputs": [
    {
     "data": {
      "text/plain": [
       "Start date             0\n",
       "Start station          0\n",
       "Start terminal         0\n",
       "End date               0\n",
       "End station            0\n",
       "End terminal           0\n",
       "Total duration (ms)    0\n",
       "Account type           0\n",
       "dtype: int64"
      ]
     },
     "execution_count": 6,
     "metadata": {},
     "output_type": "execute_result"
    }
   ],
   "source": [
    "nr_2010.isnull().sum()\n",
    "# Looking good"
   ]
  },
  {
   "cell_type": "markdown",
   "metadata": {},
   "source": [
    "** Renaming terminal columns for legibility**"
   ]
  },
  {
   "cell_type": "code",
   "execution_count": 7,
   "metadata": {},
   "outputs": [
    {
     "data": {
      "text/html": [
       "<div>\n",
       "<style scoped>\n",
       "    .dataframe tbody tr th:only-of-type {\n",
       "        vertical-align: middle;\n",
       "    }\n",
       "\n",
       "    .dataframe tbody tr th {\n",
       "        vertical-align: top;\n",
       "    }\n",
       "\n",
       "    .dataframe thead th {\n",
       "        text-align: right;\n",
       "    }\n",
       "</style>\n",
       "<table border=\"1\" class=\"dataframe\">\n",
       "  <thead>\n",
       "    <tr style=\"text-align: right;\">\n",
       "      <th></th>\n",
       "      <th>Start date</th>\n",
       "      <th>Start station</th>\n",
       "      <th>Start terminal</th>\n",
       "      <th>End date</th>\n",
       "      <th>End station</th>\n",
       "      <th>End terminal</th>\n",
       "      <th>Total duration (ms)</th>\n",
       "      <th>Account type</th>\n",
       "    </tr>\n",
       "  </thead>\n",
       "  <tbody>\n",
       "    <tr>\n",
       "      <th>0</th>\n",
       "      <td>6/10/2010 8:01</td>\n",
       "      <td>100 Main Street SE</td>\n",
       "      <td>30000</td>\n",
       "      <td>6/10/2010 8:01</td>\n",
       "      <td>100 Main Street SE</td>\n",
       "      <td>30000.0</td>\n",
       "      <td>8018.0</td>\n",
       "      <td>Casual</td>\n",
       "    </tr>\n",
       "    <tr>\n",
       "      <th>1</th>\n",
       "      <td>6/10/2010 17:38</td>\n",
       "      <td>100 Main Street SE</td>\n",
       "      <td>30000</td>\n",
       "      <td>6/10/2010 17:54</td>\n",
       "      <td>IDS Center</td>\n",
       "      <td>30042.0</td>\n",
       "      <td>963762.0</td>\n",
       "      <td>Casual</td>\n",
       "    </tr>\n",
       "    <tr>\n",
       "      <th>2</th>\n",
       "      <td>6/10/2010 21:15</td>\n",
       "      <td>100 Main Street SE</td>\n",
       "      <td>30000</td>\n",
       "      <td>6/10/2010 21:27</td>\n",
       "      <td>11th Street &amp; Hennepin</td>\n",
       "      <td>30004.0</td>\n",
       "      <td>717079.0</td>\n",
       "      <td>Casual</td>\n",
       "    </tr>\n",
       "  </tbody>\n",
       "</table>\n",
       "</div>"
      ],
      "text/plain": [
       "        Start date       Start station  Start terminal         End date  \\\n",
       "0   6/10/2010 8:01  100 Main Street SE           30000   6/10/2010 8:01   \n",
       "1  6/10/2010 17:38  100 Main Street SE           30000  6/10/2010 17:54   \n",
       "2  6/10/2010 21:15  100 Main Street SE           30000  6/10/2010 21:27   \n",
       "\n",
       "              End station  End terminal  Total duration (ms) Account type  \n",
       "0      100 Main Street SE       30000.0               8018.0       Casual  \n",
       "1              IDS Center       30042.0             963762.0       Casual  \n",
       "2  11th Street & Hennepin       30004.0             717079.0       Casual  "
      ]
     },
     "execution_count": 7,
     "metadata": {},
     "output_type": "execute_result"
    }
   ],
   "source": [
    "nr_2010.head(3)"
   ]
  },
  {
   "cell_type": "code",
   "execution_count": 8,
   "metadata": {},
   "outputs": [],
   "source": [
    "# .rename doesn't mutate original Dataframe unless it's assigned\n",
    "nr_2010 = nr_2010.rename(index=str, columns={\"Start terminal\": \"Start station ID\",\n",
    "                                             \"End terminal\": \"End station ID\"})"
   ]
  },
  {
   "cell_type": "code",
   "execution_count": 9,
   "metadata": {},
   "outputs": [
    {
     "data": {
      "text/html": [
       "<div>\n",
       "<style scoped>\n",
       "    .dataframe tbody tr th:only-of-type {\n",
       "        vertical-align: middle;\n",
       "    }\n",
       "\n",
       "    .dataframe tbody tr th {\n",
       "        vertical-align: top;\n",
       "    }\n",
       "\n",
       "    .dataframe thead th {\n",
       "        text-align: right;\n",
       "    }\n",
       "</style>\n",
       "<table border=\"1\" class=\"dataframe\">\n",
       "  <thead>\n",
       "    <tr style=\"text-align: right;\">\n",
       "      <th></th>\n",
       "      <th>Start date</th>\n",
       "      <th>Start station</th>\n",
       "      <th>Start station ID</th>\n",
       "      <th>End date</th>\n",
       "      <th>End station</th>\n",
       "      <th>End station ID</th>\n",
       "      <th>Total duration (ms)</th>\n",
       "      <th>Account type</th>\n",
       "    </tr>\n",
       "  </thead>\n",
       "  <tbody>\n",
       "    <tr>\n",
       "      <th>0</th>\n",
       "      <td>6/10/2010 8:01</td>\n",
       "      <td>100 Main Street SE</td>\n",
       "      <td>30000</td>\n",
       "      <td>6/10/2010 8:01</td>\n",
       "      <td>100 Main Street SE</td>\n",
       "      <td>30000.0</td>\n",
       "      <td>8018.0</td>\n",
       "      <td>Casual</td>\n",
       "    </tr>\n",
       "    <tr>\n",
       "      <th>1</th>\n",
       "      <td>6/10/2010 17:38</td>\n",
       "      <td>100 Main Street SE</td>\n",
       "      <td>30000</td>\n",
       "      <td>6/10/2010 17:54</td>\n",
       "      <td>IDS Center</td>\n",
       "      <td>30042.0</td>\n",
       "      <td>963762.0</td>\n",
       "      <td>Casual</td>\n",
       "    </tr>\n",
       "    <tr>\n",
       "      <th>2</th>\n",
       "      <td>6/10/2010 21:15</td>\n",
       "      <td>100 Main Street SE</td>\n",
       "      <td>30000</td>\n",
       "      <td>6/10/2010 21:27</td>\n",
       "      <td>11th Street &amp; Hennepin</td>\n",
       "      <td>30004.0</td>\n",
       "      <td>717079.0</td>\n",
       "      <td>Casual</td>\n",
       "    </tr>\n",
       "  </tbody>\n",
       "</table>\n",
       "</div>"
      ],
      "text/plain": [
       "        Start date       Start station  Start station ID         End date  \\\n",
       "0   6/10/2010 8:01  100 Main Street SE             30000   6/10/2010 8:01   \n",
       "1  6/10/2010 17:38  100 Main Street SE             30000  6/10/2010 17:54   \n",
       "2  6/10/2010 21:15  100 Main Street SE             30000  6/10/2010 21:27   \n",
       "\n",
       "              End station  End station ID  Total duration (ms) Account type  \n",
       "0      100 Main Street SE         30000.0               8018.0       Casual  \n",
       "1              IDS Center         30042.0             963762.0       Casual  \n",
       "2  11th Street & Hennepin         30004.0             717079.0       Casual  "
      ]
     },
     "execution_count": 9,
     "metadata": {},
     "output_type": "execute_result"
    }
   ],
   "source": [
    "nr_2010.head(3)"
   ]
  },
  {
   "cell_type": "markdown",
   "metadata": {},
   "source": [
    "**Addressing dtype of End Terminal**"
   ]
  },
  {
   "cell_type": "code",
   "execution_count": 10,
   "metadata": {},
   "outputs": [],
   "source": [
    "nr_2010['End station ID'] = nr_2010['End station ID'].astype(int)"
   ]
  },
  {
   "cell_type": "code",
   "execution_count": 11,
   "metadata": {},
   "outputs": [
    {
     "data": {
      "text/html": [
       "<div>\n",
       "<style scoped>\n",
       "    .dataframe tbody tr th:only-of-type {\n",
       "        vertical-align: middle;\n",
       "    }\n",
       "\n",
       "    .dataframe tbody tr th {\n",
       "        vertical-align: top;\n",
       "    }\n",
       "\n",
       "    .dataframe thead th {\n",
       "        text-align: right;\n",
       "    }\n",
       "</style>\n",
       "<table border=\"1\" class=\"dataframe\">\n",
       "  <thead>\n",
       "    <tr style=\"text-align: right;\">\n",
       "      <th></th>\n",
       "      <th>Start date</th>\n",
       "      <th>Start station</th>\n",
       "      <th>Start station ID</th>\n",
       "      <th>End date</th>\n",
       "      <th>End station</th>\n",
       "      <th>End station ID</th>\n",
       "      <th>Total duration (ms)</th>\n",
       "      <th>Account type</th>\n",
       "    </tr>\n",
       "  </thead>\n",
       "  <tbody>\n",
       "    <tr>\n",
       "      <th>0</th>\n",
       "      <td>6/10/2010 8:01</td>\n",
       "      <td>100 Main Street SE</td>\n",
       "      <td>30000</td>\n",
       "      <td>6/10/2010 8:01</td>\n",
       "      <td>100 Main Street SE</td>\n",
       "      <td>30000</td>\n",
       "      <td>8018.0</td>\n",
       "      <td>Casual</td>\n",
       "    </tr>\n",
       "    <tr>\n",
       "      <th>1</th>\n",
       "      <td>6/10/2010 17:38</td>\n",
       "      <td>100 Main Street SE</td>\n",
       "      <td>30000</td>\n",
       "      <td>6/10/2010 17:54</td>\n",
       "      <td>IDS Center</td>\n",
       "      <td>30042</td>\n",
       "      <td>963762.0</td>\n",
       "      <td>Casual</td>\n",
       "    </tr>\n",
       "  </tbody>\n",
       "</table>\n",
       "</div>"
      ],
      "text/plain": [
       "        Start date       Start station  Start station ID         End date  \\\n",
       "0   6/10/2010 8:01  100 Main Street SE             30000   6/10/2010 8:01   \n",
       "1  6/10/2010 17:38  100 Main Street SE             30000  6/10/2010 17:54   \n",
       "\n",
       "          End station  End station ID  Total duration (ms) Account type  \n",
       "0  100 Main Street SE           30000               8018.0       Casual  \n",
       "1          IDS Center           30042             963762.0       Casual  "
      ]
     },
     "execution_count": 11,
     "metadata": {},
     "output_type": "execute_result"
    }
   ],
   "source": [
    "nr_2010.head(2)\n",
    "# Everything looks good!"
   ]
  },
  {
   "cell_type": "markdown",
   "metadata": {},
   "source": [
    "**Changing Total duration to integer, seconds, and renaming to identify changes**"
   ]
  },
  {
   "cell_type": "code",
   "execution_count": 12,
   "metadata": {},
   "outputs": [],
   "source": [
    "nr_2010['Total duration (seconds)'] = round(nr_2010['Total duration (ms)'] * .001).astype(int)"
   ]
  },
  {
   "cell_type": "code",
   "execution_count": 13,
   "metadata": {},
   "outputs": [
    {
     "data": {
      "text/html": [
       "<div>\n",
       "<style scoped>\n",
       "    .dataframe tbody tr th:only-of-type {\n",
       "        vertical-align: middle;\n",
       "    }\n",
       "\n",
       "    .dataframe tbody tr th {\n",
       "        vertical-align: top;\n",
       "    }\n",
       "\n",
       "    .dataframe thead th {\n",
       "        text-align: right;\n",
       "    }\n",
       "</style>\n",
       "<table border=\"1\" class=\"dataframe\">\n",
       "  <thead>\n",
       "    <tr style=\"text-align: right;\">\n",
       "      <th></th>\n",
       "      <th>Start date</th>\n",
       "      <th>Start station</th>\n",
       "      <th>Start station ID</th>\n",
       "      <th>End date</th>\n",
       "      <th>End station</th>\n",
       "      <th>End station ID</th>\n",
       "      <th>Total duration (ms)</th>\n",
       "      <th>Account type</th>\n",
       "      <th>Total duration (seconds)</th>\n",
       "    </tr>\n",
       "  </thead>\n",
       "  <tbody>\n",
       "    <tr>\n",
       "      <th>0</th>\n",
       "      <td>6/10/2010 8:01</td>\n",
       "      <td>100 Main Street SE</td>\n",
       "      <td>30000</td>\n",
       "      <td>6/10/2010 8:01</td>\n",
       "      <td>100 Main Street SE</td>\n",
       "      <td>30000</td>\n",
       "      <td>8018.0</td>\n",
       "      <td>Casual</td>\n",
       "      <td>8</td>\n",
       "    </tr>\n",
       "    <tr>\n",
       "      <th>1</th>\n",
       "      <td>6/10/2010 17:38</td>\n",
       "      <td>100 Main Street SE</td>\n",
       "      <td>30000</td>\n",
       "      <td>6/10/2010 17:54</td>\n",
       "      <td>IDS Center</td>\n",
       "      <td>30042</td>\n",
       "      <td>963762.0</td>\n",
       "      <td>Casual</td>\n",
       "      <td>964</td>\n",
       "    </tr>\n",
       "  </tbody>\n",
       "</table>\n",
       "</div>"
      ],
      "text/plain": [
       "        Start date       Start station  Start station ID         End date  \\\n",
       "0   6/10/2010 8:01  100 Main Street SE             30000   6/10/2010 8:01   \n",
       "1  6/10/2010 17:38  100 Main Street SE             30000  6/10/2010 17:54   \n",
       "\n",
       "          End station  End station ID  Total duration (ms) Account type  \\\n",
       "0  100 Main Street SE           30000               8018.0       Casual   \n",
       "1          IDS Center           30042             963762.0       Casual   \n",
       "\n",
       "   Total duration (seconds)  \n",
       "0                         8  \n",
       "1                       964  "
      ]
     },
     "execution_count": 13,
     "metadata": {},
     "output_type": "execute_result"
    }
   ],
   "source": [
    "nr_2010.head(2)"
   ]
  },
  {
   "cell_type": "code",
   "execution_count": 14,
   "metadata": {},
   "outputs": [],
   "source": [
    "del nr_2010['Total duration (ms)']\n",
    "# Removal of old column"
   ]
  },
  {
   "cell_type": "markdown",
   "metadata": {},
   "source": [
    "**Checking Account type column to ensure only 2 classifications**"
   ]
  },
  {
   "cell_type": "code",
   "execution_count": 15,
   "metadata": {},
   "outputs": [
    {
     "data": {
      "text/plain": [
       "Casual     52521\n",
       "Member     48853\n",
       "Unknown       52\n",
       "Name: Account type, dtype: int64"
      ]
     },
     "execution_count": 15,
     "metadata": {},
     "output_type": "execute_result"
    }
   ],
   "source": [
    "nr_2010['Account type'].value_counts()"
   ]
  },
  {
   "cell_type": "markdown",
   "metadata": {},
   "source": [
    "**Removing the unknown member type**"
   ]
  },
  {
   "cell_type": "code",
   "execution_count": 16,
   "metadata": {},
   "outputs": [
    {
     "data": {
      "text/plain": [
       "Casual    52521\n",
       "Member    48853\n",
       "Name: Account type, dtype: int64"
      ]
     },
     "execution_count": 16,
     "metadata": {},
     "output_type": "execute_result"
    }
   ],
   "source": [
    "nr_2010 = nr_2010.loc[~(nr_2010['Account type'] == 'Unknown')]\n",
    "nr_2010['Account type'].value_counts()"
   ]
  },
  {
   "cell_type": "markdown",
   "metadata": {},
   "source": [
    "**Cleaning complete, (original data set as reference)**"
   ]
  },
  {
   "cell_type": "code",
   "execution_count": 17,
   "metadata": {},
   "outputs": [
    {
     "data": {
      "text/html": [
       "<div>\n",
       "<style scoped>\n",
       "    .dataframe tbody tr th:only-of-type {\n",
       "        vertical-align: middle;\n",
       "    }\n",
       "\n",
       "    .dataframe tbody tr th {\n",
       "        vertical-align: top;\n",
       "    }\n",
       "\n",
       "    .dataframe thead th {\n",
       "        text-align: right;\n",
       "    }\n",
       "</style>\n",
       "<table border=\"1\" class=\"dataframe\">\n",
       "  <thead>\n",
       "    <tr style=\"text-align: right;\">\n",
       "      <th></th>\n",
       "      <th>Start date</th>\n",
       "      <th>Start station</th>\n",
       "      <th>Start station ID</th>\n",
       "      <th>End date</th>\n",
       "      <th>End station</th>\n",
       "      <th>End station ID</th>\n",
       "      <th>Account type</th>\n",
       "      <th>Total duration (seconds)</th>\n",
       "    </tr>\n",
       "  </thead>\n",
       "  <tbody>\n",
       "    <tr>\n",
       "      <th>0</th>\n",
       "      <td>6/10/2010 8:01</td>\n",
       "      <td>100 Main Street SE</td>\n",
       "      <td>30000</td>\n",
       "      <td>6/10/2010 8:01</td>\n",
       "      <td>100 Main Street SE</td>\n",
       "      <td>30000</td>\n",
       "      <td>Casual</td>\n",
       "      <td>8</td>\n",
       "    </tr>\n",
       "    <tr>\n",
       "      <th>1</th>\n",
       "      <td>6/10/2010 17:38</td>\n",
       "      <td>100 Main Street SE</td>\n",
       "      <td>30000</td>\n",
       "      <td>6/10/2010 17:54</td>\n",
       "      <td>IDS Center</td>\n",
       "      <td>30042</td>\n",
       "      <td>Casual</td>\n",
       "      <td>964</td>\n",
       "    </tr>\n",
       "    <tr>\n",
       "      <th>2</th>\n",
       "      <td>6/10/2010 21:15</td>\n",
       "      <td>100 Main Street SE</td>\n",
       "      <td>30000</td>\n",
       "      <td>6/10/2010 21:27</td>\n",
       "      <td>11th Street &amp; Hennepin</td>\n",
       "      <td>30004</td>\n",
       "      <td>Casual</td>\n",
       "      <td>717</td>\n",
       "    </tr>\n",
       "    <tr>\n",
       "      <th>3</th>\n",
       "      <td>6/11/2010 13:52</td>\n",
       "      <td>100 Main Street SE</td>\n",
       "      <td>30000</td>\n",
       "      <td>6/11/2010 14:42</td>\n",
       "      <td>Washington &amp; 2nd Ave N</td>\n",
       "      <td>30021</td>\n",
       "      <td>Casual</td>\n",
       "      <td>2966</td>\n",
       "    </tr>\n",
       "  </tbody>\n",
       "</table>\n",
       "</div>"
      ],
      "text/plain": [
       "        Start date       Start station  Start station ID         End date  \\\n",
       "0   6/10/2010 8:01  100 Main Street SE             30000   6/10/2010 8:01   \n",
       "1  6/10/2010 17:38  100 Main Street SE             30000  6/10/2010 17:54   \n",
       "2  6/10/2010 21:15  100 Main Street SE             30000  6/10/2010 21:27   \n",
       "3  6/11/2010 13:52  100 Main Street SE             30000  6/11/2010 14:42   \n",
       "\n",
       "              End station  End station ID Account type  \\\n",
       "0      100 Main Street SE           30000       Casual   \n",
       "1              IDS Center           30042       Casual   \n",
       "2  11th Street & Hennepin           30004       Casual   \n",
       "3  Washington & 2nd Ave N           30021       Casual   \n",
       "\n",
       "   Total duration (seconds)  \n",
       "0                         8  \n",
       "1                       964  \n",
       "2                       717  \n",
       "3                      2966  "
      ]
     },
     "execution_count": 17,
     "metadata": {},
     "output_type": "execute_result"
    }
   ],
   "source": [
    "nr_2010.head(4)"
   ]
  },
  {
   "cell_type": "code",
   "execution_count": 18,
   "metadata": {},
   "outputs": [
    {
     "data": {
      "text/html": [
       "<div>\n",
       "<style scoped>\n",
       "    .dataframe tbody tr th:only-of-type {\n",
       "        vertical-align: middle;\n",
       "    }\n",
       "\n",
       "    .dataframe tbody tr th {\n",
       "        vertical-align: top;\n",
       "    }\n",
       "\n",
       "    .dataframe thead th {\n",
       "        text-align: right;\n",
       "    }\n",
       "</style>\n",
       "<table border=\"1\" class=\"dataframe\">\n",
       "  <thead>\n",
       "    <tr style=\"text-align: right;\">\n",
       "      <th></th>\n",
       "      <th>Start date</th>\n",
       "      <th>Start station</th>\n",
       "      <th>Start terminal</th>\n",
       "      <th>End date</th>\n",
       "      <th>End station</th>\n",
       "      <th>End terminal</th>\n",
       "      <th>Total duration (ms)</th>\n",
       "      <th>Account type</th>\n",
       "    </tr>\n",
       "  </thead>\n",
       "  <tbody>\n",
       "    <tr>\n",
       "      <th>0</th>\n",
       "      <td>6/10/2010 8:01</td>\n",
       "      <td>100 Main Street SE</td>\n",
       "      <td>30000</td>\n",
       "      <td>6/10/2010 8:01</td>\n",
       "      <td>100 Main Street SE</td>\n",
       "      <td>30000.0</td>\n",
       "      <td>8018.0</td>\n",
       "      <td>Casual</td>\n",
       "    </tr>\n",
       "    <tr>\n",
       "      <th>1</th>\n",
       "      <td>6/10/2010 17:38</td>\n",
       "      <td>100 Main Street SE</td>\n",
       "      <td>30000</td>\n",
       "      <td>6/10/2010 17:54</td>\n",
       "      <td>IDS Center</td>\n",
       "      <td>30042.0</td>\n",
       "      <td>963762.0</td>\n",
       "      <td>Casual</td>\n",
       "    </tr>\n",
       "    <tr>\n",
       "      <th>2</th>\n",
       "      <td>6/10/2010 21:15</td>\n",
       "      <td>100 Main Street SE</td>\n",
       "      <td>30000</td>\n",
       "      <td>6/10/2010 21:27</td>\n",
       "      <td>11th Street &amp; Hennepin</td>\n",
       "      <td>30004.0</td>\n",
       "      <td>717079.0</td>\n",
       "      <td>Casual</td>\n",
       "    </tr>\n",
       "    <tr>\n",
       "      <th>3</th>\n",
       "      <td>6/11/2010 13:52</td>\n",
       "      <td>100 Main Street SE</td>\n",
       "      <td>30000</td>\n",
       "      <td>6/11/2010 14:42</td>\n",
       "      <td>Washington &amp; 2nd Ave N</td>\n",
       "      <td>30021.0</td>\n",
       "      <td>2966016.0</td>\n",
       "      <td>Casual</td>\n",
       "    </tr>\n",
       "  </tbody>\n",
       "</table>\n",
       "</div>"
      ],
      "text/plain": [
       "        Start date       Start station  Start terminal         End date  \\\n",
       "0   6/10/2010 8:01  100 Main Street SE           30000   6/10/2010 8:01   \n",
       "1  6/10/2010 17:38  100 Main Street SE           30000  6/10/2010 17:54   \n",
       "2  6/10/2010 21:15  100 Main Street SE           30000  6/10/2010 21:27   \n",
       "3  6/11/2010 13:52  100 Main Street SE           30000  6/11/2010 14:42   \n",
       "\n",
       "              End station  End terminal  Total duration (ms) Account type  \n",
       "0      100 Main Street SE       30000.0               8018.0       Casual  \n",
       "1              IDS Center       30042.0             963762.0       Casual  \n",
       "2  11th Street & Hennepin       30004.0             717079.0       Casual  \n",
       "3  Washington & 2nd Ave N       30021.0            2966016.0       Casual  "
      ]
     },
     "execution_count": 18,
     "metadata": {},
     "output_type": "execute_result"
    }
   ],
   "source": [
    "nr_2010_old.head(4)"
   ]
  },
  {
   "cell_type": "code",
   "execution_count": 19,
   "metadata": {},
   "outputs": [],
   "source": [
    "# Save to file\n",
    "nr_2010.to_csv(\"~/Projects/NiceRide/Nice_Ride_data/2010/NiceRide_trip_history_2010.csv\")"
   ]
  }
 ],
 "metadata": {
  "kernelspec": {
   "display_name": "Python 3",
   "language": "python",
   "name": "python3"
  },
  "language_info": {
   "codemirror_mode": {
    "name": "ipython",
    "version": 3
   },
   "file_extension": ".py",
   "mimetype": "text/x-python",
   "name": "python",
   "nbconvert_exporter": "python",
   "pygments_lexer": "ipython3",
   "version": "3.6.4"
  }
 },
 "nbformat": 4,
 "nbformat_minor": 2
}
