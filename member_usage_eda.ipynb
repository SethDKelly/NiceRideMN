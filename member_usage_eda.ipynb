{
 "cells": [
  {
   "cell_type": "code",
   "execution_count": 1,
   "metadata": {},
   "outputs": [],
   "source": [
    "# standard libraries\n",
    "import numpy as np #numpy warnings may be safely ignored, known issue.\n",
    "import pandas as pd\n",
    "from collections import defaultdict\n",
    "import datetime as dt \n",
    "\n",
    "# for visualizations\n",
    "import matplotlib.pyplot as plt\n",
    "import seaborn as sns"
   ]
  },
  {
   "cell_type": "code",
   "execution_count": 2,
   "metadata": {},
   "outputs": [],
   "source": [
    "nr_dict = defaultdict()\n",
    "for x in [2010 + x for x in range(8)] :\n",
    "    nr_dict[x] = pd.read_csv(\"https://raw.githubusercontent.com/SethDKelly/NiceRideMN/master/Nice_Ride_data/\" \\\n",
    "                             +str(x)+\"/NiceRide_trip_history_\"+str(x)+\".csv\")\n",
    "nr_year = pd.concat(nr_dict)"
   ]
  },
  {
   "cell_type": "code",
   "execution_count": 38,
   "metadata": {},
   "outputs": [],
   "source": [
    "# Changing dates into datetimes\n",
    "# format should be '2010-06-10 08:01:00'\n",
    "nr_year['Start_date'] = nr_year['Start_date'].apply(lambda x: dt.datetime.strptime(x,'%Y-%m-%d %H:%M:%S'))\n",
    "nr_year['End_date'] = nr_year['End_date'].apply(lambda x: dt.datetime.strptime(x,'%Y-%m-%d %H:%M:%S'))\n",
    "    \n",
    "# Time intensive, consider changing to work with values/numpy instead\n",
    "# Currently not working appropriately"
   ]
  },
  {
   "cell_type": "code",
   "execution_count": 39,
   "metadata": {},
   "outputs": [
    {
     "name": "stdout",
     "output_type": "stream",
     "text": [
      "<class 'pandas.core.frame.DataFrame'>\n",
      "MultiIndex: 2682001 entries, (2010, 0) to (2017, 459902)\n",
      "Data columns (total 8 columns):\n",
      "Start_date    datetime64[ns]\n",
      "Start_name    object\n",
      "Start_id      int64\n",
      "End_date      datetime64[ns]\n",
      "End_name      object\n",
      "End_id        int64\n",
      "duration      int64\n",
      "account       object\n",
      "dtypes: datetime64[ns](2), int64(3), object(3)\n",
      "memory usage: 180.2+ MB\n"
     ]
    }
   ],
   "source": [
    "nr_year.info()"
   ]
  },
  {
   "cell_type": "markdown",
   "metadata": {},
   "source": [
    "### Function calls"
   ]
  },
  {
   "cell_type": "code",
   "execution_count": 47,
   "metadata": {},
   "outputs": [],
   "source": [
    "def df_sum_formed(nr, percentiles=None):\n",
    "    '''\n",
    "    Takes a hierarchal dataframe by year, with a column 'duration' containing numeric ride lengths\n",
    "    Percentiles can be formated by passing a float, or an array of floats. Default is .25, .5, .75 set as None\n",
    "    \n",
    "    Returns a summary dataframe (describe method) with values as formatted objects\n",
    "    '''\n",
    "    # Unit testing should be added to check dtypes\n",
    "    tmp = pd.DataFrame(columns = [\"201\" + str(x) for x in range(8)])\n",
    "    \n",
    "    for x in [2010 + x for x in range(8)] :\n",
    "        tmp[str(x)] = nr.loc[x].duration.describe(percentiles=percentiles).map('{:,.2f}'.format)\n",
    "    \n",
    "    return tmp"
   ]
  },
  {
   "cell_type": "code",
   "execution_count": 48,
   "metadata": {},
   "outputs": [],
   "source": [
    "def df_sum(nr, percentiles=None):\n",
    "    '''\n",
    "    Takes a hierarchal dataframe by year, with a column 'duration' containing numeric ride lengths\n",
    "    Percentiles can be formated by passing a float, or an array of floats. Default is .25, .5, .75 set as None\n",
    "    \n",
    "    Returns a summary dataframe (describe method) with values as ints\n",
    "    '''\n",
    "    # Unit testing should be added to check dtypes\n",
    "    tmp = pd.DataFrame(columns = [\"201\" + str(x) for x in range(8)])\n",
    "    \n",
    "    for x in [2010 + x for x in range(8)] :\n",
    "        tmp[str(x)] = nr.loc[x].duration.describe(percentiles=percentiles)\n",
    "    \n",
    "    return tmp"
   ]
  },
  {
   "cell_type": "code",
   "execution_count": 57,
   "metadata": {},
   "outputs": [],
   "source": [
    "def mcsm_graph(summary) :\n",
    "    '''\n",
    "    Takes a summary dataframe and produces visualizations from it\n",
    "    Will produce a graph of the summaries: Mean, Count, Std. Dev., and Max\n",
    "    '''\n",
    "    plt.figure(figsize=[10,10])\n",
    "    plt.subplot(2,2,1)\n",
    "    summary.loc['mean'].plot(kind='bar', title='Ride Mean')\n",
    "    plt.subplot(2,2,2)\n",
    "    summary.loc['count'].plot(kind='bar', title='Total rides')\n",
    "    plt.subplot(2,2,3)\n",
    "    summary.loc['std'].plot(kind='bar', title='Ride length std')\n",
    "    plt.subplot(2,2,4)\n",
    "    summary.loc['max'].plot(kind='bar', title='Ride max length')\n",
    "    plt.tight_layout()\n",
    "    plt.show()"
   ]
  },
  {
   "cell_type": "markdown",
   "metadata": {},
   "source": [
    "## Outlier identification, reasoning, and removal"
   ]
  },
  {
   "cell_type": "code",
   "execution_count": 49,
   "metadata": {},
   "outputs": [
    {
     "data": {
      "text/html": [
       "<div>\n",
       "<style scoped>\n",
       "    .dataframe tbody tr th:only-of-type {\n",
       "        vertical-align: middle;\n",
       "    }\n",
       "\n",
       "    .dataframe tbody tr th {\n",
       "        vertical-align: top;\n",
       "    }\n",
       "\n",
       "    .dataframe thead th {\n",
       "        text-align: right;\n",
       "    }\n",
       "</style>\n",
       "<table border=\"1\" class=\"dataframe\">\n",
       "  <thead>\n",
       "    <tr style=\"text-align: right;\">\n",
       "      <th></th>\n",
       "      <th>2010</th>\n",
       "      <th>2011</th>\n",
       "      <th>2012</th>\n",
       "      <th>2013</th>\n",
       "      <th>2014</th>\n",
       "      <th>2015</th>\n",
       "      <th>2016</th>\n",
       "      <th>2017</th>\n",
       "    </tr>\n",
       "  </thead>\n",
       "  <tbody>\n",
       "    <tr>\n",
       "      <th>count</th>\n",
       "      <td>99,037.00</td>\n",
       "      <td>216,405.00</td>\n",
       "      <td>273,392.00</td>\n",
       "      <td>307,429.00</td>\n",
       "      <td>411,705.00</td>\n",
       "      <td>482,872.00</td>\n",
       "      <td>431,690.00</td>\n",
       "      <td>459,471.00</td>\n",
       "    </tr>\n",
       "    <tr>\n",
       "      <th>mean</th>\n",
       "      <td>1,620.67</td>\n",
       "      <td>1,155.51</td>\n",
       "      <td>1,193.38</td>\n",
       "      <td>1,239.53</td>\n",
       "      <td>1,488.76</td>\n",
       "      <td>1,479.75</td>\n",
       "      <td>1,385.29</td>\n",
       "      <td>1,516.14</td>\n",
       "    </tr>\n",
       "    <tr>\n",
       "      <th>std</th>\n",
       "      <td>4,814.70</td>\n",
       "      <td>3,204.77</td>\n",
       "      <td>3,164.28</td>\n",
       "      <td>3,042.77</td>\n",
       "      <td>4,229.46</td>\n",
       "      <td>4,371.54</td>\n",
       "      <td>4,716.09</td>\n",
       "      <td>5,046.07</td>\n",
       "    </tr>\n",
       "    <tr>\n",
       "      <th>min</th>\n",
       "      <td>11.00</td>\n",
       "      <td>11.00</td>\n",
       "      <td>11.00</td>\n",
       "      <td>11.00</td>\n",
       "      <td>11.00</td>\n",
       "      <td>60.00</td>\n",
       "      <td>60.00</td>\n",
       "      <td>60.00</td>\n",
       "    </tr>\n",
       "    <tr>\n",
       "      <th>25%</th>\n",
       "      <td>369.00</td>\n",
       "      <td>369.00</td>\n",
       "      <td>387.00</td>\n",
       "      <td>432.00</td>\n",
       "      <td>436.00</td>\n",
       "      <td>439.00</td>\n",
       "      <td>409.00</td>\n",
       "      <td>407.00</td>\n",
       "    </tr>\n",
       "    <tr>\n",
       "      <th>50%</th>\n",
       "      <td>714.00</td>\n",
       "      <td>633.00</td>\n",
       "      <td>677.00</td>\n",
       "      <td>759.00</td>\n",
       "      <td>800.00</td>\n",
       "      <td>801.00</td>\n",
       "      <td>762.00</td>\n",
       "      <td>762.00</td>\n",
       "    </tr>\n",
       "    <tr>\n",
       "      <th>75%</th>\n",
       "      <td>1,382.00</td>\n",
       "      <td>1,144.00</td>\n",
       "      <td>1,227.00</td>\n",
       "      <td>1,318.00</td>\n",
       "      <td>1,501.00</td>\n",
       "      <td>1,473.00</td>\n",
       "      <td>1,454.00</td>\n",
       "      <td>1,479.00</td>\n",
       "    </tr>\n",
       "    <tr>\n",
       "      <th>99.9%</th>\n",
       "      <td>81,855.77</td>\n",
       "      <td>49,135.12</td>\n",
       "      <td>47,578.88</td>\n",
       "      <td>37,292.92</td>\n",
       "      <td>77,142.31</td>\n",
       "      <td>78,885.52</td>\n",
       "      <td>80,823.26</td>\n",
       "      <td>82,663.73</td>\n",
       "    </tr>\n",
       "    <tr>\n",
       "      <th>max</th>\n",
       "      <td>167,561.00</td>\n",
       "      <td>171,773.00</td>\n",
       "      <td>172,031.00</td>\n",
       "      <td>171,432.00</td>\n",
       "      <td>172,420.00</td>\n",
       "      <td>172,328.00</td>\n",
       "      <td>172,732.00</td>\n",
       "      <td>172,135.00</td>\n",
       "    </tr>\n",
       "  </tbody>\n",
       "</table>\n",
       "</div>"
      ],
      "text/plain": [
       "             2010        2011        2012        2013        2014        2015  \\\n",
       "count   99,037.00  216,405.00  273,392.00  307,429.00  411,705.00  482,872.00   \n",
       "mean     1,620.67    1,155.51    1,193.38    1,239.53    1,488.76    1,479.75   \n",
       "std      4,814.70    3,204.77    3,164.28    3,042.77    4,229.46    4,371.54   \n",
       "min         11.00       11.00       11.00       11.00       11.00       60.00   \n",
       "25%        369.00      369.00      387.00      432.00      436.00      439.00   \n",
       "50%        714.00      633.00      677.00      759.00      800.00      801.00   \n",
       "75%      1,382.00    1,144.00    1,227.00    1,318.00    1,501.00    1,473.00   \n",
       "99.9%   81,855.77   49,135.12   47,578.88   37,292.92   77,142.31   78,885.52   \n",
       "max    167,561.00  171,773.00  172,031.00  171,432.00  172,420.00  172,328.00   \n",
       "\n",
       "             2016        2017  \n",
       "count  431,690.00  459,471.00  \n",
       "mean     1,385.29    1,516.14  \n",
       "std      4,716.09    5,046.07  \n",
       "min         60.00       60.00  \n",
       "25%        409.00      407.00  \n",
       "50%        762.00      762.00  \n",
       "75%      1,454.00    1,479.00  \n",
       "99.9%   80,823.26   82,663.73  \n",
       "max    172,732.00  172,135.00  "
      ]
     },
     "execution_count": 49,
     "metadata": {},
     "output_type": "execute_result"
    }
   ],
   "source": [
    "df_sum_formed(nr_year, percentiles=[.25, .5, .75,.999])"
   ]
  },
  {
   "cell_type": "code",
   "execution_count": 58,
   "metadata": {},
   "outputs": [
    {
     "data": {
      "image/png": "[encoded data removed]",
      "text/plain": [
       "<matplotlib.figure.Figure at 0x7f50ec121e10>"
      ]
     },
     "metadata": {},
     "output_type": "display_data"
    }
   ],
   "source": [
    "mcsm_graph(df_sum(nr_year))"
   ]
  },
  {
   "cell_type": "code",
   "execution_count": 7,
   "metadata": {},
   "outputs": [
    {
     "name": "stdout",
     "output_type": "stream",
     "text": [
      "2010 Total time ridden by all users: \n",
      "2457 days, 0:43:44\n",
      "2011 Total time ridden by all users: \n",
      "2981 days, 8:45:44\n",
      "2012 Total time ridden by all users: \n",
      "5494 days, 1:44:59\n",
      "2013 Total time ridden by all users: \n",
      "7868 days, 0:15:12\n",
      "2014 Total time ridden by all users: \n",
      "11033 days, 9:38:11\n",
      "2015 Total time ridden by all users: \n",
      "9838 days, 13:47:06\n",
      "2016 Total time ridden by all users: \n",
      "9333 days, 17:17:30\n",
      "2017 Total time ridden by all users: \n",
      "12012 days, 19:47:41\n"
     ]
    }
   ],
   "source": [
    "for x in [2010 + x for x in range(8)] :\n",
    "    print(str(x), 'Total time ridden by all users: ')\n",
    "    print(dt.timedelta(seconds=sum(nr_year.loc[x].duration)))"
   ]
  },
  {
   "cell_type": "code",
   "execution_count": 8,
   "metadata": {},
   "outputs": [
    {
     "name": "stdout",
     "output_type": "stream",
     "text": [
      "2010 Top ten ride lengths by user: \n",
      "[359383, 393952, 407876, 500060, 552032, 568872, 1006692, 1608263, 2655652, 39944744]\n",
      "2011 Top ten ride lengths by user: \n",
      "[253539, 257561, 274077, 282971, 317716, 348415, 355459, 584322, 854874, 1007464]\n",
      "2012 Top ten ride lengths by user: \n",
      "[577458, 710240, 972571, 1149171, 1582115, 1752889, 2063847, 5866947, 40358553, 84494340]\n",
      "2013 Top ten ride lengths by user: \n",
      "[6044428, 7624044, 17768111, 19050276, 21605212, 27372629, 28324012, 32292835, 48552976, 54851655]\n",
      "2014 Top ten ride lengths by user: \n",
      "[14239800, 15758508, 15799021, 15841339, 15994636, 16056385, 16520526, 16643299, 18154867, 25815044]\n",
      "2015 Top ten ride lengths by user: \n",
      "[1899421, 2102199, 2578176, 2687672, 3484087, 3560786, 4174262, 4803749, 5307169, 6419869]\n",
      "2016 Top ten ride lengths by user: \n",
      "[3645886, 4036665, 4597028, 4606363, 5021150, 5453261, 6748568, 9674947, 9962123, 16802621]\n",
      "2017 Top ten ride lengths by user: \n",
      "[4178850, 4227854, 4497111, 5183609, 5201563, 6799678, 6990056, 6990559, 8735902, 11354802]\n"
     ]
    }
   ],
   "source": [
    "for x in [2010 + x for x in range(8)] :\n",
    "    print(str(x), 'Top ten ride lengths by user: ')\n",
    "    print(sorted(nr_year.loc[x].duration.values)[-10:])"
   ]
  },
  {
   "cell_type": "markdown",
   "metadata": {},
   "source": [
    "_Assuming an eight (8) month riding window, March until October. Five (5) months with 31 days, three (3) without, for a total of 245 days in a given Niceride season. The longest ride a user could have a bike is: 21,168,000 seconds. The years 2010,2012,2013,2014 all have rides that go longer than this. The 2012 longest ride is ~978 days long, ~32.6 months, or ~2.68 years. We'll consider for (non-)member usage EDA that 2 day(s) will be out cut off point, or 172,800 seconds. The 99.5% quartile mean for all 7 years is approx. ~16,712.59. The 99.9% quartile is ~94,524. This will cover over 99.9% of all data points in our ride durations._"
   ]
  },
  {
   "cell_type": "code",
   "execution_count": 33,
   "metadata": {},
   "outputs": [],
   "source": [
    "nr_year = nr_year[nr_year.duration <= 172800]"
   ]
  },
  {
   "cell_type": "code",
   "execution_count": 59,
   "metadata": {},
   "outputs": [
    {
     "data": {
      "image/png": "[encoded data removed]",
      "text/plain": [
       "<matplotlib.figure.Figure at 0x7f50ec3d1908>"
      ]
     },
     "metadata": {},
     "output_type": "display_data"
    }
   ],
   "source": [
    "mcsm_graph(df_sum(nr_year))"
   ]
  },
  {
   "cell_type": "markdown",
   "metadata": {},
   "source": [
    "_User ride lengths appear to be more in line year over year and stable than before_"
   ]
  },
  {
   "cell_type": "code",
   "execution_count": 36,
   "metadata": {},
   "outputs": [
    {
     "name": "stdout",
     "output_type": "stream",
     "text": [
      "2010 Total time ridden by all users: \n",
      "1857 days, 17:02:23 \n",
      "\n",
      "2011 Total time ridden by all users: \n",
      "2894 days, 4:19:21 \n",
      "\n",
      "2012 Total time ridden by all users: \n",
      "3776 days, 3:40:01 \n",
      "\n",
      "2013 Total time ridden by all users: \n",
      "4410 days, 12:01:35 \n",
      "\n",
      "2014 Total time ridden by all users: \n",
      "7094 days, 2:11:44 \n",
      "\n",
      "2015 Total time ridden by all users: \n",
      "8270 days, 0:22:30 \n",
      "\n",
      "2016 Total time ridden by all users: \n",
      "6921 days, 10:56:52 \n",
      "\n",
      "2017 Total time ridden by all users: \n",
      "8062 days, 17:40:44 \n",
      "\n"
     ]
    }
   ],
   "source": [
    "for x in [2010 + x for x in range(8)] :\n",
    "    print(str(x), 'Total time ridden by all users: ')\n",
    "    print(dt.timedelta(seconds=sum(nr_year.loc[x].duration)),'\\n')"
   ]
  },
  {
   "cell_type": "markdown",
   "metadata": {},
   "source": [
    "_Total time now reflects more closely to total rides taken by year._"
   ]
  },
  {
   "cell_type": "code",
   "execution_count": 60,
   "metadata": {},
   "outputs": [
    {
     "data": {
      "text/html": [
       "<div>\n",
       "<style scoped>\n",
       "    .dataframe tbody tr th:only-of-type {\n",
       "        vertical-align: middle;\n",
       "    }\n",
       "\n",
       "    .dataframe tbody tr th {\n",
       "        vertical-align: top;\n",
       "    }\n",
       "\n",
       "    .dataframe thead th {\n",
       "        text-align: right;\n",
       "    }\n",
       "</style>\n",
       "<table border=\"1\" class=\"dataframe\">\n",
       "  <thead>\n",
       "    <tr style=\"text-align: right;\">\n",
       "      <th></th>\n",
       "      <th>2010</th>\n",
       "      <th>2011</th>\n",
       "      <th>2012</th>\n",
       "      <th>2013</th>\n",
       "      <th>2014</th>\n",
       "      <th>2015</th>\n",
       "      <th>2016</th>\n",
       "      <th>2017</th>\n",
       "    </tr>\n",
       "  </thead>\n",
       "  <tbody>\n",
       "    <tr>\n",
       "      <th>count</th>\n",
       "      <td>99,037.00</td>\n",
       "      <td>216,405.00</td>\n",
       "      <td>273,392.00</td>\n",
       "      <td>307,429.00</td>\n",
       "      <td>411,705.00</td>\n",
       "      <td>482,872.00</td>\n",
       "      <td>431,690.00</td>\n",
       "      <td>459,471.00</td>\n",
       "    </tr>\n",
       "    <tr>\n",
       "      <th>mean</th>\n",
       "      <td>1,620.67</td>\n",
       "      <td>1,155.51</td>\n",
       "      <td>1,193.38</td>\n",
       "      <td>1,239.53</td>\n",
       "      <td>1,488.76</td>\n",
       "      <td>1,479.75</td>\n",
       "      <td>1,385.29</td>\n",
       "      <td>1,516.14</td>\n",
       "    </tr>\n",
       "    <tr>\n",
       "      <th>std</th>\n",
       "      <td>4,814.70</td>\n",
       "      <td>3,204.77</td>\n",
       "      <td>3,164.28</td>\n",
       "      <td>3,042.77</td>\n",
       "      <td>4,229.46</td>\n",
       "      <td>4,371.54</td>\n",
       "      <td>4,716.09</td>\n",
       "      <td>5,046.07</td>\n",
       "    </tr>\n",
       "    <tr>\n",
       "      <th>min</th>\n",
       "      <td>11.00</td>\n",
       "      <td>11.00</td>\n",
       "      <td>11.00</td>\n",
       "      <td>11.00</td>\n",
       "      <td>11.00</td>\n",
       "      <td>60.00</td>\n",
       "      <td>60.00</td>\n",
       "      <td>60.00</td>\n",
       "    </tr>\n",
       "    <tr>\n",
       "      <th>25%</th>\n",
       "      <td>369.00</td>\n",
       "      <td>369.00</td>\n",
       "      <td>387.00</td>\n",
       "      <td>432.00</td>\n",
       "      <td>436.00</td>\n",
       "      <td>439.00</td>\n",
       "      <td>409.00</td>\n",
       "      <td>407.00</td>\n",
       "    </tr>\n",
       "    <tr>\n",
       "      <th>50%</th>\n",
       "      <td>714.00</td>\n",
       "      <td>633.00</td>\n",
       "      <td>677.00</td>\n",
       "      <td>759.00</td>\n",
       "      <td>800.00</td>\n",
       "      <td>801.00</td>\n",
       "      <td>762.00</td>\n",
       "      <td>762.00</td>\n",
       "    </tr>\n",
       "    <tr>\n",
       "      <th>75%</th>\n",
       "      <td>1,382.00</td>\n",
       "      <td>1,144.00</td>\n",
       "      <td>1,227.00</td>\n",
       "      <td>1,318.00</td>\n",
       "      <td>1,501.00</td>\n",
       "      <td>1,473.00</td>\n",
       "      <td>1,454.00</td>\n",
       "      <td>1,479.00</td>\n",
       "    </tr>\n",
       "    <tr>\n",
       "      <th>max</th>\n",
       "      <td>167,561.00</td>\n",
       "      <td>171,773.00</td>\n",
       "      <td>172,031.00</td>\n",
       "      <td>171,432.00</td>\n",
       "      <td>172,420.00</td>\n",
       "      <td>172,328.00</td>\n",
       "      <td>172,732.00</td>\n",
       "      <td>172,135.00</td>\n",
       "    </tr>\n",
       "  </tbody>\n",
       "</table>\n",
       "</div>"
      ],
      "text/plain": [
       "             2010        2011        2012        2013        2014        2015  \\\n",
       "count   99,037.00  216,405.00  273,392.00  307,429.00  411,705.00  482,872.00   \n",
       "mean     1,620.67    1,155.51    1,193.38    1,239.53    1,488.76    1,479.75   \n",
       "std      4,814.70    3,204.77    3,164.28    3,042.77    4,229.46    4,371.54   \n",
       "min         11.00       11.00       11.00       11.00       11.00       60.00   \n",
       "25%        369.00      369.00      387.00      432.00      436.00      439.00   \n",
       "50%        714.00      633.00      677.00      759.00      800.00      801.00   \n",
       "75%      1,382.00    1,144.00    1,227.00    1,318.00    1,501.00    1,473.00   \n",
       "max    167,561.00  171,773.00  172,031.00  171,432.00  172,420.00  172,328.00   \n",
       "\n",
       "             2016        2017  \n",
       "count  431,690.00  459,471.00  \n",
       "mean     1,385.29    1,516.14  \n",
       "std      4,716.09    5,046.07  \n",
       "min         60.00       60.00  \n",
       "25%        409.00      407.00  \n",
       "50%        762.00      762.00  \n",
       "75%      1,454.00    1,479.00  \n",
       "max    172,732.00  172,135.00  "
      ]
     },
     "execution_count": 60,
     "metadata": {},
     "output_type": "execute_result"
    }
   ],
   "source": [
    "df_sum_formed(nr_year)"
   ]
  },
  {
   "cell_type": "markdown",
   "metadata": {},
   "source": [
    "## The members vs casual user breakdown"
   ]
  },
  {
   "cell_type": "code",
   "execution_count": 41,
   "metadata": {},
   "outputs": [
    {
     "data": {
      "text/plain": [
       "Member    1564706\n",
       "Casual    1117295\n",
       "Name: account, dtype: int64"
      ]
     },
     "execution_count": 41,
     "metadata": {},
     "output_type": "execute_result"
    }
   ],
   "source": [
    "nr_year.account.value_counts()"
   ]
  },
  {
   "cell_type": "code",
   "execution_count": 43,
   "metadata": {},
   "outputs": [],
   "source": [
    "nr_member = nr_year[nr_year.account == 'Member']\n",
    "nr_casual = nr_year[nr_year.account == 'Casual']"
   ]
  },
  {
   "cell_type": "code",
   "execution_count": 65,
   "metadata": {},
   "outputs": [
    {
     "data": {
      "image/png": "[encoded data removed]",
      "text/plain": [
       "<matplotlib.figure.Figure at 0x7f51162f18d0>"
      ]
     },
     "metadata": {},
     "output_type": "display_data"
    }
   ],
   "source": [
    "mcsm_graph(df_sum(nr_member))"
   ]
  },
  {
   "cell_type": "code",
   "execution_count": 61,
   "metadata": {},
   "outputs": [
    {
     "data": {
      "text/html": [
       "<div>\n",
       "<style scoped>\n",
       "    .dataframe tbody tr th:only-of-type {\n",
       "        vertical-align: middle;\n",
       "    }\n",
       "\n",
       "    .dataframe tbody tr th {\n",
       "        vertical-align: top;\n",
       "    }\n",
       "\n",
       "    .dataframe thead th {\n",
       "        text-align: right;\n",
       "    }\n",
       "</style>\n",
       "<table border=\"1\" class=\"dataframe\">\n",
       "  <thead>\n",
       "    <tr style=\"text-align: right;\">\n",
       "      <th></th>\n",
       "      <th>2010</th>\n",
       "      <th>2011</th>\n",
       "      <th>2012</th>\n",
       "      <th>2013</th>\n",
       "      <th>2014</th>\n",
       "      <th>2015</th>\n",
       "      <th>2016</th>\n",
       "      <th>2017</th>\n",
       "    </tr>\n",
       "  </thead>\n",
       "  <tbody>\n",
       "    <tr>\n",
       "      <th>count</th>\n",
       "      <td>46,666.00</td>\n",
       "      <td>147,140.00</td>\n",
       "      <td>169,101.00</td>\n",
       "      <td>176,876.00</td>\n",
       "      <td>209,770.00</td>\n",
       "      <td>243,724.00</td>\n",
       "      <td>281,937.00</td>\n",
       "      <td>289,492.00</td>\n",
       "    </tr>\n",
       "    <tr>\n",
       "      <th>mean</th>\n",
       "      <td>625.86</td>\n",
       "      <td>657.77</td>\n",
       "      <td>642.68</td>\n",
       "      <td>677.84</td>\n",
       "      <td>852.05</td>\n",
       "      <td>882.27</td>\n",
       "      <td>877.04</td>\n",
       "      <td>858.00</td>\n",
       "    </tr>\n",
       "    <tr>\n",
       "      <th>std</th>\n",
       "      <td>1,729.23</td>\n",
       "      <td>1,688.22</td>\n",
       "      <td>1,470.50</td>\n",
       "      <td>1,204.81</td>\n",
       "      <td>1,604.02</td>\n",
       "      <td>1,680.14</td>\n",
       "      <td>2,208.10</td>\n",
       "      <td>2,053.79</td>\n",
       "    </tr>\n",
       "    <tr>\n",
       "      <th>min</th>\n",
       "      <td>11.00</td>\n",
       "      <td>11.00</td>\n",
       "      <td>11.00</td>\n",
       "      <td>11.00</td>\n",
       "      <td>11.00</td>\n",
       "      <td>60.00</td>\n",
       "      <td>60.00</td>\n",
       "      <td>60.00</td>\n",
       "    </tr>\n",
       "    <tr>\n",
       "      <th>25%</th>\n",
       "      <td>274.00</td>\n",
       "      <td>307.00</td>\n",
       "      <td>307.00</td>\n",
       "      <td>337.00</td>\n",
       "      <td>354.00</td>\n",
       "      <td>359.00</td>\n",
       "      <td>335.00</td>\n",
       "      <td>323.00</td>\n",
       "    </tr>\n",
       "    <tr>\n",
       "      <th>50%</th>\n",
       "      <td>449.00</td>\n",
       "      <td>484.00</td>\n",
       "      <td>491.00</td>\n",
       "      <td>535.00</td>\n",
       "      <td>583.00</td>\n",
       "      <td>585.00</td>\n",
       "      <td>552.00</td>\n",
       "      <td>535.00</td>\n",
       "    </tr>\n",
       "    <tr>\n",
       "      <th>75%</th>\n",
       "      <td>751.00</td>\n",
       "      <td>785.00</td>\n",
       "      <td>793.00</td>\n",
       "      <td>855.00</td>\n",
       "      <td>1,031.00</td>\n",
       "      <td>1,063.00</td>\n",
       "      <td>1,014.00</td>\n",
       "      <td>974.00</td>\n",
       "    </tr>\n",
       "    <tr>\n",
       "      <th>max</th>\n",
       "      <td>157,634.00</td>\n",
       "      <td>171,773.00</td>\n",
       "      <td>172,031.00</td>\n",
       "      <td>168,779.00</td>\n",
       "      <td>162,259.00</td>\n",
       "      <td>164,451.00</td>\n",
       "      <td>170,544.00</td>\n",
       "      <td>171,729.00</td>\n",
       "    </tr>\n",
       "  </tbody>\n",
       "</table>\n",
       "</div>"
      ],
      "text/plain": [
       "             2010        2011        2012        2013        2014        2015  \\\n",
       "count   46,666.00  147,140.00  169,101.00  176,876.00  209,770.00  243,724.00   \n",
       "mean       625.86      657.77      642.68      677.84      852.05      882.27   \n",
       "std      1,729.23    1,688.22    1,470.50    1,204.81    1,604.02    1,680.14   \n",
       "min         11.00       11.00       11.00       11.00       11.00       60.00   \n",
       "25%        274.00      307.00      307.00      337.00      354.00      359.00   \n",
       "50%        449.00      484.00      491.00      535.00      583.00      585.00   \n",
       "75%        751.00      785.00      793.00      855.00    1,031.00    1,063.00   \n",
       "max    157,634.00  171,773.00  172,031.00  168,779.00  162,259.00  164,451.00   \n",
       "\n",
       "             2016        2017  \n",
       "count  281,937.00  289,492.00  \n",
       "mean       877.04      858.00  \n",
       "std      2,208.10    2,053.79  \n",
       "min         60.00       60.00  \n",
       "25%        335.00      323.00  \n",
       "50%        552.00      535.00  \n",
       "75%      1,014.00      974.00  \n",
       "max    170,544.00  171,729.00  "
      ]
     },
     "execution_count": 61,
     "metadata": {},
     "output_type": "execute_result"
    }
   ],
   "source": [
    "df_sum_formed(nr_member)"
   ]
  },
  {
   "cell_type": "code",
   "execution_count": 63,
   "metadata": {},
   "outputs": [
    {
     "data": {
      "text/plain": [
       "795.025585637174"
      ]
     },
     "execution_count": 63,
     "metadata": {},
     "output_type": "execute_result"
    }
   ],
   "source": [
    "nr_member.duration.mean()"
   ]
  },
  {
   "cell_type": "code",
   "execution_count": 66,
   "metadata": {},
   "outputs": [
    {
     "data": {
      "image/png": "[encoded data removed]",
      "text/plain": [
       "<matplotlib.figure.Figure at 0x7f5116161240>"
      ]
     },
     "metadata": {},
     "output_type": "display_data"
    }
   ],
   "source": [
    "mcsm_graph(df_sum(nr_casual))"
   ]
  },
  {
   "cell_type": "code",
   "execution_count": 62,
   "metadata": {},
   "outputs": [
    {
     "data": {
      "text/html": [
       "<div>\n",
       "<style scoped>\n",
       "    .dataframe tbody tr th:only-of-type {\n",
       "        vertical-align: middle;\n",
       "    }\n",
       "\n",
       "    .dataframe tbody tr th {\n",
       "        vertical-align: top;\n",
       "    }\n",
       "\n",
       "    .dataframe thead th {\n",
       "        text-align: right;\n",
       "    }\n",
       "</style>\n",
       "<table border=\"1\" class=\"dataframe\">\n",
       "  <thead>\n",
       "    <tr style=\"text-align: right;\">\n",
       "      <th></th>\n",
       "      <th>2010</th>\n",
       "      <th>2011</th>\n",
       "      <th>2012</th>\n",
       "      <th>2013</th>\n",
       "      <th>2014</th>\n",
       "      <th>2015</th>\n",
       "      <th>2016</th>\n",
       "      <th>2017</th>\n",
       "    </tr>\n",
       "  </thead>\n",
       "  <tbody>\n",
       "    <tr>\n",
       "      <th>count</th>\n",
       "      <td>52,371.00</td>\n",
       "      <td>69,265.00</td>\n",
       "      <td>104,291.00</td>\n",
       "      <td>130,553.00</td>\n",
       "      <td>201,935.00</td>\n",
       "      <td>239,148.00</td>\n",
       "      <td>149,753.00</td>\n",
       "      <td>169,979.00</td>\n",
       "    </tr>\n",
       "    <tr>\n",
       "      <th>mean</th>\n",
       "      <td>2,507.11</td>\n",
       "      <td>2,212.84</td>\n",
       "      <td>2,086.29</td>\n",
       "      <td>2,000.52</td>\n",
       "      <td>2,150.17</td>\n",
       "      <td>2,088.66</td>\n",
       "      <td>2,342.15</td>\n",
       "      <td>2,637.01</td>\n",
       "    </tr>\n",
       "    <tr>\n",
       "      <th>std</th>\n",
       "      <td>6,285.35</td>\n",
       "      <td>4,938.62</td>\n",
       "      <td>4,631.69</td>\n",
       "      <td>4,339.24</td>\n",
       "      <td>5,739.29</td>\n",
       "      <td>5,913.97</td>\n",
       "      <td>7,316.71</td>\n",
       "      <td>7,723.41</td>\n",
       "    </tr>\n",
       "    <tr>\n",
       "      <th>min</th>\n",
       "      <td>11.00</td>\n",
       "      <td>11.00</td>\n",
       "      <td>11.00</td>\n",
       "      <td>11.00</td>\n",
       "      <td>11.00</td>\n",
       "      <td>60.00</td>\n",
       "      <td>60.00</td>\n",
       "      <td>60.00</td>\n",
       "    </tr>\n",
       "    <tr>\n",
       "      <th>25%</th>\n",
       "      <td>620.00</td>\n",
       "      <td>751.00</td>\n",
       "      <td>742.00</td>\n",
       "      <td>773.00</td>\n",
       "      <td>619.00</td>\n",
       "      <td>609.00</td>\n",
       "      <td>810.00</td>\n",
       "      <td>820.00</td>\n",
       "    </tr>\n",
       "    <tr>\n",
       "      <th>50%</th>\n",
       "      <td>1,163.00</td>\n",
       "      <td>1,261.00</td>\n",
       "      <td>1,246.00</td>\n",
       "      <td>1,269.00</td>\n",
       "      <td>1,138.00</td>\n",
       "      <td>1,099.00</td>\n",
       "      <td>1,333.00</td>\n",
       "      <td>1,364.00</td>\n",
       "    </tr>\n",
       "    <tr>\n",
       "      <th>75%</th>\n",
       "      <td>2,316.00</td>\n",
       "      <td>2,165.00</td>\n",
       "      <td>2,061.50</td>\n",
       "      <td>2,053.00</td>\n",
       "      <td>2,013.00</td>\n",
       "      <td>1,855.00</td>\n",
       "      <td>2,083.00</td>\n",
       "      <td>2,173.00</td>\n",
       "    </tr>\n",
       "    <tr>\n",
       "      <th>max</th>\n",
       "      <td>167,561.00</td>\n",
       "      <td>171,620.00</td>\n",
       "      <td>168,302.00</td>\n",
       "      <td>171,432.00</td>\n",
       "      <td>172,420.00</td>\n",
       "      <td>172,328.00</td>\n",
       "      <td>172,732.00</td>\n",
       "      <td>172,135.00</td>\n",
       "    </tr>\n",
       "  </tbody>\n",
       "</table>\n",
       "</div>"
      ],
      "text/plain": [
       "             2010        2011        2012        2013        2014        2015  \\\n",
       "count   52,371.00   69,265.00  104,291.00  130,553.00  201,935.00  239,148.00   \n",
       "mean     2,507.11    2,212.84    2,086.29    2,000.52    2,150.17    2,088.66   \n",
       "std      6,285.35    4,938.62    4,631.69    4,339.24    5,739.29    5,913.97   \n",
       "min         11.00       11.00       11.00       11.00       11.00       60.00   \n",
       "25%        620.00      751.00      742.00      773.00      619.00      609.00   \n",
       "50%      1,163.00    1,261.00    1,246.00    1,269.00    1,138.00    1,099.00   \n",
       "75%      2,316.00    2,165.00    2,061.50    2,053.00    2,013.00    1,855.00   \n",
       "max    167,561.00  171,620.00  168,302.00  171,432.00  172,420.00  172,328.00   \n",
       "\n",
       "             2016        2017  \n",
       "count  149,753.00  169,979.00  \n",
       "mean     2,342.15    2,637.01  \n",
       "std      7,316.71    7,723.41  \n",
       "min         60.00       60.00  \n",
       "25%        810.00      820.00  \n",
       "50%      1,333.00    1,364.00  \n",
       "75%      2,083.00    2,173.00  \n",
       "max    172,732.00  172,135.00  "
      ]
     },
     "execution_count": 62,
     "metadata": {},
     "output_type": "execute_result"
    }
   ],
   "source": [
    "df_sum_formed(nr_casual)"
   ]
  },
  {
   "cell_type": "code",
   "execution_count": 64,
   "metadata": {},
   "outputs": [
    {
     "data": {
      "text/plain": [
       "2233.968652862494"
      ]
     },
     "execution_count": 64,
     "metadata": {},
     "output_type": "execute_result"
    }
   ],
   "source": [
    "nr_casual.duration.mean()"
   ]
  },
  {
   "cell_type": "markdown",
   "metadata": {},
   "source": [
    "_The average casual user rides for ~37.23 minutes, being charged by the half hour or unlimted 30 minute rides all day._\n",
    "\n",
    "_The average member user rides for ~13.25 minutes, being charged for only for ride over 60 minutes. After membership fees_"
   ]
  }
 ],
 "metadata": {
  "kernelspec": {
   "display_name": "Python 3",
   "language": "python",
   "name": "python3"
  },
  "language_info": {
   "codemirror_mode": {
    "name": "ipython",
    "version": 3
   },
   "file_extension": ".py",
   "mimetype": "text/x-python",
   "name": "python",
   "nbconvert_exporter": "python",
   "pygments_lexer": "ipython3",
   "version": "3.6.2"
  }
 },
 "nbformat": 4,
 "nbformat_minor": 2
}
