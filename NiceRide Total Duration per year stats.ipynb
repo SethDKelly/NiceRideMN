{
 "cells": [
  {
   "cell_type": "code",
   "execution_count": 1,
   "metadata": {},
   "outputs": [],
   "source": [
    "# importing dependencies\n",
    "import numpy as np\n",
    "import matplotlib.pyplot as plt\n",
    "import pandas as pd\n",
    "import datetime"
   ]
  },
  {
   "cell_type": "code",
   "execution_count": 2,
   "metadata": {},
   "outputs": [
    {
     "name": "stdout",
     "output_type": "stream",
     "text": [
      "Object `pd.to_csv` not found.\n"
     ]
    }
   ],
   "source": [
    "?pd.to_csv()"
   ]
  },
  {
   "cell_type": "code",
   "execution_count": 3,
   "metadata": {},
   "outputs": [
    {
     "name": "stderr",
     "output_type": "stream",
     "text": [
      "/home/grimoire/anaconda3/lib/python3.6/site-packages/IPython/core/interactiveshell.py:2728: DtypeWarning: Columns (2,5) have mixed types. Specify dtype option on import or set low_memory=False.\n",
      "  interactivity=interactivity, compiler=compiler, result=result)\n"
     ]
    }
   ],
   "source": [
    "#loading NiceRide ride trip history\n",
    "nr_2017 = pd.read_csv(\"~/Projects/NiceRide/Nice_Ride_data/2017/NiceRide_trip_history_2017.csv\")\n",
    "nr_2016 = pd.read_csv(\"~/Projects/NiceRide/Nice_Ride_data/2016/NiceRide_trip_history_2016.csv\")\n",
    "nr_2015 = pd.read_csv(\"~/Projects/NiceRide/Nice_Ride_data/2015/NiceRide_trip_history_2015.csv\")\n",
    "nr_2014 = pd.read_csv(\"~/Projects/NiceRide/Nice_Ride_data/2014/NiceRide_trip_history_2014.csv\")\n",
    "nr_2013 = pd.read_csv(\"~/Projects/NiceRide/Nice_Ride_data/2013/NiceRide_trip_history_2013.csv\")\n",
    "nr_2012 = pd.read_csv(\"~/Projects/NiceRide/Nice_Ride_data/2012/NiceRide_trip_history_2012.csv\")\n",
    "nr_2011 = pd.read_csv(\"~/Projects/NiceRide/Nice_Ride_data/2011/NiceRide_trip_history_2011.csv\")\n",
    "nr_2010 = pd.read_csv(\"~/Projects/NiceRide/Nice_Ride_data/2010/NiceRide_trip_history_2010.csv\")"
   ]
  },
  {
   "cell_type": "markdown",
   "metadata": {},
   "source": [
    "## This is a pd.DataFrame using .describe() to yearly NiceRide trip history, Total Duration data"
   ]
  },
  {
   "cell_type": "code",
   "execution_count": 17,
   "metadata": {},
   "outputs": [
    {
     "name": "stdout",
     "output_type": "stream",
     "text": [
      "<class 'pandas.core.frame.DataFrame'>\n",
      "RangeIndex: 460716 entries, 0 to 460715\n",
      "Data columns (total 8 columns):\n",
      "Start date                  460716 non-null object\n",
      "Start station               460716 non-null object\n",
      "Start station ID            460716 non-null object\n",
      "End date                    460716 non-null object\n",
      "End station                 460716 non-null object\n",
      "End station ID              460716 non-null object\n",
      "Account type                460716 non-null object\n",
      "Total duration (seconds)    460716 non-null int64\n",
      "dtypes: int64(1), object(7)\n",
      "memory usage: 28.1+ MB\n"
     ]
    },
    {
     "data": {
      "text/html": [
       "<div>\n",
       "<style scoped>\n",
       "    .dataframe tbody tr th:only-of-type {\n",
       "        vertical-align: middle;\n",
       "    }\n",
       "\n",
       "    .dataframe tbody tr th {\n",
       "        vertical-align: top;\n",
       "    }\n",
       "\n",
       "    .dataframe thead th {\n",
       "        text-align: right;\n",
       "    }\n",
       "</style>\n",
       "<table border=\"1\" class=\"dataframe\">\n",
       "  <thead>\n",
       "    <tr style=\"text-align: right;\">\n",
       "      <th></th>\n",
       "      <th>Start date</th>\n",
       "      <th>Start station</th>\n",
       "      <th>Start station ID</th>\n",
       "      <th>End date</th>\n",
       "      <th>End station</th>\n",
       "      <th>End station ID</th>\n",
       "      <th>Account type</th>\n",
       "      <th>Total duration (seconds)</th>\n",
       "    </tr>\n",
       "  </thead>\n",
       "  <tbody>\n",
       "    <tr>\n",
       "      <th>0</th>\n",
       "      <td>11/5/2017 21:45</td>\n",
       "      <td>Hennepin Ave &amp; S Washington Ave</td>\n",
       "      <td>30184</td>\n",
       "      <td>11/5/2017 22:02</td>\n",
       "      <td>Logan Park</td>\n",
       "      <td>30104</td>\n",
       "      <td>Member</td>\n",
       "      <td>1048</td>\n",
       "    </tr>\n",
       "    <tr>\n",
       "      <th>1</th>\n",
       "      <td>11/5/2017 21:45</td>\n",
       "      <td>Broadway Street N &amp; 4th Street E</td>\n",
       "      <td>30122</td>\n",
       "      <td>11/5/2017 22:26</td>\n",
       "      <td>Broadway Street N &amp; 4th Street E</td>\n",
       "      <td>30122</td>\n",
       "      <td>Member</td>\n",
       "      <td>2513</td>\n",
       "    </tr>\n",
       "    <tr>\n",
       "      <th>2</th>\n",
       "      <td>11/5/2017 21:43</td>\n",
       "      <td>Dale Street &amp; Grand Ave.</td>\n",
       "      <td>30106</td>\n",
       "      <td>11/5/2017 22:13</td>\n",
       "      <td>N Milton Street &amp; Summit Ave</td>\n",
       "      <td>30101</td>\n",
       "      <td>Member</td>\n",
       "      <td>1817</td>\n",
       "    </tr>\n",
       "  </tbody>\n",
       "</table>\n",
       "</div>"
      ],
      "text/plain": [
       "        Start date                     Start station Start station ID  \\\n",
       "0  11/5/2017 21:45   Hennepin Ave & S Washington Ave            30184   \n",
       "1  11/5/2017 21:45  Broadway Street N & 4th Street E            30122   \n",
       "2  11/5/2017 21:43          Dale Street & Grand Ave.            30106   \n",
       "\n",
       "          End date                       End station End station ID  \\\n",
       "0  11/5/2017 22:02                        Logan Park          30104   \n",
       "1  11/5/2017 22:26  Broadway Street N & 4th Street E          30122   \n",
       "2  11/5/2017 22:13      N Milton Street & Summit Ave          30101   \n",
       "\n",
       "  Account type  Total duration (seconds)  \n",
       "0       Member                      1048  \n",
       "1       Member                      2513  \n",
       "2       Member                      1817  "
      ]
     },
     "execution_count": 17,
     "metadata": {},
     "output_type": "execute_result"
    }
   ],
   "source": [
    "nr_2017.info()\n",
    "nr_2017.head(3)"
   ]
  },
  {
   "cell_type": "code",
   "execution_count": 14,
   "metadata": {},
   "outputs": [],
   "source": [
    "data = [['2010', nr_2010['Total duration (seconds)']],\n",
    "        ['2011', nr_2011['Total duration (seconds)']],\n",
    "        ['2012', nr_2012['Total duration (seconds)']],\n",
    "        ['2013', nr_2013['Total duration (seconds)']],\n",
    "        ['2014', nr_2014['Total duration (seconds)']],\n",
    "        ['2015', nr_2015['Total duration (seconds)']],\n",
    "        ['2016', nr_2016['Total duration (seconds)']],\n",
    "        ['2017', nr_2017['Total duration (seconds)']]]"
   ]
  },
  {
   "cell_type": "markdown",
   "metadata": {},
   "source": [
    "*Code snippet and dataframe containing overview of data*"
   ]
  },
  {
   "cell_type": "code",
   "execution_count": 15,
   "metadata": {},
   "outputs": [
    {
     "data": {
      "text/html": [
       "<div>\n",
       "<style scoped>\n",
       "    .dataframe tbody tr th:only-of-type {\n",
       "        vertical-align: middle;\n",
       "    }\n",
       "\n",
       "    .dataframe tbody tr th {\n",
       "        vertical-align: top;\n",
       "    }\n",
       "\n",
       "    .dataframe thead th {\n",
       "        text-align: right;\n",
       "    }\n",
       "</style>\n",
       "<table border=\"1\" class=\"dataframe\">\n",
       "  <thead>\n",
       "    <tr style=\"text-align: right;\">\n",
       "      <th></th>\n",
       "      <th>2010</th>\n",
       "      <th>2011</th>\n",
       "      <th>2012</th>\n",
       "      <th>2013</th>\n",
       "      <th>2014</th>\n",
       "      <th>2015</th>\n",
       "      <th>2016</th>\n",
       "      <th>2017</th>\n",
       "    </tr>\n",
       "  </thead>\n",
       "  <tbody>\n",
       "    <tr>\n",
       "      <th>count</th>\n",
       "      <td>1.013740e+05</td>\n",
       "      <td>2.178960e+05</td>\n",
       "      <td>2.745800e+05</td>\n",
       "      <td>3.087760e+05</td>\n",
       "      <td>4.153460e+05</td>\n",
       "      <td>4.832280e+05</td>\n",
       "      <td>4.322710e+05</td>\n",
       "      <td>4.607160e+05</td>\n",
       "    </tr>\n",
       "    <tr>\n",
       "      <th>mean</th>\n",
       "      <td>2.094204e+03</td>\n",
       "      <td>1.182207e+03</td>\n",
       "      <td>1.728802e+03</td>\n",
       "      <td>2.201607e+03</td>\n",
       "      <td>2.345171e+03</td>\n",
       "      <td>1.759576e+03</td>\n",
       "      <td>1.888930e+03</td>\n",
       "      <td>2.276508e+03</td>\n",
       "    </tr>\n",
       "    <tr>\n",
       "      <th>std</th>\n",
       "      <td>1.260500e+05</td>\n",
       "      <td>5.040256e+03</td>\n",
       "      <td>1.792290e+05</td>\n",
       "      <td>1.732206e+05</td>\n",
       "      <td>1.051163e+05</td>\n",
       "      <td>2.217306e+04</td>\n",
       "      <td>4.483529e+04</td>\n",
       "      <td>4.393254e+04</td>\n",
       "    </tr>\n",
       "    <tr>\n",
       "      <th>min</th>\n",
       "      <td>0.000000e+00</td>\n",
       "      <td>0.000000e+00</td>\n",
       "      <td>0.000000e+00</td>\n",
       "      <td>0.000000e+00</td>\n",
       "      <td>0.000000e+00</td>\n",
       "      <td>6.000000e+01</td>\n",
       "      <td>6.000000e+01</td>\n",
       "      <td>6.000000e+01</td>\n",
       "    </tr>\n",
       "    <tr>\n",
       "      <th>25%</th>\n",
       "      <td>3.500000e+02</td>\n",
       "      <td>3.640000e+02</td>\n",
       "      <td>3.840000e+02</td>\n",
       "      <td>4.290000e+02</td>\n",
       "      <td>4.330000e+02</td>\n",
       "      <td>4.390000e+02</td>\n",
       "      <td>4.090000e+02</td>\n",
       "      <td>4.080000e+02</td>\n",
       "    </tr>\n",
       "    <tr>\n",
       "      <th>50%</th>\n",
       "      <td>6.920000e+02</td>\n",
       "      <td>6.290000e+02</td>\n",
       "      <td>6.740000e+02</td>\n",
       "      <td>7.560000e+02</td>\n",
       "      <td>7.990000e+02</td>\n",
       "      <td>8.010000e+02</td>\n",
       "      <td>7.630000e+02</td>\n",
       "      <td>7.640000e+02</td>\n",
       "    </tr>\n",
       "    <tr>\n",
       "      <th>75%</th>\n",
       "      <td>1.358000e+03</td>\n",
       "      <td>1.140000e+03</td>\n",
       "      <td>1.224000e+03</td>\n",
       "      <td>1.315000e+03</td>\n",
       "      <td>1.503000e+03</td>\n",
       "      <td>1.474000e+03</td>\n",
       "      <td>1.457000e+03</td>\n",
       "      <td>1.483000e+03</td>\n",
       "    </tr>\n",
       "    <tr>\n",
       "      <th>max</th>\n",
       "      <td>3.994474e+07</td>\n",
       "      <td>1.007464e+06</td>\n",
       "      <td>8.449434e+07</td>\n",
       "      <td>5.485166e+07</td>\n",
       "      <td>2.581504e+07</td>\n",
       "      <td>6.419869e+06</td>\n",
       "      <td>1.680262e+07</td>\n",
       "      <td>1.135480e+07</td>\n",
       "    </tr>\n",
       "  </tbody>\n",
       "</table>\n",
       "</div>"
      ],
      "text/plain": [
       "               2010          2011          2012          2013          2014  \\\n",
       "count  1.013740e+05  2.178960e+05  2.745800e+05  3.087760e+05  4.153460e+05   \n",
       "mean   2.094204e+03  1.182207e+03  1.728802e+03  2.201607e+03  2.345171e+03   \n",
       "std    1.260500e+05  5.040256e+03  1.792290e+05  1.732206e+05  1.051163e+05   \n",
       "min    0.000000e+00  0.000000e+00  0.000000e+00  0.000000e+00  0.000000e+00   \n",
       "25%    3.500000e+02  3.640000e+02  3.840000e+02  4.290000e+02  4.330000e+02   \n",
       "50%    6.920000e+02  6.290000e+02  6.740000e+02  7.560000e+02  7.990000e+02   \n",
       "75%    1.358000e+03  1.140000e+03  1.224000e+03  1.315000e+03  1.503000e+03   \n",
       "max    3.994474e+07  1.007464e+06  8.449434e+07  5.485166e+07  2.581504e+07   \n",
       "\n",
       "               2015          2016          2017  \n",
       "count  4.832280e+05  4.322710e+05  4.607160e+05  \n",
       "mean   1.759576e+03  1.888930e+03  2.276508e+03  \n",
       "std    2.217306e+04  4.483529e+04  4.393254e+04  \n",
       "min    6.000000e+01  6.000000e+01  6.000000e+01  \n",
       "25%    4.390000e+02  4.090000e+02  4.080000e+02  \n",
       "50%    8.010000e+02  7.630000e+02  7.640000e+02  \n",
       "75%    1.474000e+03  1.457000e+03  1.483000e+03  \n",
       "max    6.419869e+06  1.680262e+07  1.135480e+07  "
      ]
     },
     "execution_count": 15,
     "metadata": {},
     "output_type": "execute_result"
    }
   ],
   "source": [
    "year_labels = [\"201\" + str(x) for x in range(8)]\n",
    "nr_total_duration = pd.DataFrame(columns = year_labels)\n",
    "for year, elem in data :\n",
    "    nr_total_duration[year] = elem.describe()\n",
    "    #pd.options.display.float_format = '{:.2f}'.format\n",
    "    #{0:.2f}\n",
    "nr_total_duration"
   ]
  },
  {
   "cell_type": "markdown",
   "metadata": {},
   "source": [
    "*Graphs of the mean, count, std, max from above dataframe*"
   ]
  },
  {
   "cell_type": "code",
   "execution_count": 16,
   "metadata": {},
   "outputs": [
    {
     "data": {
      "image/png": "[encoded data removed]",
      "text/plain": [
       "<matplotlib.figure.Figure at 0x7f5c977b6a20>"
      ]
     },
     "metadata": {},
     "output_type": "display_data"
    }
   ],
   "source": [
    "plt.subplot(2,2,1)\n",
    "nr_total_duration.loc['mean'].plot(kind='bar', title='Ride Mean')\n",
    "plt.subplot(2,2,2)\n",
    "nr_total_duration.loc['count'].plot(kind='bar', title='Total rides')\n",
    "plt.subplot(2,2,3)\n",
    "nr_total_duration.loc['std'].plot(kind='bar', title='Ride length std')\n",
    "plt.subplot(2,2,4)\n",
    "nr_total_duration.loc['max'].plot(kind='bar', title='Ride max length')\n",
    "plt.tight_layout()"
   ]
  },
  {
   "cell_type": "code",
   "execution_count": 8,
   "metadata": {},
   "outputs": [
    {
     "data": {
      "image/png": "[encoded data removed]",
      "text/plain": [
       "<matplotlib.figure.Figure at 0x7f5c9aa04f98>"
      ]
     },
     "metadata": {},
     "output_type": "display_data"
    }
   ],
   "source": [
    "nr_total_duration.loc['count'].plot(kind='bar', title='Total rides by year')\n",
    "plt.savefig('NiceRideMN_total_rides.png')"
   ]
  },
  {
   "cell_type": "markdown",
   "metadata": {},
   "source": [
    "## A DataFrame of total ride lengths by year as datetime _in progress_"
   ]
  },
  {
   "cell_type": "code",
   "execution_count": 9,
   "metadata": {},
   "outputs": [
    {
     "name": "stdout",
     "output_type": "stream",
     "text": [
      "2457 days, 3:36:39\n",
      "2981 days, 11:01:44\n",
      "5494 days, 3:35:21\n",
      "7868 days, 2:17:38\n",
      "11273 days, 19:29:34\n",
      "9841 days, 3:50:10\n",
      "9450 days, 13:45:04\n",
      "12139 days, 3:55:28\n"
     ]
    }
   ],
   "source": [
    "nr_year_totals = pd.DataFrame(columns = year_labels)\n",
    "something = []\n",
    "for year, elem in data :\n",
    "    print(datetime.timedelta(seconds=sum(elem)))"
   ]
  }
 ],
 "metadata": {
  "kernelspec": {
   "display_name": "Python 3",
   "language": "python",
   "name": "python3"
  },
  "language_info": {
   "codemirror_mode": {
    "name": "ipython",
    "version": 3
   },
   "file_extension": ".py",
   "mimetype": "text/x-python",
   "name": "python",
   "nbconvert_exporter": "python",
   "pygments_lexer": "ipython3",
   "version": "3.6.5"
  }
 },
 "nbformat": 4,
 "nbformat_minor": 2
}
