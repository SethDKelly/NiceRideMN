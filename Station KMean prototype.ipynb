{
 "cells": [
  {
   "cell_type": "code",
   "execution_count": 1,
   "metadata": {},
   "outputs": [],
   "source": [
    "# standard libraries\n",
    "import numpy as np #numpy warnings may be safely ignored, known issue.\n",
    "import pandas as pd\n",
    "from collections import defaultdict\n",
    "from math import * # Used for the haversine/distance calculations\n",
    "import datetime as dt \n",
    "\n",
    "# for visualizations\n",
    "import matplotlib.pyplot as plt\n",
    "import seaborn as sns\n",
    "\n",
    "# for model building\n",
    "from sklearn.cluster import KMeans\n",
    "\n",
    "# for optimizations\n",
    "from sklearn.metrics import silhouette_score\n",
    "from sklearn.decomposition import PCA"
   ]
  },
  {
   "cell_type": "code",
   "execution_count": 2,
   "metadata": {},
   "outputs": [],
   "source": [
    "# Make an empty DefaultDict\n",
    "# fill dictionary {year: station data}\n",
    "# build hierarchal dataframe using dictionary\n",
    "\n",
    "# Example of data location\n",
    "# https://raw.githubusercontent.com/SethDKelly/NiceRideMN/master/Nice_Ride_data/2010/NiceRide_station_2010.csv\n",
    "\n",
    "nr_dict = defaultdict()\n",
    "for x in [2010 + x for x in range(8)] :\n",
    "    nr_dict[x] = pd.read_csv(\"https://raw.githubusercontent.com/SethDKelly/NiceRideMN/master/Nice_Ride_data/\" \\\n",
    "                             +str(x)+\"/NiceRide_station_\"+str(x)+\".csv\")\n",
    "nr_station = pd.concat(nr_dict)"
   ]
  },
  {
   "cell_type": "code",
   "execution_count": 3,
   "metadata": {},
   "outputs": [],
   "source": [
    "# Extracting the most robust year/data set from the total\n",
    "nr_station_2017 = nr_station.loc[(2017),:]"
   ]
  },
  {
   "cell_type": "code",
   "execution_count": 4,
   "metadata": {},
   "outputs": [
    {
     "data": {
      "text/html": [
       "<div>\n",
       "<style scoped>\n",
       "    .dataframe tbody tr th:only-of-type {\n",
       "        vertical-align: middle;\n",
       "    }\n",
       "\n",
       "    .dataframe tbody tr th {\n",
       "        vertical-align: top;\n",
       "    }\n",
       "\n",
       "    .dataframe thead th {\n",
       "        text-align: right;\n",
       "    }\n",
       "</style>\n",
       "<table border=\"1\" class=\"dataframe\">\n",
       "  <thead>\n",
       "    <tr style=\"text-align: right;\">\n",
       "      <th></th>\n",
       "      <th>Terminal</th>\n",
       "      <th>Station</th>\n",
       "      <th>Latitude</th>\n",
       "      <th>Longitude</th>\n",
       "      <th>Ndocks</th>\n",
       "    </tr>\n",
       "  </thead>\n",
       "  <tbody>\n",
       "    <tr>\n",
       "      <th>196</th>\n",
       "      <td>30199</td>\n",
       "      <td>Hidden Falls Park</td>\n",
       "      <td>44.907001</td>\n",
       "      <td>-93.191432</td>\n",
       "      <td>19</td>\n",
       "    </tr>\n",
       "    <tr>\n",
       "      <th>197</th>\n",
       "      <td>30201</td>\n",
       "      <td>Elwood Ave N &amp; Oak Park Ave N</td>\n",
       "      <td>44.987160</td>\n",
       "      <td>-93.301944</td>\n",
       "      <td>15</td>\n",
       "    </tr>\n",
       "    <tr>\n",
       "      <th>198</th>\n",
       "      <td>30202</td>\n",
       "      <td>Mill City Quarter</td>\n",
       "      <td>44.980500</td>\n",
       "      <td>-93.261800</td>\n",
       "      <td>23</td>\n",
       "    </tr>\n",
       "    <tr>\n",
       "      <th>199</th>\n",
       "      <td>30203</td>\n",
       "      <td>W 50th Street &amp; W Minnehaha Pkwy</td>\n",
       "      <td>44.912125</td>\n",
       "      <td>-93.298552</td>\n",
       "      <td>23</td>\n",
       "    </tr>\n",
       "    <tr>\n",
       "      <th>200</th>\n",
       "      <td>30204</td>\n",
       "      <td>NE Central Ave &amp; NE 14th Ave</td>\n",
       "      <td>45.002526</td>\n",
       "      <td>-93.247162</td>\n",
       "      <td>15</td>\n",
       "    </tr>\n",
       "  </tbody>\n",
       "</table>\n",
       "</div>"
      ],
      "text/plain": [
       "     Terminal                           Station   Latitude  Longitude  Ndocks\n",
       "196     30199                 Hidden Falls Park  44.907001 -93.191432      19\n",
       "197     30201     Elwood Ave N & Oak Park Ave N  44.987160 -93.301944      15\n",
       "198     30202                 Mill City Quarter  44.980500 -93.261800      23\n",
       "199     30203  W 50th Street & W Minnehaha Pkwy  44.912125 -93.298552      23\n",
       "200     30204      NE Central Ave & NE 14th Ave  45.002526 -93.247162      15"
      ]
     },
     "execution_count": 4,
     "metadata": {},
     "output_type": "execute_result"
    }
   ],
   "source": [
    "nr_station_2017.tail()"
   ]
  },
  {
   "cell_type": "markdown",
   "metadata": {},
   "source": [
    "## First load in matrix that has the arc distance of each station comparatively."
   ]
  },
  {
   "cell_type": "code",
   "execution_count": 5,
   "metadata": {},
   "outputs": [],
   "source": [
    "distance = pd.read_csv(\"https://raw.githubusercontent.com/SethDKelly/NiceRideMN/master/Nice_Ride_data/2017/\"\\\n",
    "                        \"distance_matrix_2017.csv\",index_col=0)"
   ]
  },
  {
   "cell_type": "code",
   "execution_count": 6,
   "metadata": {},
   "outputs": [
    {
     "name": "stdout",
     "output_type": "stream",
     "text": [
      "<class 'pandas.core.frame.DataFrame'>\n",
      "Int64Index: 201 entries, 30000 to 30204\n",
      "Columns: 201 entries, 30000 to 30204\n",
      "dtypes: float64(201)\n",
      "memory usage: 317.2 KB\n"
     ]
    },
    {
     "data": {
      "text/html": [
       "<div>\n",
       "<style scoped>\n",
       "    .dataframe tbody tr th:only-of-type {\n",
       "        vertical-align: middle;\n",
       "    }\n",
       "\n",
       "    .dataframe tbody tr th {\n",
       "        vertical-align: top;\n",
       "    }\n",
       "\n",
       "    .dataframe thead th {\n",
       "        text-align: right;\n",
       "    }\n",
       "</style>\n",
       "<table border=\"1\" class=\"dataframe\">\n",
       "  <thead>\n",
       "    <tr style=\"text-align: right;\">\n",
       "      <th></th>\n",
       "      <th>30000</th>\n",
       "      <th>30001</th>\n",
       "      <th>30002</th>\n",
       "      <th>30003</th>\n",
       "      <th>30004</th>\n",
       "      <th>30005</th>\n",
       "      <th>30006</th>\n",
       "      <th>30007</th>\n",
       "      <th>30008</th>\n",
       "      <th>30009</th>\n",
       "      <th>...</th>\n",
       "      <th>30194</th>\n",
       "      <th>30195</th>\n",
       "      <th>30196</th>\n",
       "      <th>30197</th>\n",
       "      <th>30198</th>\n",
       "      <th>30199</th>\n",
       "      <th>30201</th>\n",
       "      <th>30202</th>\n",
       "      <th>30203</th>\n",
       "      <th>30204</th>\n",
       "    </tr>\n",
       "  </thead>\n",
       "  <tbody>\n",
       "    <tr>\n",
       "      <th>30000</th>\n",
       "      <td>0.000000</td>\n",
       "      <td>2.500883</td>\n",
       "      <td>1.466835</td>\n",
       "      <td>2.471107</td>\n",
       "      <td>1.267481</td>\n",
       "      <td>0.304709</td>\n",
       "      <td>1.308283</td>\n",
       "      <td>1.034074</td>\n",
       "      <td>2.514716</td>\n",
       "      <td>0.970652</td>\n",
       "      <td>...</td>\n",
       "      <td>1.792963</td>\n",
       "      <td>1.091036</td>\n",
       "      <td>1.346930</td>\n",
       "      <td>1.120933</td>\n",
       "      <td>0.944879</td>\n",
       "      <td>6.253741</td>\n",
       "      <td>2.223943</td>\n",
       "      <td>0.397380</td>\n",
       "      <td>5.431379</td>\n",
       "      <td>1.301979</td>\n",
       "    </tr>\n",
       "    <tr>\n",
       "      <th>30001</th>\n",
       "      <td>2.500883</td>\n",
       "      <td>0.000000</td>\n",
       "      <td>1.062434</td>\n",
       "      <td>4.686271</td>\n",
       "      <td>2.976568</td>\n",
       "      <td>2.642299</td>\n",
       "      <td>2.790346</td>\n",
       "      <td>2.456370</td>\n",
       "      <td>1.899581</td>\n",
       "      <td>1.775162</td>\n",
       "      <td>...</td>\n",
       "      <td>1.178669</td>\n",
       "      <td>1.412001</td>\n",
       "      <td>1.362179</td>\n",
       "      <td>1.653395</td>\n",
       "      <td>1.579928</td>\n",
       "      <td>3.813231</td>\n",
       "      <td>4.358510</td>\n",
       "      <td>2.467683</td>\n",
       "      <td>4.825362</td>\n",
       "      <td>3.331634</td>\n",
       "    </tr>\n",
       "    <tr>\n",
       "      <th>30002</th>\n",
       "      <td>1.466835</td>\n",
       "      <td>1.062434</td>\n",
       "      <td>0.000000</td>\n",
       "      <td>3.641812</td>\n",
       "      <td>1.967888</td>\n",
       "      <td>1.648298</td>\n",
       "      <td>1.808542</td>\n",
       "      <td>1.448112</td>\n",
       "      <td>1.612348</td>\n",
       "      <td>0.969751</td>\n",
       "      <td>...</td>\n",
       "      <td>0.977645</td>\n",
       "      <td>0.389264</td>\n",
       "      <td>0.738530</td>\n",
       "      <td>0.920689</td>\n",
       "      <td>0.633325</td>\n",
       "      <td>4.788731</td>\n",
       "      <td>3.322895</td>\n",
       "      <td>1.405513</td>\n",
       "      <td>4.753667</td>\n",
       "      <td>2.470703</td>\n",
       "    </tr>\n",
       "    <tr>\n",
       "      <th>30003</th>\n",
       "      <td>2.471107</td>\n",
       "      <td>4.686271</td>\n",
       "      <td>3.641812</td>\n",
       "      <td>0.000000</td>\n",
       "      <td>1.746448</td>\n",
       "      <td>2.564107</td>\n",
       "      <td>1.971116</td>\n",
       "      <td>2.246913</td>\n",
       "      <td>3.718459</td>\n",
       "      <td>3.438583</td>\n",
       "      <td>...</td>\n",
       "      <td>4.236012</td>\n",
       "      <td>3.364533</td>\n",
       "      <td>3.782869</td>\n",
       "      <td>3.585482</td>\n",
       "      <td>3.330279</td>\n",
       "      <td>8.096739</td>\n",
       "      <td>0.361928</td>\n",
       "      <td>2.300340</td>\n",
       "      <td>5.491521</td>\n",
       "      <td>2.988440</td>\n",
       "    </tr>\n",
       "    <tr>\n",
       "      <th>30004</th>\n",
       "      <td>1.267481</td>\n",
       "      <td>2.976568</td>\n",
       "      <td>1.967888</td>\n",
       "      <td>1.746448</td>\n",
       "      <td>0.000000</td>\n",
       "      <td>1.530430</td>\n",
       "      <td>0.242315</td>\n",
       "      <td>0.521591</td>\n",
       "      <td>2.057588</td>\n",
       "      <td>2.053101</td>\n",
       "      <td>...</td>\n",
       "      <td>2.722854</td>\n",
       "      <td>1.761634</td>\n",
       "      <td>2.284861</td>\n",
       "      <td>2.171021</td>\n",
       "      <td>1.813986</td>\n",
       "      <td>6.364891</td>\n",
       "      <td>1.399569</td>\n",
       "      <td>0.899256</td>\n",
       "      <td>4.474715</td>\n",
       "      <td>2.429523</td>\n",
       "    </tr>\n",
       "  </tbody>\n",
       "</table>\n",
       "<p>5 rows × 201 columns</p>\n",
       "</div>"
      ],
      "text/plain": [
       "          30000     30001     30002     30003     30004     30005     30006  \\\n",
       "30000  0.000000  2.500883  1.466835  2.471107  1.267481  0.304709  1.308283   \n",
       "30001  2.500883  0.000000  1.062434  4.686271  2.976568  2.642299  2.790346   \n",
       "30002  1.466835  1.062434  0.000000  3.641812  1.967888  1.648298  1.808542   \n",
       "30003  2.471107  4.686271  3.641812  0.000000  1.746448  2.564107  1.971116   \n",
       "30004  1.267481  2.976568  1.967888  1.746448  0.000000  1.530430  0.242315   \n",
       "\n",
       "          30007     30008     30009    ...        30194     30195     30196  \\\n",
       "30000  1.034074  2.514716  0.970652    ...     1.792963  1.091036  1.346930   \n",
       "30001  2.456370  1.899581  1.775162    ...     1.178669  1.412001  1.362179   \n",
       "30002  1.448112  1.612348  0.969751    ...     0.977645  0.389264  0.738530   \n",
       "30003  2.246913  3.718459  3.438583    ...     4.236012  3.364533  3.782869   \n",
       "30004  0.521591  2.057588  2.053101    ...     2.722854  1.761634  2.284861   \n",
       "\n",
       "          30197     30198     30199     30201     30202     30203     30204  \n",
       "30000  1.120933  0.944879  6.253741  2.223943  0.397380  5.431379  1.301979  \n",
       "30001  1.653395  1.579928  3.813231  4.358510  2.467683  4.825362  3.331634  \n",
       "30002  0.920689  0.633325  4.788731  3.322895  1.405513  4.753667  2.470703  \n",
       "30003  3.585482  3.330279  8.096739  0.361928  2.300340  5.491521  2.988440  \n",
       "30004  2.171021  1.813986  6.364891  1.399569  0.899256  4.474715  2.429523  \n",
       "\n",
       "[5 rows x 201 columns]"
      ]
     },
     "execution_count": 6,
     "metadata": {},
     "output_type": "execute_result"
    }
   ],
   "source": [
    "distance.info()\n",
    "distance.head()"
   ]
  },
  {
   "cell_type": "code",
   "execution_count": 7,
   "metadata": {},
   "outputs": [],
   "source": [
    "# If we wanted to merge our two new dataframes together\n",
    "# nr_station_2017 = pd.merge(nr_station_2017, distance, left_on='Terminal', right_index=True)"
   ]
  },
  {
   "cell_type": "code",
   "execution_count": 8,
   "metadata": {},
   "outputs": [],
   "source": [
    "distance_matrix = distance.values"
   ]
  },
  {
   "cell_type": "code",
   "execution_count": 9,
   "metadata": {},
   "outputs": [
    {
     "data": {
      "image/png": "[encoded data removed]",
      "text/plain": [
       "<matplotlib.figure.Figure at 0x7f87ecb52908>"
      ]
     },
     "metadata": {},
     "output_type": "display_data"
    }
   ],
   "source": [
    "SS = []\n",
    "\n",
    "# k means determine k\n",
    "for k in range(2,10) :\n",
    "    kmeans = KMeans(n_clusters=k, random_state=42)\n",
    "    labels = kmeans.fit_predict(distance_matrix)\n",
    "\n",
    "    SS.append(kmeans.inertia_)\n",
    "\n",
    "# Plot the elbow\n",
    "plt.figure(figsize=(14,8))\n",
    "plt.plot(range(2,10), SS, 'bo-')\n",
    "plt.xlabel('k')\n",
    "plt.ylabel('SS')\n",
    "plt.title('Elbow for Optimal k')\n",
    "plt.show()"
   ]
  },
  {
   "cell_type": "code",
   "execution_count": 10,
   "metadata": {
    "scrolled": false
   },
   "outputs": [
    {
     "data": {
      "image/png": "[encoded data removed]",
      "text/plain": [
       "<matplotlib.figure.Figure at 0x7f87ecb52518>"
      ]
     },
     "metadata": {},
     "output_type": "display_data"
    }
   ],
   "source": [
    "avg_sil = []\n",
    "\n",
    "#    Compute clustering algorithm (e.g., k-means clustering) for different values of k. For instance, by varying k from 1 to 10 clusters.\n",
    "for k in range(2,10) :\n",
    "    clusterer = KMeans(n_clusters=k, random_state=24).fit(distance_matrix)\n",
    "    cluster_labels = clusterer.labels_\n",
    "    \n",
    "#    For each k, calculate the average silhouette of observations (avg.sil).\n",
    "    silhouette_avg = silhouette_score(distance_matrix, cluster_labels)\n",
    "    avg_sil.append(silhouette_avg)\n",
    "    \n",
    "\n",
    "#    Plot the curve of avg.sil according to the number of clusters k.\n",
    "plt.figure(figsize=(14,8))\n",
    "plt.plot(range(2,10), avg_sil, 'bo-')\n",
    "plt.xlabel('k')\n",
    "plt.ylabel('Average Silhouette')\n",
    "plt.title('Elbow for Optimal k')\n",
    "plt.show()\n",
    "\n",
    "    \n",
    "#    The location of the maximum (local) is considered as the appropriate number of clusters.\n",
    "k_value = avg_sil.index(max(avg_sil[2:10])) + 2"
   ]
  },
  {
   "cell_type": "code",
   "execution_count": 11,
   "metadata": {},
   "outputs": [
    {
     "data": {
      "text/plain": [
       "6"
      ]
     },
     "execution_count": 11,
     "metadata": {},
     "output_type": "execute_result"
    }
   ],
   "source": [
    "k_value"
   ]
  },
  {
   "cell_type": "code",
   "execution_count": 12,
   "metadata": {
    "scrolled": false
   },
   "outputs": [
    {
     "data": {
      "image/png": "[encoded data removed]",
      "text/plain": [
       "<matplotlib.figure.Figure at 0x7f87e2593978>"
      ]
     },
     "metadata": {},
     "output_type": "display_data"
    }
   ],
   "source": [
    "# Initialize a new PCA model with a default number of components.\n",
    "pca = PCA()\n",
    "pca.fit(distance_matrix)\n",
    "\n",
    "plt.figure(figsize=[14,8])\n",
    "plt.xlim(0,12)\n",
    "plt.plot(range(1,len(pca.explained_variance_)+1), pca.explained_variance_)\n",
    "plt.xticks(range(0,12,2))\n",
    "plt.ylabel('PCA Explained variance')\n",
    "plt.xlabel('Number of PCA dimensions')\n",
    "plt.show()"
   ]
  },
  {
   "cell_type": "code",
   "execution_count": 13,
   "metadata": {
    "scrolled": true
   },
   "outputs": [
    {
     "name": "stdout",
     "output_type": "stream",
     "text": [
      "   Terminal          x          y\n",
      "0     30000 -23.230553  -5.348980\n",
      "1     30001  -4.544014 -14.150485\n",
      "2     30002 -15.734367 -12.502557\n",
      "3     30003 -21.637575  19.810301\n",
      "4     30004 -26.821350   3.160106\n"
     ]
    }
   ],
   "source": [
    "pca_df = pd.DataFrame(PCA(n_components=2).fit_transform(distance_matrix), columns=['x','y'], index=nr_station_2017.index)\n",
    "pca_df = pd.DataFrame(nr_station_2017.Terminal).join(pca_df)\n",
    "    # Joins customer names to pca_df containing x-y PCA components\n",
    "print(pca_df.head())"
   ]
  },
  {
   "cell_type": "markdown",
   "metadata": {},
   "source": [
    "Optimize to calculate greatest slope change and use that to dynamically decide n_components"
   ]
  },
  {
   "cell_type": "code",
   "execution_count": 14,
   "metadata": {},
   "outputs": [],
   "source": [
    "def kmeans_plot(pca_df, distance_matrix, x=4) :\n",
    "    pca_df['cluster']= KMeans(n_clusters=x).fit(distance_matrix).labels_\n",
    "    sns.lmplot(x='x', y='y', hue='cluster', data=pca_df, fit_reg=False, size=5)"
   ]
  },
  {
   "cell_type": "code",
   "execution_count": 15,
   "metadata": {},
   "outputs": [
    {
     "data": {
      "image/png": "[encoded data removed]",
      "text/plain": [
       "<matplotlib.figure.Figure at 0x7f87e2562f28>"
      ]
     },
     "metadata": {},
     "output_type": "display_data"
    }
   ],
   "source": [
    "kmeans_plot(pca_df, distance_matrix, k_value)"
   ]
  },
  {
   "cell_type": "code",
   "execution_count": 16,
   "metadata": {},
   "outputs": [],
   "source": [
    "pca_df['cluster']= KMeans(n_clusters=k_value).fit(distance_matrix).labels_\n",
    "six_nr_clusters = pd.merge(nr_station_2017, pca_df, left_on='Terminal', right_on='Terminal')"
   ]
  },
  {
   "cell_type": "code",
   "execution_count": 17,
   "metadata": {},
   "outputs": [
    {
     "data": {
      "text/plain": [
       "<matplotlib.text.Text at 0x7f87e11d9da0>"
      ]
     },
     "execution_count": 17,
     "metadata": {},
     "output_type": "execute_result"
    },
    {
     "data": {
      "image/png": "[encoded data removed]",
      "text/plain": [
       "<matplotlib.figure.Figure at 0x7f87e248ffd0>"
      ]
     },
     "metadata": {},
     "output_type": "display_data"
    }
   ],
   "source": [
    "# Stations based on coordinates and clusters\n",
    "sns.lmplot(x='Longitude', y='Latitude', hue='cluster', data=six_nr_clusters, fit_reg=False, size=7)\n",
    "ax = plt.gca()\n",
    "ax.set_title('Six Clusters')"
   ]
  },
  {
   "cell_type": "code",
   "execution_count": 18,
   "metadata": {},
   "outputs": [],
   "source": [
    "#print(centers[:,0])\n",
    "#print(centers[:,1])\n",
    "\n",
    "#six_clusters = KMeans(n_clusters=6).fit(distance_matrix)\n",
    "#centers = np.array(six_clusters.cluster_centers_)\n",
    "#plt.scatter(centers[:,0], centers[:,1], marker=\"*\", color='r')\n",
    "\n",
    "# uilding the models\n",
    "pca_model = PCA(n_components=2).fit_transform(distance_matrix)\n",
    "six_kmeans = KMeans(n_clusters=6).fit(pca_model)\n",
    "\n",
    "pca_df['cluster']= six_kmeans.labels_\n",
    "centers = six_kmeans.cluster_centers_\n"
   ]
  },
  {
   "cell_type": "code",
   "execution_count": 19,
   "metadata": {},
   "outputs": [
    {
     "data": {
      "text/html": [
       "<div>\n",
       "<style scoped>\n",
       "    .dataframe tbody tr th:only-of-type {\n",
       "        vertical-align: middle;\n",
       "    }\n",
       "\n",
       "    .dataframe tbody tr th {\n",
       "        vertical-align: top;\n",
       "    }\n",
       "\n",
       "    .dataframe thead th {\n",
       "        text-align: right;\n",
       "    }\n",
       "</style>\n",
       "<table border=\"1\" class=\"dataframe\">\n",
       "  <thead>\n",
       "    <tr style=\"text-align: right;\">\n",
       "      <th></th>\n",
       "      <th>Terminal</th>\n",
       "      <th>Station</th>\n",
       "      <th>Latitude</th>\n",
       "      <th>Longitude</th>\n",
       "      <th>Ndocks</th>\n",
       "      <th>x</th>\n",
       "      <th>y</th>\n",
       "      <th>cluster</th>\n",
       "    </tr>\n",
       "  </thead>\n",
       "  <tbody>\n",
       "    <tr>\n",
       "      <th>0</th>\n",
       "      <td>30000</td>\n",
       "      <td>100 Main Street SE</td>\n",
       "      <td>44.984892</td>\n",
       "      <td>-93.256551</td>\n",
       "      <td>27</td>\n",
       "      <td>-23.230553</td>\n",
       "      <td>-5.348980</td>\n",
       "      <td>2</td>\n",
       "    </tr>\n",
       "    <tr>\n",
       "      <th>1</th>\n",
       "      <td>30001</td>\n",
       "      <td>25th Street &amp; 33rd Ave S</td>\n",
       "      <td>44.957341</td>\n",
       "      <td>-93.223374</td>\n",
       "      <td>15</td>\n",
       "      <td>-4.544014</td>\n",
       "      <td>-14.150485</td>\n",
       "      <td>4</td>\n",
       "    </tr>\n",
       "    <tr>\n",
       "      <th>2</th>\n",
       "      <td>30002</td>\n",
       "      <td>Riverside Ave &amp; 23rd Ave S</td>\n",
       "      <td>44.967115</td>\n",
       "      <td>-93.240149</td>\n",
       "      <td>15</td>\n",
       "      <td>-15.734367</td>\n",
       "      <td>-12.502557</td>\n",
       "      <td>4</td>\n",
       "    </tr>\n",
       "    <tr>\n",
       "      <th>3</th>\n",
       "      <td>30003</td>\n",
       "      <td>Plymouth Ave N &amp;  N Oliver Ave</td>\n",
       "      <td>44.991412</td>\n",
       "      <td>-93.306269</td>\n",
       "      <td>15</td>\n",
       "      <td>-21.637575</td>\n",
       "      <td>19.810301</td>\n",
       "      <td>5</td>\n",
       "    </tr>\n",
       "    <tr>\n",
       "      <th>4</th>\n",
       "      <td>30004</td>\n",
       "      <td>11th Street &amp; Hennepin</td>\n",
       "      <td>44.975340</td>\n",
       "      <td>-93.278690</td>\n",
       "      <td>23</td>\n",
       "      <td>-26.821350</td>\n",
       "      <td>3.160106</td>\n",
       "      <td>2</td>\n",
       "    </tr>\n",
       "  </tbody>\n",
       "</table>\n",
       "</div>"
      ],
      "text/plain": [
       "   Terminal                         Station   Latitude  Longitude  Ndocks  \\\n",
       "0     30000              100 Main Street SE  44.984892 -93.256551      27   \n",
       "1     30001        25th Street & 33rd Ave S  44.957341 -93.223374      15   \n",
       "2     30002      Riverside Ave & 23rd Ave S  44.967115 -93.240149      15   \n",
       "3     30003  Plymouth Ave N &  N Oliver Ave  44.991412 -93.306269      15   \n",
       "4     30004          11th Street & Hennepin  44.975340 -93.278690      23   \n",
       "\n",
       "           x          y  cluster  \n",
       "0 -23.230553  -5.348980        2  \n",
       "1  -4.544014 -14.150485        4  \n",
       "2 -15.734367 -12.502557        4  \n",
       "3 -21.637575  19.810301        5  \n",
       "4 -26.821350   3.160106        2  "
      ]
     },
     "execution_count": 19,
     "metadata": {},
     "output_type": "execute_result"
    }
   ],
   "source": [
    "six_nr_clusters.head()"
   ]
  },
  {
   "cell_type": "code",
   "execution_count": 20,
   "metadata": {},
   "outputs": [],
   "source": [
    "# Read in the ridership database for year (2017) and build as pandas dataframe\n",
    "rides_df = pd.DataFrame(pd.read_csv(\"https://raw.githubusercontent.com/SethDKelly/NiceRideMN/master/Nice_Ride_data/2017/NiceRide_trip_history_2017.csv\"))"
   ]
  },
  {
   "cell_type": "code",
   "execution_count": 21,
   "metadata": {},
   "outputs": [
    {
     "name": "stdout",
     "output_type": "stream",
     "text": [
      "<class 'pandas.core.frame.DataFrame'>\n",
      "RangeIndex: 459903 entries, 0 to 459902\n",
      "Data columns (total 8 columns):\n",
      "Start_date    459903 non-null object\n",
      "Start_name    459903 non-null object\n",
      "Start_id      459903 non-null int64\n",
      "End_date      459903 non-null object\n",
      "End_name      459903 non-null object\n",
      "End_id        459903 non-null int64\n",
      "duration      459903 non-null int64\n",
      "account       459903 non-null object\n",
      "dtypes: int64(3), object(5)\n",
      "memory usage: 28.1+ MB\n"
     ]
    },
    {
     "data": {
      "text/html": [
       "<div>\n",
       "<style scoped>\n",
       "    .dataframe tbody tr th:only-of-type {\n",
       "        vertical-align: middle;\n",
       "    }\n",
       "\n",
       "    .dataframe tbody tr th {\n",
       "        vertical-align: top;\n",
       "    }\n",
       "\n",
       "    .dataframe thead th {\n",
       "        text-align: right;\n",
       "    }\n",
       "</style>\n",
       "<table border=\"1\" class=\"dataframe\">\n",
       "  <thead>\n",
       "    <tr style=\"text-align: right;\">\n",
       "      <th></th>\n",
       "      <th>Start_date</th>\n",
       "      <th>Start_name</th>\n",
       "      <th>Start_id</th>\n",
       "      <th>End_date</th>\n",
       "      <th>End_name</th>\n",
       "      <th>End_id</th>\n",
       "      <th>duration</th>\n",
       "      <th>account</th>\n",
       "    </tr>\n",
       "  </thead>\n",
       "  <tbody>\n",
       "    <tr>\n",
       "      <th>0</th>\n",
       "      <td>2017-11-05 21:45:00</td>\n",
       "      <td>Hennepin Ave &amp; S Washington Ave</td>\n",
       "      <td>30184</td>\n",
       "      <td>2017-11-05 22:02:00</td>\n",
       "      <td>Logan Park</td>\n",
       "      <td>30104</td>\n",
       "      <td>1048</td>\n",
       "      <td>Member</td>\n",
       "    </tr>\n",
       "    <tr>\n",
       "      <th>1</th>\n",
       "      <td>2017-11-05 21:45:00</td>\n",
       "      <td>Broadway Street N &amp; 4th Street E</td>\n",
       "      <td>30122</td>\n",
       "      <td>2017-11-05 22:26:00</td>\n",
       "      <td>Broadway Street N &amp; 4th Street E</td>\n",
       "      <td>30122</td>\n",
       "      <td>2513</td>\n",
       "      <td>Member</td>\n",
       "    </tr>\n",
       "    <tr>\n",
       "      <th>2</th>\n",
       "      <td>2017-11-05 21:43:00</td>\n",
       "      <td>Dale Street &amp; Grand Ave.</td>\n",
       "      <td>30106</td>\n",
       "      <td>2017-11-05 22:13:00</td>\n",
       "      <td>N Milton Street &amp; Summit Ave</td>\n",
       "      <td>30101</td>\n",
       "      <td>1817</td>\n",
       "      <td>Member</td>\n",
       "    </tr>\n",
       "    <tr>\n",
       "      <th>3</th>\n",
       "      <td>2017-11-05 21:41:00</td>\n",
       "      <td>Weisman Art Museum</td>\n",
       "      <td>30183</td>\n",
       "      <td>2017-11-05 22:05:00</td>\n",
       "      <td>22nd Ave S &amp; Franklin Ave</td>\n",
       "      <td>30014</td>\n",
       "      <td>1399</td>\n",
       "      <td>Casual</td>\n",
       "    </tr>\n",
       "    <tr>\n",
       "      <th>4</th>\n",
       "      <td>2017-11-05 21:38:00</td>\n",
       "      <td>South 2nd Street &amp; 3rd Ave S</td>\n",
       "      <td>30030</td>\n",
       "      <td>2017-11-05 21:44:00</td>\n",
       "      <td>6th Ave SE &amp; University Ave</td>\n",
       "      <td>30088</td>\n",
       "      <td>370</td>\n",
       "      <td>Member</td>\n",
       "    </tr>\n",
       "  </tbody>\n",
       "</table>\n",
       "</div>"
      ],
      "text/plain": [
       "            Start_date                        Start_name  Start_id  \\\n",
       "0  2017-11-05 21:45:00   Hennepin Ave & S Washington Ave     30184   \n",
       "1  2017-11-05 21:45:00  Broadway Street N & 4th Street E     30122   \n",
       "2  2017-11-05 21:43:00          Dale Street & Grand Ave.     30106   \n",
       "3  2017-11-05 21:41:00                Weisman Art Museum     30183   \n",
       "4  2017-11-05 21:38:00      South 2nd Street & 3rd Ave S     30030   \n",
       "\n",
       "              End_date                          End_name  End_id  duration  \\\n",
       "0  2017-11-05 22:02:00                        Logan Park   30104      1048   \n",
       "1  2017-11-05 22:26:00  Broadway Street N & 4th Street E   30122      2513   \n",
       "2  2017-11-05 22:13:00      N Milton Street & Summit Ave   30101      1817   \n",
       "3  2017-11-05 22:05:00         22nd Ave S & Franklin Ave   30014      1399   \n",
       "4  2017-11-05 21:44:00       6th Ave SE & University Ave   30088       370   \n",
       "\n",
       "  account  \n",
       "0  Member  \n",
       "1  Member  \n",
       "2  Member  \n",
       "3  Casual  \n",
       "4  Member  "
      ]
     },
     "execution_count": 21,
     "metadata": {},
     "output_type": "execute_result"
    }
   ],
   "source": [
    "rides_df.info()\n",
    "rides_df.head()"
   ]
  },
  {
   "cell_type": "markdown",
   "metadata": {},
   "source": [
    "## Data prep/cleaning"
   ]
  },
  {
   "cell_type": "code",
   "execution_count": 22,
   "metadata": {},
   "outputs": [],
   "source": [
    "# Adjusting the start and end date columns to datetime\n",
    "\n",
    "rides_df['Start_date'] = rides_df['Start_date'].apply(lambda x: dt.datetime.strptime(x,'%Y-%m-%d %H:%M:%S'))\n",
    "rides_df['End_date'] = rides_df['End_date'].apply(lambda x: dt.datetime.strptime(x,'%Y-%m-%d %H:%M:%S'))"
   ]
  },
  {
   "cell_type": "markdown",
   "metadata": {},
   "source": [
    "## splitting based on (non-)member"
   ]
  },
  {
   "cell_type": "code",
   "execution_count": 23,
   "metadata": {},
   "outputs": [],
   "source": [
    "member = rides_df[rides_df['account'] == \"Member\"]\n",
    "casual = rides_df[rides_df['account'] != \"Member\"]"
   ]
  },
  {
   "cell_type": "code",
   "execution_count": 24,
   "metadata": {},
   "outputs": [],
   "source": [
    "station_member = member[['Start_id', 'duration']]\n",
    "station_member = station_member.groupby(['Start_id']).count()\n",
    "station_member = station_member.rename(columns={'duration':'m_count'})"
   ]
  },
  {
   "cell_type": "code",
   "execution_count": 25,
   "metadata": {},
   "outputs": [],
   "source": [
    "casual_member = casual[['Start_id', 'duration']]\n",
    "casual_member = casual_member.groupby(['Start_id']).count()\n",
    "casual_member = casual_member.rename(columns={'duration':'c_count'})"
   ]
  },
  {
   "cell_type": "markdown",
   "metadata": {},
   "source": [
    "## Merging the data to our clustered dataframe"
   ]
  },
  {
   "cell_type": "code",
   "execution_count": 26,
   "metadata": {},
   "outputs": [],
   "source": [
    "six_nr_clusters = pd.merge(six_nr_clusters, station_member, left_on='Terminal', right_index=True)\n",
    "six_nr_clusters = pd.merge(six_nr_clusters, casual_member, left_on='Terminal', right_index=True)"
   ]
  },
  {
   "cell_type": "code",
   "execution_count": 27,
   "metadata": {},
   "outputs": [
    {
     "data": {
      "text/html": [
       "<div>\n",
       "<style scoped>\n",
       "    .dataframe tbody tr th:only-of-type {\n",
       "        vertical-align: middle;\n",
       "    }\n",
       "\n",
       "    .dataframe tbody tr th {\n",
       "        vertical-align: top;\n",
       "    }\n",
       "\n",
       "    .dataframe thead tr th {\n",
       "        text-align: left;\n",
       "    }\n",
       "\n",
       "    .dataframe thead tr:last-of-type th {\n",
       "        text-align: right;\n",
       "    }\n",
       "</style>\n",
       "<table border=\"1\" class=\"dataframe\">\n",
       "  <thead>\n",
       "    <tr>\n",
       "      <th></th>\n",
       "      <th></th>\n",
       "      <th colspan=\"8\" halign=\"left\">m_count</th>\n",
       "      <th colspan=\"8\" halign=\"left\">c_count</th>\n",
       "    </tr>\n",
       "    <tr>\n",
       "      <th></th>\n",
       "      <th></th>\n",
       "      <th>count</th>\n",
       "      <th>mean</th>\n",
       "      <th>std</th>\n",
       "      <th>min</th>\n",
       "      <th>25%</th>\n",
       "      <th>50%</th>\n",
       "      <th>75%</th>\n",
       "      <th>max</th>\n",
       "      <th>count</th>\n",
       "      <th>mean</th>\n",
       "      <th>std</th>\n",
       "      <th>min</th>\n",
       "      <th>25%</th>\n",
       "      <th>50%</th>\n",
       "      <th>75%</th>\n",
       "      <th>max</th>\n",
       "    </tr>\n",
       "    <tr>\n",
       "      <th></th>\n",
       "      <th>cluster</th>\n",
       "      <th></th>\n",
       "      <th></th>\n",
       "      <th></th>\n",
       "      <th></th>\n",
       "      <th></th>\n",
       "      <th></th>\n",
       "      <th></th>\n",
       "      <th></th>\n",
       "      <th></th>\n",
       "      <th></th>\n",
       "      <th></th>\n",
       "      <th></th>\n",
       "      <th></th>\n",
       "      <th></th>\n",
       "      <th></th>\n",
       "      <th></th>\n",
       "    </tr>\n",
       "  </thead>\n",
       "  <tbody>\n",
       "    <tr>\n",
       "      <th rowspan=\"2\" valign=\"top\">cluster_0</th>\n",
       "      <th>False</th>\n",
       "      <td>178.0</td>\n",
       "      <td>1485.786517</td>\n",
       "      <td>1671.634671</td>\n",
       "      <td>61.0</td>\n",
       "      <td>348.50</td>\n",
       "      <td>855.0</td>\n",
       "      <td>1929.00</td>\n",
       "      <td>9294.0</td>\n",
       "      <td>178.0</td>\n",
       "      <td>759.629213</td>\n",
       "      <td>743.416915</td>\n",
       "      <td>31.0</td>\n",
       "      <td>269.00</td>\n",
       "      <td>506.0</td>\n",
       "      <td>1047.25</td>\n",
       "      <td>5422.0</td>\n",
       "    </tr>\n",
       "    <tr>\n",
       "      <th>True</th>\n",
       "      <td>23.0</td>\n",
       "      <td>1088.869565</td>\n",
       "      <td>582.121848</td>\n",
       "      <td>239.0</td>\n",
       "      <td>620.50</td>\n",
       "      <td>1033.0</td>\n",
       "      <td>1432.50</td>\n",
       "      <td>2231.0</td>\n",
       "      <td>23.0</td>\n",
       "      <td>1529.347826</td>\n",
       "      <td>1953.059107</td>\n",
       "      <td>178.0</td>\n",
       "      <td>536.50</td>\n",
       "      <td>869.0</td>\n",
       "      <td>1137.50</td>\n",
       "      <td>8512.0</td>\n",
       "    </tr>\n",
       "    <tr>\n",
       "      <th rowspan=\"2\" valign=\"top\">cluster_1</th>\n",
       "      <th>False</th>\n",
       "      <td>170.0</td>\n",
       "      <td>1632.582353</td>\n",
       "      <td>1655.234018</td>\n",
       "      <td>61.0</td>\n",
       "      <td>465.75</td>\n",
       "      <td>1139.5</td>\n",
       "      <td>2092.00</td>\n",
       "      <td>9294.0</td>\n",
       "      <td>170.0</td>\n",
       "      <td>943.847059</td>\n",
       "      <td>1036.140375</td>\n",
       "      <td>36.0</td>\n",
       "      <td>310.75</td>\n",
       "      <td>691.5</td>\n",
       "      <td>1192.00</td>\n",
       "      <td>8512.0</td>\n",
       "    </tr>\n",
       "    <tr>\n",
       "      <th>True</th>\n",
       "      <td>31.0</td>\n",
       "      <td>386.290323</td>\n",
       "      <td>224.764646</td>\n",
       "      <td>106.0</td>\n",
       "      <td>203.50</td>\n",
       "      <td>384.0</td>\n",
       "      <td>449.50</td>\n",
       "      <td>985.0</td>\n",
       "      <td>31.0</td>\n",
       "      <td>320.483871</td>\n",
       "      <td>269.760866</td>\n",
       "      <td>31.0</td>\n",
       "      <td>143.50</td>\n",
       "      <td>263.0</td>\n",
       "      <td>367.50</td>\n",
       "      <td>1183.0</td>\n",
       "    </tr>\n",
       "    <tr>\n",
       "      <th rowspan=\"2\" valign=\"top\">cluster_2</th>\n",
       "      <th>False</th>\n",
       "      <td>138.0</td>\n",
       "      <td>1217.065217</td>\n",
       "      <td>1665.796389</td>\n",
       "      <td>94.0</td>\n",
       "      <td>280.00</td>\n",
       "      <td>510.5</td>\n",
       "      <td>1412.25</td>\n",
       "      <td>9294.0</td>\n",
       "      <td>138.0</td>\n",
       "      <td>703.963768</td>\n",
       "      <td>992.034269</td>\n",
       "      <td>31.0</td>\n",
       "      <td>221.00</td>\n",
       "      <td>405.0</td>\n",
       "      <td>875.00</td>\n",
       "      <td>8512.0</td>\n",
       "    </tr>\n",
       "    <tr>\n",
       "      <th>True</th>\n",
       "      <td>63.0</td>\n",
       "      <td>1929.507937</td>\n",
       "      <td>1289.869584</td>\n",
       "      <td>61.0</td>\n",
       "      <td>1040.50</td>\n",
       "      <td>1649.0</td>\n",
       "      <td>2557.00</td>\n",
       "      <td>6261.0</td>\n",
       "      <td>63.0</td>\n",
       "      <td>1162.571429</td>\n",
       "      <td>896.986401</td>\n",
       "      <td>83.0</td>\n",
       "      <td>625.00</td>\n",
       "      <td>1007.0</td>\n",
       "      <td>1524.50</td>\n",
       "      <td>5422.0</td>\n",
       "    </tr>\n",
       "    <tr>\n",
       "      <th rowspan=\"2\" valign=\"top\">cluster_3</th>\n",
       "      <th>False</th>\n",
       "      <td>175.0</td>\n",
       "      <td>1590.074286</td>\n",
       "      <td>1647.635498</td>\n",
       "      <td>61.0</td>\n",
       "      <td>437.00</td>\n",
       "      <td>1046.0</td>\n",
       "      <td>1956.50</td>\n",
       "      <td>9294.0</td>\n",
       "      <td>175.0</td>\n",
       "      <td>875.302857</td>\n",
       "      <td>1016.136256</td>\n",
       "      <td>31.0</td>\n",
       "      <td>289.00</td>\n",
       "      <td>629.0</td>\n",
       "      <td>1102.00</td>\n",
       "      <td>8512.0</td>\n",
       "    </tr>\n",
       "    <tr>\n",
       "      <th>True</th>\n",
       "      <td>26.0</td>\n",
       "      <td>432.730769</td>\n",
       "      <td>321.685879</td>\n",
       "      <td>94.0</td>\n",
       "      <td>218.25</td>\n",
       "      <td>339.5</td>\n",
       "      <td>500.75</td>\n",
       "      <td>1425.0</td>\n",
       "      <td>26.0</td>\n",
       "      <td>661.961538</td>\n",
       "      <td>724.333320</td>\n",
       "      <td>96.0</td>\n",
       "      <td>269.00</td>\n",
       "      <td>329.0</td>\n",
       "      <td>978.50</td>\n",
       "      <td>3185.0</td>\n",
       "    </tr>\n",
       "    <tr>\n",
       "      <th rowspan=\"2\" valign=\"top\">cluster_4</th>\n",
       "      <th>False</th>\n",
       "      <td>160.0</td>\n",
       "      <td>1087.137500</td>\n",
       "      <td>1116.181059</td>\n",
       "      <td>61.0</td>\n",
       "      <td>315.25</td>\n",
       "      <td>722.0</td>\n",
       "      <td>1493.25</td>\n",
       "      <td>6261.0</td>\n",
       "      <td>160.0</td>\n",
       "      <td>868.787500</td>\n",
       "      <td>1072.655761</td>\n",
       "      <td>31.0</td>\n",
       "      <td>267.50</td>\n",
       "      <td>527.5</td>\n",
       "      <td>1085.75</td>\n",
       "      <td>8512.0</td>\n",
       "    </tr>\n",
       "    <tr>\n",
       "      <th>True</th>\n",
       "      <td>41.0</td>\n",
       "      <td>2818.829268</td>\n",
       "      <td>2287.490130</td>\n",
       "      <td>460.0</td>\n",
       "      <td>960.00</td>\n",
       "      <td>1942.0</td>\n",
       "      <td>3404.00</td>\n",
       "      <td>9294.0</td>\n",
       "      <td>41.0</td>\n",
       "      <td>765.439024</td>\n",
       "      <td>512.714202</td>\n",
       "      <td>171.0</td>\n",
       "      <td>331.00</td>\n",
       "      <td>652.0</td>\n",
       "      <td>983.00</td>\n",
       "      <td>2071.0</td>\n",
       "    </tr>\n",
       "    <tr>\n",
       "      <th rowspan=\"2\" valign=\"top\">cluster_5</th>\n",
       "      <th>False</th>\n",
       "      <td>184.0</td>\n",
       "      <td>1551.092391</td>\n",
       "      <td>1616.890109</td>\n",
       "      <td>61.0</td>\n",
       "      <td>450.25</td>\n",
       "      <td>1009.0</td>\n",
       "      <td>1943.50</td>\n",
       "      <td>9294.0</td>\n",
       "      <td>184.0</td>\n",
       "      <td>907.315217</td>\n",
       "      <td>1007.313621</td>\n",
       "      <td>31.0</td>\n",
       "      <td>307.25</td>\n",
       "      <td>656.5</td>\n",
       "      <td>1165.75</td>\n",
       "      <td>8512.0</td>\n",
       "    </tr>\n",
       "    <tr>\n",
       "      <th>True</th>\n",
       "      <td>17.0</td>\n",
       "      <td>241.941176</td>\n",
       "      <td>103.482771</td>\n",
       "      <td>104.0</td>\n",
       "      <td>160.00</td>\n",
       "      <td>240.0</td>\n",
       "      <td>317.00</td>\n",
       "      <td>450.0</td>\n",
       "      <td>17.0</td>\n",
       "      <td>202.529412</td>\n",
       "      <td>156.289842</td>\n",
       "      <td>36.0</td>\n",
       "      <td>81.00</td>\n",
       "      <td>151.0</td>\n",
       "      <td>277.00</td>\n",
       "      <td>545.0</td>\n",
       "    </tr>\n",
       "  </tbody>\n",
       "</table>\n",
       "</div>"
      ],
      "text/plain": [
       "                  m_count                                                    \\\n",
       "                    count         mean          std    min      25%     50%   \n",
       "          cluster                                                             \n",
       "cluster_0 False     178.0  1485.786517  1671.634671   61.0   348.50   855.0   \n",
       "          True       23.0  1088.869565   582.121848  239.0   620.50  1033.0   \n",
       "cluster_1 False     170.0  1632.582353  1655.234018   61.0   465.75  1139.5   \n",
       "          True       31.0   386.290323   224.764646  106.0   203.50   384.0   \n",
       "cluster_2 False     138.0  1217.065217  1665.796389   94.0   280.00   510.5   \n",
       "          True       63.0  1929.507937  1289.869584   61.0  1040.50  1649.0   \n",
       "cluster_3 False     175.0  1590.074286  1647.635498   61.0   437.00  1046.0   \n",
       "          True       26.0   432.730769   321.685879   94.0   218.25   339.5   \n",
       "cluster_4 False     160.0  1087.137500  1116.181059   61.0   315.25   722.0   \n",
       "          True       41.0  2818.829268  2287.490130  460.0   960.00  1942.0   \n",
       "cluster_5 False     184.0  1551.092391  1616.890109   61.0   450.25  1009.0   \n",
       "          True       17.0   241.941176   103.482771  104.0   160.00   240.0   \n",
       "\n",
       "                                   c_count                                   \\\n",
       "                       75%     max   count         mean          std    min   \n",
       "          cluster                                                             \n",
       "cluster_0 False    1929.00  9294.0   178.0   759.629213   743.416915   31.0   \n",
       "          True     1432.50  2231.0    23.0  1529.347826  1953.059107  178.0   \n",
       "cluster_1 False    2092.00  9294.0   170.0   943.847059  1036.140375   36.0   \n",
       "          True      449.50   985.0    31.0   320.483871   269.760866   31.0   \n",
       "cluster_2 False    1412.25  9294.0   138.0   703.963768   992.034269   31.0   \n",
       "          True     2557.00  6261.0    63.0  1162.571429   896.986401   83.0   \n",
       "cluster_3 False    1956.50  9294.0   175.0   875.302857  1016.136256   31.0   \n",
       "          True      500.75  1425.0    26.0   661.961538   724.333320   96.0   \n",
       "cluster_4 False    1493.25  6261.0   160.0   868.787500  1072.655761   31.0   \n",
       "          True     3404.00  9294.0    41.0   765.439024   512.714202  171.0   \n",
       "cluster_5 False    1943.50  9294.0   184.0   907.315217  1007.313621   31.0   \n",
       "          True      317.00   450.0    17.0   202.529412   156.289842   36.0   \n",
       "\n",
       "                                                    \n",
       "                      25%     50%      75%     max  \n",
       "          cluster                                   \n",
       "cluster_0 False    269.00   506.0  1047.25  5422.0  \n",
       "          True     536.50   869.0  1137.50  8512.0  \n",
       "cluster_1 False    310.75   691.5  1192.00  8512.0  \n",
       "          True     143.50   263.0   367.50  1183.0  \n",
       "cluster_2 False    221.00   405.0   875.00  8512.0  \n",
       "          True     625.00  1007.0  1524.50  5422.0  \n",
       "cluster_3 False    289.00   629.0  1102.00  8512.0  \n",
       "          True     269.00   329.0   978.50  3185.0  \n",
       "cluster_4 False    267.50   527.5  1085.75  8512.0  \n",
       "          True     331.00   652.0   983.00  2071.0  \n",
       "cluster_5 False    307.25   656.5  1165.75  8512.0  \n",
       "          True      81.00   151.0   277.00   545.0  "
      ]
     },
     "execution_count": 27,
     "metadata": {},
     "output_type": "execute_result"
    }
   ],
   "source": [
    "temp = defaultdict()\n",
    "for x in np.unique(six_nr_clusters.cluster.values) :\n",
    "    temp['cluster_'+str(x)] = six_nr_clusters.groupby(six_nr_clusters.cluster==x)[['m_count', 'c_count']].describe()\n",
    "cluster_describe = pd.concat(temp)\n",
    "cluster_describe"
   ]
  },
  {
   "cell_type": "code",
   "execution_count": 28,
   "metadata": {},
   "outputs": [
    {
     "data": {
      "text/html": [
       "<div>\n",
       "<style scoped>\n",
       "    .dataframe tbody tr th:only-of-type {\n",
       "        vertical-align: middle;\n",
       "    }\n",
       "\n",
       "    .dataframe tbody tr th {\n",
       "        vertical-align: top;\n",
       "    }\n",
       "\n",
       "    .dataframe thead th {\n",
       "        text-align: right;\n",
       "    }\n",
       "</style>\n",
       "<table border=\"1\" class=\"dataframe\">\n",
       "  <thead>\n",
       "    <tr style=\"text-align: right;\">\n",
       "      <th></th>\n",
       "      <th>Terminal</th>\n",
       "      <th>Station</th>\n",
       "      <th>Latitude</th>\n",
       "      <th>Longitude</th>\n",
       "      <th>Ndocks</th>\n",
       "      <th>x</th>\n",
       "      <th>y</th>\n",
       "      <th>cluster</th>\n",
       "      <th>m_count</th>\n",
       "      <th>c_count</th>\n",
       "    </tr>\n",
       "  </thead>\n",
       "  <tbody>\n",
       "    <tr>\n",
       "      <th>0</th>\n",
       "      <td>30000</td>\n",
       "      <td>100 Main Street SE</td>\n",
       "      <td>44.984892</td>\n",
       "      <td>-93.256551</td>\n",
       "      <td>27</td>\n",
       "      <td>-23.230553</td>\n",
       "      <td>-5.348980</td>\n",
       "      <td>2</td>\n",
       "      <td>2878</td>\n",
       "      <td>5422</td>\n",
       "    </tr>\n",
       "    <tr>\n",
       "      <th>1</th>\n",
       "      <td>30001</td>\n",
       "      <td>25th Street &amp; 33rd Ave S</td>\n",
       "      <td>44.957341</td>\n",
       "      <td>-93.223374</td>\n",
       "      <td>15</td>\n",
       "      <td>-4.544014</td>\n",
       "      <td>-14.150485</td>\n",
       "      <td>4</td>\n",
       "      <td>960</td>\n",
       "      <td>618</td>\n",
       "    </tr>\n",
       "    <tr>\n",
       "      <th>2</th>\n",
       "      <td>30002</td>\n",
       "      <td>Riverside Ave &amp; 23rd Ave S</td>\n",
       "      <td>44.967115</td>\n",
       "      <td>-93.240149</td>\n",
       "      <td>15</td>\n",
       "      <td>-15.734367</td>\n",
       "      <td>-12.502557</td>\n",
       "      <td>4</td>\n",
       "      <td>1330</td>\n",
       "      <td>386</td>\n",
       "    </tr>\n",
       "    <tr>\n",
       "      <th>3</th>\n",
       "      <td>30003</td>\n",
       "      <td>Plymouth Ave N &amp;  N Oliver Ave</td>\n",
       "      <td>44.991412</td>\n",
       "      <td>-93.306269</td>\n",
       "      <td>15</td>\n",
       "      <td>-21.637575</td>\n",
       "      <td>19.810301</td>\n",
       "      <td>5</td>\n",
       "      <td>317</td>\n",
       "      <td>81</td>\n",
       "    </tr>\n",
       "    <tr>\n",
       "      <th>4</th>\n",
       "      <td>30004</td>\n",
       "      <td>11th Street &amp; Hennepin</td>\n",
       "      <td>44.975340</td>\n",
       "      <td>-93.278690</td>\n",
       "      <td>23</td>\n",
       "      <td>-26.821350</td>\n",
       "      <td>3.160106</td>\n",
       "      <td>2</td>\n",
       "      <td>2574</td>\n",
       "      <td>1514</td>\n",
       "    </tr>\n",
       "  </tbody>\n",
       "</table>\n",
       "</div>"
      ],
      "text/plain": [
       "   Terminal                         Station   Latitude  Longitude  Ndocks  \\\n",
       "0     30000              100 Main Street SE  44.984892 -93.256551      27   \n",
       "1     30001        25th Street & 33rd Ave S  44.957341 -93.223374      15   \n",
       "2     30002      Riverside Ave & 23rd Ave S  44.967115 -93.240149      15   \n",
       "3     30003  Plymouth Ave N &  N Oliver Ave  44.991412 -93.306269      15   \n",
       "4     30004          11th Street & Hennepin  44.975340 -93.278690      23   \n",
       "\n",
       "           x          y  cluster  m_count  c_count  \n",
       "0 -23.230553  -5.348980        2     2878     5422  \n",
       "1  -4.544014 -14.150485        4      960      618  \n",
       "2 -15.734367 -12.502557        4     1330      386  \n",
       "3 -21.637575  19.810301        5      317       81  \n",
       "4 -26.821350   3.160106        2     2574     1514  "
      ]
     },
     "execution_count": 28,
     "metadata": {},
     "output_type": "execute_result"
    }
   ],
   "source": [
    "six_nr_clusters.head()"
   ]
  },
  {
   "cell_type": "code",
   "execution_count": 29,
   "metadata": {},
   "outputs": [],
   "source": [
    "# This will find member mean rides per terminal per cluster\n",
    "cluster_summary = pd.DataFrame(columns=['terminals', 'tot_rides', 'm_rides', 'c_rides', 'mem_term', \\\n",
    "                                        'cas_term', 'pct_mem_rides'],\\\n",
    "                    index=['Cluster_'+str(x) for x in np.unique(six_nr_clusters.cluster.values)])\n",
    "\n",
    "for x in np.unique(six_nr_clusters.cluster.values) :\n",
    "    #build arrays by cluster to work with\n",
    "    member_array = six_nr_clusters[six_nr_clusters.cluster == x].m_count.values\n",
    "    casual_array = six_nr_clusters[six_nr_clusters.cluster == x].c_count.values\n",
    "    total_array = np.sum(member_array) + np.sum(casual_array)\n",
    "    \n",
    "    cluster_summary.loc['Cluster_'+str(x), 'terminals'] = len(member_array)\n",
    "    cluster_summary.loc['Cluster_'+str(x), 'tot_rides'] = member_array.sum() + casual_array.sum()\n",
    "    cluster_summary.loc['Cluster_'+str(x), 'm_rides'] = member_array.sum()\n",
    "    cluster_summary.loc['Cluster_'+str(x), 'c_rides'] = casual_array.sum()\n",
    "    cluster_summary.loc['Cluster_'+str(x), 'mem_term'] = member_array.sum()/len(member_array)\n",
    "    cluster_summary.loc['Cluster_'+str(x), 'cas_term'] = casual_array.sum()/len(casual_array)\n",
    "    cluster_summary.loc['Cluster_'+str(x), 'pct_mem_rides'] = (member_array.sum()/total_array.sum())*100"
   ]
  },
  {
   "cell_type": "markdown",
   "metadata": {},
   "source": [
    "## Cluster summaries looking at:\n",
    " * Total rides:\n",
    "     * Member\n",
    "     * Casual\n",
    " * Total terminals:\n",
    "     * Member mean rides per terminal\n",
    "     * Casual mean rides per terminal\n",
    " * Percent member riders of each cluster"
   ]
  },
  {
   "cell_type": "code",
   "execution_count": 30,
   "metadata": {},
   "outputs": [
    {
     "data": {
      "text/html": [
       "<div>\n",
       "<style scoped>\n",
       "    .dataframe tbody tr th:only-of-type {\n",
       "        vertical-align: middle;\n",
       "    }\n",
       "\n",
       "    .dataframe tbody tr th {\n",
       "        vertical-align: top;\n",
       "    }\n",
       "\n",
       "    .dataframe thead th {\n",
       "        text-align: right;\n",
       "    }\n",
       "</style>\n",
       "<table border=\"1\" class=\"dataframe\">\n",
       "  <thead>\n",
       "    <tr style=\"text-align: right;\">\n",
       "      <th></th>\n",
       "      <th>terminals</th>\n",
       "      <th>tot_rides</th>\n",
       "      <th>m_rides</th>\n",
       "      <th>c_rides</th>\n",
       "      <th>mem_term</th>\n",
       "      <th>cas_term</th>\n",
       "      <th>pct_mem_rides</th>\n",
       "    </tr>\n",
       "  </thead>\n",
       "  <tbody>\n",
       "    <tr>\n",
       "      <th>Cluster_0</th>\n",
       "      <td>23</td>\n",
       "      <td>60219</td>\n",
       "      <td>25044</td>\n",
       "      <td>35175</td>\n",
       "      <td>1088.87</td>\n",
       "      <td>1529.35</td>\n",
       "      <td>41.5882</td>\n",
       "    </tr>\n",
       "    <tr>\n",
       "      <th>Cluster_1</th>\n",
       "      <td>31</td>\n",
       "      <td>21910</td>\n",
       "      <td>11975</td>\n",
       "      <td>9935</td>\n",
       "      <td>386.29</td>\n",
       "      <td>320.484</td>\n",
       "      <td>54.6554</td>\n",
       "    </tr>\n",
       "    <tr>\n",
       "      <th>Cluster_2</th>\n",
       "      <td>63</td>\n",
       "      <td>194801</td>\n",
       "      <td>121559</td>\n",
       "      <td>73242</td>\n",
       "      <td>1929.51</td>\n",
       "      <td>1162.57</td>\n",
       "      <td>62.4016</td>\n",
       "    </tr>\n",
       "    <tr>\n",
       "      <th>Cluster_3</th>\n",
       "      <td>26</td>\n",
       "      <td>28462</td>\n",
       "      <td>11251</td>\n",
       "      <td>17211</td>\n",
       "      <td>432.731</td>\n",
       "      <td>661.962</td>\n",
       "      <td>39.5299</td>\n",
       "    </tr>\n",
       "    <tr>\n",
       "      <th>Cluster_4</th>\n",
       "      <td>41</td>\n",
       "      <td>146955</td>\n",
       "      <td>115572</td>\n",
       "      <td>31383</td>\n",
       "      <td>2818.83</td>\n",
       "      <td>765.439</td>\n",
       "      <td>78.6445</td>\n",
       "    </tr>\n",
       "    <tr>\n",
       "      <th>Cluster_5</th>\n",
       "      <td>17</td>\n",
       "      <td>7556</td>\n",
       "      <td>4113</td>\n",
       "      <td>3443</td>\n",
       "      <td>241.941</td>\n",
       "      <td>202.529</td>\n",
       "      <td>54.4336</td>\n",
       "    </tr>\n",
       "  </tbody>\n",
       "</table>\n",
       "</div>"
      ],
      "text/plain": [
       "          terminals tot_rides m_rides c_rides mem_term cas_term pct_mem_rides\n",
       "Cluster_0        23     60219   25044   35175  1088.87  1529.35       41.5882\n",
       "Cluster_1        31     21910   11975    9935   386.29  320.484       54.6554\n",
       "Cluster_2        63    194801  121559   73242  1929.51  1162.57       62.4016\n",
       "Cluster_3        26     28462   11251   17211  432.731  661.962       39.5299\n",
       "Cluster_4        41    146955  115572   31383  2818.83  765.439       78.6445\n",
       "Cluster_5        17      7556    4113    3443  241.941  202.529       54.4336"
      ]
     },
     "execution_count": 30,
     "metadata": {},
     "output_type": "execute_result"
    }
   ],
   "source": [
    "cluster_summary\n",
    "# possible to add arc-distance (Lat-Long) square miles"
   ]
  },
  {
   "cell_type": "code",
   "execution_count": 31,
   "metadata": {},
   "outputs": [
    {
     "data": {
      "text/plain": [
       "<seaborn.axisgrid.FacetGrid at 0x7f87e24ac860>"
      ]
     },
     "execution_count": 31,
     "metadata": {},
     "output_type": "execute_result"
    },
    {
     "data": {
      "image/png": "[encoded data removed]",
      "text/plain": [
       "<matplotlib.figure.Figure at 0x7f87e24acdd8>"
      ]
     },
     "metadata": {},
     "output_type": "display_data"
    }
   ],
   "source": [
    "# Stations based on coordinates and clusters\n",
    "sns.lmplot(x='Longitude', y='Latitude', hue='cluster', data=six_nr_clusters, fit_reg=False, size=7)"
   ]
  },
  {
   "cell_type": "code",
   "execution_count": 32,
   "metadata": {},
   "outputs": [],
   "source": [
    "def haversine(lat1, lon1, lat2, lon2):\n",
    "    '''\n",
    "    Haversine definition: will calculate the distance between two points\n",
    "    using the latitude and longitude of each point.\n",
    "    '''\n",
    "    miles_constant = 3959\n",
    "    lat1, lon1, lat2, lon2 = map(np.deg2rad, [lat1, lon1, lat2, lon2])\n",
    "    dlat = lat2 - lat1 \n",
    "    dlon = lon2 - lon1 \n",
    "    a = np.sin(dlat/2)**2 + np.cos(lat1) * np.cos(lat2) * np.sin(dlon/2)**2\n",
    "    c = 2 * np.arcsin(np.sqrt(a)) \n",
    "    mi = miles_constant * c\n",
    "    return mi"
   ]
  },
  {
   "cell_type": "raw",
   "metadata": {},
   "source": [
    "def find_length(df, clus):\n",
    "    '''\n",
    "    Takes in a dataframe with a column ('cluster') that contains whole number values of clusters,\n",
    "    two seperate columns containing lat/long values and finds rectangular area \n",
    "    of cluster area based on max/min long/lat values\n",
    "    '''\n",
    "\n",
    "    max_l = df[df['cluster'] == clus]['Longitude'].max()\n",
    "    min_l = df[df['cluster'] == clus]['Longitude'].min()\n",
    "        \n",
    "    return (max_l - min_l)"
   ]
  },
  {
   "cell_type": "raw",
   "metadata": {},
   "source": [
    "def find_width(df, clus):\n",
    "    '''\n",
    "    Takes in a dataframe with a column ('cluster') that contains whole number values of clusters,\n",
    "    two seperate columns containing lat/long values and finds rectangular area \n",
    "    of cluster area based on max/min long/lat values\n",
    "    '''\n",
    "\n",
    "    max_w = df[df['cluster'] == clus]['Latitude'].max()\n",
    "    min_w = df[df['cluster'] == clus]['Latitude'].min()\n",
    "        \n",
    "    \n",
    "    return (max_w - min_w)"
   ]
  },
  {
   "cell_type": "code",
   "execution_count": 35,
   "metadata": {},
   "outputs": [],
   "source": [
    "def find_center(df, clus):\n",
    "    \n",
    "    max_l = df[df['cluster'] == clus]['Longitude'].max()\n",
    "    min_l = df[df['cluster'] == clus]['Longitude'].min()\n",
    "    center_long = (max_l - min_l)/2 + min_l\n",
    "    \n",
    "    max_w = df[df['cluster'] == clus]['Latitude'].max()\n",
    "    min_w = df[df['cluster'] == clus]['Latitude'].min()\n",
    "    center_lat = (max_w - min_w)/2 + min_w\n",
    "    \n",
    "    return (center_long, center_lat)"
   ]
  },
  {
   "cell_type": "raw",
   "metadata": {},
   "source": [
    "def area(df, clus):\n",
    "    \n",
    "    return find_width(df,clus) * find_length(df,clus)"
   ]
  },
  {
   "cell_type": "code",
   "execution_count": 37,
   "metadata": {},
   "outputs": [],
   "source": [
    "def circle_radius(df,clus):\n",
    "    \n",
    "    long1, lat1 = find_center(df,clus)\n",
    "    \n",
    "    lat2 = df[df['cluster'] == clus]['Latitude'].max()\n",
    "    long2 = df[df['cluster'] == clus]['Longitude'].max()\n",
    "    \n",
    "    diff_long = long2-long1\n",
    "    diff_lat = lat2-lat1\n",
    "    if diff_lat > diff_long:\n",
    "        return diff_lat\n",
    "    else:\n",
    "        return diff_long"
   ]
  },
  {
   "cell_type": "code",
   "execution_count": 38,
   "metadata": {},
   "outputs": [
    {
     "name": "stdout",
     "output_type": "stream",
     "text": [
      "45.002526 44.95355\n",
      "-93.247162 -93.2890749\n"
     ]
    }
   ],
   "source": [
    "max_w = six_nr_clusters[six_nr_clusters['cluster'] == 2]['Latitude'].max()\n",
    "min_w = six_nr_clusters[six_nr_clusters['cluster'] == 2]['Latitude'].min()\n",
    "max_l = six_nr_clusters[six_nr_clusters['cluster'] == 2]['Longitude'].max()\n",
    "min_l = six_nr_clusters[six_nr_clusters['cluster'] == 2]['Longitude'].min()\n",
    "print(max_w, min_w)\n",
    "print(max_l, min_l)"
   ]
  },
  {
   "cell_type": "code",
   "execution_count": 41,
   "metadata": {},
   "outputs": [
    {
     "data": {
      "image/png": "[encoded data removed]",
      "text/plain": [
       "<matplotlib.figure.Figure at 0x7f87e2369a58>"
      ]
     },
     "metadata": {},
     "output_type": "display_data"
    }
   ],
   "source": [
    "plt.figure(figsize=[14,8])\n",
    "plt.xlim([-93.35,-93.05])\n",
    "plt.ylim([44.88,45.05])\n",
    "\n",
    "for x in range(6):\n",
    "    long,lat = find_center(six_nr_clusters, x)\n",
    "    radius = circle_radius(six_nr_clusters,x)\n",
    "    circle = plt.Circle((long,lat), radius, fill=False)\n",
    "    \n",
    "    ax = plt.gca()\n",
    "    ax.cla\n",
    "    ax.scatter(x=six_nr_clusters[six_nr_clusters.cluster == x]['Longitude'].values,\\\n",
    "                    y=six_nr_clusters[six_nr_clusters.cluster == x]['Latitude'].values,\\\n",
    "                    marker='o')\n",
    "    ax.plot(long,lat, marker='*', c='black')\n",
    "    ax.add_artist(circle)\n",
    "    \n",
    "plt.show()"
   ]
  },
  {
   "cell_type": "markdown",
   "metadata": {},
   "source": [
    "## Intra/Trans-cluster travel\n",
    " * This can be split be (non-)membership too"
   ]
  },
  {
   "cell_type": "code",
   "execution_count": 42,
   "metadata": {},
   "outputs": [],
   "source": [
    "# Build a data frame with start terminal as indices, end terminal as columns filled with zeros\n",
    "station_ids = nr_station_2017.Terminal.values\n",
    "travel_df = pd.DataFrame(columns = station_ids, index = station_ids).fillna(0)"
   ]
  },
  {
   "cell_type": "code",
   "execution_count": 44,
   "metadata": {},
   "outputs": [],
   "source": [
    "start = rides_df['Start_id'].values\n",
    "end = rides_df['End_id'].values\n",
    "\n",
    "for x in range(len(rides_df['Start_id'].values)) :\n",
    "    travel_df.loc[start[x], end[x]] += 1"
   ]
  },
  {
   "cell_type": "code",
   "execution_count": 45,
   "metadata": {},
   "outputs": [],
   "source": [
    "from sklearn.preprocessing import normalize\n",
    "\n",
    "travel_matrix = travel_df.values\n",
    "normed_travel = normalize(travel_matrix, axis=1, norm='l1')"
   ]
  },
  {
   "cell_type": "code",
   "execution_count": 46,
   "metadata": {},
   "outputs": [],
   "source": [
    "clus_array = six_nr_clusters.cluster.values\n",
    "term_cluster_pair = {}\n",
    "for x in range(len(station_ids)) :\n",
    "    term_cluster_pair[station_ids[x]] = clus_array[x]"
   ]
  },
  {
   "cell_type": "code",
   "execution_count": 47,
   "metadata": {},
   "outputs": [],
   "source": [
    "'''\n",
    "Build this better using lambda mapping and dictionaries\n",
    "'''\n",
    "travel_to = pd.DataFrame(columns=['to_0', 'to_1', 'to_2', 'to_3', 'to_4', 'to_5'], \\\n",
    "                              index=station_ids).fillna(0)\n",
    "\n",
    "for x in station_ids :\n",
    "    if term_cluster_pair[x] == 0:\n",
    "        travel_to['to_0'] += (travel_df[x].values)\n",
    "    elif term_cluster_pair[x] == 1:\n",
    "        travel_to['to_1'] += (travel_df[x].values)\n",
    "    elif term_cluster_pair[x] == 2:\n",
    "        travel_to['to_2'] += (travel_df[x].values)\n",
    "    elif term_cluster_pair[x] == 3:\n",
    "        travel_to['to_3'] += (travel_df[x].values)\n",
    "    elif term_cluster_pair[x] == 4:\n",
    "        travel_to['to_4'] += (travel_df[x].values)\n",
    "    elif term_cluster_pair[x] == 5:\n",
    "        travel_to['to_5'] += (travel_df[x].values)"
   ]
  },
  {
   "cell_type": "markdown",
   "metadata": {},
   "source": [
    "We're going to transpose the travel_matrix. This will give us instead of a data frame with start terminal as indices, end terminal as columns filled with zeros (from-to), a data frame with end terminals as indices and start terminals as columns (to-from).\n",
    "\n",
    "The purpose of this is to show how the clusters interact with each other."
   ]
  },
  {
   "cell_type": "code",
   "execution_count": 48,
   "metadata": {},
   "outputs": [],
   "source": [
    "from_matrix = travel_matrix.transpose(1,0)"
   ]
  },
  {
   "cell_type": "code",
   "execution_count": 49,
   "metadata": {},
   "outputs": [],
   "source": [
    "from_df = pd.DataFrame(from_matrix, columns=station_ids, index=station_ids)"
   ]
  },
  {
   "cell_type": "code",
   "execution_count": 50,
   "metadata": {},
   "outputs": [],
   "source": [
    "'''\n",
    "Build this better using lambda mapping and dictionaries\n",
    "'''\n",
    "\n",
    "travel_from = pd.DataFrame(columns=['from_0', 'from_1', 'from_2', 'from_3', 'from_4', 'from_5'], \\\n",
    "                              index=station_ids).fillna(0)\n",
    "\n",
    "for x in station_ids :\n",
    "    if term_cluster_pair[x] == 0:\n",
    "        travel_from['from_0'] += (from_df[x].values)\n",
    "    elif term_cluster_pair[x] == 1:\n",
    "        travel_from['from_1'] += (from_df[x].values)\n",
    "    elif term_cluster_pair[x] == 2:\n",
    "        travel_from['from_2'] += (from_df[x].values)\n",
    "    elif term_cluster_pair[x] == 3:\n",
    "        travel_from['from_3'] += (from_df[x].values)\n",
    "    elif term_cluster_pair[x] == 4:\n",
    "        travel_from['from_4'] += (from_df[x].values)\n",
    "    elif term_cluster_pair[x] == 5:\n",
    "        travel_from['from_5'] += (from_df[x].values)"
   ]
  },
  {
   "cell_type": "markdown",
   "metadata": {},
   "source": [
    "Build a super dataframe containing all the extra features we've created"
   ]
  },
  {
   "cell_type": "code",
   "execution_count": 51,
   "metadata": {},
   "outputs": [
    {
     "data": {
      "text/html": [
       "<div>\n",
       "<style scoped>\n",
       "    .dataframe tbody tr th:only-of-type {\n",
       "        vertical-align: middle;\n",
       "    }\n",
       "\n",
       "    .dataframe tbody tr th {\n",
       "        vertical-align: top;\n",
       "    }\n",
       "\n",
       "    .dataframe thead th {\n",
       "        text-align: right;\n",
       "    }\n",
       "</style>\n",
       "<table border=\"1\" class=\"dataframe\">\n",
       "  <thead>\n",
       "    <tr style=\"text-align: right;\">\n",
       "      <th></th>\n",
       "      <th>Terminal</th>\n",
       "      <th>Station</th>\n",
       "      <th>Latitude</th>\n",
       "      <th>Longitude</th>\n",
       "      <th>Ndocks</th>\n",
       "      <th>x</th>\n",
       "      <th>y</th>\n",
       "      <th>cluster</th>\n",
       "      <th>m_count</th>\n",
       "      <th>c_count</th>\n",
       "      <th>...</th>\n",
       "      <th>to_2</th>\n",
       "      <th>to_3</th>\n",
       "      <th>to_4</th>\n",
       "      <th>to_5</th>\n",
       "      <th>from_0</th>\n",
       "      <th>from_1</th>\n",
       "      <th>from_2</th>\n",
       "      <th>from_3</th>\n",
       "      <th>from_4</th>\n",
       "      <th>from_5</th>\n",
       "    </tr>\n",
       "  </thead>\n",
       "  <tbody>\n",
       "    <tr>\n",
       "      <th>0</th>\n",
       "      <td>30000</td>\n",
       "      <td>100 Main Street SE</td>\n",
       "      <td>44.984892</td>\n",
       "      <td>-93.256551</td>\n",
       "      <td>27</td>\n",
       "      <td>-23.230553</td>\n",
       "      <td>-5.348980</td>\n",
       "      <td>2</td>\n",
       "      <td>2878</td>\n",
       "      <td>5422</td>\n",
       "      <td>...</td>\n",
       "      <td>6786</td>\n",
       "      <td>46</td>\n",
       "      <td>1047</td>\n",
       "      <td>273</td>\n",
       "      <td>147</td>\n",
       "      <td>3</td>\n",
       "      <td>6826</td>\n",
       "      <td>37</td>\n",
       "      <td>1281</td>\n",
       "      <td>244</td>\n",
       "    </tr>\n",
       "    <tr>\n",
       "      <th>1</th>\n",
       "      <td>30001</td>\n",
       "      <td>25th Street &amp; 33rd Ave S</td>\n",
       "      <td>44.957341</td>\n",
       "      <td>-93.223374</td>\n",
       "      <td>15</td>\n",
       "      <td>-4.544014</td>\n",
       "      <td>-14.150485</td>\n",
       "      <td>4</td>\n",
       "      <td>960</td>\n",
       "      <td>618</td>\n",
       "      <td>...</td>\n",
       "      <td>244</td>\n",
       "      <td>249</td>\n",
       "      <td>941</td>\n",
       "      <td>2</td>\n",
       "      <td>154</td>\n",
       "      <td>4</td>\n",
       "      <td>392</td>\n",
       "      <td>180</td>\n",
       "      <td>1077</td>\n",
       "      <td>4</td>\n",
       "    </tr>\n",
       "    <tr>\n",
       "      <th>2</th>\n",
       "      <td>30002</td>\n",
       "      <td>Riverside Ave &amp; 23rd Ave S</td>\n",
       "      <td>44.967115</td>\n",
       "      <td>-93.240149</td>\n",
       "      <td>15</td>\n",
       "      <td>-15.734367</td>\n",
       "      <td>-12.502557</td>\n",
       "      <td>4</td>\n",
       "      <td>1330</td>\n",
       "      <td>386</td>\n",
       "      <td>...</td>\n",
       "      <td>324</td>\n",
       "      <td>111</td>\n",
       "      <td>1201</td>\n",
       "      <td>37</td>\n",
       "      <td>12</td>\n",
       "      <td>1</td>\n",
       "      <td>251</td>\n",
       "      <td>92</td>\n",
       "      <td>1267</td>\n",
       "      <td>32</td>\n",
       "    </tr>\n",
       "    <tr>\n",
       "      <th>3</th>\n",
       "      <td>30003</td>\n",
       "      <td>Plymouth Ave N &amp;  N Oliver Ave</td>\n",
       "      <td>44.991412</td>\n",
       "      <td>-93.306269</td>\n",
       "      <td>15</td>\n",
       "      <td>-21.637575</td>\n",
       "      <td>19.810301</td>\n",
       "      <td>5</td>\n",
       "      <td>317</td>\n",
       "      <td>81</td>\n",
       "      <td>...</td>\n",
       "      <td>187</td>\n",
       "      <td>2</td>\n",
       "      <td>98</td>\n",
       "      <td>104</td>\n",
       "      <td>5</td>\n",
       "      <td>0</td>\n",
       "      <td>172</td>\n",
       "      <td>1</td>\n",
       "      <td>61</td>\n",
       "      <td>99</td>\n",
       "    </tr>\n",
       "    <tr>\n",
       "      <th>4</th>\n",
       "      <td>30004</td>\n",
       "      <td>11th Street &amp; Hennepin</td>\n",
       "      <td>44.975340</td>\n",
       "      <td>-93.278690</td>\n",
       "      <td>23</td>\n",
       "      <td>-26.821350</td>\n",
       "      <td>3.160106</td>\n",
       "      <td>2</td>\n",
       "      <td>2574</td>\n",
       "      <td>1514</td>\n",
       "      <td>...</td>\n",
       "      <td>3251</td>\n",
       "      <td>35</td>\n",
       "      <td>160</td>\n",
       "      <td>55</td>\n",
       "      <td>465</td>\n",
       "      <td>1</td>\n",
       "      <td>3274</td>\n",
       "      <td>54</td>\n",
       "      <td>136</td>\n",
       "      <td>48</td>\n",
       "    </tr>\n",
       "  </tbody>\n",
       "</table>\n",
       "<p>5 rows × 22 columns</p>\n",
       "</div>"
      ],
      "text/plain": [
       "   Terminal                         Station   Latitude  Longitude  Ndocks  \\\n",
       "0     30000              100 Main Street SE  44.984892 -93.256551      27   \n",
       "1     30001        25th Street & 33rd Ave S  44.957341 -93.223374      15   \n",
       "2     30002      Riverside Ave & 23rd Ave S  44.967115 -93.240149      15   \n",
       "3     30003  Plymouth Ave N &  N Oliver Ave  44.991412 -93.306269      15   \n",
       "4     30004          11th Street & Hennepin  44.975340 -93.278690      23   \n",
       "\n",
       "           x          y  cluster  m_count  c_count   ...    to_2  to_3  to_4  \\\n",
       "0 -23.230553  -5.348980        2     2878     5422   ...    6786    46  1047   \n",
       "1  -4.544014 -14.150485        4      960      618   ...     244   249   941   \n",
       "2 -15.734367 -12.502557        4     1330      386   ...     324   111  1201   \n",
       "3 -21.637575  19.810301        5      317       81   ...     187     2    98   \n",
       "4 -26.821350   3.160106        2     2574     1514   ...    3251    35   160   \n",
       "\n",
       "   to_5  from_0  from_1  from_2  from_3  from_4  from_5  \n",
       "0   273     147       3    6826      37    1281     244  \n",
       "1     2     154       4     392     180    1077       4  \n",
       "2    37      12       1     251      92    1267      32  \n",
       "3   104       5       0     172       1      61      99  \n",
       "4    55     465       1    3274      54     136      48  \n",
       "\n",
       "[5 rows x 22 columns]"
      ]
     },
     "execution_count": 51,
     "metadata": {},
     "output_type": "execute_result"
    }
   ],
   "source": [
    "six_nr_clusters = pd.merge(six_nr_clusters, travel_to, left_on='Terminal', right_index=True)\n",
    "six_nr_clusters = pd.merge(six_nr_clusters, travel_from, left_on='Terminal', right_index=True)\n",
    "six_nr_clusters.head()"
   ]
  },
  {
   "cell_type": "code",
   "execution_count": 52,
   "metadata": {},
   "outputs": [],
   "source": [
    "intra_to_summary = pd.DataFrame(columns=['clus0', 'clus1', 'clus2','clus3', 'clus4', 'clus5', 'pct_intra'],\\\n",
    "                    index=['Cluster_'+str(x) for x in np.unique(six_nr_clusters.cluster.values)]).fillna(0)\n",
    "\n",
    "for x in np.unique(six_nr_clusters.cluster.values) :\n",
    "    intra_to_summary.loc['Cluster_'+str(x)]['clus0'] = six_nr_clusters[six_nr_clusters.cluster == x]['to_0'].values.sum()\n",
    "    intra_to_summary.loc['Cluster_'+str(x)]['clus1'] = six_nr_clusters[six_nr_clusters.cluster == x]['to_1'].values.sum()\n",
    "    intra_to_summary.loc['Cluster_'+str(x)]['clus2'] = six_nr_clusters[six_nr_clusters.cluster == x]['to_2'].values.sum()\n",
    "    intra_to_summary.loc['Cluster_'+str(x)]['clus3'] = six_nr_clusters[six_nr_clusters.cluster == x]['to_3'].values.sum()\n",
    "    intra_to_summary.loc['Cluster_'+str(x)]['clus4'] = six_nr_clusters[six_nr_clusters.cluster == x]['to_4'].values.sum()\n",
    "    intra_to_summary.loc['Cluster_'+str(x)]['clus5'] = six_nr_clusters[six_nr_clusters.cluster == x]['to_5'].values.sum()\n",
    "    intra_to_summary.loc['Cluster_'+str(x)]['pct_intra'] = (intra_to_summary.loc['Cluster_'+str(x)]['clus'+str(x)]\\\n",
    "                                                               / intra_to_summary.loc['Cluster_'+str(x),:].values.sum()) *100"
   ]
  },
  {
   "cell_type": "code",
   "execution_count": 53,
   "metadata": {},
   "outputs": [],
   "source": [
    "intra_from_summary = pd.DataFrame(columns=['clus0', 'clus1', 'clus2','clus3', 'clus4', 'clus5', 'pct_intra'],\\\n",
    "                    index=['Cluster_'+str(x) for x in np.unique(six_nr_clusters.cluster.values)]).fillna(0)\n",
    "\n",
    "for x in np.unique(six_nr_clusters.cluster.values) :\n",
    "    intra_from_summary.loc['Cluster_'+str(x)]['clus0'] = six_nr_clusters[six_nr_clusters.cluster == x]['from_0'].values.sum()\n",
    "    intra_from_summary.loc['Cluster_'+str(x)]['clus1'] = six_nr_clusters[six_nr_clusters.cluster == x]['from_1'].values.sum()\n",
    "    intra_from_summary.loc['Cluster_'+str(x)]['clus2'] = six_nr_clusters[six_nr_clusters.cluster == x]['from_2'].values.sum()\n",
    "    intra_from_summary.loc['Cluster_'+str(x)]['clus3'] = six_nr_clusters[six_nr_clusters.cluster == x]['from_3'].values.sum()\n",
    "    intra_from_summary.loc['Cluster_'+str(x)]['clus4'] = six_nr_clusters[six_nr_clusters.cluster == x]['from_4'].values.sum()\n",
    "    intra_from_summary.loc['Cluster_'+str(x)]['clus5'] = six_nr_clusters[six_nr_clusters.cluster == x]['from_5'].values.sum()\n",
    "    intra_from_summary.loc['Cluster_'+str(x)]['pct_intra'] = (intra_from_summary.loc['Cluster_'+str(x)]['clus'+str(x)]\\\n",
    "                                                               / intra_from_summary.loc['Cluster_'+str(x),:].values.sum()) *100"
   ]
  },
  {
   "cell_type": "markdown",
   "metadata": {},
   "source": [
    "## Cluster Migration Summaries"
   ]
  },
  {
   "cell_type": "code",
   "execution_count": 54,
   "metadata": {},
   "outputs": [
    {
     "name": "stdout",
     "output_type": "stream",
     "text": [
      "To-From\n",
      "           clus0  clus1   clus2  clus3   clus4  clus5  pct_intra\n",
      "Cluster_0  43131     28   12318   1260    3140    342         71\n",
      "Cluster_1     39  19923      82   1681     179      6         90\n",
      "Cluster_2  14314    123  149808   1770   23866   4920         76\n",
      "Cluster_3   1136   1807    1083  20385    4027     24         71\n",
      "Cluster_4   3610    149   23778   4492  114372    554         77\n",
      "Cluster_5    338      5    3879     34     495   2805         37 \n",
      "\n",
      "From-To\n",
      "           clus0  clus1   clus2  clus3   clus4  clus5  pct_intra\n",
      "Cluster_0  43131     39   14314   1136    3610    338         68\n",
      "Cluster_1     28  19923     123   1807     149      5         90\n",
      "Cluster_2  12318     82  149808   1083   23778   3879         78\n",
      "Cluster_3   1260   1681    1770  20385    4492     34         68\n",
      "Cluster_4   3140    179   23866   4027  114372    495         78\n",
      "Cluster_5    342      6    4920     24     554   2805         32\n"
     ]
    }
   ],
   "source": [
    "print('To-From')\n",
    "print(intra_to_summary,'\\n')\n",
    "print('From-To')\n",
    "print(intra_from_summary)"
   ]
  },
  {
   "cell_type": "raw",
   "metadata": {},
   "source": [
    "# Stations based on coordinates and clusters\n",
    "sns.lmplot(x='Longitude', y='Latitude', hue='cluster', data=six_nr_clusters, fit_reg=False, size=7)"
   ]
  },
  {
   "cell_type": "raw",
   "metadata": {},
   "source": [
    "# for later optimization\n",
    "test = pd.DataFrame(intra_to_summary.values.T, \\\n",
    "             index=intra_to_summary.columns,\\\n",
    "            columns=['clus0', 'clus1', 'clus2','clus3', 'clus4', 'clus5']).fillna(0)\n",
    "\n",
    "#test['pct_intra'] = test.append([(test.loc['clus'+str(x)]['clus'+str(x)]\\\n",
    "#                                / test.loc['clus'+str(x),:].values.sum()) *100\\\n",
    "#                                for x in range(6)])\n",
    "test"
   ]
  },
  {
   "cell_type": "markdown",
   "metadata": {},
   "source": [
    "## Matrix by station-station travel"
   ]
  },
  {
   "cell_type": "raw",
   "metadata": {},
   "source": [
    "from sklearn.preprocessing import normalize\n",
    "\n",
    "normed_travel = normalize(travel_matrix, axis=1, norm='l1')"
   ]
  },
  {
   "cell_type": "raw",
   "metadata": {
    "scrolled": false
   },
   "source": [
    "SS = []\n",
    "\n",
    "# k means determine k\n",
    "for k in range(2,30) :\n",
    "    kmeans = KMeans(n_clusters=k, random_state=42)\n",
    "    labels = kmeans.fit_predict(normed_travel)\n",
    "\n",
    "    SS.append(kmeans.inertia_)\n",
    "\n",
    "# Plot the elbow\n",
    "plt.figure(figsize=(14,8))\n",
    "plt.plot(range(2,30), SS, 'bo-')\n",
    "plt.xlabel('k')\n",
    "plt.ylabel('SS')\n",
    "plt.title('Elbow for Optimal k')\n",
    "plt.show()"
   ]
  },
  {
   "cell_type": "raw",
   "metadata": {},
   "source": [
    "avg_sil = []\n",
    "\n",
    "#    Compute clustering algorithm (e.g., k-means clustering) for different values of k. For instance, by varying k from 1 to 10 clusters.\n",
    "for k in range(2,200) :\n",
    "    clusterer = KMeans(n_clusters=k, random_state=24).fit(normed_travel)\n",
    "    cluster_labels = clusterer.labels_\n",
    "    \n",
    "#    For each k, calculate the average silhouette of observations (avg.sil).\n",
    "    avg_sil.append(silhouette_score(normed_travel, cluster_labels))\n",
    "    \n",
    "\n",
    "#    Plot the curve of avg.sil according to the number of clusters k.\n",
    "plt.figure(figsize=(14,8))\n",
    "plt.plot(range(2,200), avg_sil, 'bo-')\n",
    "plt.xlabel('k')\n",
    "plt.ylabel('Average Silhouette')\n",
    "plt.title('Elbow for Optimal k')\n",
    "plt.show()\n",
    "#    The location of the maximum is considered as the appropriate number of clusters."
   ]
  },
  {
   "cell_type": "raw",
   "metadata": {},
   "source": [
    "# Initialize a new PCA model with a default number of components.\n",
    "pca = PCA()\n",
    "pca.fit(normed_travel)\n",
    "\n",
    "plt.figure(figsize=[14,8])\n",
    "plt.xlim(0,12)\n",
    "plt.plot(range(1,len(pca.explained_variance_)+1), pca.explained_variance_)\n",
    "plt.xticks(range(0,12,2))\n",
    "plt.ylabel('PCA Explained variance')\n",
    "plt.xlabel('Number of PCA dimensions')\n",
    "plt.show()"
   ]
  },
  {
   "cell_type": "markdown",
   "metadata": {},
   "source": [
    "We will also assume 6 & 25 dimensions for final clustering, 2 will be used for visualization"
   ]
  },
  {
   "cell_type": "raw",
   "metadata": {},
   "source": [
    "pca_df = pd.DataFrame(PCA(n_components=2).fit_transform(normed_travel), columns=['x','y'], index=nr_station_2017.index)\n",
    "pca_df = pd.DataFrame(nr_station_2017.Terminal).join(pca_df)\n",
    "    # Joins terminal ID to pca_df containing x-y PCA components\n",
    "print(pca_df.head())"
   ]
  },
  {
   "cell_type": "markdown",
   "metadata": {},
   "source": [
    "## To-From cluster visualization"
   ]
  },
  {
   "cell_type": "raw",
   "metadata": {
    "scrolled": false
   },
   "source": [
    "pca_df['cluster']= KMeans(n_clusters=12).fit(normed_travel).labels_\n",
    "travel_cluster = pd.merge(nr_station_2017, pca_df, left_on='Terminal', right_on='Terminal')\n",
    "# Stations based on coordinates and clusters\n",
    "\n",
    "palette = sns.color_palette(\"Set1\", n_colors=12, desat=.7)\n",
    "sns.lmplot(x='Longitude', y='Latitude', hue='cluster', data=travel_cluster, fit_reg=False, palette=palette, size=10)"
   ]
  },
  {
   "cell_type": "markdown",
   "metadata": {},
   "source": [
    "Using transposition we'll see if there is any difference in a to-from clustering"
   ]
  },
  {
   "cell_type": "raw",
   "metadata": {},
   "source": [
    "from_normed = normed_travel.transpose(1,0)"
   ]
  },
  {
   "cell_type": "raw",
   "metadata": {},
   "source": [
    "pca_df = pd.DataFrame(PCA(n_components=2).fit_transform(from_normed), columns=['x','y'], index=nr_station_2017.index)\n",
    "pca_df = pd.DataFrame(nr_station_2017.Terminal).join(pca_df)\n",
    "    # Joins terminal ID to pca_df containing x-y PCA components\n",
    "print(pca_df.head())"
   ]
  },
  {
   "cell_type": "markdown",
   "metadata": {},
   "source": [
    "## From-To cluster visualization"
   ]
  },
  {
   "cell_type": "raw",
   "metadata": {},
   "source": [
    "pca_df['cluster']= KMeans(n_clusters=24).fit(from_normed).labels_\n",
    "travel_cluster = pd.merge(nr_station_2017, pca_df, left_on='Terminal', right_on='Terminal')\n",
    "# Stations based on coordinates and clusters\n",
    "\n",
    "palette = sns.color_palette(\"Set1\", n_colors=12, desat=.7)\n",
    "sns.lmplot(x='Longitude', y='Latitude', hue='cluster', data=travel_cluster, fit_reg=False, palette=palette, size=10)"
   ]
  },
  {
   "cell_type": "raw",
   "metadata": {},
   "source": [
    "# build cluster centers\n",
    "pca = pd.DataFrame(PCA(n_components=2).fit_transform(from_normed), columns=['x','y'], index=nr_station_2017.index)\n",
    "cluster_centers = KMeans(n_clusters=12).fit(pca).cluster_centers_ # Retrieves cluster center\n",
    "cluster_centers = pd.DataFrame(cluster_centers, columns=['x', 'y'])\n",
    "cluster_centers['cluster'] = range(0, len(cluster_centers))"
   ]
  }
 ],
 "metadata": {
  "kernelspec": {
   "display_name": "Python 3",
   "language": "python",
   "name": "python3"
  },
  "language_info": {
   "codemirror_mode": {
    "name": "ipython",
    "version": 3
   },
   "file_extension": ".py",
   "mimetype": "text/x-python",
   "name": "python",
   "nbconvert_exporter": "python",
   "pygments_lexer": "ipython3",
   "version": "3.6.2"
  }
 },
 "nbformat": 4,
 "nbformat_minor": 2
}
