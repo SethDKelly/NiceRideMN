{
 "cells": [
  {
   "cell_type": "code",
   "execution_count": 1,
   "metadata": {},
   "outputs": [],
   "source": [
    "# standard libraries\n",
    "import numpy as np #numpy warnings may be safely ignored, known issue.\n",
    "import pandas as pd\n",
    "from collections import defaultdict\n",
    "from math import * # Used for the haversine/distance calculations\n",
    "import datetime as dt \n",
    "\n",
    "# for visualizations\n",
    "import matplotlib.pyplot as plt\n",
    "import seaborn as sns\n",
    "\n",
    "# for model building\n",
    "from sklearn.cluster import KMeans\n",
    "\n",
    "# for optimizations\n",
    "from sklearn.metrics import silhouette_score\n",
    "from sklearn.decomposition import PCA"
   ]
  },
  {
   "cell_type": "code",
   "execution_count": 2,
   "metadata": {},
   "outputs": [],
   "source": [
    "# Make an empty DefaultDict\n",
    "# fill dictionary {year: station data}\n",
    "# build hierarchal dataframe using dictionary\n",
    "\n",
    "# Example of data location\n",
    "# https://raw.githubusercontent.com/SethDKelly/NiceRideMN/master/Nice_Ride_data/2010/NiceRide_station_2010.csv\n",
    "\n",
    "nr_dict = defaultdict()\n",
    "for x in [2010 + x for x in range(8)] :\n",
    "    nr_dict[x] = pd.read_csv(\"https://raw.githubusercontent.com/SethDKelly/NiceRideMN/master/Nice_Ride_data/\" \\\n",
    "                             +str(x)+\"/NiceRide_station_\"+str(x)+\".csv\")\n",
    "nr_station = pd.concat(nr_dict)"
   ]
  },
  {
   "cell_type": "code",
   "execution_count": 3,
   "metadata": {},
   "outputs": [],
   "source": [
    "# Extracting the most robust year/data set from the total\n",
    "nr_station_2017 = nr_station.loc[(2017),:]"
   ]
  },
  {
   "cell_type": "code",
   "execution_count": 4,
   "metadata": {},
   "outputs": [
    {
     "data": {
      "text/html": [
       "<div>\n",
       "<style scoped>\n",
       "    .dataframe tbody tr th:only-of-type {\n",
       "        vertical-align: middle;\n",
       "    }\n",
       "\n",
       "    .dataframe tbody tr th {\n",
       "        vertical-align: top;\n",
       "    }\n",
       "\n",
       "    .dataframe thead th {\n",
       "        text-align: right;\n",
       "    }\n",
       "</style>\n",
       "<table border=\"1\" class=\"dataframe\">\n",
       "  <thead>\n",
       "    <tr style=\"text-align: right;\">\n",
       "      <th></th>\n",
       "      <th>Terminal</th>\n",
       "      <th>Station</th>\n",
       "      <th>Latitude</th>\n",
       "      <th>Longitude</th>\n",
       "      <th>Ndocks</th>\n",
       "    </tr>\n",
       "  </thead>\n",
       "  <tbody>\n",
       "    <tr>\n",
       "      <th>196</th>\n",
       "      <td>30199</td>\n",
       "      <td>Hidden Falls Park</td>\n",
       "      <td>44.907001</td>\n",
       "      <td>-93.191432</td>\n",
       "      <td>19</td>\n",
       "    </tr>\n",
       "    <tr>\n",
       "      <th>197</th>\n",
       "      <td>30201</td>\n",
       "      <td>Elwood Ave N &amp; Oak Park Ave N</td>\n",
       "      <td>44.987160</td>\n",
       "      <td>-93.301944</td>\n",
       "      <td>15</td>\n",
       "    </tr>\n",
       "    <tr>\n",
       "      <th>198</th>\n",
       "      <td>30202</td>\n",
       "      <td>Mill City Quarter</td>\n",
       "      <td>44.980500</td>\n",
       "      <td>-93.261800</td>\n",
       "      <td>23</td>\n",
       "    </tr>\n",
       "    <tr>\n",
       "      <th>199</th>\n",
       "      <td>30203</td>\n",
       "      <td>W 50th Street &amp; W Minnehaha Pkwy</td>\n",
       "      <td>44.912125</td>\n",
       "      <td>-93.298552</td>\n",
       "      <td>23</td>\n",
       "    </tr>\n",
       "    <tr>\n",
       "      <th>200</th>\n",
       "      <td>30204</td>\n",
       "      <td>NE Central Ave &amp; NE 14th Ave</td>\n",
       "      <td>45.002526</td>\n",
       "      <td>-93.247162</td>\n",
       "      <td>15</td>\n",
       "    </tr>\n",
       "  </tbody>\n",
       "</table>\n",
       "</div>"
      ],
      "text/plain": [
       "     Terminal                           Station   Latitude  Longitude  Ndocks\n",
       "196     30199                 Hidden Falls Park  44.907001 -93.191432      19\n",
       "197     30201     Elwood Ave N & Oak Park Ave N  44.987160 -93.301944      15\n",
       "198     30202                 Mill City Quarter  44.980500 -93.261800      23\n",
       "199     30203  W 50th Street & W Minnehaha Pkwy  44.912125 -93.298552      23\n",
       "200     30204      NE Central Ave & NE 14th Ave  45.002526 -93.247162      15"
      ]
     },
     "execution_count": 4,
     "metadata": {},
     "output_type": "execute_result"
    }
   ],
   "source": [
    "nr_station_2017.tail()"
   ]
  },
  {
   "cell_type": "markdown",
   "metadata": {},
   "source": [
    "## First we'll create a matrix that has the arc distance of each station comparatively."
   ]
  },
  {
   "cell_type": "code",
   "execution_count": 5,
   "metadata": {},
   "outputs": [],
   "source": [
    "station_ids = nr_station_2017.Terminal.values # will be used for matrix column names"
   ]
  },
  {
   "cell_type": "code",
   "execution_count": 6,
   "metadata": {},
   "outputs": [],
   "source": [
    "def haversine(lat1, lon1, lat2, lon2):\n",
    "    '''\n",
    "    Haversine definition: will calculate the distance between two points\n",
    "    using the latitude and longitude of each point.\n",
    "    '''\n",
    "    miles_constant = 3959\n",
    "    lat1, lon1, lat2, lon2 = map(np.deg2rad, [lat1, lon1, lat2, lon2])\n",
    "    dlat = lat2 - lat1 \n",
    "    dlon = lon2 - lon1 \n",
    "    a = np.sin(dlat/2)**2 + np.cos(lat1) * np.cos(lat2) * np.sin(dlon/2)**2\n",
    "    c = 2 * np.arcsin(np.sqrt(a)) \n",
    "    mi = miles_constant * c\n",
    "    return mi"
   ]
  },
  {
   "cell_type": "code",
   "execution_count": 7,
   "metadata": {},
   "outputs": [],
   "source": [
    "distance = pd.DataFrame(index = station_ids)\n",
    "for x in range(len(station_ids)) :\n",
    "    distance[station_ids[x]] = haversine(nr_station_2017.Latitude.values[x], nr_station_2017.Longitude.values[x],\\\n",
    "                            nr_station_2017.Latitude.values, nr_station_2017.Longitude.values)"
   ]
  },
  {
   "cell_type": "code",
   "execution_count": 8,
   "metadata": {},
   "outputs": [],
   "source": [
    "distance_matrix = np.array(distance.iloc[:,:])"
   ]
  },
  {
   "cell_type": "code",
   "execution_count": 9,
   "metadata": {},
   "outputs": [
    {
     "name": "stdout",
     "output_type": "stream",
     "text": [
      "<class 'pandas.core.frame.DataFrame'>\n",
      "Int64Index: 201 entries, 30000 to 30204\n",
      "Columns: 201 entries, 30000 to 30204\n",
      "dtypes: float64(201)\n",
      "memory usage: 317.2 KB\n"
     ]
    },
    {
     "data": {
      "text/html": [
       "<div>\n",
       "<style scoped>\n",
       "    .dataframe tbody tr th:only-of-type {\n",
       "        vertical-align: middle;\n",
       "    }\n",
       "\n",
       "    .dataframe tbody tr th {\n",
       "        vertical-align: top;\n",
       "    }\n",
       "\n",
       "    .dataframe thead th {\n",
       "        text-align: right;\n",
       "    }\n",
       "</style>\n",
       "<table border=\"1\" class=\"dataframe\">\n",
       "  <thead>\n",
       "    <tr style=\"text-align: right;\">\n",
       "      <th></th>\n",
       "      <th>30000</th>\n",
       "      <th>30001</th>\n",
       "      <th>30002</th>\n",
       "      <th>30003</th>\n",
       "      <th>30004</th>\n",
       "      <th>30005</th>\n",
       "      <th>30006</th>\n",
       "      <th>30007</th>\n",
       "      <th>30008</th>\n",
       "      <th>30009</th>\n",
       "      <th>...</th>\n",
       "      <th>30194</th>\n",
       "      <th>30195</th>\n",
       "      <th>30196</th>\n",
       "      <th>30197</th>\n",
       "      <th>30198</th>\n",
       "      <th>30199</th>\n",
       "      <th>30201</th>\n",
       "      <th>30202</th>\n",
       "      <th>30203</th>\n",
       "      <th>30204</th>\n",
       "    </tr>\n",
       "  </thead>\n",
       "  <tbody>\n",
       "    <tr>\n",
       "      <th>30000</th>\n",
       "      <td>0.000000</td>\n",
       "      <td>2.500883</td>\n",
       "      <td>1.466835</td>\n",
       "      <td>2.471107</td>\n",
       "      <td>1.267481</td>\n",
       "      <td>0.304709</td>\n",
       "      <td>1.308283</td>\n",
       "      <td>1.034074</td>\n",
       "      <td>2.514716</td>\n",
       "      <td>0.970652</td>\n",
       "      <td>...</td>\n",
       "      <td>1.792963</td>\n",
       "      <td>1.091036</td>\n",
       "      <td>1.346930</td>\n",
       "      <td>1.120933</td>\n",
       "      <td>0.944879</td>\n",
       "      <td>6.253741</td>\n",
       "      <td>2.223943</td>\n",
       "      <td>0.397380</td>\n",
       "      <td>5.431379</td>\n",
       "      <td>1.301979</td>\n",
       "    </tr>\n",
       "    <tr>\n",
       "      <th>30001</th>\n",
       "      <td>2.500883</td>\n",
       "      <td>0.000000</td>\n",
       "      <td>1.062434</td>\n",
       "      <td>4.686271</td>\n",
       "      <td>2.976568</td>\n",
       "      <td>2.642299</td>\n",
       "      <td>2.790346</td>\n",
       "      <td>2.456370</td>\n",
       "      <td>1.899581</td>\n",
       "      <td>1.775162</td>\n",
       "      <td>...</td>\n",
       "      <td>1.178669</td>\n",
       "      <td>1.412001</td>\n",
       "      <td>1.362179</td>\n",
       "      <td>1.653395</td>\n",
       "      <td>1.579928</td>\n",
       "      <td>3.813231</td>\n",
       "      <td>4.358510</td>\n",
       "      <td>2.467683</td>\n",
       "      <td>4.825362</td>\n",
       "      <td>3.331634</td>\n",
       "    </tr>\n",
       "    <tr>\n",
       "      <th>30002</th>\n",
       "      <td>1.466835</td>\n",
       "      <td>1.062434</td>\n",
       "      <td>0.000000</td>\n",
       "      <td>3.641812</td>\n",
       "      <td>1.967888</td>\n",
       "      <td>1.648298</td>\n",
       "      <td>1.808542</td>\n",
       "      <td>1.448112</td>\n",
       "      <td>1.612348</td>\n",
       "      <td>0.969751</td>\n",
       "      <td>...</td>\n",
       "      <td>0.977645</td>\n",
       "      <td>0.389264</td>\n",
       "      <td>0.738530</td>\n",
       "      <td>0.920689</td>\n",
       "      <td>0.633325</td>\n",
       "      <td>4.788731</td>\n",
       "      <td>3.322895</td>\n",
       "      <td>1.405513</td>\n",
       "      <td>4.753667</td>\n",
       "      <td>2.470703</td>\n",
       "    </tr>\n",
       "    <tr>\n",
       "      <th>30003</th>\n",
       "      <td>2.471107</td>\n",
       "      <td>4.686271</td>\n",
       "      <td>3.641812</td>\n",
       "      <td>0.000000</td>\n",
       "      <td>1.746448</td>\n",
       "      <td>2.564107</td>\n",
       "      <td>1.971116</td>\n",
       "      <td>2.246913</td>\n",
       "      <td>3.718459</td>\n",
       "      <td>3.438583</td>\n",
       "      <td>...</td>\n",
       "      <td>4.236012</td>\n",
       "      <td>3.364533</td>\n",
       "      <td>3.782869</td>\n",
       "      <td>3.585482</td>\n",
       "      <td>3.330279</td>\n",
       "      <td>8.096739</td>\n",
       "      <td>0.361928</td>\n",
       "      <td>2.300340</td>\n",
       "      <td>5.491521</td>\n",
       "      <td>2.988440</td>\n",
       "    </tr>\n",
       "    <tr>\n",
       "      <th>30004</th>\n",
       "      <td>1.267481</td>\n",
       "      <td>2.976568</td>\n",
       "      <td>1.967888</td>\n",
       "      <td>1.746448</td>\n",
       "      <td>0.000000</td>\n",
       "      <td>1.530430</td>\n",
       "      <td>0.242315</td>\n",
       "      <td>0.521591</td>\n",
       "      <td>2.057588</td>\n",
       "      <td>2.053101</td>\n",
       "      <td>...</td>\n",
       "      <td>2.722854</td>\n",
       "      <td>1.761634</td>\n",
       "      <td>2.284861</td>\n",
       "      <td>2.171021</td>\n",
       "      <td>1.813986</td>\n",
       "      <td>6.364891</td>\n",
       "      <td>1.399569</td>\n",
       "      <td>0.899256</td>\n",
       "      <td>4.474715</td>\n",
       "      <td>2.429523</td>\n",
       "    </tr>\n",
       "  </tbody>\n",
       "</table>\n",
       "<p>5 rows × 201 columns</p>\n",
       "</div>"
      ],
      "text/plain": [
       "          30000     30001     30002     30003     30004     30005     30006  \\\n",
       "30000  0.000000  2.500883  1.466835  2.471107  1.267481  0.304709  1.308283   \n",
       "30001  2.500883  0.000000  1.062434  4.686271  2.976568  2.642299  2.790346   \n",
       "30002  1.466835  1.062434  0.000000  3.641812  1.967888  1.648298  1.808542   \n",
       "30003  2.471107  4.686271  3.641812  0.000000  1.746448  2.564107  1.971116   \n",
       "30004  1.267481  2.976568  1.967888  1.746448  0.000000  1.530430  0.242315   \n",
       "\n",
       "          30007     30008     30009    ...        30194     30195     30196  \\\n",
       "30000  1.034074  2.514716  0.970652    ...     1.792963  1.091036  1.346930   \n",
       "30001  2.456370  1.899581  1.775162    ...     1.178669  1.412001  1.362179   \n",
       "30002  1.448112  1.612348  0.969751    ...     0.977645  0.389264  0.738530   \n",
       "30003  2.246913  3.718459  3.438583    ...     4.236012  3.364533  3.782869   \n",
       "30004  0.521591  2.057588  2.053101    ...     2.722854  1.761634  2.284861   \n",
       "\n",
       "          30197     30198     30199     30201     30202     30203     30204  \n",
       "30000  1.120933  0.944879  6.253741  2.223943  0.397380  5.431379  1.301979  \n",
       "30001  1.653395  1.579928  3.813231  4.358510  2.467683  4.825362  3.331634  \n",
       "30002  0.920689  0.633325  4.788731  3.322895  1.405513  4.753667  2.470703  \n",
       "30003  3.585482  3.330279  8.096739  0.361928  2.300340  5.491521  2.988440  \n",
       "30004  2.171021  1.813986  6.364891  1.399569  0.899256  4.474715  2.429523  \n",
       "\n",
       "[5 rows x 201 columns]"
      ]
     },
     "execution_count": 9,
     "metadata": {},
     "output_type": "execute_result"
    }
   ],
   "source": [
    "distance.info()\n",
    "distance.head()"
   ]
  },
  {
   "cell_type": "code",
   "execution_count": 10,
   "metadata": {},
   "outputs": [],
   "source": [
    "# If we wanted to merge our two new dataframes together\n",
    "# nr_station_2017 = pd.merge(nr_station_2017, distance, left_on='Terminal', right_index=True)"
   ]
  },
  {
   "cell_type": "code",
   "execution_count": 11,
   "metadata": {},
   "outputs": [
    {
     "data": {
      "text/plain": [
       "array([[0.        , 2.50088312, 1.46683481, ..., 0.39738012, 5.43137926,\n",
       "        1.30197948],\n",
       "       [2.50088312, 0.        , 1.06243441, ..., 2.46768258, 4.82536183,\n",
       "        3.33163364],\n",
       "       [1.46683481, 1.06243441, 0.        , ..., 1.40551251, 4.7536674 ,\n",
       "        2.47070301],\n",
       "       ...,\n",
       "       [0.39738012, 2.46768258, 1.40551251, ..., 0.        , 5.05488421,\n",
       "        1.68165967],\n",
       "       [5.43137926, 4.82536183, 4.7536674 , ..., 5.05488421, 0.        ,\n",
       "        6.73294638],\n",
       "       [1.30197948, 3.33163364, 2.47070301, ..., 1.68165967, 6.73294638,\n",
       "        0.        ]])"
      ]
     },
     "execution_count": 11,
     "metadata": {},
     "output_type": "execute_result"
    }
   ],
   "source": [
    "distance_matrix"
   ]
  },
  {
   "cell_type": "code",
   "execution_count": 12,
   "metadata": {},
   "outputs": [
    {
     "data": {
      "image/png": "[encoded data removed]",
      "text/plain": [
       "<matplotlib.figure.Figure at 0x7fa305a4b9b0>"
      ]
     },
     "metadata": {},
     "output_type": "display_data"
    }
   ],
   "source": [
    "SS = []\n",
    "\n",
    "# k means determine k\n",
    "for k in range(2,10) :\n",
    "    kmeans = KMeans(n_clusters=k, random_state=42)\n",
    "    labels = kmeans.fit_predict(distance_matrix)\n",
    "\n",
    "    SS.append(kmeans.inertia_)\n",
    "\n",
    "# Plot the elbow\n",
    "plt.figure(figsize=(14,8))\n",
    "plt.plot(range(2,10), SS, 'bx-')\n",
    "plt.xlabel('k')\n",
    "plt.ylabel('SS')\n",
    "plt.title('Elbow for Optimal k')\n",
    "plt.show()"
   ]
  },
  {
   "cell_type": "code",
   "execution_count": 13,
   "metadata": {
    "scrolled": false
   },
   "outputs": [
    {
     "name": "stdout",
     "output_type": "stream",
     "text": [
      "For n_clusters = 2 The average silhouette_score is : 0.6549918908470278\n",
      "For n_clusters = 3 The average silhouette_score is : 0.559520976819025\n",
      "For n_clusters = 4 The average silhouette_score is : 0.3916531164926616\n",
      "For n_clusters = 5 The average silhouette_score is : 0.4409086857461696\n",
      "For n_clusters = 6 The average silhouette_score is : 0.46634457562130976\n",
      "For n_clusters = 7 The average silhouette_score is : 0.45010199948775714\n",
      "For n_clusters = 8 The average silhouette_score is : 0.4292035406805674\n",
      "For n_clusters = 9 The average silhouette_score is : 0.41533253394207487\n"
     ]
    },
    {
     "data": {
      "image/png": "[encoded data removed]",
      "text/plain": [
       "<matplotlib.figure.Figure at 0x7fa2fc081f98>"
      ]
     },
     "metadata": {},
     "output_type": "display_data"
    }
   ],
   "source": [
    "avg_sil = []\n",
    "\n",
    "#    Compute clustering algorithm (e.g., k-means clustering) for different values of k. For instance, by varying k from 1 to 10 clusters.\n",
    "for k in range(2,10) :\n",
    "    clusterer = KMeans(n_clusters=k, random_state=24).fit(distance_matrix)\n",
    "    cluster_labels = clusterer.labels_\n",
    "    \n",
    "#    For each k, calculate the average silhouette of observations (avg.sil).\n",
    "    silhouette_avg = silhouette_score(distance_matrix, cluster_labels)\n",
    "    print(\"For n_clusters =\", k, \"The average silhouette_score is :\", silhouette_avg)\n",
    "    avg_sil.append(silhouette_avg)\n",
    "    \n",
    "\n",
    "#    Plot the curve of avg.sil according to the number of clusters k.\n",
    "plt.figure(figsize=(14,8))\n",
    "plt.plot(range(2,10), avg_sil, 'bo-')\n",
    "plt.xlabel('k')\n",
    "plt.ylabel('Average Silhouette')\n",
    "plt.title('Elbow for Optimal k')\n",
    "plt.show()\n",
    "#    The location of the maximum is considered as the appropriate number of clusters."
   ]
  },
  {
   "cell_type": "code",
   "execution_count": 14,
   "metadata": {},
   "outputs": [
    {
     "data": {
      "image/png": "[encoded data removed]",
      "text/plain": [
       "<matplotlib.figure.Figure at 0x7fa2f776f240>"
      ]
     },
     "metadata": {},
     "output_type": "display_data"
    }
   ],
   "source": [
    "# Initialize a new PCA model with a default number of components.\n",
    "pca = PCA()\n",
    "pca.fit(distance_matrix)\n",
    "\n",
    "plt.figure(figsize=[14,8])\n",
    "plt.xlim(0,12)\n",
    "plt.plot(range(1,len(pca.explained_variance_)+1), pca.explained_variance_)\n",
    "plt.xticks(range(0,12,2))\n",
    "plt.ylabel('PCA Explained variance')\n",
    "plt.xlabel('Number of PCA dimensions')\n",
    "plt.show()"
   ]
  },
  {
   "cell_type": "code",
   "execution_count": 15,
   "metadata": {},
   "outputs": [
    {
     "name": "stdout",
     "output_type": "stream",
     "text": [
      "   Terminal          x          y\n",
      "0     30000 -23.230553  -5.348980\n",
      "1     30001  -4.544014 -14.150485\n",
      "2     30002 -15.734367 -12.502557\n",
      "3     30003 -21.637575  19.810301\n",
      "4     30004 -26.821350   3.160106\n"
     ]
    }
   ],
   "source": [
    "pca_df = pd.DataFrame(PCA(n_components=2).fit_transform(distance_matrix), columns=['x','y'], index=nr_station_2017.index)\n",
    "pca_df = pd.DataFrame(nr_station_2017.Terminal).join(pca_df)\n",
    "    # Joins customer names to pca_df containing x-y PCA components\n",
    "print(pca_df.head())"
   ]
  },
  {
   "cell_type": "markdown",
   "metadata": {},
   "source": [
    "The ideal dimensionality is 2, and KMeans cluster 6."
   ]
  },
  {
   "cell_type": "code",
   "execution_count": 16,
   "metadata": {},
   "outputs": [],
   "source": [
    "def kmeans_plot(pca_df, distance_matrix, x=4) :\n",
    "    pca_df['cluster']= KMeans(n_clusters=x).fit(distance_matrix).labels_\n",
    "    sns.lmplot(x='x', y='y', hue='cluster', data=pca_df, fit_reg=False, size=5)"
   ]
  },
  {
   "cell_type": "code",
   "execution_count": 17,
   "metadata": {},
   "outputs": [
    {
     "data": {
      "image/png": "[encoded data removed]",
      "text/plain": [
       "<matplotlib.figure.Figure at 0x7fa2f776f3c8>"
      ]
     },
     "metadata": {},
     "output_type": "display_data"
    },
    {
     "data": {
      "image/png": "[encoded data removed]",
      "text/plain": [
       "<matplotlib.figure.Figure at 0x7fa2f7704438>"
      ]
     },
     "metadata": {},
     "output_type": "display_data"
    },
    {
     "data": {
      "image/png": "[encoded data removed]",
      "text/plain": [
       "<matplotlib.figure.Figure at 0x7fa2f778eda0>"
      ]
     },
     "metadata": {},
     "output_type": "display_data"
    },
    {
     "data": {
      "image/png": "[encoded data removed]",
      "text/plain": [
       "<matplotlib.figure.Figure at 0x7fa2f7661940>"
      ]
     },
     "metadata": {},
     "output_type": "display_data"
    }
   ],
   "source": [
    "kmeans_plot(pca_df, distance_matrix, 3)\n",
    "kmeans_plot(pca_df, distance_matrix, 4)\n",
    "kmeans_plot(pca_df, distance_matrix, 5)\n",
    "kmeans_plot(pca_df, distance_matrix, 6)"
   ]
  },
  {
   "cell_type": "markdown",
   "metadata": {},
   "source": [
    "Looking at the graphs: \n",
    "* n_clusters=3 possibly over simplified\n",
    "* n_clusters=4 possible insight\n",
    "* n_clusters=5 possible insight\n",
    "* n_clusters=6 possibly over-fitted"
   ]
  },
  {
   "cell_type": "code",
   "execution_count": 18,
   "metadata": {},
   "outputs": [],
   "source": [
    "pca_df['cluster']= KMeans(n_clusters=4).fit(distance_matrix).labels_\n",
    "four_nr_clusters = pd.merge(nr_station_2017, pca_df, left_on='Terminal', right_on='Terminal')"
   ]
  },
  {
   "cell_type": "code",
   "execution_count": 19,
   "metadata": {},
   "outputs": [
    {
     "data": {
      "text/plain": [
       "<seaborn.axisgrid.FacetGrid at 0x7fa2f6274438>"
      ]
     },
     "execution_count": 19,
     "metadata": {},
     "output_type": "execute_result"
    },
    {
     "data": {
      "image/png": "[encoded data removed]",
      "text/plain": [
       "<matplotlib.figure.Figure at 0x7fa2f62b9a58>"
      ]
     },
     "metadata": {},
     "output_type": "display_data"
    }
   ],
   "source": [
    "# Stations based on coordinates and clusters\n",
    "sns.lmplot(x='Longitude', y='Latitude', hue='cluster', data=four_nr_clusters, fit_reg=False, size=7)"
   ]
  },
  {
   "cell_type": "code",
   "execution_count": 20,
   "metadata": {},
   "outputs": [],
   "source": [
    "pca_df['cluster']= KMeans(n_clusters=5).fit(distance_matrix).labels_\n",
    "five_nr_clusters = pd.merge(nr_station_2017, pca_df, left_on='Terminal', right_on='Terminal')"
   ]
  },
  {
   "cell_type": "code",
   "execution_count": 21,
   "metadata": {},
   "outputs": [
    {
     "data": {
      "text/plain": [
       "<seaborn.axisgrid.FacetGrid at 0x7fa2f7761198>"
      ]
     },
     "execution_count": 21,
     "metadata": {},
     "output_type": "execute_result"
    },
    {
     "data": {
      "image/png": "[encoded data removed]",
      "text/plain": [
       "<matplotlib.figure.Figure at 0x7fa2f622b278>"
      ]
     },
     "metadata": {},
     "output_type": "display_data"
    }
   ],
   "source": [
    "# Stations based on coordinates and clusters\n",
    "sns.lmplot(x='Longitude', y='Latitude', hue='cluster', data=five_nr_clusters, fit_reg=False, size=7)"
   ]
  },
  {
   "cell_type": "code",
   "execution_count": 22,
   "metadata": {},
   "outputs": [],
   "source": [
    "pca_df['cluster']= KMeans(n_clusters=6).fit(distance_matrix).labels_\n",
    "six_nr_clusters = pd.merge(nr_station_2017, pca_df, left_on='Terminal', right_on='Terminal')"
   ]
  },
  {
   "cell_type": "code",
   "execution_count": 23,
   "metadata": {
    "scrolled": false
   },
   "outputs": [
    {
     "data": {
      "text/plain": [
       "<seaborn.axisgrid.FacetGrid at 0x7fa305a4ba58>"
      ]
     },
     "execution_count": 23,
     "metadata": {},
     "output_type": "execute_result"
    },
    {
     "data": {
      "image/png": "[encoded data removed]",
      "text/plain": [
       "<matplotlib.figure.Figure at 0x7fa2fc081978>"
      ]
     },
     "metadata": {},
     "output_type": "display_data"
    }
   ],
   "source": [
    "# Stations based on coordinates and clusters\n",
    "sns.lmplot(x='Longitude', y='Latitude', hue='cluster', data=six_nr_clusters, fit_reg=False, size=7)"
   ]
  },
  {
   "cell_type": "code",
   "execution_count": null,
   "metadata": {},
   "outputs": [],
   "source": []
  },
  {
   "cell_type": "code",
   "execution_count": 24,
   "metadata": {},
   "outputs": [
    {
     "data": {
      "text/html": [
       "<div>\n",
       "<style scoped>\n",
       "    .dataframe tbody tr th:only-of-type {\n",
       "        vertical-align: middle;\n",
       "    }\n",
       "\n",
       "    .dataframe tbody tr th {\n",
       "        vertical-align: top;\n",
       "    }\n",
       "\n",
       "    .dataframe thead th {\n",
       "        text-align: right;\n",
       "    }\n",
       "</style>\n",
       "<table border=\"1\" class=\"dataframe\">\n",
       "  <thead>\n",
       "    <tr style=\"text-align: right;\">\n",
       "      <th></th>\n",
       "      <th>Terminal</th>\n",
       "      <th>Station</th>\n",
       "      <th>Latitude</th>\n",
       "      <th>Longitude</th>\n",
       "      <th>Ndocks</th>\n",
       "      <th>x</th>\n",
       "      <th>y</th>\n",
       "      <th>cluster</th>\n",
       "    </tr>\n",
       "  </thead>\n",
       "  <tbody>\n",
       "    <tr>\n",
       "      <th>0</th>\n",
       "      <td>30000</td>\n",
       "      <td>100 Main Street SE</td>\n",
       "      <td>44.984892</td>\n",
       "      <td>-93.256551</td>\n",
       "      <td>27</td>\n",
       "      <td>-23.230553</td>\n",
       "      <td>-5.348980</td>\n",
       "      <td>5</td>\n",
       "    </tr>\n",
       "    <tr>\n",
       "      <th>1</th>\n",
       "      <td>30001</td>\n",
       "      <td>25th Street &amp; 33rd Ave S</td>\n",
       "      <td>44.957341</td>\n",
       "      <td>-93.223374</td>\n",
       "      <td>15</td>\n",
       "      <td>-4.544014</td>\n",
       "      <td>-14.150485</td>\n",
       "      <td>0</td>\n",
       "    </tr>\n",
       "    <tr>\n",
       "      <th>2</th>\n",
       "      <td>30002</td>\n",
       "      <td>Riverside Ave &amp; 23rd Ave S</td>\n",
       "      <td>44.967115</td>\n",
       "      <td>-93.240149</td>\n",
       "      <td>15</td>\n",
       "      <td>-15.734367</td>\n",
       "      <td>-12.502557</td>\n",
       "      <td>0</td>\n",
       "    </tr>\n",
       "    <tr>\n",
       "      <th>3</th>\n",
       "      <td>30003</td>\n",
       "      <td>Plymouth Ave N &amp;  N Oliver Ave</td>\n",
       "      <td>44.991412</td>\n",
       "      <td>-93.306269</td>\n",
       "      <td>15</td>\n",
       "      <td>-21.637575</td>\n",
       "      <td>19.810301</td>\n",
       "      <td>3</td>\n",
       "    </tr>\n",
       "    <tr>\n",
       "      <th>4</th>\n",
       "      <td>30004</td>\n",
       "      <td>11th Street &amp; Hennepin</td>\n",
       "      <td>44.975340</td>\n",
       "      <td>-93.278690</td>\n",
       "      <td>23</td>\n",
       "      <td>-26.821350</td>\n",
       "      <td>3.160106</td>\n",
       "      <td>5</td>\n",
       "    </tr>\n",
       "  </tbody>\n",
       "</table>\n",
       "</div>"
      ],
      "text/plain": [
       "   Terminal                         Station   Latitude  Longitude  Ndocks  \\\n",
       "0     30000              100 Main Street SE  44.984892 -93.256551      27   \n",
       "1     30001        25th Street & 33rd Ave S  44.957341 -93.223374      15   \n",
       "2     30002      Riverside Ave & 23rd Ave S  44.967115 -93.240149      15   \n",
       "3     30003  Plymouth Ave N &  N Oliver Ave  44.991412 -93.306269      15   \n",
       "4     30004          11th Street & Hennepin  44.975340 -93.278690      23   \n",
       "\n",
       "           x          y  cluster  \n",
       "0 -23.230553  -5.348980        5  \n",
       "1  -4.544014 -14.150485        0  \n",
       "2 -15.734367 -12.502557        0  \n",
       "3 -21.637575  19.810301        3  \n",
       "4 -26.821350   3.160106        5  "
      ]
     },
     "execution_count": 24,
     "metadata": {},
     "output_type": "execute_result"
    }
   ],
   "source": [
    "six_nr_clusters.head()"
   ]
  },
  {
   "cell_type": "code",
   "execution_count": 25,
   "metadata": {},
   "outputs": [
    {
     "name": "stderr",
     "output_type": "stream",
     "text": [
      "/home/grimoire/anaconda3/lib/python3.6/site-packages/IPython/core/interactiveshell.py:2728: DtypeWarning: Columns (2,5) have mixed types. Specify dtype option on import or set low_memory=False.\n",
      "  interactivity=interactivity, compiler=compiler, result=result)\n"
     ]
    }
   ],
   "source": [
    "rides_2017 = pd.read_csv(\"https://raw.githubusercontent.com/SethDKelly/NiceRideMN/master/Nice_Ride_data/2017/NiceRide_trip_history_2017.csv\")"
   ]
  },
  {
   "cell_type": "code",
   "execution_count": 26,
   "metadata": {},
   "outputs": [],
   "source": [
    "rides_df = pd.DataFrame(rides_2017)"
   ]
  },
  {
   "cell_type": "code",
   "execution_count": 27,
   "metadata": {},
   "outputs": [
    {
     "name": "stdout",
     "output_type": "stream",
     "text": [
      "<class 'pandas.core.frame.DataFrame'>\n",
      "RangeIndex: 460716 entries, 0 to 460715\n",
      "Data columns (total 8 columns):\n",
      "Start date                  460716 non-null object\n",
      "Start station               460716 non-null object\n",
      "Start station ID            460716 non-null object\n",
      "End date                    460716 non-null object\n",
      "End station                 460716 non-null object\n",
      "End station ID              460716 non-null object\n",
      "Account type                460716 non-null object\n",
      "Total duration (seconds)    460716 non-null int64\n",
      "dtypes: int64(1), object(7)\n",
      "memory usage: 28.1+ MB\n"
     ]
    },
    {
     "data": {
      "text/html": [
       "<div>\n",
       "<style scoped>\n",
       "    .dataframe tbody tr th:only-of-type {\n",
       "        vertical-align: middle;\n",
       "    }\n",
       "\n",
       "    .dataframe tbody tr th {\n",
       "        vertical-align: top;\n",
       "    }\n",
       "\n",
       "    .dataframe thead th {\n",
       "        text-align: right;\n",
       "    }\n",
       "</style>\n",
       "<table border=\"1\" class=\"dataframe\">\n",
       "  <thead>\n",
       "    <tr style=\"text-align: right;\">\n",
       "      <th></th>\n",
       "      <th>Start date</th>\n",
       "      <th>Start station</th>\n",
       "      <th>Start station ID</th>\n",
       "      <th>End date</th>\n",
       "      <th>End station</th>\n",
       "      <th>End station ID</th>\n",
       "      <th>Account type</th>\n",
       "      <th>Total duration (seconds)</th>\n",
       "    </tr>\n",
       "  </thead>\n",
       "  <tbody>\n",
       "    <tr>\n",
       "      <th>0</th>\n",
       "      <td>11/5/2017 21:45</td>\n",
       "      <td>Hennepin Ave &amp; S Washington Ave</td>\n",
       "      <td>30184</td>\n",
       "      <td>11/5/2017 22:02</td>\n",
       "      <td>Logan Park</td>\n",
       "      <td>30104</td>\n",
       "      <td>Member</td>\n",
       "      <td>1048</td>\n",
       "    </tr>\n",
       "    <tr>\n",
       "      <th>1</th>\n",
       "      <td>11/5/2017 21:45</td>\n",
       "      <td>Broadway Street N &amp; 4th Street E</td>\n",
       "      <td>30122</td>\n",
       "      <td>11/5/2017 22:26</td>\n",
       "      <td>Broadway Street N &amp; 4th Street E</td>\n",
       "      <td>30122</td>\n",
       "      <td>Member</td>\n",
       "      <td>2513</td>\n",
       "    </tr>\n",
       "    <tr>\n",
       "      <th>2</th>\n",
       "      <td>11/5/2017 21:43</td>\n",
       "      <td>Dale Street &amp; Grand Ave.</td>\n",
       "      <td>30106</td>\n",
       "      <td>11/5/2017 22:13</td>\n",
       "      <td>N Milton Street &amp; Summit Ave</td>\n",
       "      <td>30101</td>\n",
       "      <td>Member</td>\n",
       "      <td>1817</td>\n",
       "    </tr>\n",
       "    <tr>\n",
       "      <th>3</th>\n",
       "      <td>11/5/2017 21:41</td>\n",
       "      <td>Weisman Art Museum</td>\n",
       "      <td>30183</td>\n",
       "      <td>11/5/2017 22:05</td>\n",
       "      <td>22nd Ave S &amp; Franklin Ave</td>\n",
       "      <td>30014</td>\n",
       "      <td>Casual</td>\n",
       "      <td>1399</td>\n",
       "    </tr>\n",
       "    <tr>\n",
       "      <th>4</th>\n",
       "      <td>11/5/2017 21:38</td>\n",
       "      <td>South 2nd Street &amp; 3rd Ave S</td>\n",
       "      <td>30030</td>\n",
       "      <td>11/5/2017 21:44</td>\n",
       "      <td>6th Ave SE &amp; University Ave</td>\n",
       "      <td>30088</td>\n",
       "      <td>Member</td>\n",
       "      <td>370</td>\n",
       "    </tr>\n",
       "  </tbody>\n",
       "</table>\n",
       "</div>"
      ],
      "text/plain": [
       "        Start date                     Start station Start station ID  \\\n",
       "0  11/5/2017 21:45   Hennepin Ave & S Washington Ave            30184   \n",
       "1  11/5/2017 21:45  Broadway Street N & 4th Street E            30122   \n",
       "2  11/5/2017 21:43          Dale Street & Grand Ave.            30106   \n",
       "3  11/5/2017 21:41                Weisman Art Museum            30183   \n",
       "4  11/5/2017 21:38      South 2nd Street & 3rd Ave S            30030   \n",
       "\n",
       "          End date                       End station End station ID  \\\n",
       "0  11/5/2017 22:02                        Logan Park          30104   \n",
       "1  11/5/2017 22:26  Broadway Street N & 4th Street E          30122   \n",
       "2  11/5/2017 22:13      N Milton Street & Summit Ave          30101   \n",
       "3  11/5/2017 22:05         22nd Ave S & Franklin Ave          30014   \n",
       "4  11/5/2017 21:44       6th Ave SE & University Ave          30088   \n",
       "\n",
       "  Account type  Total duration (seconds)  \n",
       "0       Member                      1048  \n",
       "1       Member                      2513  \n",
       "2       Member                      1817  \n",
       "3       Casual                      1399  \n",
       "4       Member                       370  "
      ]
     },
     "execution_count": 27,
     "metadata": {},
     "output_type": "execute_result"
    }
   ],
   "source": [
    "rides_df.info()\n",
    "rides_df.head()"
   ]
  },
  {
   "cell_type": "markdown",
   "metadata": {},
   "source": [
    "## Data prep/cleaning"
   ]
  },
  {
   "cell_type": "code",
   "execution_count": 28,
   "metadata": {},
   "outputs": [],
   "source": [
    "rides_df['Start date'] = rides_df['Start date'].apply(lambda x: dt.datetime.strptime(x,'%m/%d/%Y %H:%M'))\n",
    "rides_df['End date'] = rides_df['End date'].apply(lambda x: dt.datetime.strptime(x,'%m/%d/%Y %H:%M'))"
   ]
  },
  {
   "cell_type": "code",
   "execution_count": 29,
   "metadata": {},
   "outputs": [],
   "source": [
    "rides_df = rides_df[rides_df['Start station ID'] != 'NRHQ']\n",
    "rides_df['Start station ID'] = rides_df['Start station ID'].astype(int)\n",
    "rides_df = rides_df[rides_df['End station ID'] != 'NRHQ']\n",
    "rides_df['End station ID'] = rides_df['End station ID'].astype(int)"
   ]
  },
  {
   "cell_type": "markdown",
   "metadata": {},
   "source": [
    "## splitting based on (non-)member"
   ]
  },
  {
   "cell_type": "code",
   "execution_count": 30,
   "metadata": {},
   "outputs": [],
   "source": [
    "member = rides_df[rides_df['Account type'] == \"Member\"]\n",
    "casual = rides_df[rides_df['Account type'] != \"Member\"]"
   ]
  },
  {
   "cell_type": "code",
   "execution_count": 31,
   "metadata": {},
   "outputs": [],
   "source": [
    "station_member = member[['Start station ID', 'Total duration (seconds)']]\n",
    "station_member = station_member.groupby(['Start station ID']).count()\n",
    "station_member = station_member.rename(columns={'Total duration (seconds)':'m_count'})"
   ]
  },
  {
   "cell_type": "code",
   "execution_count": 32,
   "metadata": {},
   "outputs": [],
   "source": [
    "casual_member = casual[['Start station ID', 'Total duration (seconds)']]\n",
    "casual_member = casual_member.groupby(['Start station ID']).count()\n",
    "casual_member = casual_member.rename(columns={'Total duration (seconds)':'c_count'})"
   ]
  },
  {
   "cell_type": "code",
   "execution_count": 39,
   "metadata": {},
   "outputs": [
    {
     "data": {
      "text/html": [
       "<div>\n",
       "<style scoped>\n",
       "    .dataframe tbody tr th:only-of-type {\n",
       "        vertical-align: middle;\n",
       "    }\n",
       "\n",
       "    .dataframe tbody tr th {\n",
       "        vertical-align: top;\n",
       "    }\n",
       "\n",
       "    .dataframe thead th {\n",
       "        text-align: right;\n",
       "    }\n",
       "</style>\n",
       "<table border=\"1\" class=\"dataframe\">\n",
       "  <thead>\n",
       "    <tr style=\"text-align: right;\">\n",
       "      <th></th>\n",
       "      <th>m_count</th>\n",
       "    </tr>\n",
       "    <tr>\n",
       "      <th>Start station ID</th>\n",
       "      <th></th>\n",
       "    </tr>\n",
       "  </thead>\n",
       "  <tbody>\n",
       "    <tr>\n",
       "      <th>30000</th>\n",
       "      <td>2878</td>\n",
       "    </tr>\n",
       "    <tr>\n",
       "      <th>30001</th>\n",
       "      <td>960</td>\n",
       "    </tr>\n",
       "    <tr>\n",
       "      <th>30002</th>\n",
       "      <td>1330</td>\n",
       "    </tr>\n",
       "    <tr>\n",
       "      <th>30003</th>\n",
       "      <td>317</td>\n",
       "    </tr>\n",
       "    <tr>\n",
       "      <th>30004</th>\n",
       "      <td>2574</td>\n",
       "    </tr>\n",
       "  </tbody>\n",
       "</table>\n",
       "</div>"
      ],
      "text/plain": [
       "                  m_count\n",
       "Start station ID         \n",
       "30000                2878\n",
       "30001                 960\n",
       "30002                1330\n",
       "30003                 317\n",
       "30004                2574"
      ]
     },
     "execution_count": 39,
     "metadata": {},
     "output_type": "execute_result"
    }
   ],
   "source": [
    "station_member.head()"
   ]
  },
  {
   "cell_type": "markdown",
   "metadata": {},
   "source": [
    "## Merging the data to our clustered dataframe"
   ]
  },
  {
   "cell_type": "code",
   "execution_count": 41,
   "metadata": {},
   "outputs": [],
   "source": [
    "six_nr_clusters = pd.merge(six_nr_clusters, station_member, left_on='Terminal', right_index=True)\n",
    "six_nr_clusters = pd.merge(six_nr_clusters, casual_member, left_on='Terminal', right_index=True)"
   ]
  },
  {
   "cell_type": "code",
   "execution_count": 42,
   "metadata": {},
   "outputs": [
    {
     "data": {
      "text/html": [
       "<div>\n",
       "<style scoped>\n",
       "    .dataframe tbody tr th:only-of-type {\n",
       "        vertical-align: middle;\n",
       "    }\n",
       "\n",
       "    .dataframe tbody tr th {\n",
       "        vertical-align: top;\n",
       "    }\n",
       "\n",
       "    .dataframe thead tr th {\n",
       "        text-align: left;\n",
       "    }\n",
       "\n",
       "    .dataframe thead tr:last-of-type th {\n",
       "        text-align: right;\n",
       "    }\n",
       "</style>\n",
       "<table border=\"1\" class=\"dataframe\">\n",
       "  <thead>\n",
       "    <tr>\n",
       "      <th></th>\n",
       "      <th></th>\n",
       "      <th colspan=\"8\" halign=\"left\">m_count</th>\n",
       "      <th colspan=\"8\" halign=\"left\">c_count</th>\n",
       "    </tr>\n",
       "    <tr>\n",
       "      <th></th>\n",
       "      <th></th>\n",
       "      <th>count</th>\n",
       "      <th>mean</th>\n",
       "      <th>std</th>\n",
       "      <th>min</th>\n",
       "      <th>25%</th>\n",
       "      <th>50%</th>\n",
       "      <th>75%</th>\n",
       "      <th>max</th>\n",
       "      <th>count</th>\n",
       "      <th>mean</th>\n",
       "      <th>std</th>\n",
       "      <th>min</th>\n",
       "      <th>25%</th>\n",
       "      <th>50%</th>\n",
       "      <th>75%</th>\n",
       "      <th>max</th>\n",
       "    </tr>\n",
       "    <tr>\n",
       "      <th></th>\n",
       "      <th>cluster</th>\n",
       "      <th></th>\n",
       "      <th></th>\n",
       "      <th></th>\n",
       "      <th></th>\n",
       "      <th></th>\n",
       "      <th></th>\n",
       "      <th></th>\n",
       "      <th></th>\n",
       "      <th></th>\n",
       "      <th></th>\n",
       "      <th></th>\n",
       "      <th></th>\n",
       "      <th></th>\n",
       "      <th></th>\n",
       "      <th></th>\n",
       "      <th></th>\n",
       "    </tr>\n",
       "  </thead>\n",
       "  <tbody>\n",
       "    <tr>\n",
       "      <th rowspan=\"2\" valign=\"top\">cluster_0</th>\n",
       "      <th>False</th>\n",
       "      <td>160.0</td>\n",
       "      <td>1087.137500</td>\n",
       "      <td>1116.181059</td>\n",
       "      <td>61.0</td>\n",
       "      <td>315.25</td>\n",
       "      <td>722.0</td>\n",
       "      <td>1493.25</td>\n",
       "      <td>6261.0</td>\n",
       "      <td>160.0</td>\n",
       "      <td>868.787500</td>\n",
       "      <td>1072.655761</td>\n",
       "      <td>31.0</td>\n",
       "      <td>267.50</td>\n",
       "      <td>527.5</td>\n",
       "      <td>1085.75</td>\n",
       "      <td>8512.0</td>\n",
       "    </tr>\n",
       "    <tr>\n",
       "      <th>True</th>\n",
       "      <td>41.0</td>\n",
       "      <td>2818.829268</td>\n",
       "      <td>2287.490130</td>\n",
       "      <td>460.0</td>\n",
       "      <td>960.00</td>\n",
       "      <td>1942.0</td>\n",
       "      <td>3404.00</td>\n",
       "      <td>9294.0</td>\n",
       "      <td>41.0</td>\n",
       "      <td>765.439024</td>\n",
       "      <td>512.714202</td>\n",
       "      <td>171.0</td>\n",
       "      <td>331.00</td>\n",
       "      <td>652.0</td>\n",
       "      <td>983.00</td>\n",
       "      <td>2071.0</td>\n",
       "    </tr>\n",
       "    <tr>\n",
       "      <th rowspan=\"2\" valign=\"top\">cluster_1</th>\n",
       "      <th>False</th>\n",
       "      <td>171.0</td>\n",
       "      <td>1623.807018</td>\n",
       "      <td>1654.343162</td>\n",
       "      <td>61.0</td>\n",
       "      <td>462.50</td>\n",
       "      <td>1139.0</td>\n",
       "      <td>2048.00</td>\n",
       "      <td>9294.0</td>\n",
       "      <td>171.0</td>\n",
       "      <td>938.713450</td>\n",
       "      <td>1035.267203</td>\n",
       "      <td>36.0</td>\n",
       "      <td>306.50</td>\n",
       "      <td>689.0</td>\n",
       "      <td>1184.00</td>\n",
       "      <td>8512.0</td>\n",
       "    </tr>\n",
       "    <tr>\n",
       "      <th>True</th>\n",
       "      <td>30.0</td>\n",
       "      <td>394.766667</td>\n",
       "      <td>223.510809</td>\n",
       "      <td>106.0</td>\n",
       "      <td>216.25</td>\n",
       "      <td>385.5</td>\n",
       "      <td>454.75</td>\n",
       "      <td>985.0</td>\n",
       "      <td>30.0</td>\n",
       "      <td>328.966667</td>\n",
       "      <td>270.134511</td>\n",
       "      <td>31.0</td>\n",
       "      <td>150.75</td>\n",
       "      <td>274.0</td>\n",
       "      <td>368.75</td>\n",
       "      <td>1183.0</td>\n",
       "    </tr>\n",
       "    <tr>\n",
       "      <th rowspan=\"2\" valign=\"top\">cluster_2</th>\n",
       "      <th>False</th>\n",
       "      <td>174.0</td>\n",
       "      <td>1598.454023</td>\n",
       "      <td>1648.646453</td>\n",
       "      <td>61.0</td>\n",
       "      <td>441.75</td>\n",
       "      <td>1051.0</td>\n",
       "      <td>1958.25</td>\n",
       "      <td>9294.0</td>\n",
       "      <td>174.0</td>\n",
       "      <td>879.954023</td>\n",
       "      <td>1017.198884</td>\n",
       "      <td>31.0</td>\n",
       "      <td>293.00</td>\n",
       "      <td>629.0</td>\n",
       "      <td>1115.50</td>\n",
       "      <td>8512.0</td>\n",
       "    </tr>\n",
       "    <tr>\n",
       "      <th>True</th>\n",
       "      <td>27.0</td>\n",
       "      <td>421.592593</td>\n",
       "      <td>320.704424</td>\n",
       "      <td>94.0</td>\n",
       "      <td>212.50</td>\n",
       "      <td>329.0</td>\n",
       "      <td>493.50</td>\n",
       "      <td>1425.0</td>\n",
       "      <td>27.0</td>\n",
       "      <td>639.888889</td>\n",
       "      <td>719.467877</td>\n",
       "      <td>66.0</td>\n",
       "      <td>260.50</td>\n",
       "      <td>319.0</td>\n",
       "      <td>936.00</td>\n",
       "      <td>3185.0</td>\n",
       "    </tr>\n",
       "    <tr>\n",
       "      <th rowspan=\"2\" valign=\"top\">cluster_3</th>\n",
       "      <th>False</th>\n",
       "      <td>181.0</td>\n",
       "      <td>1568.657459</td>\n",
       "      <td>1623.944609</td>\n",
       "      <td>94.0</td>\n",
       "      <td>454.00</td>\n",
       "      <td>1035.0</td>\n",
       "      <td>1948.00</td>\n",
       "      <td>9294.0</td>\n",
       "      <td>181.0</td>\n",
       "      <td>914.524862</td>\n",
       "      <td>1013.459244</td>\n",
       "      <td>31.0</td>\n",
       "      <td>308.00</td>\n",
       "      <td>661.0</td>\n",
       "      <td>1168.00</td>\n",
       "      <td>8512.0</td>\n",
       "    </tr>\n",
       "    <tr>\n",
       "      <th>True</th>\n",
       "      <td>20.0</td>\n",
       "      <td>279.350000</td>\n",
       "      <td>182.466226</td>\n",
       "      <td>61.0</td>\n",
       "      <td>159.50</td>\n",
       "      <td>249.0</td>\n",
       "      <td>342.00</td>\n",
       "      <td>818.0</td>\n",
       "      <td>20.0</td>\n",
       "      <td>243.000000</td>\n",
       "      <td>206.225732</td>\n",
       "      <td>36.0</td>\n",
       "      <td>82.50</td>\n",
       "      <td>165.5</td>\n",
       "      <td>355.75</td>\n",
       "      <td>713.0</td>\n",
       "    </tr>\n",
       "    <tr>\n",
       "      <th rowspan=\"2\" valign=\"top\">cluster_4</th>\n",
       "      <th>False</th>\n",
       "      <td>180.0</td>\n",
       "      <td>1487.988889</td>\n",
       "      <td>1663.086701</td>\n",
       "      <td>61.0</td>\n",
       "      <td>349.50</td>\n",
       "      <td>891.0</td>\n",
       "      <td>1941.25</td>\n",
       "      <td>9294.0</td>\n",
       "      <td>180.0</td>\n",
       "      <td>762.611111</td>\n",
       "      <td>739.806802</td>\n",
       "      <td>31.0</td>\n",
       "      <td>269.00</td>\n",
       "      <td>508.5</td>\n",
       "      <td>1058.50</td>\n",
       "      <td>5422.0</td>\n",
       "    </tr>\n",
       "    <tr>\n",
       "      <th>True</th>\n",
       "      <td>21.0</td>\n",
       "      <td>1032.190476</td>\n",
       "      <td>559.938266</td>\n",
       "      <td>239.0</td>\n",
       "      <td>507.00</td>\n",
       "      <td>983.0</td>\n",
       "      <td>1374.00</td>\n",
       "      <td>2231.0</td>\n",
       "      <td>21.0</td>\n",
       "      <td>1577.095238</td>\n",
       "      <td>2041.600889</td>\n",
       "      <td>178.0</td>\n",
       "      <td>510.00</td>\n",
       "      <td>763.0</td>\n",
       "      <td>1200.00</td>\n",
       "      <td>8512.0</td>\n",
       "    </tr>\n",
       "    <tr>\n",
       "      <th rowspan=\"2\" valign=\"top\">cluster_5</th>\n",
       "      <th>False</th>\n",
       "      <td>139.0</td>\n",
       "      <td>1194.683453</td>\n",
       "      <td>1661.862588</td>\n",
       "      <td>61.0</td>\n",
       "      <td>275.50</td>\n",
       "      <td>508.0</td>\n",
       "      <td>1352.00</td>\n",
       "      <td>9294.0</td>\n",
       "      <td>139.0</td>\n",
       "      <td>694.302158</td>\n",
       "      <td>989.038661</td>\n",
       "      <td>31.0</td>\n",
       "      <td>215.00</td>\n",
       "      <td>396.0</td>\n",
       "      <td>857.50</td>\n",
       "      <td>8512.0</td>\n",
       "    </tr>\n",
       "    <tr>\n",
       "      <th>True</th>\n",
       "      <td>62.0</td>\n",
       "      <td>1991.177419</td>\n",
       "      <td>1260.620580</td>\n",
       "      <td>206.0</td>\n",
       "      <td>1108.50</td>\n",
       "      <td>1666.0</td>\n",
       "      <td>2565.50</td>\n",
       "      <td>6261.0</td>\n",
       "      <td>62.0</td>\n",
       "      <td>1191.629032</td>\n",
       "      <td>889.019025</td>\n",
       "      <td>160.0</td>\n",
       "      <td>666.25</td>\n",
       "      <td>1016.5</td>\n",
       "      <td>1529.75</td>\n",
       "      <td>5422.0</td>\n",
       "    </tr>\n",
       "  </tbody>\n",
       "</table>\n",
       "</div>"
      ],
      "text/plain": [
       "                  m_count                                                    \\\n",
       "                    count         mean          std    min      25%     50%   \n",
       "          cluster                                                             \n",
       "cluster_0 False     160.0  1087.137500  1116.181059   61.0   315.25   722.0   \n",
       "          True       41.0  2818.829268  2287.490130  460.0   960.00  1942.0   \n",
       "cluster_1 False     171.0  1623.807018  1654.343162   61.0   462.50  1139.0   \n",
       "          True       30.0   394.766667   223.510809  106.0   216.25   385.5   \n",
       "cluster_2 False     174.0  1598.454023  1648.646453   61.0   441.75  1051.0   \n",
       "          True       27.0   421.592593   320.704424   94.0   212.50   329.0   \n",
       "cluster_3 False     181.0  1568.657459  1623.944609   94.0   454.00  1035.0   \n",
       "          True       20.0   279.350000   182.466226   61.0   159.50   249.0   \n",
       "cluster_4 False     180.0  1487.988889  1663.086701   61.0   349.50   891.0   \n",
       "          True       21.0  1032.190476   559.938266  239.0   507.00   983.0   \n",
       "cluster_5 False     139.0  1194.683453  1661.862588   61.0   275.50   508.0   \n",
       "          True       62.0  1991.177419  1260.620580  206.0  1108.50  1666.0   \n",
       "\n",
       "                                   c_count                                   \\\n",
       "                       75%     max   count         mean          std    min   \n",
       "          cluster                                                             \n",
       "cluster_0 False    1493.25  6261.0   160.0   868.787500  1072.655761   31.0   \n",
       "          True     3404.00  9294.0    41.0   765.439024   512.714202  171.0   \n",
       "cluster_1 False    2048.00  9294.0   171.0   938.713450  1035.267203   36.0   \n",
       "          True      454.75   985.0    30.0   328.966667   270.134511   31.0   \n",
       "cluster_2 False    1958.25  9294.0   174.0   879.954023  1017.198884   31.0   \n",
       "          True      493.50  1425.0    27.0   639.888889   719.467877   66.0   \n",
       "cluster_3 False    1948.00  9294.0   181.0   914.524862  1013.459244   31.0   \n",
       "          True      342.00   818.0    20.0   243.000000   206.225732   36.0   \n",
       "cluster_4 False    1941.25  9294.0   180.0   762.611111   739.806802   31.0   \n",
       "          True     1374.00  2231.0    21.0  1577.095238  2041.600889  178.0   \n",
       "cluster_5 False    1352.00  9294.0   139.0   694.302158   989.038661   31.0   \n",
       "          True     2565.50  6261.0    62.0  1191.629032   889.019025  160.0   \n",
       "\n",
       "                                                    \n",
       "                      25%     50%      75%     max  \n",
       "          cluster                                   \n",
       "cluster_0 False    267.50   527.5  1085.75  8512.0  \n",
       "          True     331.00   652.0   983.00  2071.0  \n",
       "cluster_1 False    306.50   689.0  1184.00  8512.0  \n",
       "          True     150.75   274.0   368.75  1183.0  \n",
       "cluster_2 False    293.00   629.0  1115.50  8512.0  \n",
       "          True     260.50   319.0   936.00  3185.0  \n",
       "cluster_3 False    308.00   661.0  1168.00  8512.0  \n",
       "          True      82.50   165.5   355.75   713.0  \n",
       "cluster_4 False    269.00   508.5  1058.50  5422.0  \n",
       "          True     510.00   763.0  1200.00  8512.0  \n",
       "cluster_5 False    215.00   396.0   857.50  8512.0  \n",
       "          True     666.25  1016.5  1529.75  5422.0  "
      ]
     },
     "execution_count": 42,
     "metadata": {},
     "output_type": "execute_result"
    }
   ],
   "source": [
    "temp = defaultdict()\n",
    "for x in np.unique(six_nr_clusters.cluster.values) :\n",
    "    temp['cluster_'+str(x)] = six_nr_clusters.groupby(six_nr_clusters.cluster==x)[['m_count', 'c_count']].describe()\n",
    "cluster_describe = pd.concat(temp)\n",
    "cluster_describe"
   ]
  },
  {
   "cell_type": "code",
   "execution_count": 43,
   "metadata": {},
   "outputs": [
    {
     "data": {
      "text/html": [
       "<div>\n",
       "<style scoped>\n",
       "    .dataframe tbody tr th:only-of-type {\n",
       "        vertical-align: middle;\n",
       "    }\n",
       "\n",
       "    .dataframe tbody tr th {\n",
       "        vertical-align: top;\n",
       "    }\n",
       "\n",
       "    .dataframe thead th {\n",
       "        text-align: right;\n",
       "    }\n",
       "</style>\n",
       "<table border=\"1\" class=\"dataframe\">\n",
       "  <thead>\n",
       "    <tr style=\"text-align: right;\">\n",
       "      <th></th>\n",
       "      <th>Terminal</th>\n",
       "      <th>Station</th>\n",
       "      <th>Latitude</th>\n",
       "      <th>Longitude</th>\n",
       "      <th>Ndocks</th>\n",
       "      <th>x</th>\n",
       "      <th>y</th>\n",
       "      <th>cluster</th>\n",
       "      <th>m_count</th>\n",
       "      <th>c_count</th>\n",
       "    </tr>\n",
       "  </thead>\n",
       "  <tbody>\n",
       "    <tr>\n",
       "      <th>0</th>\n",
       "      <td>30000</td>\n",
       "      <td>100 Main Street SE</td>\n",
       "      <td>44.984892</td>\n",
       "      <td>-93.256551</td>\n",
       "      <td>27</td>\n",
       "      <td>-23.230553</td>\n",
       "      <td>-5.348980</td>\n",
       "      <td>5</td>\n",
       "      <td>2878</td>\n",
       "      <td>5422</td>\n",
       "    </tr>\n",
       "    <tr>\n",
       "      <th>1</th>\n",
       "      <td>30001</td>\n",
       "      <td>25th Street &amp; 33rd Ave S</td>\n",
       "      <td>44.957341</td>\n",
       "      <td>-93.223374</td>\n",
       "      <td>15</td>\n",
       "      <td>-4.544014</td>\n",
       "      <td>-14.150485</td>\n",
       "      <td>0</td>\n",
       "      <td>960</td>\n",
       "      <td>618</td>\n",
       "    </tr>\n",
       "    <tr>\n",
       "      <th>2</th>\n",
       "      <td>30002</td>\n",
       "      <td>Riverside Ave &amp; 23rd Ave S</td>\n",
       "      <td>44.967115</td>\n",
       "      <td>-93.240149</td>\n",
       "      <td>15</td>\n",
       "      <td>-15.734367</td>\n",
       "      <td>-12.502557</td>\n",
       "      <td>0</td>\n",
       "      <td>1330</td>\n",
       "      <td>386</td>\n",
       "    </tr>\n",
       "    <tr>\n",
       "      <th>3</th>\n",
       "      <td>30003</td>\n",
       "      <td>Plymouth Ave N &amp;  N Oliver Ave</td>\n",
       "      <td>44.991412</td>\n",
       "      <td>-93.306269</td>\n",
       "      <td>15</td>\n",
       "      <td>-21.637575</td>\n",
       "      <td>19.810301</td>\n",
       "      <td>3</td>\n",
       "      <td>317</td>\n",
       "      <td>81</td>\n",
       "    </tr>\n",
       "    <tr>\n",
       "      <th>4</th>\n",
       "      <td>30004</td>\n",
       "      <td>11th Street &amp; Hennepin</td>\n",
       "      <td>44.975340</td>\n",
       "      <td>-93.278690</td>\n",
       "      <td>23</td>\n",
       "      <td>-26.821350</td>\n",
       "      <td>3.160106</td>\n",
       "      <td>5</td>\n",
       "      <td>2574</td>\n",
       "      <td>1514</td>\n",
       "    </tr>\n",
       "  </tbody>\n",
       "</table>\n",
       "</div>"
      ],
      "text/plain": [
       "   Terminal                         Station   Latitude  Longitude  Ndocks  \\\n",
       "0     30000              100 Main Street SE  44.984892 -93.256551      27   \n",
       "1     30001        25th Street & 33rd Ave S  44.957341 -93.223374      15   \n",
       "2     30002      Riverside Ave & 23rd Ave S  44.967115 -93.240149      15   \n",
       "3     30003  Plymouth Ave N &  N Oliver Ave  44.991412 -93.306269      15   \n",
       "4     30004          11th Street & Hennepin  44.975340 -93.278690      23   \n",
       "\n",
       "           x          y  cluster  m_count  c_count  \n",
       "0 -23.230553  -5.348980        5     2878     5422  \n",
       "1  -4.544014 -14.150485        0      960      618  \n",
       "2 -15.734367 -12.502557        0     1330      386  \n",
       "3 -21.637575  19.810301        3      317       81  \n",
       "4 -26.821350   3.160106        5     2574     1514  "
      ]
     },
     "execution_count": 43,
     "metadata": {},
     "output_type": "execute_result"
    }
   ],
   "source": [
    "six_nr_clusters.head()"
   ]
  },
  {
   "cell_type": "code",
   "execution_count": 44,
   "metadata": {},
   "outputs": [],
   "source": [
    "# This will find member mean rides per terminal per cluster\n",
    "cluster_summary = pd.DataFrame(columns=['terminals', 'tot_rides', 'm_rides', 'c_rides', 'mem_term', \\\n",
    "                                        'cas_term', 'pct_mem_rides'],\\\n",
    "                    index=['Cluster_'+str(x) for x in np.unique(six_nr_clusters.cluster.values)])\n",
    "\n",
    "for x in np.unique(six_nr_clusters.cluster.values) :\n",
    "    #build arrays by cluster to work with\n",
    "    member_array = six_nr_clusters[six_nr_clusters.cluster == x].m_count.values\n",
    "    casual_array = six_nr_clusters[six_nr_clusters.cluster == x].c_count.values\n",
    "    total_array = np.sum(member_array) + np.sum(casual_array)\n",
    "    \n",
    "    cluster_summary.loc['Cluster_'+str(x), 'terminals'] = len(member_array)\n",
    "    cluster_summary.loc['Cluster_'+str(x), 'tot_rides'] = member_array.sum() + casual_array.sum()\n",
    "    cluster_summary.loc['Cluster_'+str(x), 'm_rides'] = member_array.sum()\n",
    "    cluster_summary.loc['Cluster_'+str(x), 'c_rides'] = casual_array.sum()\n",
    "    cluster_summary.loc['Cluster_'+str(x), 'mem_term'] = member_array.sum()/len(member_array)\n",
    "    cluster_summary.loc['Cluster_'+str(x), 'cas_term'] = casual_array.sum()/len(casual_array)\n",
    "    cluster_summary.loc['Cluster_'+str(x), 'pct_mem_rides'] = (member_array.sum()/total_array.sum())*100"
   ]
  },
  {
   "cell_type": "code",
   "execution_count": 45,
   "metadata": {},
   "outputs": [
    {
     "data": {
      "text/html": [
       "<div>\n",
       "<style scoped>\n",
       "    .dataframe tbody tr th:only-of-type {\n",
       "        vertical-align: middle;\n",
       "    }\n",
       "\n",
       "    .dataframe tbody tr th {\n",
       "        vertical-align: top;\n",
       "    }\n",
       "\n",
       "    .dataframe thead th {\n",
       "        text-align: right;\n",
       "    }\n",
       "</style>\n",
       "<table border=\"1\" class=\"dataframe\">\n",
       "  <thead>\n",
       "    <tr style=\"text-align: right;\">\n",
       "      <th></th>\n",
       "      <th>terminals</th>\n",
       "      <th>tot_rides</th>\n",
       "      <th>m_rides</th>\n",
       "      <th>c_rides</th>\n",
       "      <th>mem_term</th>\n",
       "      <th>cas_term</th>\n",
       "      <th>pct_mem_rides</th>\n",
       "    </tr>\n",
       "  </thead>\n",
       "  <tbody>\n",
       "    <tr>\n",
       "      <th>Cluster_0</th>\n",
       "      <td>41</td>\n",
       "      <td>146955</td>\n",
       "      <td>115572</td>\n",
       "      <td>31383</td>\n",
       "      <td>2818.83</td>\n",
       "      <td>765.439</td>\n",
       "      <td>78.6445</td>\n",
       "    </tr>\n",
       "    <tr>\n",
       "      <th>Cluster_1</th>\n",
       "      <td>30</td>\n",
       "      <td>21712</td>\n",
       "      <td>11843</td>\n",
       "      <td>9869</td>\n",
       "      <td>394.767</td>\n",
       "      <td>328.967</td>\n",
       "      <td>54.5459</td>\n",
       "    </tr>\n",
       "    <tr>\n",
       "      <th>Cluster_2</th>\n",
       "      <td>27</td>\n",
       "      <td>28660</td>\n",
       "      <td>11383</td>\n",
       "      <td>17277</td>\n",
       "      <td>421.593</td>\n",
       "      <td>639.889</td>\n",
       "      <td>39.7174</td>\n",
       "    </tr>\n",
       "    <tr>\n",
       "      <th>Cluster_3</th>\n",
       "      <td>20</td>\n",
       "      <td>10447</td>\n",
       "      <td>5587</td>\n",
       "      <td>4860</td>\n",
       "      <td>279.35</td>\n",
       "      <td>243</td>\n",
       "      <td>53.4795</td>\n",
       "    </tr>\n",
       "    <tr>\n",
       "      <th>Cluster_4</th>\n",
       "      <td>21</td>\n",
       "      <td>54795</td>\n",
       "      <td>21676</td>\n",
       "      <td>33119</td>\n",
       "      <td>1032.19</td>\n",
       "      <td>1577.1</td>\n",
       "      <td>39.5584</td>\n",
       "    </tr>\n",
       "    <tr>\n",
       "      <th>Cluster_5</th>\n",
       "      <td>62</td>\n",
       "      <td>197334</td>\n",
       "      <td>123453</td>\n",
       "      <td>73881</td>\n",
       "      <td>1991.18</td>\n",
       "      <td>1191.63</td>\n",
       "      <td>62.5604</td>\n",
       "    </tr>\n",
       "  </tbody>\n",
       "</table>\n",
       "</div>"
      ],
      "text/plain": [
       "          terminals tot_rides m_rides c_rides mem_term cas_term pct_mem_rides\n",
       "Cluster_0        41    146955  115572   31383  2818.83  765.439       78.6445\n",
       "Cluster_1        30     21712   11843    9869  394.767  328.967       54.5459\n",
       "Cluster_2        27     28660   11383   17277  421.593  639.889       39.7174\n",
       "Cluster_3        20     10447    5587    4860   279.35      243       53.4795\n",
       "Cluster_4        21     54795   21676   33119  1032.19   1577.1       39.5584\n",
       "Cluster_5        62    197334  123453   73881  1991.18  1191.63       62.5604"
      ]
     },
     "execution_count": 45,
     "metadata": {},
     "output_type": "execute_result"
    }
   ],
   "source": [
    "cluster_summary\n",
    "# possible to add arc-distance (Lat-Long) square miles"
   ]
  },
  {
   "cell_type": "code",
   "execution_count": 46,
   "metadata": {},
   "outputs": [
    {
     "data": {
      "text/plain": [
       "<seaborn.axisgrid.FacetGrid at 0x7fa2eff13c88>"
      ]
     },
     "execution_count": 46,
     "metadata": {},
     "output_type": "execute_result"
    },
    {
     "data": {
      "image/png": "[encoded data removed]",
      "text/plain": [
       "<matplotlib.figure.Figure at 0x7fa2eff13438>"
      ]
     },
     "metadata": {},
     "output_type": "display_data"
    }
   ],
   "source": [
    "# Stations based on coordinates and clusters\n",
    "sns.lmplot(x='Longitude', y='Latitude', hue='cluster', data=six_nr_clusters, fit_reg=False, size=7)"
   ]
  },
  {
   "cell_type": "markdown",
   "metadata": {},
   "source": [
    "## Intra-cluster travel\n",
    "## Trans-cluster travel"
   ]
  },
  {
   "cell_type": "markdown",
   "metadata": {},
   "source": [
    "## Matrix by station-station travel"
   ]
  }
 ],
 "metadata": {
  "kernelspec": {
   "display_name": "Python 3",
   "language": "python",
   "name": "python3"
  },
  "language_info": {
   "codemirror_mode": {
    "name": "ipython",
    "version": 3
   },
   "file_extension": ".py",
   "mimetype": "text/x-python",
   "name": "python",
   "nbconvert_exporter": "python",
   "pygments_lexer": "ipython3",
   "version": "3.6.4"
  }
 },
 "nbformat": 4,
 "nbformat_minor": 2
}
