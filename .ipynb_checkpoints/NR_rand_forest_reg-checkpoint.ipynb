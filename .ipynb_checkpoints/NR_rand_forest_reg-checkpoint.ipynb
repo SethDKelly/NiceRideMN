{
 "cells": [
  {
   "cell_type": "code",
   "execution_count": 1,
   "metadata": {},
   "outputs": [],
   "source": [
    "# importing dependencies\n",
    "import numpy as np\n",
    "import pandas as pd\n",
    "import datetime as dt\n",
    "import matplotlib.pyplot as plt\n",
    "\n",
    "# For model building\n",
    "from sklearn.model_selection import train_test_split, cross_val_score\n",
    "\n",
    "# Models\n",
    "from sklearn.ensemble import RandomForestRegressor"
   ]
  },
  {
   "cell_type": "markdown",
   "metadata": {},
   "source": [
    "## This notebook will be used for building a random forest in python."
   ]
  },
  {
   "cell_type": "markdown",
   "metadata": {},
   "source": [
    "Loading in the data to be used"
   ]
  },
  {
   "cell_type": "code",
   "execution_count": 2,
   "metadata": {},
   "outputs": [
    {
     "name": "stderr",
     "output_type": "stream",
     "text": [
      "/home/grimoire/anaconda3/lib/python3.6/site-packages/IPython/core/interactiveshell.py:2728: DtypeWarning: Columns (2,5) have mixed types. Specify dtype option on import or set low_memory=False.\n",
      "  interactivity=interactivity, compiler=compiler, result=result)\n"
     ]
    }
   ],
   "source": [
    "# Load in the data\n",
    "weather = pd.read_csv(\"~/Projects/NiceRide/Weather_data/01012010_12312017.csv\") # Weather data\n",
    "\n",
    "temp = []\n",
    "for x in [2010 + x for x in range(8)] :\n",
    "#   add dtype declaration to remove warning\n",
    "    x = pd.read_csv(\"~/Projects/NiceRide/Nice_Ride_data/\"+str(x)+\"/NiceRide_trip_history_\"+str(x)+\".csv\")\n",
    "                   # dtype = {\"Start station ID\" : pd.int64, \"End station ID\" : pd.int64, \"Account type\": pd.Categorical}\n",
    "    temp.append(x)\n",
    "    nr = pd.concat(temp)"
   ]
  },
  {
   "cell_type": "code",
   "execution_count": 3,
   "metadata": {},
   "outputs": [],
   "source": [
    "# Changing dates from objects into datetimes\n",
    "weather['DATE'] = weather['DATE'].apply(lambda x: dt.datetime.strptime(x,'%Y-%m-%d'))\n",
    "\n",
    "nr['Start date'] = nr['Start date'].apply(lambda x: dt.datetime.strptime(x,'%m/%d/%Y %H:%M'))\n",
    "nr['End date'] = nr['End date'].apply(lambda x: dt.datetime.strptime(x,'%m/%d/%Y %H:%M'))"
   ]
  },
  {
   "cell_type": "markdown",
   "metadata": {},
   "source": [
    "Correcting missing data in the weather dataframe"
   ]
  },
  {
   "cell_type": "code",
   "execution_count": 4,
   "metadata": {},
   "outputs": [],
   "source": [
    "# Changing TAVG-NAN values to the mean of the TMAX and TMIN\n",
    "weather = weather.fillna(value={'TAVG': weather[weather.TAVG.isna()][['TMAX', 'TMIN']]\n",
    "                                .agg(\"mean\", axis=\"columns\")})"
   ]
  },
  {
   "cell_type": "markdown",
   "metadata": {},
   "source": [
    "### Preparing the data to be used for the model"
   ]
  },
  {
   "cell_type": "code",
   "execution_count": 5,
   "metadata": {},
   "outputs": [],
   "source": [
    "# Resampling our NR data so it takes the start date and Total duration, returns a count of rides per day 'daily_totals'\n",
    "\n",
    "daily_totals = nr[['Start date', 'Total duration (seconds)']].resample('D', on='Start date').count()\n",
    "daily_totals = daily_totals.drop('Start date', axis=1)\n",
    "daily_totals = daily_totals.reset_index()\n",
    "daily_totals = daily_totals.rename(index=str, columns={\"Total duration (seconds)\": \"DCOUNT\",'Start date':'DATE'})"
   ]
  },
  {
   "cell_type": "code",
   "execution_count": 6,
   "metadata": {},
   "outputs": [
    {
     "name": "stdout",
     "output_type": "stream",
     "text": [
      "        DATE  DCOUNT\n",
      "0 2010-06-07       1\n",
      "1 2010-06-08       2\n",
      "2 2010-06-09       7\n",
      "3 2010-06-10     104\n",
      "4 2010-06-11     287\n",
      "            DCOUNT\n",
      "count  2709.000000\n",
      "mean    994.531931\n",
      "std    1058.519993\n",
      "min       0.000000\n",
      "25%       0.000000\n",
      "50%     722.000000\n",
      "75%    1732.000000\n",
      "max    5625.000000\n"
     ]
    }
   ],
   "source": [
    "print(daily_totals.head())\n",
    "print(daily_totals.describe())"
   ]
  },
  {
   "cell_type": "markdown",
   "metadata": {},
   "source": [
    "The daily totals DataFrame looks good"
   ]
  },
  {
   "cell_type": "code",
   "execution_count": 7,
   "metadata": {},
   "outputs": [
    {
     "name": "stdout",
     "output_type": "stream",
     "text": [
      "Index(['STATION', 'NAME', 'DATE', 'AWND', 'PRCP', 'SNOW', 'SNWD', 'TAVG',\n",
      "       'TMAX', 'TMIN'],\n",
      "      dtype='object')\n"
     ]
    }
   ],
   "source": [
    "print(weather.keys())\n",
    "# The weather station and name won't be necessary or add anything to our analysis\n",
    "weather = weather.drop(['STATION', 'NAME'], axis=1)"
   ]
  },
  {
   "cell_type": "code",
   "execution_count": 8,
   "metadata": {},
   "outputs": [
    {
     "data": {
      "text/html": [
       "<div>\n",
       "<style scoped>\n",
       "    .dataframe tbody tr th:only-of-type {\n",
       "        vertical-align: middle;\n",
       "    }\n",
       "\n",
       "    .dataframe tbody tr th {\n",
       "        vertical-align: top;\n",
       "    }\n",
       "\n",
       "    .dataframe thead th {\n",
       "        text-align: right;\n",
       "    }\n",
       "</style>\n",
       "<table border=\"1\" class=\"dataframe\">\n",
       "  <thead>\n",
       "    <tr style=\"text-align: right;\">\n",
       "      <th></th>\n",
       "      <th>DATE</th>\n",
       "      <th>AWND</th>\n",
       "      <th>PRCP</th>\n",
       "      <th>SNOW</th>\n",
       "      <th>SNWD</th>\n",
       "      <th>TAVG</th>\n",
       "      <th>TMAX</th>\n",
       "      <th>TMIN</th>\n",
       "    </tr>\n",
       "  </thead>\n",
       "  <tbody>\n",
       "    <tr>\n",
       "      <th>0</th>\n",
       "      <td>2010-01-01</td>\n",
       "      <td>8.95</td>\n",
       "      <td>0.0</td>\n",
       "      <td>0.0</td>\n",
       "      <td>9</td>\n",
       "      <td>-1.5</td>\n",
       "      <td>6</td>\n",
       "      <td>-9</td>\n",
       "    </tr>\n",
       "    <tr>\n",
       "      <th>1</th>\n",
       "      <td>2010-01-02</td>\n",
       "      <td>4.03</td>\n",
       "      <td>0.0</td>\n",
       "      <td>0.0</td>\n",
       "      <td>9</td>\n",
       "      <td>-7.0</td>\n",
       "      <td>1</td>\n",
       "      <td>-15</td>\n",
       "    </tr>\n",
       "    <tr>\n",
       "      <th>2</th>\n",
       "      <td>2010-01-03</td>\n",
       "      <td>2.91</td>\n",
       "      <td>0.0</td>\n",
       "      <td>0.0</td>\n",
       "      <td>9</td>\n",
       "      <td>-3.5</td>\n",
       "      <td>7</td>\n",
       "      <td>-14</td>\n",
       "    </tr>\n",
       "    <tr>\n",
       "      <th>3</th>\n",
       "      <td>2010-01-04</td>\n",
       "      <td>5.59</td>\n",
       "      <td>0.0</td>\n",
       "      <td>0.0</td>\n",
       "      <td>9</td>\n",
       "      <td>-1.5</td>\n",
       "      <td>7</td>\n",
       "      <td>-10</td>\n",
       "    </tr>\n",
       "    <tr>\n",
       "      <th>4</th>\n",
       "      <td>2010-01-05</td>\n",
       "      <td>3.13</td>\n",
       "      <td>0.0</td>\n",
       "      <td>0.0</td>\n",
       "      <td>9</td>\n",
       "      <td>0.5</td>\n",
       "      <td>10</td>\n",
       "      <td>-9</td>\n",
       "    </tr>\n",
       "  </tbody>\n",
       "</table>\n",
       "</div>"
      ],
      "text/plain": [
       "        DATE  AWND  PRCP  SNOW  SNWD  TAVG  TMAX  TMIN\n",
       "0 2010-01-01  8.95   0.0   0.0     9  -1.5     6    -9\n",
       "1 2010-01-02  4.03   0.0   0.0     9  -7.0     1   -15\n",
       "2 2010-01-03  2.91   0.0   0.0     9  -3.5     7   -14\n",
       "3 2010-01-04  5.59   0.0   0.0     9  -1.5     7   -10\n",
       "4 2010-01-05  3.13   0.0   0.0     9   0.5    10    -9"
      ]
     },
     "execution_count": 8,
     "metadata": {},
     "output_type": "execute_result"
    }
   ],
   "source": [
    "weather.head()"
   ]
  },
  {
   "cell_type": "code",
   "execution_count": 9,
   "metadata": {},
   "outputs": [
    {
     "name": "stdout",
     "output_type": "stream",
     "text": [
      "<class 'pandas.core.frame.DataFrame'>\n",
      "Int64Index: 2922 entries, 0 to 2921\n",
      "Data columns (total 9 columns):\n",
      "DATE      2922 non-null datetime64[ns]\n",
      "AWND      2922 non-null float64\n",
      "PRCP      2922 non-null float64\n",
      "SNOW      2922 non-null float64\n",
      "SNWD      2922 non-null int64\n",
      "TAVG      2922 non-null float64\n",
      "TMAX      2922 non-null int64\n",
      "TMIN      2922 non-null int64\n",
      "DCOUNT    2709 non-null float64\n",
      "dtypes: datetime64[ns](1), float64(5), int64(3)\n",
      "memory usage: 228.3 KB\n"
     ]
    },
    {
     "data": {
      "text/html": [
       "<div>\n",
       "<style scoped>\n",
       "    .dataframe tbody tr th:only-of-type {\n",
       "        vertical-align: middle;\n",
       "    }\n",
       "\n",
       "    .dataframe tbody tr th {\n",
       "        vertical-align: top;\n",
       "    }\n",
       "\n",
       "    .dataframe thead th {\n",
       "        text-align: right;\n",
       "    }\n",
       "</style>\n",
       "<table border=\"1\" class=\"dataframe\">\n",
       "  <thead>\n",
       "    <tr style=\"text-align: right;\">\n",
       "      <th></th>\n",
       "      <th>DATE</th>\n",
       "      <th>AWND</th>\n",
       "      <th>PRCP</th>\n",
       "      <th>SNOW</th>\n",
       "      <th>SNWD</th>\n",
       "      <th>TAVG</th>\n",
       "      <th>TMAX</th>\n",
       "      <th>TMIN</th>\n",
       "      <th>DCOUNT</th>\n",
       "    </tr>\n",
       "  </thead>\n",
       "  <tbody>\n",
       "    <tr>\n",
       "      <th>0</th>\n",
       "      <td>2010-01-01</td>\n",
       "      <td>8.95</td>\n",
       "      <td>0.0</td>\n",
       "      <td>0.0</td>\n",
       "      <td>9</td>\n",
       "      <td>-1.5</td>\n",
       "      <td>6</td>\n",
       "      <td>-9</td>\n",
       "      <td>NaN</td>\n",
       "    </tr>\n",
       "    <tr>\n",
       "      <th>1</th>\n",
       "      <td>2010-01-02</td>\n",
       "      <td>4.03</td>\n",
       "      <td>0.0</td>\n",
       "      <td>0.0</td>\n",
       "      <td>9</td>\n",
       "      <td>-7.0</td>\n",
       "      <td>1</td>\n",
       "      <td>-15</td>\n",
       "      <td>NaN</td>\n",
       "    </tr>\n",
       "    <tr>\n",
       "      <th>2</th>\n",
       "      <td>2010-01-03</td>\n",
       "      <td>2.91</td>\n",
       "      <td>0.0</td>\n",
       "      <td>0.0</td>\n",
       "      <td>9</td>\n",
       "      <td>-3.5</td>\n",
       "      <td>7</td>\n",
       "      <td>-14</td>\n",
       "      <td>NaN</td>\n",
       "    </tr>\n",
       "    <tr>\n",
       "      <th>3</th>\n",
       "      <td>2010-01-04</td>\n",
       "      <td>5.59</td>\n",
       "      <td>0.0</td>\n",
       "      <td>0.0</td>\n",
       "      <td>9</td>\n",
       "      <td>-1.5</td>\n",
       "      <td>7</td>\n",
       "      <td>-10</td>\n",
       "      <td>NaN</td>\n",
       "    </tr>\n",
       "    <tr>\n",
       "      <th>4</th>\n",
       "      <td>2010-01-05</td>\n",
       "      <td>3.13</td>\n",
       "      <td>0.0</td>\n",
       "      <td>0.0</td>\n",
       "      <td>9</td>\n",
       "      <td>0.5</td>\n",
       "      <td>10</td>\n",
       "      <td>-9</td>\n",
       "      <td>NaN</td>\n",
       "    </tr>\n",
       "  </tbody>\n",
       "</table>\n",
       "</div>"
      ],
      "text/plain": [
       "        DATE  AWND  PRCP  SNOW  SNWD  TAVG  TMAX  TMIN  DCOUNT\n",
       "0 2010-01-01  8.95   0.0   0.0     9  -1.5     6    -9     NaN\n",
       "1 2010-01-02  4.03   0.0   0.0     9  -7.0     1   -15     NaN\n",
       "2 2010-01-03  2.91   0.0   0.0     9  -3.5     7   -14     NaN\n",
       "3 2010-01-04  5.59   0.0   0.0     9  -1.5     7   -10     NaN\n",
       "4 2010-01-05  3.13   0.0   0.0     9   0.5    10    -9     NaN"
      ]
     },
     "execution_count": 9,
     "metadata": {},
     "output_type": "execute_result"
    }
   ],
   "source": [
    "temp = weather.merge(daily_totals, how='outer',on='DATE')\n",
    "temp.info()\n",
    "temp.head()"
   ]
  },
  {
   "cell_type": "code",
   "execution_count": 10,
   "metadata": {},
   "outputs": [
    {
     "name": "stdout",
     "output_type": "stream",
     "text": [
      "<class 'pandas.core.frame.DataFrame'>\n",
      "Int64Index: 2922 entries, 0 to 2921\n",
      "Data columns (total 9 columns):\n",
      "DATE      2922 non-null datetime64[ns]\n",
      "AWND      2922 non-null float64\n",
      "PRCP      2922 non-null float64\n",
      "SNOW      2922 non-null float64\n",
      "SNWD      2922 non-null int64\n",
      "TAVG      2922 non-null float64\n",
      "TMAX      2922 non-null int64\n",
      "TMIN      2922 non-null int64\n",
      "DCOUNT    2922 non-null float64\n",
      "dtypes: datetime64[ns](1), float64(5), int64(3)\n",
      "memory usage: 228.3 KB\n"
     ]
    }
   ],
   "source": [
    "# Notice how the count of DCOUNT varies from what the other columns have\n",
    "features = temp.fillna(value=0,axis=0) # Where we don't have a daily count (Dcount) fill this with zeros instead\n",
    "features.info()"
   ]
  },
  {
   "cell_type": "code",
   "execution_count": 11,
   "metadata": {},
   "outputs": [
    {
     "data": {
      "text/html": [
       "<div>\n",
       "<style scoped>\n",
       "    .dataframe tbody tr th:only-of-type {\n",
       "        vertical-align: middle;\n",
       "    }\n",
       "\n",
       "    .dataframe tbody tr th {\n",
       "        vertical-align: top;\n",
       "    }\n",
       "\n",
       "    .dataframe thead th {\n",
       "        text-align: right;\n",
       "    }\n",
       "</style>\n",
       "<table border=\"1\" class=\"dataframe\">\n",
       "  <thead>\n",
       "    <tr style=\"text-align: right;\">\n",
       "      <th></th>\n",
       "      <th>DATE</th>\n",
       "      <th>AWND</th>\n",
       "      <th>PRCP</th>\n",
       "      <th>SNOW</th>\n",
       "      <th>SNWD</th>\n",
       "      <th>TAVG</th>\n",
       "      <th>TMAX</th>\n",
       "      <th>TMIN</th>\n",
       "      <th>DCOUNT</th>\n",
       "    </tr>\n",
       "  </thead>\n",
       "  <tbody>\n",
       "    <tr>\n",
       "      <th>0</th>\n",
       "      <td>2010-01-01</td>\n",
       "      <td>8.95</td>\n",
       "      <td>0.0</td>\n",
       "      <td>0.0</td>\n",
       "      <td>9</td>\n",
       "      <td>-1.5</td>\n",
       "      <td>6</td>\n",
       "      <td>-9</td>\n",
       "      <td>0.0</td>\n",
       "    </tr>\n",
       "    <tr>\n",
       "      <th>1</th>\n",
       "      <td>2010-01-02</td>\n",
       "      <td>4.03</td>\n",
       "      <td>0.0</td>\n",
       "      <td>0.0</td>\n",
       "      <td>9</td>\n",
       "      <td>-7.0</td>\n",
       "      <td>1</td>\n",
       "      <td>-15</td>\n",
       "      <td>0.0</td>\n",
       "    </tr>\n",
       "    <tr>\n",
       "      <th>2</th>\n",
       "      <td>2010-01-03</td>\n",
       "      <td>2.91</td>\n",
       "      <td>0.0</td>\n",
       "      <td>0.0</td>\n",
       "      <td>9</td>\n",
       "      <td>-3.5</td>\n",
       "      <td>7</td>\n",
       "      <td>-14</td>\n",
       "      <td>0.0</td>\n",
       "    </tr>\n",
       "    <tr>\n",
       "      <th>3</th>\n",
       "      <td>2010-01-04</td>\n",
       "      <td>5.59</td>\n",
       "      <td>0.0</td>\n",
       "      <td>0.0</td>\n",
       "      <td>9</td>\n",
       "      <td>-1.5</td>\n",
       "      <td>7</td>\n",
       "      <td>-10</td>\n",
       "      <td>0.0</td>\n",
       "    </tr>\n",
       "    <tr>\n",
       "      <th>4</th>\n",
       "      <td>2010-01-05</td>\n",
       "      <td>3.13</td>\n",
       "      <td>0.0</td>\n",
       "      <td>0.0</td>\n",
       "      <td>9</td>\n",
       "      <td>0.5</td>\n",
       "      <td>10</td>\n",
       "      <td>-9</td>\n",
       "      <td>0.0</td>\n",
       "    </tr>\n",
       "  </tbody>\n",
       "</table>\n",
       "</div>"
      ],
      "text/plain": [
       "        DATE  AWND  PRCP  SNOW  SNWD  TAVG  TMAX  TMIN  DCOUNT\n",
       "0 2010-01-01  8.95   0.0   0.0     9  -1.5     6    -9     0.0\n",
       "1 2010-01-02  4.03   0.0   0.0     9  -7.0     1   -15     0.0\n",
       "2 2010-01-03  2.91   0.0   0.0     9  -3.5     7   -14     0.0\n",
       "3 2010-01-04  5.59   0.0   0.0     9  -1.5     7   -10     0.0\n",
       "4 2010-01-05  3.13   0.0   0.0     9   0.5    10    -9     0.0"
      ]
     },
     "execution_count": 11,
     "metadata": {},
     "output_type": "execute_result"
    }
   ],
   "source": [
    "features.head()"
   ]
  },
  {
   "cell_type": "markdown",
   "metadata": {},
   "source": [
    "This next section will change our date column from dtype datetime into seperate numerical relevant date colummns"
   ]
  },
  {
   "cell_type": "code",
   "execution_count": 12,
   "metadata": {},
   "outputs": [],
   "source": [
    "features['YEAR'] = features['DATE'].dt.year\n",
    "features['MONTH'] = features['DATE'].dt.month\n",
    "features['DAY'] = features['DATE'].dt.day"
   ]
  },
  {
   "cell_type": "code",
   "execution_count": 13,
   "metadata": {
    "scrolled": true
   },
   "outputs": [
    {
     "data": {
      "text/html": [
       "<div>\n",
       "<style scoped>\n",
       "    .dataframe tbody tr th:only-of-type {\n",
       "        vertical-align: middle;\n",
       "    }\n",
       "\n",
       "    .dataframe tbody tr th {\n",
       "        vertical-align: top;\n",
       "    }\n",
       "\n",
       "    .dataframe thead th {\n",
       "        text-align: right;\n",
       "    }\n",
       "</style>\n",
       "<table border=\"1\" class=\"dataframe\">\n",
       "  <thead>\n",
       "    <tr style=\"text-align: right;\">\n",
       "      <th></th>\n",
       "      <th>DATE</th>\n",
       "      <th>AWND</th>\n",
       "      <th>PRCP</th>\n",
       "      <th>SNOW</th>\n",
       "      <th>SNWD</th>\n",
       "      <th>TAVG</th>\n",
       "      <th>TMAX</th>\n",
       "      <th>TMIN</th>\n",
       "      <th>DCOUNT</th>\n",
       "      <th>YEAR</th>\n",
       "      <th>MONTH</th>\n",
       "      <th>DAY</th>\n",
       "    </tr>\n",
       "  </thead>\n",
       "  <tbody>\n",
       "    <tr>\n",
       "      <th>0</th>\n",
       "      <td>2010-01-01</td>\n",
       "      <td>8.95</td>\n",
       "      <td>0.0</td>\n",
       "      <td>0.0</td>\n",
       "      <td>9</td>\n",
       "      <td>-1.5</td>\n",
       "      <td>6</td>\n",
       "      <td>-9</td>\n",
       "      <td>0.0</td>\n",
       "      <td>2010</td>\n",
       "      <td>1</td>\n",
       "      <td>1</td>\n",
       "    </tr>\n",
       "    <tr>\n",
       "      <th>1</th>\n",
       "      <td>2010-01-02</td>\n",
       "      <td>4.03</td>\n",
       "      <td>0.0</td>\n",
       "      <td>0.0</td>\n",
       "      <td>9</td>\n",
       "      <td>-7.0</td>\n",
       "      <td>1</td>\n",
       "      <td>-15</td>\n",
       "      <td>0.0</td>\n",
       "      <td>2010</td>\n",
       "      <td>1</td>\n",
       "      <td>2</td>\n",
       "    </tr>\n",
       "    <tr>\n",
       "      <th>2</th>\n",
       "      <td>2010-01-03</td>\n",
       "      <td>2.91</td>\n",
       "      <td>0.0</td>\n",
       "      <td>0.0</td>\n",
       "      <td>9</td>\n",
       "      <td>-3.5</td>\n",
       "      <td>7</td>\n",
       "      <td>-14</td>\n",
       "      <td>0.0</td>\n",
       "      <td>2010</td>\n",
       "      <td>1</td>\n",
       "      <td>3</td>\n",
       "    </tr>\n",
       "    <tr>\n",
       "      <th>3</th>\n",
       "      <td>2010-01-04</td>\n",
       "      <td>5.59</td>\n",
       "      <td>0.0</td>\n",
       "      <td>0.0</td>\n",
       "      <td>9</td>\n",
       "      <td>-1.5</td>\n",
       "      <td>7</td>\n",
       "      <td>-10</td>\n",
       "      <td>0.0</td>\n",
       "      <td>2010</td>\n",
       "      <td>1</td>\n",
       "      <td>4</td>\n",
       "    </tr>\n",
       "    <tr>\n",
       "      <th>4</th>\n",
       "      <td>2010-01-05</td>\n",
       "      <td>3.13</td>\n",
       "      <td>0.0</td>\n",
       "      <td>0.0</td>\n",
       "      <td>9</td>\n",
       "      <td>0.5</td>\n",
       "      <td>10</td>\n",
       "      <td>-9</td>\n",
       "      <td>0.0</td>\n",
       "      <td>2010</td>\n",
       "      <td>1</td>\n",
       "      <td>5</td>\n",
       "    </tr>\n",
       "  </tbody>\n",
       "</table>\n",
       "</div>"
      ],
      "text/plain": [
       "        DATE  AWND  PRCP  SNOW  SNWD  TAVG  TMAX  TMIN  DCOUNT  YEAR  MONTH  \\\n",
       "0 2010-01-01  8.95   0.0   0.0     9  -1.5     6    -9     0.0  2010      1   \n",
       "1 2010-01-02  4.03   0.0   0.0     9  -7.0     1   -15     0.0  2010      1   \n",
       "2 2010-01-03  2.91   0.0   0.0     9  -3.5     7   -14     0.0  2010      1   \n",
       "3 2010-01-04  5.59   0.0   0.0     9  -1.5     7   -10     0.0  2010      1   \n",
       "4 2010-01-05  3.13   0.0   0.0     9   0.5    10    -9     0.0  2010      1   \n",
       "\n",
       "   DAY  \n",
       "0    1  \n",
       "1    2  \n",
       "2    3  \n",
       "3    4  \n",
       "4    5  "
      ]
     },
     "execution_count": 13,
     "metadata": {},
     "output_type": "execute_result"
    }
   ],
   "source": [
    "features.head() # Three new, seperate, columns that identify year, month, day"
   ]
  },
  {
   "cell_type": "code",
   "execution_count": 14,
   "metadata": {},
   "outputs": [],
   "source": [
    "# Random forests can't use datetime objects\n",
    "features = features.drop('DATE', axis=1)"
   ]
  },
  {
   "cell_type": "code",
   "execution_count": 15,
   "metadata": {},
   "outputs": [
    {
     "name": "stdout",
     "output_type": "stream",
     "text": [
      "<class 'pandas.core.frame.DataFrame'>\n",
      "Int64Index: 2922 entries, 0 to 2921\n",
      "Data columns (total 11 columns):\n",
      "AWND      2922 non-null float64\n",
      "PRCP      2922 non-null float64\n",
      "SNOW      2922 non-null float64\n",
      "SNWD      2922 non-null int64\n",
      "TAVG      2922 non-null float64\n",
      "TMAX      2922 non-null int64\n",
      "TMIN      2922 non-null int64\n",
      "DCOUNT    2922 non-null float64\n",
      "YEAR      2922 non-null int64\n",
      "MONTH     2922 non-null int64\n",
      "DAY       2922 non-null int64\n",
      "dtypes: float64(5), int64(6)\n",
      "memory usage: 273.9 KB\n"
     ]
    }
   ],
   "source": [
    "features.info()"
   ]
  },
  {
   "cell_type": "code",
   "execution_count": 16,
   "metadata": {
    "scrolled": true
   },
   "outputs": [],
   "source": [
    "# Seperating our data sets\n",
    "winter_features = features[features['DCOUNT'] == 0].reset_index(drop=True)\n",
    "\n",
    "# Need to drop all days where there where no rides taken (Dcount = 0)\n",
    "features = features[features['DCOUNT'] != 0].reset_index(drop=True)"
   ]
  },
  {
   "cell_type": "code",
   "execution_count": 17,
   "metadata": {},
   "outputs": [
    {
     "data": {
      "text/html": [
       "<div>\n",
       "<style scoped>\n",
       "    .dataframe tbody tr th:only-of-type {\n",
       "        vertical-align: middle;\n",
       "    }\n",
       "\n",
       "    .dataframe tbody tr th {\n",
       "        vertical-align: top;\n",
       "    }\n",
       "\n",
       "    .dataframe thead th {\n",
       "        text-align: right;\n",
       "    }\n",
       "</style>\n",
       "<table border=\"1\" class=\"dataframe\">\n",
       "  <thead>\n",
       "    <tr style=\"text-align: right;\">\n",
       "      <th></th>\n",
       "      <th>AWND</th>\n",
       "      <th>PRCP</th>\n",
       "      <th>SNOW</th>\n",
       "      <th>SNWD</th>\n",
       "      <th>TAVG</th>\n",
       "      <th>TMAX</th>\n",
       "      <th>TMIN</th>\n",
       "      <th>DCOUNT</th>\n",
       "      <th>YEAR</th>\n",
       "      <th>MONTH</th>\n",
       "      <th>DAY</th>\n",
       "    </tr>\n",
       "  </thead>\n",
       "  <tbody>\n",
       "    <tr>\n",
       "      <th>count</th>\n",
       "      <td>1667.000000</td>\n",
       "      <td>1667.000000</td>\n",
       "      <td>1667.000000</td>\n",
       "      <td>1667.000000</td>\n",
       "      <td>1667.000000</td>\n",
       "      <td>1667.000000</td>\n",
       "      <td>1667.000000</td>\n",
       "      <td>1667.000000</td>\n",
       "      <td>1667.000000</td>\n",
       "      <td>1667.000000</td>\n",
       "      <td>1667.000000</td>\n",
       "    </tr>\n",
       "    <tr>\n",
       "      <th>mean</th>\n",
       "      <td>8.857259</td>\n",
       "      <td>0.126023</td>\n",
       "      <td>0.015357</td>\n",
       "      <td>0.064787</td>\n",
       "      <td>63.063287</td>\n",
       "      <td>72.171566</td>\n",
       "      <td>53.988002</td>\n",
       "      <td>1616.188962</td>\n",
       "      <td>2013.628674</td>\n",
       "      <td>7.191962</td>\n",
       "      <td>15.769646</td>\n",
       "    </tr>\n",
       "    <tr>\n",
       "      <th>std</th>\n",
       "      <td>3.451232</td>\n",
       "      <td>0.344777</td>\n",
       "      <td>0.224634</td>\n",
       "      <td>0.582355</td>\n",
       "      <td>13.021535</td>\n",
       "      <td>13.991099</td>\n",
       "      <td>12.666982</td>\n",
       "      <td>903.294550</td>\n",
       "      <td>2.230847</td>\n",
       "      <td>2.051933</td>\n",
       "      <td>8.854145</td>\n",
       "    </tr>\n",
       "    <tr>\n",
       "      <th>min</th>\n",
       "      <td>0.890000</td>\n",
       "      <td>0.000000</td>\n",
       "      <td>0.000000</td>\n",
       "      <td>0.000000</td>\n",
       "      <td>8.000000</td>\n",
       "      <td>19.000000</td>\n",
       "      <td>-3.000000</td>\n",
       "      <td>1.000000</td>\n",
       "      <td>2010.000000</td>\n",
       "      <td>1.000000</td>\n",
       "      <td>1.000000</td>\n",
       "    </tr>\n",
       "    <tr>\n",
       "      <th>25%</th>\n",
       "      <td>6.490000</td>\n",
       "      <td>0.000000</td>\n",
       "      <td>0.000000</td>\n",
       "      <td>0.000000</td>\n",
       "      <td>54.000000</td>\n",
       "      <td>63.000000</td>\n",
       "      <td>45.000000</td>\n",
       "      <td>883.000000</td>\n",
       "      <td>2012.000000</td>\n",
       "      <td>6.000000</td>\n",
       "      <td>8.000000</td>\n",
       "    </tr>\n",
       "    <tr>\n",
       "      <th>50%</th>\n",
       "      <td>8.500000</td>\n",
       "      <td>0.000000</td>\n",
       "      <td>0.000000</td>\n",
       "      <td>0.000000</td>\n",
       "      <td>66.000000</td>\n",
       "      <td>75.000000</td>\n",
       "      <td>56.000000</td>\n",
       "      <td>1501.000000</td>\n",
       "      <td>2014.000000</td>\n",
       "      <td>7.000000</td>\n",
       "      <td>16.000000</td>\n",
       "    </tr>\n",
       "    <tr>\n",
       "      <th>75%</th>\n",
       "      <td>10.960000</td>\n",
       "      <td>0.050000</td>\n",
       "      <td>0.000000</td>\n",
       "      <td>0.000000</td>\n",
       "      <td>73.000000</td>\n",
       "      <td>83.000000</td>\n",
       "      <td>64.000000</td>\n",
       "      <td>2291.500000</td>\n",
       "      <td>2016.000000</td>\n",
       "      <td>9.000000</td>\n",
       "      <td>23.000000</td>\n",
       "    </tr>\n",
       "    <tr>\n",
       "      <th>max</th>\n",
       "      <td>23.710000</td>\n",
       "      <td>4.130000</td>\n",
       "      <td>6.400000</td>\n",
       "      <td>8.000000</td>\n",
       "      <td>91.000000</td>\n",
       "      <td>103.000000</td>\n",
       "      <td>81.000000</td>\n",
       "      <td>5625.000000</td>\n",
       "      <td>2017.000000</td>\n",
       "      <td>11.000000</td>\n",
       "      <td>31.000000</td>\n",
       "    </tr>\n",
       "  </tbody>\n",
       "</table>\n",
       "</div>"
      ],
      "text/plain": [
       "              AWND         PRCP         SNOW         SNWD         TAVG  \\\n",
       "count  1667.000000  1667.000000  1667.000000  1667.000000  1667.000000   \n",
       "mean      8.857259     0.126023     0.015357     0.064787    63.063287   \n",
       "std       3.451232     0.344777     0.224634     0.582355    13.021535   \n",
       "min       0.890000     0.000000     0.000000     0.000000     8.000000   \n",
       "25%       6.490000     0.000000     0.000000     0.000000    54.000000   \n",
       "50%       8.500000     0.000000     0.000000     0.000000    66.000000   \n",
       "75%      10.960000     0.050000     0.000000     0.000000    73.000000   \n",
       "max      23.710000     4.130000     6.400000     8.000000    91.000000   \n",
       "\n",
       "              TMAX         TMIN       DCOUNT         YEAR        MONTH  \\\n",
       "count  1667.000000  1667.000000  1667.000000  1667.000000  1667.000000   \n",
       "mean     72.171566    53.988002  1616.188962  2013.628674     7.191962   \n",
       "std      13.991099    12.666982   903.294550     2.230847     2.051933   \n",
       "min      19.000000    -3.000000     1.000000  2010.000000     1.000000   \n",
       "25%      63.000000    45.000000   883.000000  2012.000000     6.000000   \n",
       "50%      75.000000    56.000000  1501.000000  2014.000000     7.000000   \n",
       "75%      83.000000    64.000000  2291.500000  2016.000000     9.000000   \n",
       "max     103.000000    81.000000  5625.000000  2017.000000    11.000000   \n",
       "\n",
       "               DAY  \n",
       "count  1667.000000  \n",
       "mean     15.769646  \n",
       "std       8.854145  \n",
       "min       1.000000  \n",
       "25%       8.000000  \n",
       "50%      16.000000  \n",
       "75%      23.000000  \n",
       "max      31.000000  "
      ]
     },
     "execution_count": 17,
     "metadata": {},
     "output_type": "execute_result"
    }
   ],
   "source": [
    "features.describe()"
   ]
  },
  {
   "cell_type": "markdown",
   "metadata": {},
   "source": [
    "DCOUNT shows Minimum of at least 1, and the\n",
    "\n",
    "I'm concerned why month shows min 1; there shouldn't be any data for January still. Time to investigate further"
   ]
  },
  {
   "cell_type": "code",
   "execution_count": 18,
   "metadata": {
    "scrolled": true
   },
   "outputs": [
    {
     "data": {
      "text/html": [
       "<div>\n",
       "<style scoped>\n",
       "    .dataframe tbody tr th:only-of-type {\n",
       "        vertical-align: middle;\n",
       "    }\n",
       "\n",
       "    .dataframe tbody tr th {\n",
       "        vertical-align: top;\n",
       "    }\n",
       "\n",
       "    .dataframe thead th {\n",
       "        text-align: right;\n",
       "    }\n",
       "</style>\n",
       "<table border=\"1\" class=\"dataframe\">\n",
       "  <thead>\n",
       "    <tr style=\"text-align: right;\">\n",
       "      <th></th>\n",
       "      <th>AWND</th>\n",
       "      <th>PRCP</th>\n",
       "      <th>SNOW</th>\n",
       "      <th>SNWD</th>\n",
       "      <th>TAVG</th>\n",
       "      <th>TMAX</th>\n",
       "      <th>TMIN</th>\n",
       "      <th>DCOUNT</th>\n",
       "      <th>YEAR</th>\n",
       "      <th>MONTH</th>\n",
       "      <th>DAY</th>\n",
       "    </tr>\n",
       "  </thead>\n",
       "  <tbody>\n",
       "    <tr>\n",
       "      <th>585</th>\n",
       "      <td>7.61</td>\n",
       "      <td>0.00</td>\n",
       "      <td>0.0</td>\n",
       "      <td>3</td>\n",
       "      <td>25.5</td>\n",
       "      <td>35</td>\n",
       "      <td>16</td>\n",
       "      <td>1.0</td>\n",
       "      <td>2013</td>\n",
       "      <td>1</td>\n",
       "      <td>8</td>\n",
       "    </tr>\n",
       "    <tr>\n",
       "      <th>586</th>\n",
       "      <td>10.29</td>\n",
       "      <td>0.28</td>\n",
       "      <td>0.0</td>\n",
       "      <td>2</td>\n",
       "      <td>31.5</td>\n",
       "      <td>39</td>\n",
       "      <td>24</td>\n",
       "      <td>1.0</td>\n",
       "      <td>2013</td>\n",
       "      <td>1</td>\n",
       "      <td>10</td>\n",
       "    </tr>\n",
       "  </tbody>\n",
       "</table>\n",
       "</div>"
      ],
      "text/plain": [
       "      AWND  PRCP  SNOW  SNWD  TAVG  TMAX  TMIN  DCOUNT  YEAR  MONTH  DAY\n",
       "585   7.61  0.00   0.0     3  25.5    35    16     1.0  2013      1    8\n",
       "586  10.29  0.28   0.0     2  31.5    39    24     1.0  2013      1   10"
      ]
     },
     "execution_count": 18,
     "metadata": {},
     "output_type": "execute_result"
    }
   ],
   "source": [
    "features[features.MONTH == 1]"
   ]
  },
  {
   "cell_type": "code",
   "execution_count": 19,
   "metadata": {},
   "outputs": [
    {
     "data": {
      "text/plain": [
       "pandas.core.series.Series"
      ]
     },
     "execution_count": 19,
     "metadata": {},
     "output_type": "execute_result"
    }
   ],
   "source": [
    "type(features.MONTH)"
   ]
  },
  {
   "cell_type": "markdown",
   "metadata": {},
   "source": [
    "Data looks good!"
   ]
  },
  {
   "cell_type": "markdown",
   "metadata": {},
   "source": [
    "### Features, Targets, and converting Data in Arrays (optimizes performance)"
   ]
  },
  {
   "cell_type": "code",
   "execution_count": 20,
   "metadata": {},
   "outputs": [],
   "source": [
    "# Saving the target/label variable and removing from features Dataframe\n",
    "target = features.DCOUNT.values\n",
    "feat = features.drop('DCOUNT', axis=1).values\n",
    "\n",
    "# Saving the feature names for future use\n",
    "feature_names = list(features.drop('DCOUNT', axis=1).columns)"
   ]
  },
  {
   "cell_type": "code",
   "execution_count": 21,
   "metadata": {},
   "outputs": [],
   "source": [
    "# Splitting the data into training and test sets\n",
    "X, X_test, y, y_test = train_test_split(feat, target, test_size=.25, random_state=42)"
   ]
  },
  {
   "cell_type": "markdown",
   "metadata": {},
   "source": [
    "Inspecting the shape of the features and labels"
   ]
  },
  {
   "cell_type": "code",
   "execution_count": 22,
   "metadata": {
    "scrolled": true
   },
   "outputs": [
    {
     "name": "stdout",
     "output_type": "stream",
     "text": [
      "Training Features shape (1250, 10)\n",
      "Training labels shape (1250,)\n",
      "Testing Features shape (417, 10)\n",
      "Testing labels shape (417,)\n"
     ]
    }
   ],
   "source": [
    "print('Training Features shape', X.shape)\n",
    "print('Training labels shape', y.shape)\n",
    "\n",
    "print('Testing Features shape', X_test.shape)\n",
    "print('Testing labels shape', y_test.shape)"
   ]
  },
  {
   "cell_type": "markdown",
   "metadata": {},
   "source": [
    "## Establishing a baseline\n",
    "\n",
    "Need to find what a good baseline would be"
   ]
  },
  {
   "cell_type": "code",
   "execution_count": 23,
   "metadata": {},
   "outputs": [
    {
     "data": {
      "text/plain": [
       "'\\nInsert baseline creation code here\\n'"
      ]
     },
     "execution_count": 23,
     "metadata": {},
     "output_type": "execute_result"
    }
   ],
   "source": [
    "'''\n",
    "Insert baseline creation code here\n",
    "'''"
   ]
  },
  {
   "cell_type": "markdown",
   "metadata": {},
   "source": [
    "## Training the data"
   ]
  },
  {
   "cell_type": "code",
   "execution_count": 24,
   "metadata": {},
   "outputs": [
    {
     "data": {
      "text/plain": [
       "RandomForestRegressor(bootstrap=True, criterion='mse', max_depth=None,\n",
       "           max_features='auto', max_leaf_nodes=None,\n",
       "           min_impurity_decrease=0.0, min_impurity_split=None,\n",
       "           min_samples_leaf=1, min_samples_split=2,\n",
       "           min_weight_fraction_leaf=0.0, n_estimators=1000, n_jobs=1,\n",
       "           oob_score=False, random_state=42, verbose=0, warm_start=False)"
      ]
     },
     "execution_count": 24,
     "metadata": {},
     "output_type": "execute_result"
    }
   ],
   "source": [
    "# Instantiate model with 1000 decision trees\n",
    "rf = RandomForestRegressor(n_estimators=1000, random_state=42)\n",
    "\n",
    "rf.fit(X, y)"
   ]
  },
  {
   "cell_type": "markdown",
   "metadata": {},
   "source": [
    "## Making predictions on the test set"
   ]
  },
  {
   "cell_type": "code",
   "execution_count": 25,
   "metadata": {
    "scrolled": true
   },
   "outputs": [],
   "source": [
    "predictions = rf.predict(X_test)"
   ]
  },
  {
   "cell_type": "markdown",
   "metadata": {},
   "source": [
    "## Assessing the performance of our RandomForestRegressor"
   ]
  },
  {
   "cell_type": "markdown",
   "metadata": {},
   "source": [
    "This is the r2 score"
   ]
  },
  {
   "cell_type": "code",
   "execution_count": 26,
   "metadata": {},
   "outputs": [
    {
     "name": "stdout",
     "output_type": "stream",
     "text": [
      "[0.81465855 0.85465929 0.81966748 0.77976935 0.7968739  0.81193498\n",
      " 0.7965881  0.80374515 0.79947665 0.82570506]\n",
      "0.8103078505775073\n"
     ]
    }
   ],
   "source": [
    "cv_r2 = cross_val_score(rf, X, y, cv=10)\n",
    "print(cv_r2)\n",
    "print(np.mean(cv_r2))"
   ]
  },
  {
   "cell_type": "code",
   "execution_count": 27,
   "metadata": {},
   "outputs": [
    {
     "name": "stdout",
     "output_type": "stream",
     "text": [
      "[-0.17444184 -0.26547253 -0.21460142 -0.27742293 -0.17619672]\n",
      "-0.22162708587454713\n"
     ]
    }
   ],
   "source": [
    "cv_negMSElog_error = cross_val_score(rf, X, y, scoring='neg_mean_squared_log_error', cv=5)\n",
    "print(cv_negMSElog_error)\n",
    "print(np.mean(cv_negMSElog_error))"
   ]
  },
  {
   "cell_type": "code",
   "execution_count": 28,
   "metadata": {},
   "outputs": [
    {
     "name": "stdout",
     "output_type": "stream",
     "text": [
      "Mean Absolute Error:  269.5\n"
     ]
    }
   ],
   "source": [
    "errors = abs(predictions - y_test)\n",
    "\n",
    "print('Mean Absolute Error: ', round(np.mean(errors), 2))"
   ]
  },
  {
   "cell_type": "code",
   "execution_count": 29,
   "metadata": {
    "scrolled": true
   },
   "outputs": [
    {
     "name": "stdout",
     "output_type": "stream",
     "text": [
      "Accuracy:  64.09 %\n"
     ]
    }
   ],
   "source": [
    "# Calculating the Mean Absolute Percentage Error (MAPE)\n",
    "mape = 100 * (errors / y_test)\n",
    "\n",
    "accuracy = 100 - np.mean(mape)\n",
    "print('Accuracy: ', np.round(accuracy, 2), '%')"
   ]
  },
  {
   "cell_type": "code",
   "execution_count": 30,
   "metadata": {},
   "outputs": [
    {
     "name": "stdout",
     "output_type": "stream",
     "text": [
      "Variable: TMAX                 Importance: 0.39\n",
      "Variable: YEAR                 Importance: 0.38\n",
      "Variable: PRCP                 Importance: 0.07\n",
      "Variable: MONTH                Importance: 0.04\n",
      "Variable: DAY                  Importance: 0.04\n",
      "Variable: AWND                 Importance: 0.03\n",
      "Variable: TAVG                 Importance: 0.03\n",
      "Variable: TMIN                 Importance: 0.02\n",
      "Variable: SNOW                 Importance: 0.0\n",
      "Variable: SNWD                 Importance: 0.0\n"
     ]
    }
   ],
   "source": [
    "# Get numerical feature importances\n",
    "importances = list(rf.feature_importances_)\n",
    "\n",
    "# List of tuples with variable and importance\n",
    "feature_importances = [(feature, round(importance, 2)) for feature, importance in zip(feature_names, importances)]\n",
    "\n",
    "# Sort the feature importances by most important first\n",
    "feature_importances = sorted(feature_importances, key = lambda x: x[1], reverse = True)\n",
    "\n",
    "# Print out the feature and importances \n",
    "[print('Variable: {:20} Importance: {}'.format(*pair)) for pair in feature_importances];"
   ]
  },
  {
   "cell_type": "markdown",
   "metadata": {},
   "source": [
    "## Visualizing the features and predictions"
   ]
  },
  {
   "cell_type": "code",
   "execution_count": 31,
   "metadata": {
    "scrolled": false
   },
   "outputs": [
    {
     "data": {
      "image/png": "[encoded data removed]",
      "text/plain": [
       "<matplotlib.figure.Figure at 0x7f60117cff28>"
      ]
     },
     "metadata": {},
     "output_type": "display_data"
    }
   ],
   "source": [
    "# Set the style\n",
    "plt.style.use('fivethirtyeight')\n",
    "\n",
    "# list of x locations for plotting\n",
    "x_values = list(range(len(importances)))\n",
    "\n",
    "# Make a bar chart\n",
    "plt.bar(x_values, importances, orientation = 'vertical')\n",
    "\n",
    "# Tick labels for x axis\n",
    "plt.xticks(x_values, feature_names, rotation='vertical')\n",
    "\n",
    "# Axis labels and title\n",
    "plt.ylabel('Importance'); plt.xlabel('Variable'); plt.title('Variable Importances');"
   ]
  },
  {
   "cell_type": "code",
   "execution_count": 32,
   "metadata": {
    "scrolled": false
   },
   "outputs": [
    {
     "data": {
      "image/png": "[encoded data removed]",
      "text/plain": [
       "<matplotlib.figure.Figure at 0x7f600f355940>"
      ]
     },
     "metadata": {},
     "output_type": "display_data"
    }
   ],
   "source": [
    "# Dates of training values\n",
    "days = feat[:, feature_names.index('DAY')]\n",
    "months = feat[:, feature_names.index('MONTH')]\n",
    "years = feat[:, feature_names.index('YEAR')]\n",
    "\n",
    "# List and then convert to datetime object\n",
    "dates = [str(int(year)) + '-' + str(int(month)) + '-' + str(int(day)) for year, month, day in zip(years, months, days)]\n",
    "dates = [dt.datetime.strptime(date, '%Y-%m-%d') for date in dates]\n",
    "\n",
    "# Dataframe with true values and dates\n",
    "true_data = pd.DataFrame(data = {'date': dates, 'DCOUNT': target})\n",
    "\n",
    "# Dates of predictions\n",
    "months = X_test[:, feature_names.index('MONTH')]\n",
    "days = X_test[:, feature_names.index('DAY')]\n",
    "years = X_test[:, feature_names.index('YEAR')]\n",
    "\n",
    "# Column of dates\n",
    "test_dates = [str(int(year)) + '-' + str(int(month)) + '-' + str(int(day)) for year, month, day in zip(years, months, days)]\n",
    "\n",
    "# Convert to datetime objects\n",
    "test_dates = [dt.datetime.strptime(date, '%Y-%m-%d') for date in test_dates]\n",
    "\n",
    "# Dataframe with predictions and dates\n",
    "predictions_data = pd.DataFrame(data = {'date': test_dates, 'prediction': predictions})\n",
    "\n",
    "# Plot the actual values\n",
    "plt.figure(figsize=(14.5,10))\n",
    "plt.plot(true_data['date'], true_data['DCOUNT'], 'b', label = 'Daily Count', linewidth=1, alpha=.6)\n",
    "\n",
    "# Plot the predicted values\n",
    "plt.plot(predictions_data['date'], predictions_data['prediction'], 'ro', label = 'prediction', markersize=3, alpha=.6)\n",
    "plt.xticks(rotation = '60'); \n",
    "plt.legend()\n",
    "\n",
    "# Graph labels\n",
    "plt.xlabel('Date'); plt.ylabel('Daily Rides'); plt.title('Actual and Predicted Values');"
   ]
  },
  {
   "cell_type": "code",
   "execution_count": 33,
   "metadata": {},
   "outputs": [
    {
     "name": "stdout",
     "output_type": "stream",
     "text": [
      "(1667,)\n",
      "(1667,)\n",
      "(417,)\n",
      "(417,)\n"
     ]
    }
   ],
   "source": [
    "print(features.TMAX.values.shape)\n",
    "print(target.shape)\n",
    "print(X_test[:,5].shape)\n",
    "print(predictions.shape)"
   ]
  },
  {
   "cell_type": "code",
   "execution_count": 34,
   "metadata": {},
   "outputs": [
    {
     "data": {
      "image/png": "[encoded data removed]",
      "text/plain": [
       "<matplotlib.figure.Figure at 0x7f600f355898>"
      ]
     },
     "metadata": {},
     "output_type": "display_data"
    }
   ],
   "source": [
    "# Dataframe with true values and dates\n",
    "true_data = pd.DataFrame(data = {'TMAX': features.TMAX.values, 'DCOUNT': target})\n",
    "\n",
    "# Dataframe with predictions and dates\n",
    "predictions_data = pd.DataFrame(data = {'TMAX': X_test[:,5], 'prediction': predictions})\n",
    "\n",
    "# Plot the actual values and predicted values\n",
    "plt.figure(figsize=(14.5,10))\n",
    "plt.plot(true_data['TMAX'], true_data['DCOUNT'], 'bo', label = 'Daily Count', markersize=3, alpha=.6)\n",
    "plt.plot(predictions_data['TMAX'], predictions_data['prediction'], 'ro', label = 'prediction', markersize=3, alpha=.6)\n",
    "\n",
    "plt.xticks(rotation = '60'); \n",
    "plt.legend()\n",
    "plt.xlabel('Temperature max in Fahrenheit'); plt.ylabel('Daily Rides'); plt.title('Actual vs Predicted Values');"
   ]
  },
  {
   "cell_type": "markdown",
   "metadata": {},
   "source": [
    "## Testing"
   ]
  },
  {
   "cell_type": "code",
   "execution_count": 35,
   "metadata": {},
   "outputs": [
    {
     "data": {
      "text/html": [
       "<div>\n",
       "<style scoped>\n",
       "    .dataframe tbody tr th:only-of-type {\n",
       "        vertical-align: middle;\n",
       "    }\n",
       "\n",
       "    .dataframe tbody tr th {\n",
       "        vertical-align: top;\n",
       "    }\n",
       "\n",
       "    .dataframe thead th {\n",
       "        text-align: right;\n",
       "    }\n",
       "</style>\n",
       "<table border=\"1\" class=\"dataframe\">\n",
       "  <thead>\n",
       "    <tr style=\"text-align: right;\">\n",
       "      <th></th>\n",
       "      <th>AWND</th>\n",
       "      <th>PRCP</th>\n",
       "      <th>SNOW</th>\n",
       "      <th>SNWD</th>\n",
       "      <th>TAVG</th>\n",
       "      <th>TMAX</th>\n",
       "      <th>TMIN</th>\n",
       "      <th>DCOUNT</th>\n",
       "      <th>YEAR</th>\n",
       "      <th>MONTH</th>\n",
       "      <th>DAY</th>\n",
       "    </tr>\n",
       "  </thead>\n",
       "  <tbody>\n",
       "    <tr>\n",
       "      <th>count</th>\n",
       "      <td>1255.000000</td>\n",
       "      <td>1255.000000</td>\n",
       "      <td>1255.000000</td>\n",
       "      <td>1255.000000</td>\n",
       "      <td>1255.000000</td>\n",
       "      <td>1255.000000</td>\n",
       "      <td>1255.000000</td>\n",
       "      <td>1255.0</td>\n",
       "      <td>1255.000000</td>\n",
       "      <td>1255.000000</td>\n",
       "      <td>1255.000000</td>\n",
       "    </tr>\n",
       "    <tr>\n",
       "      <th>mean</th>\n",
       "      <td>9.165235</td>\n",
       "      <td>0.044861</td>\n",
       "      <td>0.275697</td>\n",
       "      <td>3.318725</td>\n",
       "      <td>27.729084</td>\n",
       "      <td>35.314741</td>\n",
       "      <td>19.905976</td>\n",
       "      <td>0.0</td>\n",
       "      <td>2013.329880</td>\n",
       "      <td>5.634263</td>\n",
       "      <td>15.676494</td>\n",
       "    </tr>\n",
       "    <tr>\n",
       "      <th>std</th>\n",
       "      <td>3.740975</td>\n",
       "      <td>0.141718</td>\n",
       "      <td>1.033061</td>\n",
       "      <td>4.766686</td>\n",
       "      <td>16.218649</td>\n",
       "      <td>17.169311</td>\n",
       "      <td>16.053859</td>\n",
       "      <td>0.0</td>\n",
       "      <td>2.359857</td>\n",
       "      <td>4.553521</td>\n",
       "      <td>8.734551</td>\n",
       "    </tr>\n",
       "    <tr>\n",
       "      <th>min</th>\n",
       "      <td>0.890000</td>\n",
       "      <td>0.000000</td>\n",
       "      <td>0.000000</td>\n",
       "      <td>0.000000</td>\n",
       "      <td>-17.000000</td>\n",
       "      <td>-12.000000</td>\n",
       "      <td>-23.000000</td>\n",
       "      <td>0.0</td>\n",
       "      <td>2010.000000</td>\n",
       "      <td>1.000000</td>\n",
       "      <td>1.000000</td>\n",
       "    </tr>\n",
       "    <tr>\n",
       "      <th>25%</th>\n",
       "      <td>6.490000</td>\n",
       "      <td>0.000000</td>\n",
       "      <td>0.000000</td>\n",
       "      <td>0.000000</td>\n",
       "      <td>17.000000</td>\n",
       "      <td>24.000000</td>\n",
       "      <td>9.000000</td>\n",
       "      <td>0.0</td>\n",
       "      <td>2011.000000</td>\n",
       "      <td>2.000000</td>\n",
       "      <td>8.000000</td>\n",
       "    </tr>\n",
       "    <tr>\n",
       "      <th>50%</th>\n",
       "      <td>8.720000</td>\n",
       "      <td>0.000000</td>\n",
       "      <td>0.000000</td>\n",
       "      <td>1.000000</td>\n",
       "      <td>28.000000</td>\n",
       "      <td>34.000000</td>\n",
       "      <td>20.000000</td>\n",
       "      <td>0.0</td>\n",
       "      <td>2013.000000</td>\n",
       "      <td>3.000000</td>\n",
       "      <td>16.000000</td>\n",
       "    </tr>\n",
       "    <tr>\n",
       "      <th>75%</th>\n",
       "      <td>11.520000</td>\n",
       "      <td>0.010000</td>\n",
       "      <td>0.000000</td>\n",
       "      <td>5.000000</td>\n",
       "      <td>37.250000</td>\n",
       "      <td>45.000000</td>\n",
       "      <td>31.000000</td>\n",
       "      <td>0.0</td>\n",
       "      <td>2015.000000</td>\n",
       "      <td>11.000000</td>\n",
       "      <td>23.000000</td>\n",
       "    </tr>\n",
       "    <tr>\n",
       "      <th>max</th>\n",
       "      <td>24.610000</td>\n",
       "      <td>1.730000</td>\n",
       "      <td>16.300000</td>\n",
       "      <td>24.000000</td>\n",
       "      <td>83.500000</td>\n",
       "      <td>95.000000</td>\n",
       "      <td>73.000000</td>\n",
       "      <td>0.0</td>\n",
       "      <td>2017.000000</td>\n",
       "      <td>12.000000</td>\n",
       "      <td>31.000000</td>\n",
       "    </tr>\n",
       "  </tbody>\n",
       "</table>\n",
       "</div>"
      ],
      "text/plain": [
       "              AWND         PRCP         SNOW         SNWD         TAVG  \\\n",
       "count  1255.000000  1255.000000  1255.000000  1255.000000  1255.000000   \n",
       "mean      9.165235     0.044861     0.275697     3.318725    27.729084   \n",
       "std       3.740975     0.141718     1.033061     4.766686    16.218649   \n",
       "min       0.890000     0.000000     0.000000     0.000000   -17.000000   \n",
       "25%       6.490000     0.000000     0.000000     0.000000    17.000000   \n",
       "50%       8.720000     0.000000     0.000000     1.000000    28.000000   \n",
       "75%      11.520000     0.010000     0.000000     5.000000    37.250000   \n",
       "max      24.610000     1.730000    16.300000    24.000000    83.500000   \n",
       "\n",
       "              TMAX         TMIN  DCOUNT         YEAR        MONTH          DAY  \n",
       "count  1255.000000  1255.000000  1255.0  1255.000000  1255.000000  1255.000000  \n",
       "mean     35.314741    19.905976     0.0  2013.329880     5.634263    15.676494  \n",
       "std      17.169311    16.053859     0.0     2.359857     4.553521     8.734551  \n",
       "min     -12.000000   -23.000000     0.0  2010.000000     1.000000     1.000000  \n",
       "25%      24.000000     9.000000     0.0  2011.000000     2.000000     8.000000  \n",
       "50%      34.000000    20.000000     0.0  2013.000000     3.000000    16.000000  \n",
       "75%      45.000000    31.000000     0.0  2015.000000    11.000000    23.000000  \n",
       "max      95.000000    73.000000     0.0  2017.000000    12.000000    31.000000  "
      ]
     },
     "execution_count": 35,
     "metadata": {},
     "output_type": "execute_result"
    }
   ],
   "source": [
    "winter_features.describe()"
   ]
  },
  {
   "cell_type": "markdown",
   "metadata": {},
   "source": [
    "** What should be used for the DCOUNT data? **"
   ]
  },
  {
   "cell_type": "code",
   "execution_count": 36,
   "metadata": {},
   "outputs": [],
   "source": [
    "winter_target = winter_features.DCOUNT.values\n",
    "\n",
    "winter_feat = winter_features.drop('DCOUNT', axis=1).values\n",
    "winter_names = list(winter_features.drop('DCOUNT', axis=1).columns)"
   ]
  },
  {
   "cell_type": "code",
   "execution_count": 37,
   "metadata": {},
   "outputs": [],
   "source": [
    "# Splitting the data into training and test sets\n",
    "wX, wX_test, wy, wy_test = train_test_split(winter_feat, winter_target, test_size=.25, random_state=42)"
   ]
  },
  {
   "cell_type": "code",
   "execution_count": 38,
   "metadata": {
    "scrolled": true
   },
   "outputs": [],
   "source": [
    "predictions = rf.predict(wX_test)"
   ]
  },
  {
   "cell_type": "markdown",
   "metadata": {},
   "source": [
    "## Assessing the performance of our RandomForestRegressor"
   ]
  },
  {
   "cell_type": "markdown",
   "metadata": {},
   "source": [
    "This is the r2 score"
   ]
  },
  {
   "cell_type": "code",
   "execution_count": 39,
   "metadata": {},
   "outputs": [
    {
     "name": "stdout",
     "output_type": "stream",
     "text": [
      "[1. 1. 1. 1. 1. 1. 1. 1. 1. 1.]\n",
      "1.0\n"
     ]
    }
   ],
   "source": [
    "cv_score = cross_val_score(rf, wX, wy, cv=10)\n",
    "print(cv_score)\n",
    "print(np.mean(cv_score))"
   ]
  },
  {
   "cell_type": "code",
   "execution_count": 40,
   "metadata": {},
   "outputs": [
    {
     "name": "stdout",
     "output_type": "stream",
     "text": [
      "Mean Absolute Error:  417.23\n"
     ]
    }
   ],
   "source": [
    "errors = abs(predictions - wy_test)\n",
    "\n",
    "print('Mean Absolute Error: ', round(np.mean(errors), 2))"
   ]
  },
  {
   "cell_type": "code",
   "execution_count": 41,
   "metadata": {
    "scrolled": false
   },
   "outputs": [
    {
     "name": "stdout",
     "output_type": "stream",
     "text": [
      "Accuracy:  -inf %\n"
     ]
    },
    {
     "name": "stderr",
     "output_type": "stream",
     "text": [
      "/home/grimoire/anaconda3/lib/python3.6/site-packages/ipykernel_launcher.py:2: RuntimeWarning: divide by zero encountered in true_divide\n",
      "  \n"
     ]
    }
   ],
   "source": [
    "# Calculating the Mean Absolute Percentage Error (MAPE)\n",
    "mape = 100 * (errors / wy_test)\n",
    "\n",
    "accuracy = 100 - np.mean(mape)\n",
    "print('Accuracy: ', np.round(accuracy, 2), '%')"
   ]
  },
  {
   "cell_type": "markdown",
   "metadata": {},
   "source": [
    "## Playing with cross_val_score"
   ]
  },
  {
   "cell_type": "code",
   "execution_count": 42,
   "metadata": {
    "scrolled": false
   },
   "outputs": [
    {
     "data": {
      "text/plain": [
       "\"\\n['class#accuracy', 'adjusted_mutual_info_score', 'clus#adjusted_rand_score', 'class#average_precision', \\n'clus#completeness_score', 'explained_variance', 'class#f1', 'class#f1_macro', 'class#f1_micro', 'class#f1_samples', \\n'class#f1_weighted', 'clus#fowlkes_mallows_score', \\n'homogeneity_score', 'mutual_info_score', 'neg_log_loss', 'neg_mean_absolute_error', 'neg_mean_squared_error', \\n'neg_mean_squared_log_error', 'neg_median_absolute_error', 'normalized_mutual_info_score', 'precision', \\n'precision_macro', 'precision_micro', 'precision_samples', 'precision_weighted', 'r2', \\n'class#recall', 'class#recall_macro', 'class#recall_micro', 'class#recall_samples', 'class#recall_weighted', \\n'class#roc_auc', 'clus#v_measure_score']\\n\""
      ]
     },
     "execution_count": 42,
     "metadata": {},
     "output_type": "execute_result"
    }
   ],
   "source": [
    "'''\n",
    "['class#accuracy', 'adjusted_mutual_info_score', 'clus#adjusted_rand_score', 'class#average_precision', \n",
    "'clus#completeness_score', 'explained_variance', 'class#f1', 'class#f1_macro', 'class#f1_micro', 'class#f1_samples', \n",
    "'class#f1_weighted', 'clus#fowlkes_mallows_score', \n",
    "'homogeneity_score', 'mutual_info_score', 'neg_log_loss', 'neg_mean_absolute_error', 'neg_mean_squared_error', \n",
    "'neg_mean_squared_log_error', 'neg_median_absolute_error', 'normalized_mutual_info_score', 'precision', \n",
    "'precision_macro', 'precision_micro', 'precision_samples', 'precision_weighted', 'r2', \n",
    "'class#recall', 'class#recall_macro', 'class#recall_micro', 'class#recall_samples', 'class#recall_weighted', \n",
    "'class#roc_auc', 'clus#v_measure_score']\n",
    "'''"
   ]
  }
 ],
 "metadata": {
  "kernelspec": {
   "display_name": "Python 3",
   "language": "python",
   "name": "python3"
  },
  "language_info": {
   "codemirror_mode": {
    "name": "ipython",
    "version": 3
   },
   "file_extension": ".py",
   "mimetype": "text/x-python",
   "name": "python",
   "nbconvert_exporter": "python",
   "pygments_lexer": "ipython3",
   "version": "3.6.4"
  }
 },
 "nbformat": 4,
 "nbformat_minor": 2
}
