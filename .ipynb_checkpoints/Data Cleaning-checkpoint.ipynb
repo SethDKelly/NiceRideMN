{
 "cells": [
  {
   "cell_type": "markdown",
   "metadata": {},
   "source": [
    "# Trip History data clean prototype"
   ]
  },
  {
   "cell_type": "markdown",
   "metadata": {},
   "source": [
    "**Load dependencies and data set**"
   ]
  },
  {
   "cell_type": "code",
   "execution_count": 5,
   "metadata": {},
   "outputs": [],
   "source": [
    "import numpy as np\n",
    "import pandas as pd\n",
    "import datetime"
   ]
  },
  {
   "cell_type": "code",
   "execution_count": 6,
   "metadata": {},
   "outputs": [
    {
     "name": "stderr",
     "output_type": "stream",
     "text": [
      "/home/grimoire/anaconda3/lib/python3.6/site-packages/IPython/core/interactiveshell.py:2728: DtypeWarning: Columns (2,5) have mixed types. Specify dtype option on import or set low_memory=False.\n",
      "  interactivity=interactivity, compiler=compiler, result=result)\n"
     ]
    },
    {
     "ename": "FileNotFoundError",
     "evalue": "File b'/home/grimoire/Projects/NiceRide/Nice_Ride_data/2016/Nice_Ride_trip_history_2016_season.csv' does not exist",
     "output_type": "error",
     "traceback": [
      "\u001b[0;31m---------------------------------------------------------------------------\u001b[0m",
      "\u001b[0;31mFileNotFoundError\u001b[0m                         Traceback (most recent call last)",
      "\u001b[0;32m<ipython-input-6-49b40f2c8e9e>\u001b[0m in \u001b[0;36m<module>\u001b[0;34m()\u001b[0m\n\u001b[1;32m      5\u001b[0m \u001b[0mnr2014\u001b[0m \u001b[0;34m=\u001b[0m \u001b[0mpd\u001b[0m\u001b[0;34m.\u001b[0m\u001b[0mread_csv\u001b[0m\u001b[0;34m(\u001b[0m\u001b[0;34m'~/Projects/NiceRide/Nice_Ride_data/2014/Nice_Ride_trip_history_2014_season.csv'\u001b[0m\u001b[0;34m)\u001b[0m\u001b[0;34m.\u001b[0m\u001b[0mdropna\u001b[0m\u001b[0;34m(\u001b[0m\u001b[0;34m)\u001b[0m\u001b[0;34m\u001b[0m\u001b[0m\n\u001b[1;32m      6\u001b[0m \u001b[0mnr2015\u001b[0m \u001b[0;34m=\u001b[0m \u001b[0mpd\u001b[0m\u001b[0;34m.\u001b[0m\u001b[0mread_csv\u001b[0m\u001b[0;34m(\u001b[0m\u001b[0;34m'~/Projects/NiceRide/Nice_Ride_data/2015/Nice_ride_trip_history_2015_season.csv'\u001b[0m\u001b[0;34m)\u001b[0m\u001b[0;34m.\u001b[0m\u001b[0mdropna\u001b[0m\u001b[0;34m(\u001b[0m\u001b[0;34m)\u001b[0m\u001b[0;34m\u001b[0m\u001b[0m\n\u001b[0;32m----> 7\u001b[0;31m \u001b[0mnr2016\u001b[0m \u001b[0;34m=\u001b[0m \u001b[0mpd\u001b[0m\u001b[0;34m.\u001b[0m\u001b[0mread_csv\u001b[0m\u001b[0;34m(\u001b[0m\u001b[0;34m'~/Projects/NiceRide/Nice_Ride_data/2016/Nice_Ride_trip_history_2016_season.csv'\u001b[0m\u001b[0;34m)\u001b[0m\u001b[0;34m.\u001b[0m\u001b[0mdropna\u001b[0m\u001b[0;34m(\u001b[0m\u001b[0;34m)\u001b[0m\u001b[0;34m\u001b[0m\u001b[0m\n\u001b[0m\u001b[1;32m      8\u001b[0m \u001b[0mnr2017\u001b[0m \u001b[0;34m=\u001b[0m \u001b[0mpd\u001b[0m\u001b[0;34m.\u001b[0m\u001b[0mread_csv\u001b[0m\u001b[0;34m(\u001b[0m\u001b[0;34m'~/Projects/NiceRide/Nice_Ride_data/2017/Nice_Ride_trip_history_2017_season.csv'\u001b[0m\u001b[0;34m)\u001b[0m\u001b[0;34m.\u001b[0m\u001b[0mdropna\u001b[0m\u001b[0;34m(\u001b[0m\u001b[0;34m)\u001b[0m\u001b[0;34m\u001b[0m\u001b[0m\n\u001b[1;32m      9\u001b[0m \u001b[0;31m# 2010/Nice_Ride_trip_history_2010_season.csv\u001b[0m\u001b[0;34m\u001b[0m\u001b[0;34m\u001b[0m\u001b[0m\n",
      "\u001b[0;32m~/anaconda3/lib/python3.6/site-packages/pandas/io/parsers.py\u001b[0m in \u001b[0;36mparser_f\u001b[0;34m(filepath_or_buffer, sep, delimiter, header, names, index_col, usecols, squeeze, prefix, mangle_dupe_cols, dtype, engine, converters, true_values, false_values, skipinitialspace, skiprows, nrows, na_values, keep_default_na, na_filter, verbose, skip_blank_lines, parse_dates, infer_datetime_format, keep_date_col, date_parser, dayfirst, iterator, chunksize, compression, thousands, decimal, lineterminator, quotechar, quoting, escapechar, comment, encoding, dialect, tupleize_cols, error_bad_lines, warn_bad_lines, skipfooter, skip_footer, doublequote, delim_whitespace, as_recarray, compact_ints, use_unsigned, low_memory, buffer_lines, memory_map, float_precision)\u001b[0m\n\u001b[1;32m    707\u001b[0m                     skip_blank_lines=skip_blank_lines)\n\u001b[1;32m    708\u001b[0m \u001b[0;34m\u001b[0m\u001b[0m\n\u001b[0;32m--> 709\u001b[0;31m         \u001b[0;32mreturn\u001b[0m \u001b[0m_read\u001b[0m\u001b[0;34m(\u001b[0m\u001b[0mfilepath_or_buffer\u001b[0m\u001b[0;34m,\u001b[0m \u001b[0mkwds\u001b[0m\u001b[0;34m)\u001b[0m\u001b[0;34m\u001b[0m\u001b[0m\n\u001b[0m\u001b[1;32m    710\u001b[0m \u001b[0;34m\u001b[0m\u001b[0m\n\u001b[1;32m    711\u001b[0m     \u001b[0mparser_f\u001b[0m\u001b[0;34m.\u001b[0m\u001b[0m__name__\u001b[0m \u001b[0;34m=\u001b[0m \u001b[0mname\u001b[0m\u001b[0;34m\u001b[0m\u001b[0m\n",
      "\u001b[0;32m~/anaconda3/lib/python3.6/site-packages/pandas/io/parsers.py\u001b[0m in \u001b[0;36m_read\u001b[0;34m(filepath_or_buffer, kwds)\u001b[0m\n\u001b[1;32m    447\u001b[0m \u001b[0;34m\u001b[0m\u001b[0m\n\u001b[1;32m    448\u001b[0m     \u001b[0;31m# Create the parser.\u001b[0m\u001b[0;34m\u001b[0m\u001b[0;34m\u001b[0m\u001b[0m\n\u001b[0;32m--> 449\u001b[0;31m     \u001b[0mparser\u001b[0m \u001b[0;34m=\u001b[0m \u001b[0mTextFileReader\u001b[0m\u001b[0;34m(\u001b[0m\u001b[0mfilepath_or_buffer\u001b[0m\u001b[0;34m,\u001b[0m \u001b[0;34m**\u001b[0m\u001b[0mkwds\u001b[0m\u001b[0;34m)\u001b[0m\u001b[0;34m\u001b[0m\u001b[0m\n\u001b[0m\u001b[1;32m    450\u001b[0m \u001b[0;34m\u001b[0m\u001b[0m\n\u001b[1;32m    451\u001b[0m     \u001b[0;32mif\u001b[0m \u001b[0mchunksize\u001b[0m \u001b[0;32mor\u001b[0m \u001b[0miterator\u001b[0m\u001b[0;34m:\u001b[0m\u001b[0;34m\u001b[0m\u001b[0m\n",
      "\u001b[0;32m~/anaconda3/lib/python3.6/site-packages/pandas/io/parsers.py\u001b[0m in \u001b[0;36m__init__\u001b[0;34m(self, f, engine, **kwds)\u001b[0m\n\u001b[1;32m    816\u001b[0m             \u001b[0mself\u001b[0m\u001b[0;34m.\u001b[0m\u001b[0moptions\u001b[0m\u001b[0;34m[\u001b[0m\u001b[0;34m'has_index_names'\u001b[0m\u001b[0;34m]\u001b[0m \u001b[0;34m=\u001b[0m \u001b[0mkwds\u001b[0m\u001b[0;34m[\u001b[0m\u001b[0;34m'has_index_names'\u001b[0m\u001b[0;34m]\u001b[0m\u001b[0;34m\u001b[0m\u001b[0m\n\u001b[1;32m    817\u001b[0m \u001b[0;34m\u001b[0m\u001b[0m\n\u001b[0;32m--> 818\u001b[0;31m         \u001b[0mself\u001b[0m\u001b[0;34m.\u001b[0m\u001b[0m_make_engine\u001b[0m\u001b[0;34m(\u001b[0m\u001b[0mself\u001b[0m\u001b[0;34m.\u001b[0m\u001b[0mengine\u001b[0m\u001b[0;34m)\u001b[0m\u001b[0;34m\u001b[0m\u001b[0m\n\u001b[0m\u001b[1;32m    819\u001b[0m \u001b[0;34m\u001b[0m\u001b[0m\n\u001b[1;32m    820\u001b[0m     \u001b[0;32mdef\u001b[0m \u001b[0mclose\u001b[0m\u001b[0;34m(\u001b[0m\u001b[0mself\u001b[0m\u001b[0;34m)\u001b[0m\u001b[0;34m:\u001b[0m\u001b[0;34m\u001b[0m\u001b[0m\n",
      "\u001b[0;32m~/anaconda3/lib/python3.6/site-packages/pandas/io/parsers.py\u001b[0m in \u001b[0;36m_make_engine\u001b[0;34m(self, engine)\u001b[0m\n\u001b[1;32m   1047\u001b[0m     \u001b[0;32mdef\u001b[0m \u001b[0m_make_engine\u001b[0m\u001b[0;34m(\u001b[0m\u001b[0mself\u001b[0m\u001b[0;34m,\u001b[0m \u001b[0mengine\u001b[0m\u001b[0;34m=\u001b[0m\u001b[0;34m'c'\u001b[0m\u001b[0;34m)\u001b[0m\u001b[0;34m:\u001b[0m\u001b[0;34m\u001b[0m\u001b[0m\n\u001b[1;32m   1048\u001b[0m         \u001b[0;32mif\u001b[0m \u001b[0mengine\u001b[0m \u001b[0;34m==\u001b[0m \u001b[0;34m'c'\u001b[0m\u001b[0;34m:\u001b[0m\u001b[0;34m\u001b[0m\u001b[0m\n\u001b[0;32m-> 1049\u001b[0;31m             \u001b[0mself\u001b[0m\u001b[0;34m.\u001b[0m\u001b[0m_engine\u001b[0m \u001b[0;34m=\u001b[0m \u001b[0mCParserWrapper\u001b[0m\u001b[0;34m(\u001b[0m\u001b[0mself\u001b[0m\u001b[0;34m.\u001b[0m\u001b[0mf\u001b[0m\u001b[0;34m,\u001b[0m \u001b[0;34m**\u001b[0m\u001b[0mself\u001b[0m\u001b[0;34m.\u001b[0m\u001b[0moptions\u001b[0m\u001b[0;34m)\u001b[0m\u001b[0;34m\u001b[0m\u001b[0m\n\u001b[0m\u001b[1;32m   1050\u001b[0m         \u001b[0;32melse\u001b[0m\u001b[0;34m:\u001b[0m\u001b[0;34m\u001b[0m\u001b[0m\n\u001b[1;32m   1051\u001b[0m             \u001b[0;32mif\u001b[0m \u001b[0mengine\u001b[0m \u001b[0;34m==\u001b[0m \u001b[0;34m'python'\u001b[0m\u001b[0;34m:\u001b[0m\u001b[0;34m\u001b[0m\u001b[0m\n",
      "\u001b[0;32m~/anaconda3/lib/python3.6/site-packages/pandas/io/parsers.py\u001b[0m in \u001b[0;36m__init__\u001b[0;34m(self, src, **kwds)\u001b[0m\n\u001b[1;32m   1693\u001b[0m         \u001b[0mkwds\u001b[0m\u001b[0;34m[\u001b[0m\u001b[0;34m'allow_leading_cols'\u001b[0m\u001b[0;34m]\u001b[0m \u001b[0;34m=\u001b[0m \u001b[0mself\u001b[0m\u001b[0;34m.\u001b[0m\u001b[0mindex_col\u001b[0m \u001b[0;32mis\u001b[0m \u001b[0;32mnot\u001b[0m \u001b[0;32mFalse\u001b[0m\u001b[0;34m\u001b[0m\u001b[0m\n\u001b[1;32m   1694\u001b[0m \u001b[0;34m\u001b[0m\u001b[0m\n\u001b[0;32m-> 1695\u001b[0;31m         \u001b[0mself\u001b[0m\u001b[0;34m.\u001b[0m\u001b[0m_reader\u001b[0m \u001b[0;34m=\u001b[0m \u001b[0mparsers\u001b[0m\u001b[0;34m.\u001b[0m\u001b[0mTextReader\u001b[0m\u001b[0;34m(\u001b[0m\u001b[0msrc\u001b[0m\u001b[0;34m,\u001b[0m \u001b[0;34m**\u001b[0m\u001b[0mkwds\u001b[0m\u001b[0;34m)\u001b[0m\u001b[0;34m\u001b[0m\u001b[0m\n\u001b[0m\u001b[1;32m   1696\u001b[0m \u001b[0;34m\u001b[0m\u001b[0m\n\u001b[1;32m   1697\u001b[0m         \u001b[0;31m# XXX\u001b[0m\u001b[0;34m\u001b[0m\u001b[0;34m\u001b[0m\u001b[0m\n",
      "\u001b[0;32mpandas/_libs/parsers.pyx\u001b[0m in \u001b[0;36mpandas._libs.parsers.TextReader.__cinit__\u001b[0;34m()\u001b[0m\n",
      "\u001b[0;32mpandas/_libs/parsers.pyx\u001b[0m in \u001b[0;36mpandas._libs.parsers.TextReader._setup_parser_source\u001b[0;34m()\u001b[0m\n",
      "\u001b[0;31mFileNotFoundError\u001b[0m: File b'/home/grimoire/Projects/NiceRide/Nice_Ride_data/2016/Nice_Ride_trip_history_2016_season.csv' does not exist"
     ]
    }
   ],
   "source": [
    "nr2010 = pd.read_csv('~/Projects/NiceRide/Nice_Ride_data/2010/Nice_Ride_trip_history_2010_season.csv').dropna()\n",
    "nr2011 = pd.read_csv('~/Projects/NiceRide/Nice_Ride_data/2011/Nice_Ride_trip_history_2011_season.csv').dropna()\n",
    "nr2012 = pd.read_csv('~/Projects/NiceRide/Nice_Ride_data/2012/Nice_Ride_trip_history_2012_season.csv').dropna()\n",
    "nr2013 = pd.read_csv('~/Projects/NiceRide/Nice_Ride_data/2013/Nice_Ride_trip_history_2013_season.csv').dropna()\n",
    "nr2014 = pd.read_csv('~/Projects/NiceRide/Nice_Ride_data/2014/Nice_Ride_trip_history_2014_season.csv').dropna()\n",
    "nr2015 = pd.read_csv('~/Projects/NiceRide/Nice_Ride_data/2015/Nice_ride_trip_history_2015_season.csv').dropna()\n",
    "nr2016 = pd.read_csv('~/Projects/NiceRide/Nice_Ride_data/2016/Nice_Ride_trip_history_2016_season.csv').dropna()\n",
    "nr2017 = pd.read_csv('~/Projects/NiceRide/Nice_Ride_data/2017/Nice_Ride_trip_history_2017_season.csv').dropna()\n",
    "# 2010/Nice_Ride_trip_history_2010_season.csv\n",
    "# 2011/Nice_Ride_trip_history_2011_season.csv\n",
    "# 2012/Nice_Ride_trip_history_2012_season.csv\n",
    "# 2013/Nice_Ride_trip_history_2013_season.csv\n",
    "# 2014/Nice_Ride_trip_history_2014_season.csv *Gives dtype warning due to station name convention change*\n",
    "# 2015/Nice_ride_trip_history_2015_season.csv *Same as above\n",
    "# 2016/Nice_Ride_trip_history_2016_season.csv *Same as above\n",
    "# 2017/Nice_Ride_trip_history_2017_season.csv *Same as above\n",
    "\n",
    "#nr_old = nr = pd.read_csv('~/Projects/NiceRide/Nice_Ride_data/2010/Nice_Ride_trip_history_2010_season.csv').dropna()\n",
    "# can't coerce \"dtype = {'End terminal':np.int32, 'Total duration (ms)':np.int32}\" due to NaN values"
   ]
  },
  {
   "cell_type": "markdown",
   "metadata": {},
   "source": [
    "**Check how data loaded, and row count**"
   ]
  },
  {
   "cell_type": "code",
   "execution_count": 4,
   "metadata": {},
   "outputs": [
    {
     "ename": "NameError",
     "evalue": "name 'nr2010' is not defined",
     "output_type": "error",
     "traceback": [
      "\u001b[0;31m---------------------------------------------------------------------------\u001b[0m",
      "\u001b[0;31mNameError\u001b[0m                                 Traceback (most recent call last)",
      "\u001b[0;32m<ipython-input-4-e73b9bc556f9>\u001b[0m in \u001b[0;36m<module>\u001b[0;34m()\u001b[0m\n\u001b[0;32m----> 1\u001b[0;31m \u001b[0mnr2010\u001b[0m\u001b[0;34m.\u001b[0m\u001b[0minfo\u001b[0m\u001b[0;34m(\u001b[0m\u001b[0;34m)\u001b[0m\u001b[0;34m\u001b[0m\u001b[0m\n\u001b[0m",
      "\u001b[0;31mNameError\u001b[0m: name 'nr2010' is not defined"
     ]
    }
   ],
   "source": [
    "nr2010.info()"
   ]
  },
  {
   "cell_type": "markdown",
   "metadata": {},
   "source": [
    "**Another method checking if Dataframe has any NaN and where they are located**"
   ]
  },
  {
   "cell_type": "markdown",
   "metadata": {},
   "source": [
    "nr.isnull().sum()\n",
    "A boolean variation :\n",
    "nr_2010.isnull().any()"
   ]
  },
  {
   "cell_type": "markdown",
   "metadata": {},
   "source": [
    "**NaN removal** _This was added into read_csv() to clear NA values on read in_"
   ]
  },
  {
   "cell_type": "markdown",
   "metadata": {},
   "source": [
    "nr = nr.dropna()"
   ]
  },
  {
   "cell_type": "markdown",
   "metadata": {},
   "source": [
    "nr.count()"
   ]
  },
  {
   "cell_type": "markdown",
   "metadata": {},
   "source": [
    "nr.isnull().sum()"
   ]
  },
  {
   "cell_type": "markdown",
   "metadata": {},
   "source": [
    "** Renaming terminal columns for legibility**"
   ]
  },
  {
   "cell_type": "code",
   "execution_count": 55,
   "metadata": {},
   "outputs": [
    {
     "data": {
      "text/html": [
       "<div>\n",
       "<style scoped>\n",
       "    .dataframe tbody tr th:only-of-type {\n",
       "        vertical-align: middle;\n",
       "    }\n",
       "\n",
       "    .dataframe tbody tr th {\n",
       "        vertical-align: top;\n",
       "    }\n",
       "\n",
       "    .dataframe thead th {\n",
       "        text-align: right;\n",
       "    }\n",
       "</style>\n",
       "<table border=\"1\" class=\"dataframe\">\n",
       "  <thead>\n",
       "    <tr style=\"text-align: right;\">\n",
       "      <th></th>\n",
       "      <th>Start date</th>\n",
       "      <th>Start station</th>\n",
       "      <th>Start terminal</th>\n",
       "      <th>End date</th>\n",
       "      <th>End station</th>\n",
       "      <th>End terminal</th>\n",
       "      <th>Total duration (ms)</th>\n",
       "      <th>Account type</th>\n",
       "    </tr>\n",
       "  </thead>\n",
       "  <tbody>\n",
       "    <tr>\n",
       "      <th>0</th>\n",
       "      <td>6/10/2010 8:01</td>\n",
       "      <td>100 Main Street SE</td>\n",
       "      <td>30000</td>\n",
       "      <td>6/10/2010 8:01</td>\n",
       "      <td>100 Main Street SE</td>\n",
       "      <td>30000.0</td>\n",
       "      <td>8018.0</td>\n",
       "      <td>Casual</td>\n",
       "    </tr>\n",
       "    <tr>\n",
       "      <th>1</th>\n",
       "      <td>6/10/2010 17:38</td>\n",
       "      <td>100 Main Street SE</td>\n",
       "      <td>30000</td>\n",
       "      <td>6/10/2010 17:54</td>\n",
       "      <td>IDS Center</td>\n",
       "      <td>30042.0</td>\n",
       "      <td>963762.0</td>\n",
       "      <td>Casual</td>\n",
       "    </tr>\n",
       "    <tr>\n",
       "      <th>2</th>\n",
       "      <td>6/10/2010 21:15</td>\n",
       "      <td>100 Main Street SE</td>\n",
       "      <td>30000</td>\n",
       "      <td>6/10/2010 21:27</td>\n",
       "      <td>11th Street &amp; Hennepin</td>\n",
       "      <td>30004.0</td>\n",
       "      <td>717079.0</td>\n",
       "      <td>Casual</td>\n",
       "    </tr>\n",
       "  </tbody>\n",
       "</table>\n",
       "</div>"
      ],
      "text/plain": [
       "        Start date       Start station  Start terminal         End date  \\\n",
       "0   6/10/2010 8:01  100 Main Street SE           30000   6/10/2010 8:01   \n",
       "1  6/10/2010 17:38  100 Main Street SE           30000  6/10/2010 17:54   \n",
       "2  6/10/2010 21:15  100 Main Street SE           30000  6/10/2010 21:27   \n",
       "\n",
       "              End station  End terminal  Total duration (ms) Account type  \n",
       "0      100 Main Street SE       30000.0               8018.0       Casual  \n",
       "1              IDS Center       30042.0             963762.0       Casual  \n",
       "2  11th Street & Hennepin       30004.0             717079.0       Casual  "
      ]
     },
     "execution_count": 55,
     "metadata": {},
     "output_type": "execute_result"
    }
   ],
   "source": [
    "nr.head(3)"
   ]
  },
  {
   "cell_type": "code",
   "execution_count": 56,
   "metadata": {},
   "outputs": [],
   "source": [
    "# .rename doesn't mutate original Dataframe unless it's assigned\n",
    "nr = nr.rename(index=str, columns={\"Start terminal\": \"Start station ID\",\n",
    "                                             \"End terminal\": \"End station ID\"})"
   ]
  },
  {
   "cell_type": "code",
   "execution_count": null,
   "metadata": {},
   "outputs": [],
   "source": [
    "nr = nr.rename(index=str, columns={\"Start station number\": \"Start station ID\",\n",
    "                                             \"End station number\": \"End station ID\"})"
   ]
  },
  {
   "cell_type": "code",
   "execution_count": 57,
   "metadata": {},
   "outputs": [
    {
     "data": {
      "text/html": [
       "<div>\n",
       "<style scoped>\n",
       "    .dataframe tbody tr th:only-of-type {\n",
       "        vertical-align: middle;\n",
       "    }\n",
       "\n",
       "    .dataframe tbody tr th {\n",
       "        vertical-align: top;\n",
       "    }\n",
       "\n",
       "    .dataframe thead th {\n",
       "        text-align: right;\n",
       "    }\n",
       "</style>\n",
       "<table border=\"1\" class=\"dataframe\">\n",
       "  <thead>\n",
       "    <tr style=\"text-align: right;\">\n",
       "      <th></th>\n",
       "      <th>Start date</th>\n",
       "      <th>Start station</th>\n",
       "      <th>Start station ID</th>\n",
       "      <th>End date</th>\n",
       "      <th>End station</th>\n",
       "      <th>End station ID</th>\n",
       "      <th>Total duration (ms)</th>\n",
       "      <th>Account type</th>\n",
       "    </tr>\n",
       "  </thead>\n",
       "  <tbody>\n",
       "    <tr>\n",
       "      <th>0</th>\n",
       "      <td>6/10/2010 8:01</td>\n",
       "      <td>100 Main Street SE</td>\n",
       "      <td>30000</td>\n",
       "      <td>6/10/2010 8:01</td>\n",
       "      <td>100 Main Street SE</td>\n",
       "      <td>30000.0</td>\n",
       "      <td>8018.0</td>\n",
       "      <td>Casual</td>\n",
       "    </tr>\n",
       "    <tr>\n",
       "      <th>1</th>\n",
       "      <td>6/10/2010 17:38</td>\n",
       "      <td>100 Main Street SE</td>\n",
       "      <td>30000</td>\n",
       "      <td>6/10/2010 17:54</td>\n",
       "      <td>IDS Center</td>\n",
       "      <td>30042.0</td>\n",
       "      <td>963762.0</td>\n",
       "      <td>Casual</td>\n",
       "    </tr>\n",
       "    <tr>\n",
       "      <th>2</th>\n",
       "      <td>6/10/2010 21:15</td>\n",
       "      <td>100 Main Street SE</td>\n",
       "      <td>30000</td>\n",
       "      <td>6/10/2010 21:27</td>\n",
       "      <td>11th Street &amp; Hennepin</td>\n",
       "      <td>30004.0</td>\n",
       "      <td>717079.0</td>\n",
       "      <td>Casual</td>\n",
       "    </tr>\n",
       "  </tbody>\n",
       "</table>\n",
       "</div>"
      ],
      "text/plain": [
       "        Start date       Start station  Start station ID         End date  \\\n",
       "0   6/10/2010 8:01  100 Main Street SE             30000   6/10/2010 8:01   \n",
       "1  6/10/2010 17:38  100 Main Street SE             30000  6/10/2010 17:54   \n",
       "2  6/10/2010 21:15  100 Main Street SE             30000  6/10/2010 21:27   \n",
       "\n",
       "              End station  End station ID  Total duration (ms) Account type  \n",
       "0      100 Main Street SE         30000.0               8018.0       Casual  \n",
       "1              IDS Center         30042.0             963762.0       Casual  \n",
       "2  11th Street & Hennepin         30004.0             717079.0       Casual  "
      ]
     },
     "execution_count": 57,
     "metadata": {},
     "output_type": "execute_result"
    }
   ],
   "source": [
    "nr.head(3)"
   ]
  },
  {
   "cell_type": "markdown",
   "metadata": {},
   "source": [
    "**Addressing dtype of End Terminal if necessary**"
   ]
  },
  {
   "cell_type": "code",
   "execution_count": 58,
   "metadata": {},
   "outputs": [],
   "source": [
    "# can force dtype now that NaN have been removed\n",
    "nr['End station ID'] = nr['End station ID'].astype(int)"
   ]
  },
  {
   "cell_type": "code",
   "execution_count": 59,
   "metadata": {},
   "outputs": [
    {
     "data": {
      "text/html": [
       "<div>\n",
       "<style scoped>\n",
       "    .dataframe tbody tr th:only-of-type {\n",
       "        vertical-align: middle;\n",
       "    }\n",
       "\n",
       "    .dataframe tbody tr th {\n",
       "        vertical-align: top;\n",
       "    }\n",
       "\n",
       "    .dataframe thead th {\n",
       "        text-align: right;\n",
       "    }\n",
       "</style>\n",
       "<table border=\"1\" class=\"dataframe\">\n",
       "  <thead>\n",
       "    <tr style=\"text-align: right;\">\n",
       "      <th></th>\n",
       "      <th>Start date</th>\n",
       "      <th>Start station</th>\n",
       "      <th>Start station ID</th>\n",
       "      <th>End date</th>\n",
       "      <th>End station</th>\n",
       "      <th>End station ID</th>\n",
       "      <th>Total duration (ms)</th>\n",
       "      <th>Account type</th>\n",
       "    </tr>\n",
       "  </thead>\n",
       "  <tbody>\n",
       "    <tr>\n",
       "      <th>0</th>\n",
       "      <td>6/10/2010 8:01</td>\n",
       "      <td>100 Main Street SE</td>\n",
       "      <td>30000</td>\n",
       "      <td>6/10/2010 8:01</td>\n",
       "      <td>100 Main Street SE</td>\n",
       "      <td>30000</td>\n",
       "      <td>8018.0</td>\n",
       "      <td>Casual</td>\n",
       "    </tr>\n",
       "    <tr>\n",
       "      <th>1</th>\n",
       "      <td>6/10/2010 17:38</td>\n",
       "      <td>100 Main Street SE</td>\n",
       "      <td>30000</td>\n",
       "      <td>6/10/2010 17:54</td>\n",
       "      <td>IDS Center</td>\n",
       "      <td>30042</td>\n",
       "      <td>963762.0</td>\n",
       "      <td>Casual</td>\n",
       "    </tr>\n",
       "  </tbody>\n",
       "</table>\n",
       "</div>"
      ],
      "text/plain": [
       "        Start date       Start station  Start station ID         End date  \\\n",
       "0   6/10/2010 8:01  100 Main Street SE             30000   6/10/2010 8:01   \n",
       "1  6/10/2010 17:38  100 Main Street SE             30000  6/10/2010 17:54   \n",
       "\n",
       "          End station  End station ID  Total duration (ms) Account type  \n",
       "0  100 Main Street SE           30000               8018.0       Casual  \n",
       "1          IDS Center           30042             963762.0       Casual  "
      ]
     },
     "execution_count": 59,
     "metadata": {},
     "output_type": "execute_result"
    }
   ],
   "source": [
    "nr.head(2)\n",
    "# Everything looks good!"
   ]
  },
  {
   "cell_type": "markdown",
   "metadata": {},
   "source": [
    "**Changing Total duration to integer, seconds, and renaming**"
   ]
  },
  {
   "cell_type": "code",
   "execution_count": 60,
   "metadata": {},
   "outputs": [],
   "source": [
    "nr['Total duration (seconds)'] = round(nr['Total duration (ms)'] * .001).astype(int)"
   ]
  },
  {
   "cell_type": "code",
   "execution_count": 61,
   "metadata": {},
   "outputs": [
    {
     "data": {
      "text/html": [
       "<div>\n",
       "<style scoped>\n",
       "    .dataframe tbody tr th:only-of-type {\n",
       "        vertical-align: middle;\n",
       "    }\n",
       "\n",
       "    .dataframe tbody tr th {\n",
       "        vertical-align: top;\n",
       "    }\n",
       "\n",
       "    .dataframe thead th {\n",
       "        text-align: right;\n",
       "    }\n",
       "</style>\n",
       "<table border=\"1\" class=\"dataframe\">\n",
       "  <thead>\n",
       "    <tr style=\"text-align: right;\">\n",
       "      <th></th>\n",
       "      <th>Start date</th>\n",
       "      <th>Start station</th>\n",
       "      <th>Start station ID</th>\n",
       "      <th>End date</th>\n",
       "      <th>End station</th>\n",
       "      <th>End station ID</th>\n",
       "      <th>Total duration (ms)</th>\n",
       "      <th>Account type</th>\n",
       "      <th>Total duration (seconds)</th>\n",
       "    </tr>\n",
       "  </thead>\n",
       "  <tbody>\n",
       "    <tr>\n",
       "      <th>0</th>\n",
       "      <td>6/10/2010 8:01</td>\n",
       "      <td>100 Main Street SE</td>\n",
       "      <td>30000</td>\n",
       "      <td>6/10/2010 8:01</td>\n",
       "      <td>100 Main Street SE</td>\n",
       "      <td>30000</td>\n",
       "      <td>8018.0</td>\n",
       "      <td>Casual</td>\n",
       "      <td>8</td>\n",
       "    </tr>\n",
       "    <tr>\n",
       "      <th>1</th>\n",
       "      <td>6/10/2010 17:38</td>\n",
       "      <td>100 Main Street SE</td>\n",
       "      <td>30000</td>\n",
       "      <td>6/10/2010 17:54</td>\n",
       "      <td>IDS Center</td>\n",
       "      <td>30042</td>\n",
       "      <td>963762.0</td>\n",
       "      <td>Casual</td>\n",
       "      <td>964</td>\n",
       "    </tr>\n",
       "  </tbody>\n",
       "</table>\n",
       "</div>"
      ],
      "text/plain": [
       "        Start date       Start station  Start station ID         End date  \\\n",
       "0   6/10/2010 8:01  100 Main Street SE             30000   6/10/2010 8:01   \n",
       "1  6/10/2010 17:38  100 Main Street SE             30000  6/10/2010 17:54   \n",
       "\n",
       "          End station  End station ID  Total duration (ms) Account type  \\\n",
       "0  100 Main Street SE           30000               8018.0       Casual   \n",
       "1          IDS Center           30042             963762.0       Casual   \n",
       "\n",
       "   Total duration (seconds)  \n",
       "0                         8  \n",
       "1                       964  "
      ]
     },
     "execution_count": 61,
     "metadata": {},
     "output_type": "execute_result"
    }
   ],
   "source": [
    "nr.head(2)"
   ]
  },
  {
   "cell_type": "code",
   "execution_count": 62,
   "metadata": {},
   "outputs": [],
   "source": [
    "del nr['Total duration (ms)']\n",
    "# Removal of old column"
   ]
  },
  {
   "cell_type": "code",
   "execution_count": null,
   "metadata": {},
   "outputs": [],
   "source": [
    "nr['Total duration (seconds)'] = nr['Total duration (Seconds)']"
   ]
  },
  {
   "cell_type": "code",
   "execution_count": null,
   "metadata": {},
   "outputs": [],
   "source": [
    "del nr['Total duration (Seconds)']"
   ]
  },
  {
   "cell_type": "markdown",
   "metadata": {},
   "source": [
    "**Reordering of columns to match other Dataframes**"
   ]
  },
  {
   "cell_type": "code",
   "execution_count": null,
   "metadata": {},
   "outputs": [],
   "source": [
    "reorder_columns = ['Start date', 'Start station', 'Start station ID', 'End date', 'End station', \n",
    "                   'End station ID', 'Account type', 'Total duration (seconds)']\n",
    "nr = nr.reindex(columns=reorder_columns)\n",
    "nr.head(3)"
   ]
  },
  {
   "cell_type": "markdown",
   "metadata": {},
   "source": [
    "**Checking Account type column to ensure only 2 classifications**"
   ]
  },
  {
   "cell_type": "code",
   "execution_count": 63,
   "metadata": {},
   "outputs": [
    {
     "data": {
      "text/plain": [
       "Casual     52521\n",
       "Member     48853\n",
       "Unknown       52\n",
       "Name: Account type, dtype: int64"
      ]
     },
     "execution_count": 63,
     "metadata": {},
     "output_type": "execute_result"
    }
   ],
   "source": [
    "nr['Account type'].value_counts()"
   ]
  },
  {
   "cell_type": "markdown",
   "metadata": {},
   "source": [
    "**Removing unknown types if any**"
   ]
  },
  {
   "cell_type": "code",
   "execution_count": 64,
   "metadata": {},
   "outputs": [
    {
     "data": {
      "text/plain": [
       "Casual    52521\n",
       "Member    48853\n",
       "Name: Account type, dtype: int64"
      ]
     },
     "execution_count": 64,
     "metadata": {},
     "output_type": "execute_result"
    }
   ],
   "source": [
    "nr = nr.loc[~(nr['Account type'] == 'Unknown')]\n",
    "nr['Account type'].value_counts()"
   ]
  },
  {
   "cell_type": "code",
   "execution_count": null,
   "metadata": {},
   "outputs": [],
   "source": [
    "nr = nr.loc[~(nr['Account type'] == 'Inconnu')]\n",
    "nr['Account type'].value_counts()"
   ]
  },
  {
   "cell_type": "markdown",
   "metadata": {},
   "source": [
    "**Cleaning complete, (original data set as reference)**"
   ]
  },
  {
   "cell_type": "code",
   "execution_count": 65,
   "metadata": {},
   "outputs": [
    {
     "data": {
      "text/html": [
       "<div>\n",
       "<style scoped>\n",
       "    .dataframe tbody tr th:only-of-type {\n",
       "        vertical-align: middle;\n",
       "    }\n",
       "\n",
       "    .dataframe tbody tr th {\n",
       "        vertical-align: top;\n",
       "    }\n",
       "\n",
       "    .dataframe thead th {\n",
       "        text-align: right;\n",
       "    }\n",
       "</style>\n",
       "<table border=\"1\" class=\"dataframe\">\n",
       "  <thead>\n",
       "    <tr style=\"text-align: right;\">\n",
       "      <th></th>\n",
       "      <th>Start date</th>\n",
       "      <th>Start station</th>\n",
       "      <th>Start station ID</th>\n",
       "      <th>End date</th>\n",
       "      <th>End station</th>\n",
       "      <th>End station ID</th>\n",
       "      <th>Account type</th>\n",
       "      <th>Total duration (seconds)</th>\n",
       "    </tr>\n",
       "  </thead>\n",
       "  <tbody>\n",
       "    <tr>\n",
       "      <th>0</th>\n",
       "      <td>6/10/2010 8:01</td>\n",
       "      <td>100 Main Street SE</td>\n",
       "      <td>30000</td>\n",
       "      <td>6/10/2010 8:01</td>\n",
       "      <td>100 Main Street SE</td>\n",
       "      <td>30000</td>\n",
       "      <td>Casual</td>\n",
       "      <td>8</td>\n",
       "    </tr>\n",
       "    <tr>\n",
       "      <th>1</th>\n",
       "      <td>6/10/2010 17:38</td>\n",
       "      <td>100 Main Street SE</td>\n",
       "      <td>30000</td>\n",
       "      <td>6/10/2010 17:54</td>\n",
       "      <td>IDS Center</td>\n",
       "      <td>30042</td>\n",
       "      <td>Casual</td>\n",
       "      <td>964</td>\n",
       "    </tr>\n",
       "    <tr>\n",
       "      <th>2</th>\n",
       "      <td>6/10/2010 21:15</td>\n",
       "      <td>100 Main Street SE</td>\n",
       "      <td>30000</td>\n",
       "      <td>6/10/2010 21:27</td>\n",
       "      <td>11th Street &amp; Hennepin</td>\n",
       "      <td>30004</td>\n",
       "      <td>Casual</td>\n",
       "      <td>717</td>\n",
       "    </tr>\n",
       "    <tr>\n",
       "      <th>3</th>\n",
       "      <td>6/11/2010 13:52</td>\n",
       "      <td>100 Main Street SE</td>\n",
       "      <td>30000</td>\n",
       "      <td>6/11/2010 14:42</td>\n",
       "      <td>Washington &amp; 2nd Ave N</td>\n",
       "      <td>30021</td>\n",
       "      <td>Casual</td>\n",
       "      <td>2966</td>\n",
       "    </tr>\n",
       "  </tbody>\n",
       "</table>\n",
       "</div>"
      ],
      "text/plain": [
       "        Start date       Start station  Start station ID         End date  \\\n",
       "0   6/10/2010 8:01  100 Main Street SE             30000   6/10/2010 8:01   \n",
       "1  6/10/2010 17:38  100 Main Street SE             30000  6/10/2010 17:54   \n",
       "2  6/10/2010 21:15  100 Main Street SE             30000  6/10/2010 21:27   \n",
       "3  6/11/2010 13:52  100 Main Street SE             30000  6/11/2010 14:42   \n",
       "\n",
       "              End station  End station ID Account type  \\\n",
       "0      100 Main Street SE           30000       Casual   \n",
       "1              IDS Center           30042       Casual   \n",
       "2  11th Street & Hennepin           30004       Casual   \n",
       "3  Washington & 2nd Ave N           30021       Casual   \n",
       "\n",
       "   Total duration (seconds)  \n",
       "0                         8  \n",
       "1                       964  \n",
       "2                       717  \n",
       "3                      2966  "
      ]
     },
     "execution_count": 65,
     "metadata": {},
     "output_type": "execute_result"
    }
   ],
   "source": [
    "nr.head(4)"
   ]
  },
  {
   "cell_type": "code",
   "execution_count": 66,
   "metadata": {},
   "outputs": [
    {
     "data": {
      "text/html": [
       "<div>\n",
       "<style scoped>\n",
       "    .dataframe tbody tr th:only-of-type {\n",
       "        vertical-align: middle;\n",
       "    }\n",
       "\n",
       "    .dataframe tbody tr th {\n",
       "        vertical-align: top;\n",
       "    }\n",
       "\n",
       "    .dataframe thead th {\n",
       "        text-align: right;\n",
       "    }\n",
       "</style>\n",
       "<table border=\"1\" class=\"dataframe\">\n",
       "  <thead>\n",
       "    <tr style=\"text-align: right;\">\n",
       "      <th></th>\n",
       "      <th>Start date</th>\n",
       "      <th>Start station</th>\n",
       "      <th>Start terminal</th>\n",
       "      <th>End date</th>\n",
       "      <th>End station</th>\n",
       "      <th>End terminal</th>\n",
       "      <th>Total duration (ms)</th>\n",
       "      <th>Account type</th>\n",
       "    </tr>\n",
       "  </thead>\n",
       "  <tbody>\n",
       "    <tr>\n",
       "      <th>0</th>\n",
       "      <td>6/10/2010 8:01</td>\n",
       "      <td>100 Main Street SE</td>\n",
       "      <td>30000</td>\n",
       "      <td>6/10/2010 8:01</td>\n",
       "      <td>100 Main Street SE</td>\n",
       "      <td>30000.0</td>\n",
       "      <td>8018.0</td>\n",
       "      <td>Casual</td>\n",
       "    </tr>\n",
       "    <tr>\n",
       "      <th>1</th>\n",
       "      <td>6/10/2010 17:38</td>\n",
       "      <td>100 Main Street SE</td>\n",
       "      <td>30000</td>\n",
       "      <td>6/10/2010 17:54</td>\n",
       "      <td>IDS Center</td>\n",
       "      <td>30042.0</td>\n",
       "      <td>963762.0</td>\n",
       "      <td>Casual</td>\n",
       "    </tr>\n",
       "    <tr>\n",
       "      <th>2</th>\n",
       "      <td>6/10/2010 21:15</td>\n",
       "      <td>100 Main Street SE</td>\n",
       "      <td>30000</td>\n",
       "      <td>6/10/2010 21:27</td>\n",
       "      <td>11th Street &amp; Hennepin</td>\n",
       "      <td>30004.0</td>\n",
       "      <td>717079.0</td>\n",
       "      <td>Casual</td>\n",
       "    </tr>\n",
       "    <tr>\n",
       "      <th>3</th>\n",
       "      <td>6/11/2010 13:52</td>\n",
       "      <td>100 Main Street SE</td>\n",
       "      <td>30000</td>\n",
       "      <td>6/11/2010 14:42</td>\n",
       "      <td>Washington &amp; 2nd Ave N</td>\n",
       "      <td>30021.0</td>\n",
       "      <td>2966016.0</td>\n",
       "      <td>Casual</td>\n",
       "    </tr>\n",
       "  </tbody>\n",
       "</table>\n",
       "</div>"
      ],
      "text/plain": [
       "        Start date       Start station  Start terminal         End date  \\\n",
       "0   6/10/2010 8:01  100 Main Street SE           30000   6/10/2010 8:01   \n",
       "1  6/10/2010 17:38  100 Main Street SE           30000  6/10/2010 17:54   \n",
       "2  6/10/2010 21:15  100 Main Street SE           30000  6/10/2010 21:27   \n",
       "3  6/11/2010 13:52  100 Main Street SE           30000  6/11/2010 14:42   \n",
       "\n",
       "              End station  End terminal  Total duration (ms) Account type  \n",
       "0      100 Main Street SE       30000.0               8018.0       Casual  \n",
       "1              IDS Center       30042.0             963762.0       Casual  \n",
       "2  11th Street & Hennepin       30004.0             717079.0       Casual  \n",
       "3  Washington & 2nd Ave N       30021.0            2966016.0       Casual  "
      ]
     },
     "execution_count": 66,
     "metadata": {},
     "output_type": "execute_result"
    }
   ],
   "source": [
    "nr_old.head(4)"
   ]
  },
  {
   "cell_type": "code",
   "execution_count": 67,
   "metadata": {},
   "outputs": [],
   "source": [
    "# Save to file\n",
    "nr.to_csv(\"~/Projects/NiceRide/Nice_Ride_data/2010/NiceRide_trip_history_2010.csv\", index=False)"
   ]
  }
 ],
 "metadata": {
  "kernelspec": {
   "display_name": "Python 3",
   "language": "python",
   "name": "python3"
  },
  "language_info": {
   "codemirror_mode": {
    "name": "ipython",
    "version": 3
   },
   "file_extension": ".py",
   "mimetype": "text/x-python",
   "name": "python",
   "nbconvert_exporter": "python",
   "pygments_lexer": "ipython3",
   "version": "3.6.4"
  }
 },
 "nbformat": 4,
 "nbformat_minor": 2
}
