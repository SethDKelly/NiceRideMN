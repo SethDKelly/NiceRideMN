{
 "cells": [
  {
   "cell_type": "code",
   "execution_count": 1,
   "metadata": {},
   "outputs": [],
   "source": [
    "# importing dependencies\n",
    "import numpy as np\n",
    "import pandas as pd\n",
    "import datetime as dt\n",
    "import matplotlib.pyplot as plt\n",
    "\n",
    "# For model building\n",
    "from sklearn.model_selection import train_test_split, cross_val_score\n",
    "\n",
    "# Models\n",
    "from sklearn.ensemble import RandomForestRegressor"
   ]
  },
  {
   "cell_type": "markdown",
   "metadata": {},
   "source": [
    "## This notebook will be used for building a random forest decision tree (python)"
   ]
  },
  {
   "cell_type": "code",
   "execution_count": 2,
   "metadata": {},
   "outputs": [],
   "source": [
    "# Load in the data\n",
    "weather = pd.read_csv(\"~/Projects/NiceRide/Weather_data/01012010_12312017.csv\") # Weather data\n",
    "\n",
    "temp = []\n",
    "for x in [2010 + x for x in range(5)] :\n",
    "    x = pd.read_csv(\"~/Projects/NiceRide/Nice_Ride_data/\"+str(x)+\"/NiceRide_trip_history_\"+str(x)+\".csv\")\n",
    "    temp.append(x)\n",
    "    nr = pd.concat(temp)"
   ]
  },
  {
   "cell_type": "code",
   "execution_count": 3,
   "metadata": {},
   "outputs": [],
   "source": [
    "weather['DATE'] = weather['DATE'].apply(lambda x: dt.datetime.strptime(x,'%Y-%m-%d'))\n",
    "\n",
    "nr['Start_date'] = nr['Start_date'].apply(lambda x: dt.datetime.strptime(x,'%Y-%m-%d %H:%M:%S'))\n",
    "nr['End_date'] = nr['End_date'].apply(lambda x: dt.datetime.strptime(x,'%Y-%m-%d %H:%M:%S'))"
   ]
  },
  {
   "cell_type": "markdown",
   "metadata": {},
   "source": [
    "Correcting missing data in the weather dataframe"
   ]
  },
  {
   "cell_type": "code",
   "execution_count": 4,
   "metadata": {},
   "outputs": [],
   "source": [
    "# Changing TAVG-NAN values to the mean of the TMAX and TMIN\n",
    "weather = weather.fillna(value={'TAVG': weather[weather.TAVG.isna()][['TMAX', 'TMIN']]\n",
    "                                .agg(\"mean\", axis=\"columns\")})"
   ]
  },
  {
   "cell_type": "markdown",
   "metadata": {},
   "source": [
    "### Preparing the data to be used for the model"
   ]
  },
  {
   "cell_type": "code",
   "execution_count": 5,
   "metadata": {},
   "outputs": [],
   "source": [
    "# Resampling our NR data so it takes the start date and Total duration, returns a count of rides per day 'daily_totals'\n",
    "\n",
    "daily_totals = nr[['Start_date', 'duration']].resample('D', on='Start_date').count()\n",
    "daily_totals = daily_totals.drop('Start_date', axis=1)\n",
    "daily_totals = daily_totals.reset_index()\n",
    "daily_totals = daily_totals.rename(index=str, columns={\"duration\": \"daily_count\",'Start_date':'DATE'})"
   ]
  },
  {
   "cell_type": "code",
   "execution_count": 6,
   "metadata": {},
   "outputs": [
    {
     "name": "stdout",
     "output_type": "stream",
     "text": [
      "        DATE  daily_count\n",
      "0 2010-06-07            1\n",
      "1 2010-06-08            1\n",
      "2 2010-06-09            5\n",
      "3 2010-06-10           94\n",
      "4 2010-06-11          285\n",
      "       daily_count\n",
      "count  1610.000000\n",
      "mean    812.611801\n",
      "std     873.285190\n",
      "min       0.000000\n",
      "25%       0.000000\n",
      "50%     622.000000\n",
      "75%    1385.750000\n",
      "max    4471.000000\n"
     ]
    }
   ],
   "source": [
    "print(daily_totals.head())\n",
    "print(daily_totals.describe())"
   ]
  },
  {
   "cell_type": "code",
   "execution_count": 7,
   "metadata": {},
   "outputs": [
    {
     "data": {
      "text/plain": [
       "Index(['Start_date', 'Start_name', 'Start_id', 'End_date', 'End_name',\n",
       "       'End_id', 'duration', 'account'],\n",
       "      dtype='object')"
      ]
     },
     "execution_count": 7,
     "metadata": {},
     "output_type": "execute_result"
    }
   ],
   "source": [
    "nr.keys()"
   ]
  },
  {
   "cell_type": "code",
   "execution_count": 8,
   "metadata": {},
   "outputs": [],
   "source": [
    "daily_means = nr[['Start_date', 'duration']].resample('D', on='Start_date').mean()\n",
    "daily_means = daily_means.reset_index()\n",
    "daily_means = daily_means.rename(index=str, columns={\"duration\": \"daily_mean\",'Start_date':'DATE'})"
   ]
  },
  {
   "cell_type": "markdown",
   "metadata": {},
   "source": [
    "The daily totals DataFrame looks good"
   ]
  },
  {
   "cell_type": "code",
   "execution_count": 9,
   "metadata": {},
   "outputs": [
    {
     "name": "stdout",
     "output_type": "stream",
     "text": [
      "Index(['STATION', 'NAME', 'DATE', 'AWND', 'PRCP', 'SNOW', 'SNWD', 'TAVG',\n",
      "       'TMAX', 'TMIN'],\n",
      "      dtype='object')\n"
     ]
    }
   ],
   "source": [
    "print(weather.keys())\n",
    "# The weather station and name won't be necessary or add anything to our analysis\n",
    "weather = weather.drop(['STATION', 'NAME'], axis=1)"
   ]
  },
  {
   "cell_type": "code",
   "execution_count": 10,
   "metadata": {},
   "outputs": [
    {
     "data": {
      "text/html": [
       "<div>\n",
       "<style scoped>\n",
       "    .dataframe tbody tr th:only-of-type {\n",
       "        vertical-align: middle;\n",
       "    }\n",
       "\n",
       "    .dataframe tbody tr th {\n",
       "        vertical-align: top;\n",
       "    }\n",
       "\n",
       "    .dataframe thead th {\n",
       "        text-align: right;\n",
       "    }\n",
       "</style>\n",
       "<table border=\"1\" class=\"dataframe\">\n",
       "  <thead>\n",
       "    <tr style=\"text-align: right;\">\n",
       "      <th></th>\n",
       "      <th>DATE</th>\n",
       "      <th>AWND</th>\n",
       "      <th>PRCP</th>\n",
       "      <th>SNOW</th>\n",
       "      <th>SNWD</th>\n",
       "      <th>TAVG</th>\n",
       "      <th>TMAX</th>\n",
       "      <th>TMIN</th>\n",
       "    </tr>\n",
       "  </thead>\n",
       "  <tbody>\n",
       "    <tr>\n",
       "      <th>0</th>\n",
       "      <td>2010-01-01</td>\n",
       "      <td>8.95</td>\n",
       "      <td>0.0</td>\n",
       "      <td>0.0</td>\n",
       "      <td>9</td>\n",
       "      <td>-1.5</td>\n",
       "      <td>6</td>\n",
       "      <td>-9</td>\n",
       "    </tr>\n",
       "    <tr>\n",
       "      <th>1</th>\n",
       "      <td>2010-01-02</td>\n",
       "      <td>4.03</td>\n",
       "      <td>0.0</td>\n",
       "      <td>0.0</td>\n",
       "      <td>9</td>\n",
       "      <td>-7.0</td>\n",
       "      <td>1</td>\n",
       "      <td>-15</td>\n",
       "    </tr>\n",
       "    <tr>\n",
       "      <th>2</th>\n",
       "      <td>2010-01-03</td>\n",
       "      <td>2.91</td>\n",
       "      <td>0.0</td>\n",
       "      <td>0.0</td>\n",
       "      <td>9</td>\n",
       "      <td>-3.5</td>\n",
       "      <td>7</td>\n",
       "      <td>-14</td>\n",
       "    </tr>\n",
       "    <tr>\n",
       "      <th>3</th>\n",
       "      <td>2010-01-04</td>\n",
       "      <td>5.59</td>\n",
       "      <td>0.0</td>\n",
       "      <td>0.0</td>\n",
       "      <td>9</td>\n",
       "      <td>-1.5</td>\n",
       "      <td>7</td>\n",
       "      <td>-10</td>\n",
       "    </tr>\n",
       "    <tr>\n",
       "      <th>4</th>\n",
       "      <td>2010-01-05</td>\n",
       "      <td>3.13</td>\n",
       "      <td>0.0</td>\n",
       "      <td>0.0</td>\n",
       "      <td>9</td>\n",
       "      <td>0.5</td>\n",
       "      <td>10</td>\n",
       "      <td>-9</td>\n",
       "    </tr>\n",
       "  </tbody>\n",
       "</table>\n",
       "</div>"
      ],
      "text/plain": [
       "        DATE  AWND  PRCP  SNOW  SNWD  TAVG  TMAX  TMIN\n",
       "0 2010-01-01  8.95   0.0   0.0     9  -1.5     6    -9\n",
       "1 2010-01-02  4.03   0.0   0.0     9  -7.0     1   -15\n",
       "2 2010-01-03  2.91   0.0   0.0     9  -3.5     7   -14\n",
       "3 2010-01-04  5.59   0.0   0.0     9  -1.5     7   -10\n",
       "4 2010-01-05  3.13   0.0   0.0     9   0.5    10    -9"
      ]
     },
     "execution_count": 10,
     "metadata": {},
     "output_type": "execute_result"
    }
   ],
   "source": [
    "weather.head()"
   ]
  },
  {
   "cell_type": "code",
   "execution_count": 11,
   "metadata": {},
   "outputs": [
    {
     "name": "stdout",
     "output_type": "stream",
     "text": [
      "<class 'pandas.core.frame.DataFrame'>\n",
      "Int64Index: 2922 entries, 0 to 2921\n",
      "Data columns (total 10 columns):\n",
      "DATE           2922 non-null datetime64[ns]\n",
      "AWND           2922 non-null float64\n",
      "PRCP           2922 non-null float64\n",
      "SNOW           2922 non-null float64\n",
      "SNWD           2922 non-null int64\n",
      "TAVG           2922 non-null float64\n",
      "TMAX           2922 non-null int64\n",
      "TMIN           2922 non-null int64\n",
      "daily_count    1610 non-null float64\n",
      "daily_mean     1016 non-null float64\n",
      "dtypes: datetime64[ns](1), float64(6), int64(3)\n",
      "memory usage: 251.1 KB\n"
     ]
    },
    {
     "data": {
      "text/html": [
       "<div>\n",
       "<style scoped>\n",
       "    .dataframe tbody tr th:only-of-type {\n",
       "        vertical-align: middle;\n",
       "    }\n",
       "\n",
       "    .dataframe tbody tr th {\n",
       "        vertical-align: top;\n",
       "    }\n",
       "\n",
       "    .dataframe thead th {\n",
       "        text-align: right;\n",
       "    }\n",
       "</style>\n",
       "<table border=\"1\" class=\"dataframe\">\n",
       "  <thead>\n",
       "    <tr style=\"text-align: right;\">\n",
       "      <th></th>\n",
       "      <th>DATE</th>\n",
       "      <th>AWND</th>\n",
       "      <th>PRCP</th>\n",
       "      <th>SNOW</th>\n",
       "      <th>SNWD</th>\n",
       "      <th>TAVG</th>\n",
       "      <th>TMAX</th>\n",
       "      <th>TMIN</th>\n",
       "      <th>daily_count</th>\n",
       "      <th>daily_mean</th>\n",
       "    </tr>\n",
       "  </thead>\n",
       "  <tbody>\n",
       "    <tr>\n",
       "      <th>0</th>\n",
       "      <td>2010-01-01</td>\n",
       "      <td>8.95</td>\n",
       "      <td>0.0</td>\n",
       "      <td>0.0</td>\n",
       "      <td>9</td>\n",
       "      <td>-1.5</td>\n",
       "      <td>6</td>\n",
       "      <td>-9</td>\n",
       "      <td>NaN</td>\n",
       "      <td>NaN</td>\n",
       "    </tr>\n",
       "    <tr>\n",
       "      <th>1</th>\n",
       "      <td>2010-01-02</td>\n",
       "      <td>4.03</td>\n",
       "      <td>0.0</td>\n",
       "      <td>0.0</td>\n",
       "      <td>9</td>\n",
       "      <td>-7.0</td>\n",
       "      <td>1</td>\n",
       "      <td>-15</td>\n",
       "      <td>NaN</td>\n",
       "      <td>NaN</td>\n",
       "    </tr>\n",
       "    <tr>\n",
       "      <th>2</th>\n",
       "      <td>2010-01-03</td>\n",
       "      <td>2.91</td>\n",
       "      <td>0.0</td>\n",
       "      <td>0.0</td>\n",
       "      <td>9</td>\n",
       "      <td>-3.5</td>\n",
       "      <td>7</td>\n",
       "      <td>-14</td>\n",
       "      <td>NaN</td>\n",
       "      <td>NaN</td>\n",
       "    </tr>\n",
       "    <tr>\n",
       "      <th>3</th>\n",
       "      <td>2010-01-04</td>\n",
       "      <td>5.59</td>\n",
       "      <td>0.0</td>\n",
       "      <td>0.0</td>\n",
       "      <td>9</td>\n",
       "      <td>-1.5</td>\n",
       "      <td>7</td>\n",
       "      <td>-10</td>\n",
       "      <td>NaN</td>\n",
       "      <td>NaN</td>\n",
       "    </tr>\n",
       "    <tr>\n",
       "      <th>4</th>\n",
       "      <td>2010-01-05</td>\n",
       "      <td>3.13</td>\n",
       "      <td>0.0</td>\n",
       "      <td>0.0</td>\n",
       "      <td>9</td>\n",
       "      <td>0.5</td>\n",
       "      <td>10</td>\n",
       "      <td>-9</td>\n",
       "      <td>NaN</td>\n",
       "      <td>NaN</td>\n",
       "    </tr>\n",
       "  </tbody>\n",
       "</table>\n",
       "</div>"
      ],
      "text/plain": [
       "        DATE  AWND  PRCP  SNOW  SNWD  TAVG  TMAX  TMIN  daily_count  \\\n",
       "0 2010-01-01  8.95   0.0   0.0     9  -1.5     6    -9          NaN   \n",
       "1 2010-01-02  4.03   0.0   0.0     9  -7.0     1   -15          NaN   \n",
       "2 2010-01-03  2.91   0.0   0.0     9  -3.5     7   -14          NaN   \n",
       "3 2010-01-04  5.59   0.0   0.0     9  -1.5     7   -10          NaN   \n",
       "4 2010-01-05  3.13   0.0   0.0     9   0.5    10    -9          NaN   \n",
       "\n",
       "   daily_mean  \n",
       "0         NaN  \n",
       "1         NaN  \n",
       "2         NaN  \n",
       "3         NaN  \n",
       "4         NaN  "
      ]
     },
     "execution_count": 11,
     "metadata": {},
     "output_type": "execute_result"
    }
   ],
   "source": [
    "temp = weather.merge(daily_totals, how='outer',on='DATE')\n",
    "temp = temp.merge(daily_means, how='outer',on='DATE')\n",
    "temp.info()\n",
    "temp.head()"
   ]
  },
  {
   "cell_type": "code",
   "execution_count": 12,
   "metadata": {},
   "outputs": [
    {
     "name": "stdout",
     "output_type": "stream",
     "text": [
      "<class 'pandas.core.frame.DataFrame'>\n",
      "Int64Index: 2922 entries, 0 to 2921\n",
      "Data columns (total 10 columns):\n",
      "DATE           2922 non-null datetime64[ns]\n",
      "AWND           2922 non-null float64\n",
      "PRCP           2922 non-null float64\n",
      "SNOW           2922 non-null float64\n",
      "SNWD           2922 non-null int64\n",
      "TAVG           2922 non-null float64\n",
      "TMAX           2922 non-null int64\n",
      "TMIN           2922 non-null int64\n",
      "daily_count    2922 non-null float64\n",
      "daily_mean     2922 non-null float64\n",
      "dtypes: datetime64[ns](1), float64(6), int64(3)\n",
      "memory usage: 251.1 KB\n"
     ]
    }
   ],
   "source": [
    "# Notice how the count of DCOUNT varies from what the other columns have\n",
    "features = temp.fillna(value=0,axis=0) # Where we don't have a daily count (Dcount) fill this with zeros instead\n",
    "features.info()"
   ]
  },
  {
   "cell_type": "code",
   "execution_count": 13,
   "metadata": {},
   "outputs": [
    {
     "data": {
      "text/html": [
       "<div>\n",
       "<style scoped>\n",
       "    .dataframe tbody tr th:only-of-type {\n",
       "        vertical-align: middle;\n",
       "    }\n",
       "\n",
       "    .dataframe tbody tr th {\n",
       "        vertical-align: top;\n",
       "    }\n",
       "\n",
       "    .dataframe thead th {\n",
       "        text-align: right;\n",
       "    }\n",
       "</style>\n",
       "<table border=\"1\" class=\"dataframe\">\n",
       "  <thead>\n",
       "    <tr style=\"text-align: right;\">\n",
       "      <th></th>\n",
       "      <th>DATE</th>\n",
       "      <th>AWND</th>\n",
       "      <th>PRCP</th>\n",
       "      <th>SNOW</th>\n",
       "      <th>SNWD</th>\n",
       "      <th>TAVG</th>\n",
       "      <th>TMAX</th>\n",
       "      <th>TMIN</th>\n",
       "      <th>daily_count</th>\n",
       "      <th>daily_mean</th>\n",
       "    </tr>\n",
       "  </thead>\n",
       "  <tbody>\n",
       "    <tr>\n",
       "      <th>0</th>\n",
       "      <td>2010-01-01</td>\n",
       "      <td>8.95</td>\n",
       "      <td>0.0</td>\n",
       "      <td>0.0</td>\n",
       "      <td>9</td>\n",
       "      <td>-1.5</td>\n",
       "      <td>6</td>\n",
       "      <td>-9</td>\n",
       "      <td>0.0</td>\n",
       "      <td>0.0</td>\n",
       "    </tr>\n",
       "    <tr>\n",
       "      <th>1</th>\n",
       "      <td>2010-01-02</td>\n",
       "      <td>4.03</td>\n",
       "      <td>0.0</td>\n",
       "      <td>0.0</td>\n",
       "      <td>9</td>\n",
       "      <td>-7.0</td>\n",
       "      <td>1</td>\n",
       "      <td>-15</td>\n",
       "      <td>0.0</td>\n",
       "      <td>0.0</td>\n",
       "    </tr>\n",
       "    <tr>\n",
       "      <th>2</th>\n",
       "      <td>2010-01-03</td>\n",
       "      <td>2.91</td>\n",
       "      <td>0.0</td>\n",
       "      <td>0.0</td>\n",
       "      <td>9</td>\n",
       "      <td>-3.5</td>\n",
       "      <td>7</td>\n",
       "      <td>-14</td>\n",
       "      <td>0.0</td>\n",
       "      <td>0.0</td>\n",
       "    </tr>\n",
       "    <tr>\n",
       "      <th>3</th>\n",
       "      <td>2010-01-04</td>\n",
       "      <td>5.59</td>\n",
       "      <td>0.0</td>\n",
       "      <td>0.0</td>\n",
       "      <td>9</td>\n",
       "      <td>-1.5</td>\n",
       "      <td>7</td>\n",
       "      <td>-10</td>\n",
       "      <td>0.0</td>\n",
       "      <td>0.0</td>\n",
       "    </tr>\n",
       "    <tr>\n",
       "      <th>4</th>\n",
       "      <td>2010-01-05</td>\n",
       "      <td>3.13</td>\n",
       "      <td>0.0</td>\n",
       "      <td>0.0</td>\n",
       "      <td>9</td>\n",
       "      <td>0.5</td>\n",
       "      <td>10</td>\n",
       "      <td>-9</td>\n",
       "      <td>0.0</td>\n",
       "      <td>0.0</td>\n",
       "    </tr>\n",
       "  </tbody>\n",
       "</table>\n",
       "</div>"
      ],
      "text/plain": [
       "        DATE  AWND  PRCP  SNOW  SNWD  TAVG  TMAX  TMIN  daily_count  \\\n",
       "0 2010-01-01  8.95   0.0   0.0     9  -1.5     6    -9          0.0   \n",
       "1 2010-01-02  4.03   0.0   0.0     9  -7.0     1   -15          0.0   \n",
       "2 2010-01-03  2.91   0.0   0.0     9  -3.5     7   -14          0.0   \n",
       "3 2010-01-04  5.59   0.0   0.0     9  -1.5     7   -10          0.0   \n",
       "4 2010-01-05  3.13   0.0   0.0     9   0.5    10    -9          0.0   \n",
       "\n",
       "   daily_mean  \n",
       "0         0.0  \n",
       "1         0.0  \n",
       "2         0.0  \n",
       "3         0.0  \n",
       "4         0.0  "
      ]
     },
     "execution_count": 13,
     "metadata": {},
     "output_type": "execute_result"
    }
   ],
   "source": [
    "features.head()"
   ]
  },
  {
   "cell_type": "markdown",
   "metadata": {},
   "source": [
    "This next section will change our date column from dtype datetime into seperate numerical relevant date colummns"
   ]
  },
  {
   "cell_type": "code",
   "execution_count": 14,
   "metadata": {},
   "outputs": [],
   "source": [
    "features['YEAR'] = features['DATE'].dt.year\n",
    "features['MONTH'] = features['DATE'].dt.month\n",
    "features['DAY'] = features['DATE'].dt.day"
   ]
  },
  {
   "cell_type": "code",
   "execution_count": 15,
   "metadata": {
    "scrolled": false
   },
   "outputs": [
    {
     "data": {
      "text/html": [
       "<div>\n",
       "<style scoped>\n",
       "    .dataframe tbody tr th:only-of-type {\n",
       "        vertical-align: middle;\n",
       "    }\n",
       "\n",
       "    .dataframe tbody tr th {\n",
       "        vertical-align: top;\n",
       "    }\n",
       "\n",
       "    .dataframe thead th {\n",
       "        text-align: right;\n",
       "    }\n",
       "</style>\n",
       "<table border=\"1\" class=\"dataframe\">\n",
       "  <thead>\n",
       "    <tr style=\"text-align: right;\">\n",
       "      <th></th>\n",
       "      <th>DATE</th>\n",
       "      <th>AWND</th>\n",
       "      <th>PRCP</th>\n",
       "      <th>SNOW</th>\n",
       "      <th>SNWD</th>\n",
       "      <th>TAVG</th>\n",
       "      <th>TMAX</th>\n",
       "      <th>TMIN</th>\n",
       "      <th>daily_count</th>\n",
       "      <th>daily_mean</th>\n",
       "      <th>YEAR</th>\n",
       "      <th>MONTH</th>\n",
       "      <th>DAY</th>\n",
       "    </tr>\n",
       "  </thead>\n",
       "  <tbody>\n",
       "    <tr>\n",
       "      <th>0</th>\n",
       "      <td>2010-01-01</td>\n",
       "      <td>8.95</td>\n",
       "      <td>0.0</td>\n",
       "      <td>0.0</td>\n",
       "      <td>9</td>\n",
       "      <td>-1.5</td>\n",
       "      <td>6</td>\n",
       "      <td>-9</td>\n",
       "      <td>0.0</td>\n",
       "      <td>0.0</td>\n",
       "      <td>2010</td>\n",
       "      <td>1</td>\n",
       "      <td>1</td>\n",
       "    </tr>\n",
       "    <tr>\n",
       "      <th>1</th>\n",
       "      <td>2010-01-02</td>\n",
       "      <td>4.03</td>\n",
       "      <td>0.0</td>\n",
       "      <td>0.0</td>\n",
       "      <td>9</td>\n",
       "      <td>-7.0</td>\n",
       "      <td>1</td>\n",
       "      <td>-15</td>\n",
       "      <td>0.0</td>\n",
       "      <td>0.0</td>\n",
       "      <td>2010</td>\n",
       "      <td>1</td>\n",
       "      <td>2</td>\n",
       "    </tr>\n",
       "    <tr>\n",
       "      <th>2</th>\n",
       "      <td>2010-01-03</td>\n",
       "      <td>2.91</td>\n",
       "      <td>0.0</td>\n",
       "      <td>0.0</td>\n",
       "      <td>9</td>\n",
       "      <td>-3.5</td>\n",
       "      <td>7</td>\n",
       "      <td>-14</td>\n",
       "      <td>0.0</td>\n",
       "      <td>0.0</td>\n",
       "      <td>2010</td>\n",
       "      <td>1</td>\n",
       "      <td>3</td>\n",
       "    </tr>\n",
       "    <tr>\n",
       "      <th>3</th>\n",
       "      <td>2010-01-04</td>\n",
       "      <td>5.59</td>\n",
       "      <td>0.0</td>\n",
       "      <td>0.0</td>\n",
       "      <td>9</td>\n",
       "      <td>-1.5</td>\n",
       "      <td>7</td>\n",
       "      <td>-10</td>\n",
       "      <td>0.0</td>\n",
       "      <td>0.0</td>\n",
       "      <td>2010</td>\n",
       "      <td>1</td>\n",
       "      <td>4</td>\n",
       "    </tr>\n",
       "    <tr>\n",
       "      <th>4</th>\n",
       "      <td>2010-01-05</td>\n",
       "      <td>3.13</td>\n",
       "      <td>0.0</td>\n",
       "      <td>0.0</td>\n",
       "      <td>9</td>\n",
       "      <td>0.5</td>\n",
       "      <td>10</td>\n",
       "      <td>-9</td>\n",
       "      <td>0.0</td>\n",
       "      <td>0.0</td>\n",
       "      <td>2010</td>\n",
       "      <td>1</td>\n",
       "      <td>5</td>\n",
       "    </tr>\n",
       "  </tbody>\n",
       "</table>\n",
       "</div>"
      ],
      "text/plain": [
       "        DATE  AWND  PRCP  SNOW  SNWD  TAVG  TMAX  TMIN  daily_count  \\\n",
       "0 2010-01-01  8.95   0.0   0.0     9  -1.5     6    -9          0.0   \n",
       "1 2010-01-02  4.03   0.0   0.0     9  -7.0     1   -15          0.0   \n",
       "2 2010-01-03  2.91   0.0   0.0     9  -3.5     7   -14          0.0   \n",
       "3 2010-01-04  5.59   0.0   0.0     9  -1.5     7   -10          0.0   \n",
       "4 2010-01-05  3.13   0.0   0.0     9   0.5    10    -9          0.0   \n",
       "\n",
       "   daily_mean  YEAR  MONTH  DAY  \n",
       "0         0.0  2010      1    1  \n",
       "1         0.0  2010      1    2  \n",
       "2         0.0  2010      1    3  \n",
       "3         0.0  2010      1    4  \n",
       "4         0.0  2010      1    5  "
      ]
     },
     "execution_count": 15,
     "metadata": {},
     "output_type": "execute_result"
    }
   ],
   "source": [
    "features.head() # Three new, seperate, columns that identify year, month, day"
   ]
  },
  {
   "cell_type": "code",
   "execution_count": 16,
   "metadata": {},
   "outputs": [],
   "source": [
    "# Create a weekday variable column Mon = 0, Sun = 6\n",
    "features['WEND'] = features['DATE'].dt.weekday"
   ]
  },
  {
   "cell_type": "code",
   "execution_count": 17,
   "metadata": {},
   "outputs": [
    {
     "data": {
      "text/html": [
       "<div>\n",
       "<style scoped>\n",
       "    .dataframe tbody tr th:only-of-type {\n",
       "        vertical-align: middle;\n",
       "    }\n",
       "\n",
       "    .dataframe tbody tr th {\n",
       "        vertical-align: top;\n",
       "    }\n",
       "\n",
       "    .dataframe thead th {\n",
       "        text-align: right;\n",
       "    }\n",
       "</style>\n",
       "<table border=\"1\" class=\"dataframe\">\n",
       "  <thead>\n",
       "    <tr style=\"text-align: right;\">\n",
       "      <th></th>\n",
       "      <th>DATE</th>\n",
       "      <th>AWND</th>\n",
       "      <th>PRCP</th>\n",
       "      <th>SNOW</th>\n",
       "      <th>SNWD</th>\n",
       "      <th>TAVG</th>\n",
       "      <th>TMAX</th>\n",
       "      <th>TMIN</th>\n",
       "      <th>daily_count</th>\n",
       "      <th>daily_mean</th>\n",
       "      <th>YEAR</th>\n",
       "      <th>MONTH</th>\n",
       "      <th>DAY</th>\n",
       "      <th>WEND</th>\n",
       "    </tr>\n",
       "  </thead>\n",
       "  <tbody>\n",
       "    <tr>\n",
       "      <th>0</th>\n",
       "      <td>2010-01-01</td>\n",
       "      <td>8.95</td>\n",
       "      <td>0.0</td>\n",
       "      <td>0.0</td>\n",
       "      <td>9</td>\n",
       "      <td>-1.5</td>\n",
       "      <td>6</td>\n",
       "      <td>-9</td>\n",
       "      <td>0.0</td>\n",
       "      <td>0.0</td>\n",
       "      <td>2010</td>\n",
       "      <td>1</td>\n",
       "      <td>1</td>\n",
       "      <td>0</td>\n",
       "    </tr>\n",
       "    <tr>\n",
       "      <th>1</th>\n",
       "      <td>2010-01-02</td>\n",
       "      <td>4.03</td>\n",
       "      <td>0.0</td>\n",
       "      <td>0.0</td>\n",
       "      <td>9</td>\n",
       "      <td>-7.0</td>\n",
       "      <td>1</td>\n",
       "      <td>-15</td>\n",
       "      <td>0.0</td>\n",
       "      <td>0.0</td>\n",
       "      <td>2010</td>\n",
       "      <td>1</td>\n",
       "      <td>2</td>\n",
       "      <td>1</td>\n",
       "    </tr>\n",
       "    <tr>\n",
       "      <th>2</th>\n",
       "      <td>2010-01-03</td>\n",
       "      <td>2.91</td>\n",
       "      <td>0.0</td>\n",
       "      <td>0.0</td>\n",
       "      <td>9</td>\n",
       "      <td>-3.5</td>\n",
       "      <td>7</td>\n",
       "      <td>-14</td>\n",
       "      <td>0.0</td>\n",
       "      <td>0.0</td>\n",
       "      <td>2010</td>\n",
       "      <td>1</td>\n",
       "      <td>3</td>\n",
       "      <td>1</td>\n",
       "    </tr>\n",
       "    <tr>\n",
       "      <th>3</th>\n",
       "      <td>2010-01-04</td>\n",
       "      <td>5.59</td>\n",
       "      <td>0.0</td>\n",
       "      <td>0.0</td>\n",
       "      <td>9</td>\n",
       "      <td>-1.5</td>\n",
       "      <td>7</td>\n",
       "      <td>-10</td>\n",
       "      <td>0.0</td>\n",
       "      <td>0.0</td>\n",
       "      <td>2010</td>\n",
       "      <td>1</td>\n",
       "      <td>4</td>\n",
       "      <td>0</td>\n",
       "    </tr>\n",
       "    <tr>\n",
       "      <th>4</th>\n",
       "      <td>2010-01-05</td>\n",
       "      <td>3.13</td>\n",
       "      <td>0.0</td>\n",
       "      <td>0.0</td>\n",
       "      <td>9</td>\n",
       "      <td>0.5</td>\n",
       "      <td>10</td>\n",
       "      <td>-9</td>\n",
       "      <td>0.0</td>\n",
       "      <td>0.0</td>\n",
       "      <td>2010</td>\n",
       "      <td>1</td>\n",
       "      <td>5</td>\n",
       "      <td>0</td>\n",
       "    </tr>\n",
       "  </tbody>\n",
       "</table>\n",
       "</div>"
      ],
      "text/plain": [
       "        DATE  AWND  PRCP  SNOW  SNWD  TAVG  TMAX  TMIN  daily_count  \\\n",
       "0 2010-01-01  8.95   0.0   0.0     9  -1.5     6    -9          0.0   \n",
       "1 2010-01-02  4.03   0.0   0.0     9  -7.0     1   -15          0.0   \n",
       "2 2010-01-03  2.91   0.0   0.0     9  -3.5     7   -14          0.0   \n",
       "3 2010-01-04  5.59   0.0   0.0     9  -1.5     7   -10          0.0   \n",
       "4 2010-01-05  3.13   0.0   0.0     9   0.5    10    -9          0.0   \n",
       "\n",
       "   daily_mean  YEAR  MONTH  DAY  WEND  \n",
       "0         0.0  2010      1    1     0  \n",
       "1         0.0  2010      1    2     1  \n",
       "2         0.0  2010      1    3     1  \n",
       "3         0.0  2010      1    4     0  \n",
       "4         0.0  2010      1    5     0  "
      ]
     },
     "execution_count": 17,
     "metadata": {},
     "output_type": "execute_result"
    }
   ],
   "source": [
    "# Adjust WEND column to be catagorical; If it's a weekday WEND = 0 else if weekend WEND = 1\n",
    "features['WEND'] = features['WEND'].apply(lambda x:1 if x>4 else 0)\n",
    "features.head()"
   ]
  },
  {
   "cell_type": "code",
   "execution_count": 18,
   "metadata": {},
   "outputs": [
    {
     "data": {
      "text/html": [
       "<div>\n",
       "<style scoped>\n",
       "    .dataframe tbody tr th:only-of-type {\n",
       "        vertical-align: middle;\n",
       "    }\n",
       "\n",
       "    .dataframe tbody tr th {\n",
       "        vertical-align: top;\n",
       "    }\n",
       "\n",
       "    .dataframe thead th {\n",
       "        text-align: right;\n",
       "    }\n",
       "</style>\n",
       "<table border=\"1\" class=\"dataframe\">\n",
       "  <thead>\n",
       "    <tr style=\"text-align: right;\">\n",
       "      <th></th>\n",
       "      <th>DATE</th>\n",
       "      <th>AWND</th>\n",
       "      <th>PRCP</th>\n",
       "      <th>SNOW</th>\n",
       "      <th>SNWD</th>\n",
       "      <th>TAVG</th>\n",
       "      <th>TMAX</th>\n",
       "      <th>TMIN</th>\n",
       "      <th>daily_count</th>\n",
       "      <th>daily_mean</th>\n",
       "      <th>YEAR</th>\n",
       "      <th>MONTH</th>\n",
       "      <th>DAY</th>\n",
       "      <th>WEND</th>\n",
       "      <th>SPRING</th>\n",
       "      <th>SUMMER</th>\n",
       "    </tr>\n",
       "  </thead>\n",
       "  <tbody>\n",
       "    <tr>\n",
       "      <th>0</th>\n",
       "      <td>2010-01-01</td>\n",
       "      <td>8.95</td>\n",
       "      <td>0.0</td>\n",
       "      <td>0.0</td>\n",
       "      <td>9</td>\n",
       "      <td>-1.5</td>\n",
       "      <td>6</td>\n",
       "      <td>-9</td>\n",
       "      <td>0.0</td>\n",
       "      <td>0.0</td>\n",
       "      <td>2010</td>\n",
       "      <td>1</td>\n",
       "      <td>1</td>\n",
       "      <td>0</td>\n",
       "      <td>0</td>\n",
       "      <td>0</td>\n",
       "    </tr>\n",
       "    <tr>\n",
       "      <th>1</th>\n",
       "      <td>2010-01-02</td>\n",
       "      <td>4.03</td>\n",
       "      <td>0.0</td>\n",
       "      <td>0.0</td>\n",
       "      <td>9</td>\n",
       "      <td>-7.0</td>\n",
       "      <td>1</td>\n",
       "      <td>-15</td>\n",
       "      <td>0.0</td>\n",
       "      <td>0.0</td>\n",
       "      <td>2010</td>\n",
       "      <td>1</td>\n",
       "      <td>2</td>\n",
       "      <td>1</td>\n",
       "      <td>0</td>\n",
       "      <td>0</td>\n",
       "    </tr>\n",
       "    <tr>\n",
       "      <th>2</th>\n",
       "      <td>2010-01-03</td>\n",
       "      <td>2.91</td>\n",
       "      <td>0.0</td>\n",
       "      <td>0.0</td>\n",
       "      <td>9</td>\n",
       "      <td>-3.5</td>\n",
       "      <td>7</td>\n",
       "      <td>-14</td>\n",
       "      <td>0.0</td>\n",
       "      <td>0.0</td>\n",
       "      <td>2010</td>\n",
       "      <td>1</td>\n",
       "      <td>3</td>\n",
       "      <td>1</td>\n",
       "      <td>0</td>\n",
       "      <td>0</td>\n",
       "    </tr>\n",
       "    <tr>\n",
       "      <th>3</th>\n",
       "      <td>2010-01-04</td>\n",
       "      <td>5.59</td>\n",
       "      <td>0.0</td>\n",
       "      <td>0.0</td>\n",
       "      <td>9</td>\n",
       "      <td>-1.5</td>\n",
       "      <td>7</td>\n",
       "      <td>-10</td>\n",
       "      <td>0.0</td>\n",
       "      <td>0.0</td>\n",
       "      <td>2010</td>\n",
       "      <td>1</td>\n",
       "      <td>4</td>\n",
       "      <td>0</td>\n",
       "      <td>0</td>\n",
       "      <td>0</td>\n",
       "    </tr>\n",
       "    <tr>\n",
       "      <th>4</th>\n",
       "      <td>2010-01-05</td>\n",
       "      <td>3.13</td>\n",
       "      <td>0.0</td>\n",
       "      <td>0.0</td>\n",
       "      <td>9</td>\n",
       "      <td>0.5</td>\n",
       "      <td>10</td>\n",
       "      <td>-9</td>\n",
       "      <td>0.0</td>\n",
       "      <td>0.0</td>\n",
       "      <td>2010</td>\n",
       "      <td>1</td>\n",
       "      <td>5</td>\n",
       "      <td>0</td>\n",
       "      <td>0</td>\n",
       "      <td>0</td>\n",
       "    </tr>\n",
       "  </tbody>\n",
       "</table>\n",
       "</div>"
      ],
      "text/plain": [
       "        DATE  AWND  PRCP  SNOW  SNWD  TAVG  TMAX  TMIN  daily_count  \\\n",
       "0 2010-01-01  8.95   0.0   0.0     9  -1.5     6    -9          0.0   \n",
       "1 2010-01-02  4.03   0.0   0.0     9  -7.0     1   -15          0.0   \n",
       "2 2010-01-03  2.91   0.0   0.0     9  -3.5     7   -14          0.0   \n",
       "3 2010-01-04  5.59   0.0   0.0     9  -1.5     7   -10          0.0   \n",
       "4 2010-01-05  3.13   0.0   0.0     9   0.5    10    -9          0.0   \n",
       "\n",
       "   daily_mean  YEAR  MONTH  DAY  WEND  SPRING  SUMMER  \n",
       "0         0.0  2010      1    1     0       0       0  \n",
       "1         0.0  2010      1    2     1       0       0  \n",
       "2         0.0  2010      1    3     1       0       0  \n",
       "3         0.0  2010      1    4     0       0       0  \n",
       "4         0.0  2010      1    5     0       0       0  "
      ]
     },
     "execution_count": 18,
     "metadata": {},
     "output_type": "execute_result"
    }
   ],
   "source": [
    "features['SPRING'] = features['MONTH'].apply(lambda x:1 if x>= 4 and x <= 6 else 0)\n",
    "features['SUMMER'] = features['MONTH'].apply(lambda x:1 if x >= 7 and x <= 9 else 0)\n",
    "features.head()"
   ]
  },
  {
   "cell_type": "code",
   "execution_count": 19,
   "metadata": {},
   "outputs": [],
   "source": [
    "# Random forests can't use datetime objects\n",
    "features = features.drop('DATE', axis=1)"
   ]
  },
  {
   "cell_type": "code",
   "execution_count": 20,
   "metadata": {},
   "outputs": [
    {
     "name": "stdout",
     "output_type": "stream",
     "text": [
      "<class 'pandas.core.frame.DataFrame'>\n",
      "Int64Index: 2922 entries, 0 to 2921\n",
      "Data columns (total 15 columns):\n",
      "AWND           2922 non-null float64\n",
      "PRCP           2922 non-null float64\n",
      "SNOW           2922 non-null float64\n",
      "SNWD           2922 non-null int64\n",
      "TAVG           2922 non-null float64\n",
      "TMAX           2922 non-null int64\n",
      "TMIN           2922 non-null int64\n",
      "daily_count    2922 non-null float64\n",
      "daily_mean     2922 non-null float64\n",
      "YEAR           2922 non-null int64\n",
      "MONTH          2922 non-null int64\n",
      "DAY            2922 non-null int64\n",
      "WEND           2922 non-null int64\n",
      "SPRING         2922 non-null int64\n",
      "SUMMER         2922 non-null int64\n",
      "dtypes: float64(6), int64(9)\n",
      "memory usage: 365.2 KB\n"
     ]
    }
   ],
   "source": [
    "features.info()"
   ]
  },
  {
   "cell_type": "code",
   "execution_count": 21,
   "metadata": {
    "scrolled": true
   },
   "outputs": [],
   "source": [
    "# Seperating our data sets\n",
    "winter_features = features[features['daily_count'] == 0].reset_index(drop=True)\n",
    "\n",
    "# Need to drop all days where there where no rides taken (Dcount = 0)\n",
    "features = features[features['daily_count'] != 0].reset_index(drop=True)"
   ]
  },
  {
   "cell_type": "code",
   "execution_count": 22,
   "metadata": {},
   "outputs": [
    {
     "data": {
      "text/html": [
       "<div>\n",
       "<style scoped>\n",
       "    .dataframe tbody tr th:only-of-type {\n",
       "        vertical-align: middle;\n",
       "    }\n",
       "\n",
       "    .dataframe tbody tr th {\n",
       "        vertical-align: top;\n",
       "    }\n",
       "\n",
       "    .dataframe thead th {\n",
       "        text-align: right;\n",
       "    }\n",
       "</style>\n",
       "<table border=\"1\" class=\"dataframe\">\n",
       "  <thead>\n",
       "    <tr style=\"text-align: right;\">\n",
       "      <th></th>\n",
       "      <th>AWND</th>\n",
       "      <th>PRCP</th>\n",
       "      <th>SNOW</th>\n",
       "      <th>SNWD</th>\n",
       "      <th>TAVG</th>\n",
       "      <th>TMAX</th>\n",
       "      <th>TMIN</th>\n",
       "      <th>daily_count</th>\n",
       "      <th>daily_mean</th>\n",
       "      <th>YEAR</th>\n",
       "      <th>MONTH</th>\n",
       "      <th>DAY</th>\n",
       "      <th>WEND</th>\n",
       "      <th>SPRING</th>\n",
       "      <th>SUMMER</th>\n",
       "    </tr>\n",
       "  </thead>\n",
       "  <tbody>\n",
       "    <tr>\n",
       "      <th>count</th>\n",
       "      <td>1016.000000</td>\n",
       "      <td>1016.000000</td>\n",
       "      <td>1016.000000</td>\n",
       "      <td>1016.000000</td>\n",
       "      <td>1016.000000</td>\n",
       "      <td>1016.000000</td>\n",
       "      <td>1016.000000</td>\n",
       "      <td>1016.000000</td>\n",
       "      <td>1016.000000</td>\n",
       "      <td>1016.000000</td>\n",
       "      <td>1016.000000</td>\n",
       "      <td>1016.000000</td>\n",
       "      <td>1016.000000</td>\n",
       "      <td>1016.000000</td>\n",
       "      <td>1016.000000</td>\n",
       "    </tr>\n",
       "    <tr>\n",
       "      <th>mean</th>\n",
       "      <td>8.672697</td>\n",
       "      <td>0.119636</td>\n",
       "      <td>0.023327</td>\n",
       "      <td>0.097441</td>\n",
       "      <td>62.936024</td>\n",
       "      <td>72.154528</td>\n",
       "      <td>53.816929</td>\n",
       "      <td>1287.701772</td>\n",
       "      <td>2422.691088</td>\n",
       "      <td>2012.113189</td>\n",
       "      <td>7.257874</td>\n",
       "      <td>15.840551</td>\n",
       "      <td>0.285433</td>\n",
       "      <td>0.360236</td>\n",
       "      <td>0.452756</td>\n",
       "    </tr>\n",
       "    <tr>\n",
       "      <th>std</th>\n",
       "      <td>3.565801</td>\n",
       "      <td>0.348790</td>\n",
       "      <td>0.286128</td>\n",
       "      <td>0.720805</td>\n",
       "      <td>13.741593</td>\n",
       "      <td>14.692002</td>\n",
       "      <td>13.367336</td>\n",
       "      <td>772.370350</td>\n",
       "      <td>11890.524067</td>\n",
       "      <td>1.355879</td>\n",
       "      <td>2.043477</td>\n",
       "      <td>8.850269</td>\n",
       "      <td>0.451843</td>\n",
       "      <td>0.480305</td>\n",
       "      <td>0.498008</td>\n",
       "    </tr>\n",
       "    <tr>\n",
       "      <th>min</th>\n",
       "      <td>0.890000</td>\n",
       "      <td>0.000000</td>\n",
       "      <td>0.000000</td>\n",
       "      <td>0.000000</td>\n",
       "      <td>8.000000</td>\n",
       "      <td>19.000000</td>\n",
       "      <td>-3.000000</td>\n",
       "      <td>1.000000</td>\n",
       "      <td>11.000000</td>\n",
       "      <td>2010.000000</td>\n",
       "      <td>1.000000</td>\n",
       "      <td>1.000000</td>\n",
       "      <td>0.000000</td>\n",
       "      <td>0.000000</td>\n",
       "      <td>0.000000</td>\n",
       "    </tr>\n",
       "    <tr>\n",
       "      <th>25%</th>\n",
       "      <td>6.040000</td>\n",
       "      <td>0.000000</td>\n",
       "      <td>0.000000</td>\n",
       "      <td>0.000000</td>\n",
       "      <td>53.000000</td>\n",
       "      <td>62.000000</td>\n",
       "      <td>44.000000</td>\n",
       "      <td>691.750000</td>\n",
       "      <td>950.090695</td>\n",
       "      <td>2011.000000</td>\n",
       "      <td>6.000000</td>\n",
       "      <td>8.000000</td>\n",
       "      <td>0.000000</td>\n",
       "      <td>0.000000</td>\n",
       "      <td>0.000000</td>\n",
       "    </tr>\n",
       "    <tr>\n",
       "      <th>50%</th>\n",
       "      <td>8.280000</td>\n",
       "      <td>0.000000</td>\n",
       "      <td>0.000000</td>\n",
       "      <td>0.000000</td>\n",
       "      <td>65.750000</td>\n",
       "      <td>76.000000</td>\n",
       "      <td>56.000000</td>\n",
       "      <td>1212.500000</td>\n",
       "      <td>1227.514015</td>\n",
       "      <td>2012.000000</td>\n",
       "      <td>7.000000</td>\n",
       "      <td>16.000000</td>\n",
       "      <td>0.000000</td>\n",
       "      <td>0.000000</td>\n",
       "      <td>0.000000</td>\n",
       "    </tr>\n",
       "    <tr>\n",
       "      <th>75%</th>\n",
       "      <td>10.960000</td>\n",
       "      <td>0.032500</td>\n",
       "      <td>0.000000</td>\n",
       "      <td>0.000000</td>\n",
       "      <td>74.000000</td>\n",
       "      <td>83.000000</td>\n",
       "      <td>64.000000</td>\n",
       "      <td>1652.250000</td>\n",
       "      <td>1676.253944</td>\n",
       "      <td>2013.000000</td>\n",
       "      <td>9.000000</td>\n",
       "      <td>24.000000</td>\n",
       "      <td>1.000000</td>\n",
       "      <td>1.000000</td>\n",
       "      <td>1.000000</td>\n",
       "    </tr>\n",
       "    <tr>\n",
       "      <th>max</th>\n",
       "      <td>23.710000</td>\n",
       "      <td>4.130000</td>\n",
       "      <td>6.400000</td>\n",
       "      <td>8.000000</td>\n",
       "      <td>91.000000</td>\n",
       "      <td>103.000000</td>\n",
       "      <td>81.000000</td>\n",
       "      <td>4471.000000</td>\n",
       "      <td>330526.000000</td>\n",
       "      <td>2014.000000</td>\n",
       "      <td>11.000000</td>\n",
       "      <td>31.000000</td>\n",
       "      <td>1.000000</td>\n",
       "      <td>1.000000</td>\n",
       "      <td>1.000000</td>\n",
       "    </tr>\n",
       "  </tbody>\n",
       "</table>\n",
       "</div>"
      ],
      "text/plain": [
       "              AWND         PRCP         SNOW         SNWD         TAVG  \\\n",
       "count  1016.000000  1016.000000  1016.000000  1016.000000  1016.000000   \n",
       "mean      8.672697     0.119636     0.023327     0.097441    62.936024   \n",
       "std       3.565801     0.348790     0.286128     0.720805    13.741593   \n",
       "min       0.890000     0.000000     0.000000     0.000000     8.000000   \n",
       "25%       6.040000     0.000000     0.000000     0.000000    53.000000   \n",
       "50%       8.280000     0.000000     0.000000     0.000000    65.750000   \n",
       "75%      10.960000     0.032500     0.000000     0.000000    74.000000   \n",
       "max      23.710000     4.130000     6.400000     8.000000    91.000000   \n",
       "\n",
       "              TMAX         TMIN  daily_count     daily_mean         YEAR  \\\n",
       "count  1016.000000  1016.000000  1016.000000    1016.000000  1016.000000   \n",
       "mean     72.154528    53.816929  1287.701772    2422.691088  2012.113189   \n",
       "std      14.692002    13.367336   772.370350   11890.524067     1.355879   \n",
       "min      19.000000    -3.000000     1.000000      11.000000  2010.000000   \n",
       "25%      62.000000    44.000000   691.750000     950.090695  2011.000000   \n",
       "50%      76.000000    56.000000  1212.500000    1227.514015  2012.000000   \n",
       "75%      83.000000    64.000000  1652.250000    1676.253944  2013.000000   \n",
       "max     103.000000    81.000000  4471.000000  330526.000000  2014.000000   \n",
       "\n",
       "             MONTH          DAY         WEND       SPRING       SUMMER  \n",
       "count  1016.000000  1016.000000  1016.000000  1016.000000  1016.000000  \n",
       "mean      7.257874    15.840551     0.285433     0.360236     0.452756  \n",
       "std       2.043477     8.850269     0.451843     0.480305     0.498008  \n",
       "min       1.000000     1.000000     0.000000     0.000000     0.000000  \n",
       "25%       6.000000     8.000000     0.000000     0.000000     0.000000  \n",
       "50%       7.000000    16.000000     0.000000     0.000000     0.000000  \n",
       "75%       9.000000    24.000000     1.000000     1.000000     1.000000  \n",
       "max      11.000000    31.000000     1.000000     1.000000     1.000000  "
      ]
     },
     "execution_count": 22,
     "metadata": {},
     "output_type": "execute_result"
    }
   ],
   "source": [
    "features.describe()"
   ]
  },
  {
   "cell_type": "markdown",
   "metadata": {},
   "source": [
    "DCOUNT shows Minimum of at least 1, and the\n",
    "\n",
    "I'm concerned why month shows min 1; there shouldn't be any data for January. Time to investigate further"
   ]
  },
  {
   "cell_type": "code",
   "execution_count": 23,
   "metadata": {
    "scrolled": true
   },
   "outputs": [
    {
     "data": {
      "text/html": [
       "<div>\n",
       "<style scoped>\n",
       "    .dataframe tbody tr th:only-of-type {\n",
       "        vertical-align: middle;\n",
       "    }\n",
       "\n",
       "    .dataframe tbody tr th {\n",
       "        vertical-align: top;\n",
       "    }\n",
       "\n",
       "    .dataframe thead th {\n",
       "        text-align: right;\n",
       "    }\n",
       "</style>\n",
       "<table border=\"1\" class=\"dataframe\">\n",
       "  <thead>\n",
       "    <tr style=\"text-align: right;\">\n",
       "      <th></th>\n",
       "      <th>AWND</th>\n",
       "      <th>PRCP</th>\n",
       "      <th>SNOW</th>\n",
       "      <th>SNWD</th>\n",
       "      <th>TAVG</th>\n",
       "      <th>TMAX</th>\n",
       "      <th>TMIN</th>\n",
       "      <th>daily_count</th>\n",
       "      <th>daily_mean</th>\n",
       "      <th>YEAR</th>\n",
       "      <th>MONTH</th>\n",
       "      <th>DAY</th>\n",
       "      <th>WEND</th>\n",
       "      <th>SPRING</th>\n",
       "      <th>SUMMER</th>\n",
       "    </tr>\n",
       "  </thead>\n",
       "  <tbody>\n",
       "    <tr>\n",
       "      <th>585</th>\n",
       "      <td>10.29</td>\n",
       "      <td>0.28</td>\n",
       "      <td>0.0</td>\n",
       "      <td>2</td>\n",
       "      <td>31.5</td>\n",
       "      <td>39</td>\n",
       "      <td>24</td>\n",
       "      <td>1.0</td>\n",
       "      <td>106.0</td>\n",
       "      <td>2013</td>\n",
       "      <td>1</td>\n",
       "      <td>10</td>\n",
       "      <td>0</td>\n",
       "      <td>0</td>\n",
       "      <td>0</td>\n",
       "    </tr>\n",
       "  </tbody>\n",
       "</table>\n",
       "</div>"
      ],
      "text/plain": [
       "      AWND  PRCP  SNOW  SNWD  TAVG  TMAX  TMIN  daily_count  daily_mean  YEAR  \\\n",
       "585  10.29  0.28   0.0     2  31.5    39    24          1.0       106.0  2013   \n",
       "\n",
       "     MONTH  DAY  WEND  SPRING  SUMMER  \n",
       "585      1   10     0       0       0  "
      ]
     },
     "execution_count": 23,
     "metadata": {},
     "output_type": "execute_result"
    }
   ],
   "source": [
    "features[features.MONTH == 1]"
   ]
  },
  {
   "cell_type": "code",
   "execution_count": 24,
   "metadata": {},
   "outputs": [],
   "source": [
    "features = features[features.MONTH != 1]"
   ]
  },
  {
   "cell_type": "code",
   "execution_count": 25,
   "metadata": {},
   "outputs": [
    {
     "data": {
      "text/plain": [
       "pandas.core.series.Series"
      ]
     },
     "execution_count": 25,
     "metadata": {},
     "output_type": "execute_result"
    }
   ],
   "source": [
    "type(features.MONTH)"
   ]
  },
  {
   "cell_type": "code",
   "execution_count": 46,
   "metadata": {},
   "outputs": [
    {
     "data": {
      "text/html": [
       "<div>\n",
       "<style scoped>\n",
       "    .dataframe tbody tr th:only-of-type {\n",
       "        vertical-align: middle;\n",
       "    }\n",
       "\n",
       "    .dataframe tbody tr th {\n",
       "        vertical-align: top;\n",
       "    }\n",
       "\n",
       "    .dataframe thead th {\n",
       "        text-align: right;\n",
       "    }\n",
       "</style>\n",
       "<table border=\"1\" class=\"dataframe\">\n",
       "  <thead>\n",
       "    <tr style=\"text-align: right;\">\n",
       "      <th></th>\n",
       "      <th>AWND</th>\n",
       "      <th>PRCP</th>\n",
       "      <th>SNOW</th>\n",
       "      <th>SNWD</th>\n",
       "      <th>TAVG</th>\n",
       "      <th>TMAX</th>\n",
       "      <th>TMIN</th>\n",
       "      <th>daily_count</th>\n",
       "      <th>daily_mean</th>\n",
       "      <th>YEAR</th>\n",
       "      <th>MONTH</th>\n",
       "      <th>DAY</th>\n",
       "      <th>WEND</th>\n",
       "      <th>SPRING</th>\n",
       "      <th>SUMMER</th>\n",
       "    </tr>\n",
       "  </thead>\n",
       "  <tbody>\n",
       "    <tr>\n",
       "      <th>2</th>\n",
       "      <td>12.75</td>\n",
       "      <td>0.0</td>\n",
       "      <td>0.0</td>\n",
       "      <td>0</td>\n",
       "      <td>66.0</td>\n",
       "      <td>73</td>\n",
       "      <td>59</td>\n",
       "      <td>5.0</td>\n",
       "      <td>1268.2</td>\n",
       "      <td>2010</td>\n",
       "      <td>6</td>\n",
       "      <td>9</td>\n",
       "      <td>0</td>\n",
       "      <td>1</td>\n",
       "      <td>0</td>\n",
       "    </tr>\n",
       "    <tr>\n",
       "      <th>588</th>\n",
       "      <td>0.89</td>\n",
       "      <td>0.0</td>\n",
       "      <td>0.0</td>\n",
       "      <td>7</td>\n",
       "      <td>30.0</td>\n",
       "      <td>37</td>\n",
       "      <td>23</td>\n",
       "      <td>3.0</td>\n",
       "      <td>27138.0</td>\n",
       "      <td>2013</td>\n",
       "      <td>2</td>\n",
       "      <td>25</td>\n",
       "      <td>0</td>\n",
       "      <td>0</td>\n",
       "      <td>0</td>\n",
       "    </tr>\n",
       "    <tr>\n",
       "      <th>589</th>\n",
       "      <td>8.95</td>\n",
       "      <td>0.0</td>\n",
       "      <td>0.0</td>\n",
       "      <td>6</td>\n",
       "      <td>26.5</td>\n",
       "      <td>36</td>\n",
       "      <td>17</td>\n",
       "      <td>2.0</td>\n",
       "      <td>33461.0</td>\n",
       "      <td>2013</td>\n",
       "      <td>2</td>\n",
       "      <td>26</td>\n",
       "      <td>0</td>\n",
       "      <td>0</td>\n",
       "      <td>0</td>\n",
       "    </tr>\n",
       "    <tr>\n",
       "      <th>590</th>\n",
       "      <td>12.97</td>\n",
       "      <td>0.0</td>\n",
       "      <td>0.0</td>\n",
       "      <td>6</td>\n",
       "      <td>33.5</td>\n",
       "      <td>38</td>\n",
       "      <td>29</td>\n",
       "      <td>2.0</td>\n",
       "      <td>3897.5</td>\n",
       "      <td>2013</td>\n",
       "      <td>2</td>\n",
       "      <td>27</td>\n",
       "      <td>0</td>\n",
       "      <td>0</td>\n",
       "      <td>0</td>\n",
       "    </tr>\n",
       "  </tbody>\n",
       "</table>\n",
       "</div>"
      ],
      "text/plain": [
       "      AWND  PRCP  SNOW  SNWD  TAVG  TMAX  TMIN  daily_count  daily_mean  YEAR  \\\n",
       "2    12.75   0.0   0.0     0  66.0    73    59          5.0      1268.2  2010   \n",
       "588   0.89   0.0   0.0     7  30.0    37    23          3.0     27138.0  2013   \n",
       "589   8.95   0.0   0.0     6  26.5    36    17          2.0     33461.0  2013   \n",
       "590  12.97   0.0   0.0     6  33.5    38    29          2.0      3897.5  2013   \n",
       "\n",
       "     MONTH  DAY  WEND  SPRING  SUMMER  \n",
       "2        6    9     0       1       0  \n",
       "588      2   25     0       0       0  \n",
       "589      2   26     0       0       0  \n",
       "590      2   27     0       0       0  "
      ]
     },
     "execution_count": 46,
     "metadata": {},
     "output_type": "execute_result"
    }
   ],
   "source": [
    "features[features['daily_count'] <= 5]"
   ]
  },
  {
   "cell_type": "markdown",
   "metadata": {},
   "source": [
    "Data looks good!"
   ]
  },
  {
   "cell_type": "markdown",
   "metadata": {},
   "source": [
    "### Features, Targets, and converting Data in Arrays (optimizes performance)"
   ]
  },
  {
   "cell_type": "code",
   "execution_count": 27,
   "metadata": {},
   "outputs": [],
   "source": [
    "# Saving the target/label variable and removing from features Dataframe\n",
    "target = features.daily_count.values\n",
    "feat = features.drop('daily_count', axis=1).values\n",
    "\n",
    "# Saving the feature names for future use\n",
    "feature_names = list(features.drop('daily_count', axis=1).columns)"
   ]
  },
  {
   "cell_type": "code",
   "execution_count": 28,
   "metadata": {},
   "outputs": [],
   "source": [
    "# Splitting the data into training and test sets\n",
    "X, X_test, y, y_test = train_test_split(feat, target, test_size=.25, random_state=42)"
   ]
  },
  {
   "cell_type": "markdown",
   "metadata": {},
   "source": [
    "Inspecting the shape of the features and labels"
   ]
  },
  {
   "cell_type": "code",
   "execution_count": 29,
   "metadata": {
    "scrolled": true
   },
   "outputs": [
    {
     "name": "stdout",
     "output_type": "stream",
     "text": [
      "Training Features shape (753, 14)\n",
      "Training labels shape (753,)\n",
      "Testing Features shape (251, 14)\n",
      "Testing labels shape (251,)\n"
     ]
    }
   ],
   "source": [
    "print('Training Features shape', X.shape)\n",
    "print('Training labels shape', y.shape)\n",
    "\n",
    "print('Testing Features shape', X_test.shape)\n",
    "print('Testing labels shape', y_test.shape)"
   ]
  },
  {
   "cell_type": "markdown",
   "metadata": {},
   "source": [
    "## Establishing a baseline\n",
    "\n",
    "Need to find what a good baseline would be"
   ]
  },
  {
   "cell_type": "code",
   "execution_count": 30,
   "metadata": {},
   "outputs": [
    {
     "data": {
      "text/plain": [
       "'\\nInsert baseline creation code here\\n'"
      ]
     },
     "execution_count": 30,
     "metadata": {},
     "output_type": "execute_result"
    }
   ],
   "source": [
    "'''\n",
    "Insert baseline creation code here\n",
    "'''"
   ]
  },
  {
   "cell_type": "markdown",
   "metadata": {},
   "source": [
    "## Training the data"
   ]
  },
  {
   "cell_type": "code",
   "execution_count": 31,
   "metadata": {},
   "outputs": [
    {
     "data": {
      "text/plain": [
       "RandomForestRegressor(bootstrap=True, criterion='mse', max_depth=None,\n",
       "           max_features='auto', max_leaf_nodes=None,\n",
       "           min_impurity_decrease=0.0, min_impurity_split=None,\n",
       "           min_samples_leaf=1, min_samples_split=2,\n",
       "           min_weight_fraction_leaf=0.0, n_estimators=100, n_jobs=1,\n",
       "           oob_score=False, random_state=42, verbose=0, warm_start=False)"
      ]
     },
     "execution_count": 31,
     "metadata": {},
     "output_type": "execute_result"
    }
   ],
   "source": [
    "# Instantiate model with 1000 decision trees\n",
    "rf = RandomForestRegressor(n_estimators=100, random_state=42)\n",
    "\n",
    "rf.fit(X, y)"
   ]
  },
  {
   "cell_type": "markdown",
   "metadata": {},
   "source": [
    "## Making predictions on the test set"
   ]
  },
  {
   "cell_type": "code",
   "execution_count": 32,
   "metadata": {
    "scrolled": true
   },
   "outputs": [],
   "source": [
    "predictions = rf.predict(X_test)"
   ]
  },
  {
   "cell_type": "markdown",
   "metadata": {},
   "source": [
    "## Assessing the performance of our RandomForestRegressor"
   ]
  },
  {
   "cell_type": "markdown",
   "metadata": {},
   "source": [
    "This is the r2 score"
   ]
  },
  {
   "cell_type": "code",
   "execution_count": 33,
   "metadata": {},
   "outputs": [
    {
     "name": "stdout",
     "output_type": "stream",
     "text": [
      "[ 0.89155988  0.86466873  0.8241215   0.73700164  0.78205112  0.83095049\n",
      "  0.84560818  0.84738762  0.82511143  0.81288718]\n",
      "0.826134776053\n"
     ]
    }
   ],
   "source": [
    "cv_r2 = cross_val_score(rf, X, y, cv=10)\n",
    "print(cv_r2)\n",
    "print(np.mean(cv_r2))"
   ]
  },
  {
   "cell_type": "code",
   "execution_count": 34,
   "metadata": {},
   "outputs": [
    {
     "name": "stdout",
     "output_type": "stream",
     "text": [
      "[-0.63161778 -0.18100386 -0.10873144 -0.06487079 -0.09439405]\n",
      "-0.21612358095\n"
     ]
    }
   ],
   "source": [
    "cv_negMSElog_error = cross_val_score(rf, X, y, scoring='neg_mean_squared_log_error', cv=5)\n",
    "print(cv_negMSElog_error)\n",
    "print(np.mean(cv_negMSElog_error))"
   ]
  },
  {
   "cell_type": "code",
   "execution_count": 35,
   "metadata": {},
   "outputs": [
    {
     "name": "stdout",
     "output_type": "stream",
     "text": [
      "Mean Absolute Error:  194.03\n"
     ]
    }
   ],
   "source": [
    "errors = abs(predictions - y_test)\n",
    "\n",
    "print('Mean Absolute Error: ', round(np.mean(errors), 2))"
   ]
  },
  {
   "cell_type": "code",
   "execution_count": 36,
   "metadata": {
    "scrolled": true
   },
   "outputs": [
    {
     "name": "stdout",
     "output_type": "stream",
     "text": [
      "Accuracy:  62.46 %\n"
     ]
    }
   ],
   "source": [
    "# Calculating the Mean Absolute Percentage Error (MAPE)\n",
    "mape = 100 * (errors / y_test)\n",
    "\n",
    "accuracy = 100 - np.mean(mape)\n",
    "print('Accuracy: ', np.round(accuracy, 2), '%')"
   ]
  },
  {
   "cell_type": "code",
   "execution_count": 37,
   "metadata": {},
   "outputs": [
    {
     "data": {
      "text/plain": [
       "0.0"
      ]
     },
     "execution_count": 37,
     "metadata": {},
     "output_type": "execute_result"
    }
   ],
   "source": [
    "(errors == y_test).mean()"
   ]
  },
  {
   "cell_type": "code",
   "execution_count": 38,
   "metadata": {},
   "outputs": [],
   "source": [
    "# Mean Absolute Square"
   ]
  },
  {
   "cell_type": "code",
   "execution_count": 39,
   "metadata": {},
   "outputs": [
    {
     "name": "stdout",
     "output_type": "stream",
     "text": [
      "Variable: YEAR                 Importance: 0.4\n",
      "Variable: TMAX                 Importance: 0.34\n",
      "Variable: daily_mean           Importance: 0.08\n",
      "Variable: PRCP                 Importance: 0.04\n",
      "Variable: MONTH                Importance: 0.03\n",
      "Variable: AWND                 Importance: 0.02\n",
      "Variable: TAVG                 Importance: 0.02\n",
      "Variable: TMIN                 Importance: 0.02\n",
      "Variable: DAY                  Importance: 0.02\n",
      "Variable: WEND                 Importance: 0.02\n",
      "Variable: SUMMER               Importance: 0.01\n",
      "Variable: SNOW                 Importance: 0.0\n",
      "Variable: SNWD                 Importance: 0.0\n",
      "Variable: SPRING               Importance: 0.0\n"
     ]
    }
   ],
   "source": [
    "# Get numerical feature importances\n",
    "importances = list(rf.feature_importances_)\n",
    "\n",
    "# List of tuples with variable and importance\n",
    "feature_importances = [(feature, round(importance, 2)) for feature, importance in zip(feature_names, importances)]\n",
    "\n",
    "# Sort the feature importances by most important first\n",
    "feature_importances = sorted(feature_importances, key = lambda x: x[1], reverse = True)\n",
    "\n",
    "# Print out the feature and importances \n",
    "[print('Variable: {:20} Importance: {}'.format(*pair)) for pair in feature_importances];"
   ]
  },
  {
   "cell_type": "markdown",
   "metadata": {},
   "source": [
    "## Visualizing the features and predictions"
   ]
  },
  {
   "cell_type": "code",
   "execution_count": 40,
   "metadata": {
    "scrolled": false
   },
   "outputs": [
    {
     "data": {
      "image/png": "[encoded data removed]",
      "text/plain": [
       "<matplotlib.figure.Figure at 0x7fdb3b901828>"
      ]
     },
     "metadata": {},
     "output_type": "display_data"
    }
   ],
   "source": [
    "# Set the style\n",
    "plt.style.use('fivethirtyeight')\n",
    "\n",
    "# list of x locations for plotting\n",
    "x_values = list(range(len(importances)))\n",
    "\n",
    "# Make a bar chart\n",
    "plt.bar(x_values, importances, orientation = 'vertical')\n",
    "\n",
    "# Tick labels for x axis\n",
    "plt.xticks(x_values, feature_names, rotation='vertical')\n",
    "\n",
    "# Axis labels and title\n",
    "plt.ylabel('Importance'); plt.xlabel('Variable'); plt.title('Variable Importances');"
   ]
  },
  {
   "cell_type": "code",
   "execution_count": 41,
   "metadata": {
    "scrolled": false
   },
   "outputs": [
    {
     "data": {
      "image/png": "[encoded data removed]",
      "text/plain": [
       "<matplotlib.figure.Figure at 0x7fdb405fddd8>"
      ]
     },
     "metadata": {},
     "output_type": "display_data"
    }
   ],
   "source": [
    "# Dates of training values\n",
    "days = feat[:, feature_names.index('DAY')]\n",
    "months = feat[:, feature_names.index('MONTH')]\n",
    "years = feat[:, feature_names.index('YEAR')]\n",
    "\n",
    "# List and then convert to datetime object\n",
    "dates = [str(int(year)) + '-' + str(int(month)) + '-' + str(int(day)) for year, month, day in zip(years, months, days)]\n",
    "dates = [dt.datetime.strptime(date, '%Y-%m-%d') for date in dates]\n",
    "\n",
    "# Dataframe with true values and dates\n",
    "true_data = pd.DataFrame(data = {'date': dates, 'DCOUNT': target})\n",
    "\n",
    "# Dates of predictions\n",
    "months = X_test[:, feature_names.index('MONTH')]\n",
    "days = X_test[:, feature_names.index('DAY')]\n",
    "years = X_test[:, feature_names.index('YEAR')]\n",
    "\n",
    "# Column of dates\n",
    "test_dates = [str(int(year)) + '-' + str(int(month)) + '-' + str(int(day)) for year, month, day in zip(years, months, days)]\n",
    "\n",
    "# Convert to datetime objects\n",
    "test_dates = [dt.datetime.strptime(date, '%Y-%m-%d') for date in test_dates]\n",
    "\n",
    "# Dataframe with predictions and dates\n",
    "predictions_data = pd.DataFrame(data = {'date': test_dates, 'prediction': predictions})\n",
    "\n",
    "# Plot the actual values\n",
    "plt.figure(figsize=(14.5,10))\n",
    "plt.plot(true_data['date'], true_data['DCOUNT'], 'b', label = 'Daily Count', linewidth=1, alpha=.6)\n",
    "\n",
    "# Plot the predicted values\n",
    "plt.plot(predictions_data['date'], predictions_data['prediction'], 'ro', label = 'prediction', markersize=3, alpha=.6)\n",
    "plt.xticks(rotation = '60'); \n",
    "plt.legend()\n",
    "\n",
    "# Graph labels\n",
    "plt.xlabel('Date'); plt.ylabel('Daily Rides'); plt.title('Actual and Predicted Values');"
   ]
  },
  {
   "cell_type": "code",
   "execution_count": 42,
   "metadata": {},
   "outputs": [
    {
     "name": "stdout",
     "output_type": "stream",
     "text": [
      "(1004,)\n",
      "(1004,)\n",
      "(251,)\n",
      "(251,)\n"
     ]
    }
   ],
   "source": [
    "print(features.TMAX.values.shape)\n",
    "print(target.shape)\n",
    "print(X_test[:,5].shape) # This is the shape of our TMAX variable in the feature test set\n",
    "print(predictions.shape)"
   ]
  },
  {
   "cell_type": "code",
   "execution_count": 43,
   "metadata": {},
   "outputs": [
    {
     "data": {
      "image/png": "[encoded data removed]",
      "text/plain": [
       "<matplotlib.figure.Figure at 0x7fdb413d3c88>"
      ]
     },
     "metadata": {},
     "output_type": "display_data"
    }
   ],
   "source": [
    "# Dataframe with true values and dates\n",
    "true_data = pd.DataFrame(data = {'TMAX': features.TMAX.values, 'DCOUNT': target})\n",
    "\n",
    "# Dataframe with predictions and dates\n",
    "predictions_data = pd.DataFrame(data = {'TMAX': X_test[:,5], 'prediction': predictions})\n",
    "\n",
    "# Plot the actual values and predicted values\n",
    "plt.figure(figsize=(14.5,10))\n",
    "plt.plot(true_data['TMAX'], true_data['DCOUNT'], 'bo', label = 'Daily Count', markersize=3, alpha=.6)\n",
    "plt.plot(predictions_data['TMAX'], predictions_data['prediction'], 'ro', label = 'prediction', markersize=3, alpha=.6)\n",
    "\n",
    "plt.xticks(rotation = '60'); \n",
    "plt.legend()\n",
    "plt.xlabel('Temperature max in Fahrenheit'); plt.ylabel('Daily Rides'); plt.title('Actual vs Predicted Values');"
   ]
  },
  {
   "cell_type": "code",
   "execution_count": 44,
   "metadata": {},
   "outputs": [
    {
     "data": {
      "image/png": "[encoded data removed]",
      "text/plain": [
       "<matplotlib.figure.Figure at 0x7fdb4282c9e8>"
      ]
     },
     "metadata": {},
     "output_type": "display_data"
    }
   ],
   "source": [
    "# Dataframe with true values and dates\n",
    "true_data = pd.DataFrame(data = {'TMAX': features.TMAX.values, 'daily_count': target}) \n",
    "\n",
    "# Plot the actual values and predicted values\n",
    "plt.figure(figsize=(14.5,10))\n",
    "plt.plot(true_data['TMAX'], true_data['daily_count'], 'bo', label = 'Daily Count', markersize=3, alpha=.6)\n",
    "\n",
    "x = sorted(true_data['TMAX'].values) \n",
    "y = sorted(true_data['daily_count'].values)\n",
    "fit = np.polyfit(x, y, 1) \n",
    "fit_fn = np.poly1d(fit) \n",
    "plt.plot(x, fit_fn(x), '--k', color='navy')\n",
    "\n",
    "x = sorted(predictions_data['TMAX'].values) \n",
    "y = sorted(predictions_data['prediction'].values)\n",
    "fit = np.polyfit(x, y, 1) \n",
    "fit_fn = np.poly1d(fit) \n",
    "plt.plot(x, fit_fn(x), '--k', color='pink')\n",
    "\n",
    "# Dataframe with predictions and dates\n",
    "predictions_data = pd.DataFrame(data = {'TMAX': X_test[:,5], 'prediction': predictions})\n",
    "\n",
    "# Plot the actual values and predicted values\n",
    "plt.plot(predictions_data['TMAX'], predictions_data['prediction'], 'ro', label = 'prediction', markersize=3, alpha=.6)\n",
    "\n",
    "plt.xticks(rotation = '60'); \n",
    "plt.legend()\n",
    "plt.xlabel('Temperature max in Fahrenheit'); plt.ylabel('Daily Rides'); plt.title('Actual vs Predicted Values');"
   ]
  }
 ],
 "metadata": {
  "kernelspec": {
   "display_name": "Python 3",
   "language": "python",
   "name": "python3"
  },
  "language_info": {
   "codemirror_mode": {
    "name": "ipython",
    "version": 3
   },
   "file_extension": ".py",
   "mimetype": "text/x-python",
   "name": "python",
   "nbconvert_exporter": "python",
   "pygments_lexer": "ipython3",
   "version": "3.6.2"
  }
 },
 "nbformat": 4,
 "nbformat_minor": 2
}
