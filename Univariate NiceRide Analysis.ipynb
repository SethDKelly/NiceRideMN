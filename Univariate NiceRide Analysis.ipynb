{
 "cells": [
  {
   "cell_type": "markdown",
   "metadata": {},
   "source": [
    "## Exploratory analysis of 2017 Nice ride trip history"
   ]
  },
  {
   "cell_type": "code",
   "execution_count": 1,
   "metadata": {},
   "outputs": [],
   "source": [
    "# importing dependencies\n",
    "import numpy as np \n",
    "import matplotlib.pyplot as plt\n",
    "import pandas as pd\n",
    "from collections import Counter\n",
    "import datetime"
   ]
  },
  {
   "cell_type": "code",
   "execution_count": 2,
   "metadata": {},
   "outputs": [
    {
     "name": "stderr",
     "output_type": "stream",
     "text": [
      "/home/grimoire/anaconda3/lib/python3.6/site-packages/IPython/core/interactiveshell.py:2728: DtypeWarning: Columns (2,5) have mixed types. Specify dtype option on import or set low_memory=False.\n",
      "  interactivity=interactivity, compiler=compiler, result=result)\n"
     ]
    }
   ],
   "source": [
    "#loading 2017 NiceRide ride trip history\n",
    "nr = pd.read_csv(\"~/Projects/NiceRide/Nice_Ride_data/2017/Nice_ride_trip_history_2017_season.csv\")"
   ]
  },
  {
   "cell_type": "code",
   "execution_count": 3,
   "metadata": {},
   "outputs": [],
   "source": [
    "station = pd.read_csv(\"~/Projects/NiceRide/Nice_Ride_data/2017/Nice_Ride_2017_Station_Locations.csv\")"
   ]
  },
  {
   "cell_type": "code",
   "execution_count": 4,
   "metadata": {},
   "outputs": [
    {
     "data": {
      "text/html": [
       "<div>\n",
       "<style scoped>\n",
       "    .dataframe tbody tr th:only-of-type {\n",
       "        vertical-align: middle;\n",
       "    }\n",
       "\n",
       "    .dataframe tbody tr th {\n",
       "        vertical-align: top;\n",
       "    }\n",
       "\n",
       "    .dataframe thead th {\n",
       "        text-align: right;\n",
       "    }\n",
       "</style>\n",
       "<table border=\"1\" class=\"dataframe\">\n",
       "  <thead>\n",
       "    <tr style=\"text-align: right;\">\n",
       "      <th></th>\n",
       "      <th>Start date</th>\n",
       "      <th>Start station</th>\n",
       "      <th>Start station number</th>\n",
       "      <th>End date</th>\n",
       "      <th>End station</th>\n",
       "      <th>End station number</th>\n",
       "      <th>Account type</th>\n",
       "      <th>Total duration (Seconds)</th>\n",
       "    </tr>\n",
       "  </thead>\n",
       "  <tbody>\n",
       "    <tr>\n",
       "      <th>0</th>\n",
       "      <td>11/5/2017 21:45</td>\n",
       "      <td>Hennepin Ave &amp; S Washington Ave</td>\n",
       "      <td>30184</td>\n",
       "      <td>11/5/2017 22:02</td>\n",
       "      <td>Logan Park</td>\n",
       "      <td>30104</td>\n",
       "      <td>Member</td>\n",
       "      <td>1048</td>\n",
       "    </tr>\n",
       "    <tr>\n",
       "      <th>1</th>\n",
       "      <td>11/5/2017 21:45</td>\n",
       "      <td>Broadway Street N &amp; 4th Street E</td>\n",
       "      <td>30122</td>\n",
       "      <td>11/5/2017 22:26</td>\n",
       "      <td>Broadway Street N &amp; 4th Street E</td>\n",
       "      <td>30122</td>\n",
       "      <td>Member</td>\n",
       "      <td>2513</td>\n",
       "    </tr>\n",
       "    <tr>\n",
       "      <th>2</th>\n",
       "      <td>11/5/2017 21:43</td>\n",
       "      <td>Dale Street &amp; Grand Ave.</td>\n",
       "      <td>30106</td>\n",
       "      <td>11/5/2017 22:13</td>\n",
       "      <td>N Milton Street &amp; Summit Ave</td>\n",
       "      <td>30101</td>\n",
       "      <td>Member</td>\n",
       "      <td>1817</td>\n",
       "    </tr>\n",
       "    <tr>\n",
       "      <th>3</th>\n",
       "      <td>11/5/2017 21:41</td>\n",
       "      <td>Weisman Art Museum</td>\n",
       "      <td>30183</td>\n",
       "      <td>11/5/2017 22:05</td>\n",
       "      <td>22nd Ave S &amp; Franklin Ave</td>\n",
       "      <td>30014</td>\n",
       "      <td>Casual</td>\n",
       "      <td>1399</td>\n",
       "    </tr>\n",
       "    <tr>\n",
       "      <th>4</th>\n",
       "      <td>11/5/2017 21:38</td>\n",
       "      <td>South 2nd Street &amp; 3rd Ave S</td>\n",
       "      <td>30030</td>\n",
       "      <td>11/5/2017 21:44</td>\n",
       "      <td>6th Ave SE &amp; University Ave</td>\n",
       "      <td>30088</td>\n",
       "      <td>Member</td>\n",
       "      <td>370</td>\n",
       "    </tr>\n",
       "  </tbody>\n",
       "</table>\n",
       "</div>"
      ],
      "text/plain": [
       "        Start date                     Start station Start station number  \\\n",
       "0  11/5/2017 21:45   Hennepin Ave & S Washington Ave                30184   \n",
       "1  11/5/2017 21:45  Broadway Street N & 4th Street E                30122   \n",
       "2  11/5/2017 21:43          Dale Street & Grand Ave.                30106   \n",
       "3  11/5/2017 21:41                Weisman Art Museum                30183   \n",
       "4  11/5/2017 21:38      South 2nd Street & 3rd Ave S                30030   \n",
       "\n",
       "          End date                       End station End station number  \\\n",
       "0  11/5/2017 22:02                        Logan Park              30104   \n",
       "1  11/5/2017 22:26  Broadway Street N & 4th Street E              30122   \n",
       "2  11/5/2017 22:13      N Milton Street & Summit Ave              30101   \n",
       "3  11/5/2017 22:05         22nd Ave S & Franklin Ave              30014   \n",
       "4  11/5/2017 21:44       6th Ave SE & University Ave              30088   \n",
       "\n",
       "  Account type  Total duration (Seconds)  \n",
       "0       Member                      1048  \n",
       "1       Member                      2513  \n",
       "2       Member                      1817  \n",
       "3       Casual                      1399  \n",
       "4       Member                       370  "
      ]
     },
     "execution_count": 4,
     "metadata": {},
     "output_type": "execute_result"
    }
   ],
   "source": [
    "# Verifying data loaded in properly\n",
    "nr.head(5)"
   ]
  },
  {
   "cell_type": "code",
   "execution_count": 5,
   "metadata": {},
   "outputs": [
    {
     "data": {
      "text/html": [
       "<div>\n",
       "<style scoped>\n",
       "    .dataframe tbody tr th:only-of-type {\n",
       "        vertical-align: middle;\n",
       "    }\n",
       "\n",
       "    .dataframe tbody tr th {\n",
       "        vertical-align: top;\n",
       "    }\n",
       "\n",
       "    .dataframe thead th {\n",
       "        text-align: right;\n",
       "    }\n",
       "</style>\n",
       "<table border=\"1\" class=\"dataframe\">\n",
       "  <thead>\n",
       "    <tr style=\"text-align: right;\">\n",
       "      <th></th>\n",
       "      <th>Number</th>\n",
       "      <th>Name</th>\n",
       "      <th>Latitude</th>\n",
       "      <th>Longitude</th>\n",
       "      <th>Total docks</th>\n",
       "    </tr>\n",
       "  </thead>\n",
       "  <tbody>\n",
       "    <tr>\n",
       "      <th>0</th>\n",
       "      <td>30000</td>\n",
       "      <td>100 Main Street SE</td>\n",
       "      <td>44.984892</td>\n",
       "      <td>-93.256551</td>\n",
       "      <td>27</td>\n",
       "    </tr>\n",
       "    <tr>\n",
       "      <th>1</th>\n",
       "      <td>30001</td>\n",
       "      <td>25th Street &amp; 33rd Ave S</td>\n",
       "      <td>44.957341</td>\n",
       "      <td>-93.223374</td>\n",
       "      <td>15</td>\n",
       "    </tr>\n",
       "    <tr>\n",
       "      <th>2</th>\n",
       "      <td>30002</td>\n",
       "      <td>Riverside Ave &amp; 23rd Ave S</td>\n",
       "      <td>44.967115</td>\n",
       "      <td>-93.240149</td>\n",
       "      <td>15</td>\n",
       "    </tr>\n",
       "    <tr>\n",
       "      <th>3</th>\n",
       "      <td>30003</td>\n",
       "      <td>Plymouth Ave N &amp;  N Oliver Ave</td>\n",
       "      <td>44.991412</td>\n",
       "      <td>-93.306269</td>\n",
       "      <td>15</td>\n",
       "    </tr>\n",
       "    <tr>\n",
       "      <th>4</th>\n",
       "      <td>30004</td>\n",
       "      <td>11th Street &amp; Hennepin</td>\n",
       "      <td>44.975340</td>\n",
       "      <td>-93.278690</td>\n",
       "      <td>23</td>\n",
       "    </tr>\n",
       "  </tbody>\n",
       "</table>\n",
       "</div>"
      ],
      "text/plain": [
       "  Number                            Name   Latitude  Longitude  Total docks\n",
       "0  30000              100 Main Street SE  44.984892 -93.256551           27\n",
       "1  30001        25th Street & 33rd Ave S  44.957341 -93.223374           15\n",
       "2  30002      Riverside Ave & 23rd Ave S  44.967115 -93.240149           15\n",
       "3  30003  Plymouth Ave N &  N Oliver Ave  44.991412 -93.306269           15\n",
       "4  30004          11th Street & Hennepin  44.975340 -93.278690           23"
      ]
     },
     "execution_count": 5,
     "metadata": {},
     "output_type": "execute_result"
    }
   ],
   "source": [
    "station.head(5)"
   ]
  },
  {
   "cell_type": "code",
   "execution_count": null,
   "metadata": {},
   "outputs": [],
   "source": []
  },
  {
   "cell_type": "code",
   "execution_count": 6,
   "metadata": {},
   "outputs": [
    {
     "name": "stdout",
     "output_type": "stream",
     "text": [
      "11354802\n",
      "2276.506628783768\n",
      "764.0\n",
      "0.25     408.0\n",
      "0.75    1483.0\n",
      "Name: Total duration (Seconds), dtype: float64\n"
     ]
    }
   ],
   "source": [
    "# Max, Mean, median, and interquartile range for Total duration (Seconds) Column\n",
    "print(nr['Total duration (Seconds)'].max())\n",
    "print(nr['Total duration (Seconds)'].mean())\n",
    "print(nr['Total duration (Seconds)'].median())\n",
    "print(nr['Total duration (Seconds)'].quantile([.25,.75]))"
   ]
  },
  {
   "cell_type": "code",
   "execution_count": 7,
   "metadata": {},
   "outputs": [
    {
     "name": "stdout",
     "output_type": "stream",
     "text": [
      "Total use time in 2017: 12139 days, 4:59:41\n",
      "That's 33.26 years and some change\n"
     ]
    }
   ],
   "source": [
    "tot_ride_len = sum(nr['Total duration (Seconds)'])\n",
    "print(\"Total use time in 2017: \" +str(datetime.timedelta(seconds=tot_ride_len)))\n",
    "print(\"That's \" + \"{0:.2f}\".format(12139 / 365) + \" years and some change\")"
   ]
  },
  {
   "cell_type": "code",
   "execution_count": 8,
   "metadata": {},
   "outputs": [
    {
     "data": {
      "image/png": "[encoded data removed]",
      "text/plain": [
       "<matplotlib.figure.Figure at 0x7fd5b1387f28>"
      ]
     },
     "metadata": {},
     "output_type": "display_data"
    }
   ],
   "source": [
    "# Shows Total Duration (Seconds) plot\n",
    "plt.subplot(2,1,1)\n",
    "nr['Total duration (Seconds)'].plot(logx=True)\n",
    "plt.subplot(2,1,2)\n",
    "nr['Total duration (Seconds)'].plot()\n",
    "plt.show()"
   ]
  },
  {
   "cell_type": "code",
   "execution_count": null,
   "metadata": {},
   "outputs": [],
   "source": []
  },
  {
   "cell_type": "code",
   "execution_count": 9,
   "metadata": {},
   "outputs": [
    {
     "data": {
      "image/png": "[encoded data removed]",
      "text/plain": [
       "<matplotlib.figure.Figure at 0x7fd5b0282240>"
      ]
     },
     "metadata": {},
     "output_type": "display_data"
    }
   ],
   "source": [
    "# Stations based on coordinates\n",
    "station.plot(x='Longitude', y='Latitude', kind='scatter')\n",
    "plt.show()"
   ]
  },
  {
   "cell_type": "code",
   "execution_count": 10,
   "metadata": {},
   "outputs": [
    {
     "data": {
      "text/plain": [
       "Member     290070\n",
       "Casual     170646\n",
       "Inconnu         2\n",
       "Name: Account type, dtype: int64"
      ]
     },
     "execution_count": 10,
     "metadata": {},
     "output_type": "execute_result"
    }
   ],
   "source": [
    "nr['Account type'].value_counts()"
   ]
  },
  {
   "cell_type": "code",
   "execution_count": 11,
   "metadata": {},
   "outputs": [],
   "source": [
    "# Creating new Dataframe based on account types\n",
    "member = nr.loc[nr['Account type'] == 'Member',:]\n",
    "casual = nr.loc[nr['Account type'] == 'Casual',:]\n",
    "inconnu = nr.loc[nr['Account type'] == 'Inconnu',:]\n",
    "# Remember that loc allows for calls by label"
   ]
  },
  {
   "cell_type": "code",
   "execution_count": 12,
   "metadata": {},
   "outputs": [
    {
     "data": {
      "text/html": [
       "<div>\n",
       "<style scoped>\n",
       "    .dataframe tbody tr th:only-of-type {\n",
       "        vertical-align: middle;\n",
       "    }\n",
       "\n",
       "    .dataframe tbody tr th {\n",
       "        vertical-align: top;\n",
       "    }\n",
       "\n",
       "    .dataframe thead th {\n",
       "        text-align: right;\n",
       "    }\n",
       "</style>\n",
       "<table border=\"1\" class=\"dataframe\">\n",
       "  <thead>\n",
       "    <tr style=\"text-align: right;\">\n",
       "      <th></th>\n",
       "      <th>Start date</th>\n",
       "      <th>Start station</th>\n",
       "      <th>Start station number</th>\n",
       "      <th>End date</th>\n",
       "      <th>End station</th>\n",
       "      <th>End station number</th>\n",
       "      <th>Account type</th>\n",
       "      <th>Total duration (Seconds)</th>\n",
       "    </tr>\n",
       "  </thead>\n",
       "  <tbody>\n",
       "    <tr>\n",
       "      <th>168157</th>\n",
       "      <td>8/8/2017 10:51</td>\n",
       "      <td>N 4th Ave &amp; W River Parkway</td>\n",
       "      <td>30144</td>\n",
       "      <td>8/8/2017 10:57</td>\n",
       "      <td>N 4th Ave &amp; W River Parkway</td>\n",
       "      <td>30144</td>\n",
       "      <td>Inconnu</td>\n",
       "      <td>358</td>\n",
       "    </tr>\n",
       "    <tr>\n",
       "      <th>334673</th>\n",
       "      <td>6/10/2017 18:30</td>\n",
       "      <td>7th Place &amp; Jackson Street</td>\n",
       "      <td>30118</td>\n",
       "      <td>6/10/2017 19:28</td>\n",
       "      <td>7th Place &amp; Jackson Street</td>\n",
       "      <td>30118</td>\n",
       "      <td>Inconnu</td>\n",
       "      <td>3495</td>\n",
       "    </tr>\n",
       "  </tbody>\n",
       "</table>\n",
       "</div>"
      ],
      "text/plain": [
       "             Start date                Start station Start station number  \\\n",
       "168157   8/8/2017 10:51  N 4th Ave & W River Parkway                30144   \n",
       "334673  6/10/2017 18:30   7th Place & Jackson Street                30118   \n",
       "\n",
       "               End date                  End station End station number  \\\n",
       "168157   8/8/2017 10:57  N 4th Ave & W River Parkway              30144   \n",
       "334673  6/10/2017 19:28   7th Place & Jackson Street              30118   \n",
       "\n",
       "       Account type  Total duration (Seconds)  \n",
       "168157      Inconnu                       358  \n",
       "334673      Inconnu                      3495  "
      ]
     },
     "execution_count": 12,
     "metadata": {},
     "output_type": "execute_result"
    }
   ],
   "source": [
    "# inconnu is french for unknown\n",
    "inconnu"
   ]
  },
  {
   "cell_type": "code",
   "execution_count": 13,
   "metadata": {},
   "outputs": [],
   "source": [
    "del member['Account type'], casual['Account type']"
   ]
  },
  {
   "cell_type": "code",
   "execution_count": 14,
   "metadata": {},
   "outputs": [
    {
     "name": "stdout",
     "output_type": "stream",
     "text": [
      "The median ride for:\n",
      "All users is 12.73 min(s)\n",
      "Members is 8.93 min(s)\n",
      "Casual users is 22.78 min(s)\n"
     ]
    }
   ],
   "source": [
    "#Looking at differences between member and casual median with reference to nr.Dataframe\n",
    "print(\"The median ride for:\")\n",
    "print(\"All users is \" + \"{0:.2f}\".format(nr['Total duration (Seconds)'].median()/60) + \" min(s)\")\n",
    "print(\"Members is \" + \"{0:.2f}\".format(member['Total duration (Seconds)'].median()/60) + \" min(s)\")\n",
    "print(\"Casual users is \" + \"{0:.2f}\".format(casual['Total duration (Seconds)'].median()/60) + \" min(s)\")"
   ]
  },
  {
   "cell_type": "code",
   "execution_count": 15,
   "metadata": {},
   "outputs": [
    {
     "name": "stdout",
     "output_type": "stream",
     "text": [
      "The mean ride for:\n",
      "All users is 37.94 min(s)\n",
      "Members is 15.19 min(s)\n",
      "Casual users is 76.62 min(s)\n"
     ]
    }
   ],
   "source": [
    "#Looking at differences between member and casual mean with reference to nr.Dataframe\n",
    "print(\"The mean ride for:\")\n",
    "print(\"All users is \" + \"{0:.2f}\".format(nr['Total duration (Seconds)'].mean()/60) + \" min(s)\")\n",
    "print(\"Members is \" + \"{0:.2f}\".format(member['Total duration (Seconds)'].mean()/60) + \" min(s)\")\n",
    "print(\"Casual users is \" + \"{0:.2f}\".format(casual['Total duration (Seconds)'].mean()/60) + \" min(s)\")"
   ]
  },
  {
   "cell_type": "code",
   "execution_count": 16,
   "metadata": {},
   "outputs": [
    {
     "name": "stdout",
     "output_type": "stream",
     "text": [
      "43932.44414646382\n",
      "7646.957783242627\n",
      "71434.80821605049\n"
     ]
    }
   ],
   "source": [
    "# Calculating stand. Dev.\n",
    "print(nr['Total duration (Seconds)'].std())\n",
    "print(member['Total duration (Seconds)'].std())\n",
    "print(casual['Total duration (Seconds)'].std())"
   ]
  },
  {
   "cell_type": "markdown",
   "metadata": {},
   "source": [
    "_look into adjusting for loop to use pandas column filtering/counting instead of for_\n",
    " * 1st code snippet involves using value_counts()\n",
    " * 2nd code snippet shows for looping and Counter() to tall"
   ]
  },
  {
   "cell_type": "code",
   "execution_count": 17,
   "metadata": {},
   "outputs": [
    {
     "name": "stdout",
     "output_type": "stream",
     "text": [
      "Lake Street & Knox Ave S               10747\n",
      "Washington Ave SE & Union Street SE    10278\n",
      "Coffman Union                           9544\n",
      "Weisman Art Museum                      9221\n",
      "6th Ave SE & University Ave             8502\n",
      "Name: Start station, dtype: int64\n",
      "Lake Street & Knox Ave S               11658\n",
      "Washington Ave SE & Union Street SE    10117\n",
      "Weisman Art Museum                      8618\n",
      "11th Ave S & S 2nd Street               8598\n",
      "6th Ave SE & University Ave             8597\n",
      "Name: End station, dtype: int64\n"
     ]
    }
   ],
   "source": [
    "# 'Start station' & 'End station'\n",
    "stat_from = nr['Start station'].value_counts()\n",
    "stat_to = nr['End station'].value_counts()\n",
    "print(stat_from.head(5))\n",
    "print(stat_to.head(5))"
   ]
  },
  {
   "cell_type": "code",
   "execution_count": 18,
   "metadata": {},
   "outputs": [],
   "source": [
    "# Which stations saw the most use from and to\n",
    "stations_from = Counter()\n",
    "stations_to = Counter()\n",
    "for row in nr.values :\n",
    "    stations_from[row[1]] += 1\n",
    "    stations_to[row[4]] += 1"
   ]
  },
  {
   "cell_type": "code",
   "execution_count": 19,
   "metadata": {},
   "outputs": [
    {
     "data": {
      "text/plain": [
       "[('Lake Street & Knox Ave S', 10747),\n",
       " ('Washington Ave SE & Union Street SE', 10278),\n",
       " ('Coffman Union', 9544),\n",
       " ('Weisman Art Museum', 9221),\n",
       " ('6th Ave SE & University Ave', 8502)]"
      ]
     },
     "execution_count": 19,
     "metadata": {},
     "output_type": "execute_result"
    }
   ],
   "source": [
    "stations_from.most_common(5)\n",
    "# Most common stations to leave from"
   ]
  },
  {
   "cell_type": "code",
   "execution_count": 20,
   "metadata": {},
   "outputs": [
    {
     "data": {
      "text/plain": [
       "[('Lake Street & Knox Ave S', 11658),\n",
       " ('Washington Ave SE & Union Street SE', 10117),\n",
       " ('Weisman Art Museum', 8618),\n",
       " ('11th Ave S & S 2nd Street', 8598),\n",
       " ('6th Ave SE & University Ave', 8597)]"
      ]
     },
     "execution_count": 20,
     "metadata": {},
     "output_type": "execute_result"
    }
   ],
   "source": [
    "stations_to.most_common(5)\n",
    "# Most common stations to return to"
   ]
  },
  {
   "cell_type": "code",
   "execution_count": 21,
   "metadata": {},
   "outputs": [],
   "source": [
    "members_from = Counter()\n",
    "members_to = Counter()\n",
    "for row in member.values :\n",
    "    members_from[row[1]] += 1\n",
    "    members_to[row[4]] += 1\n",
    "# Most members are going from and to University campus"
   ]
  },
  {
   "cell_type": "code",
   "execution_count": 22,
   "metadata": {},
   "outputs": [
    {
     "data": {
      "text/plain": [
       "[('Washington Ave SE & Union Street SE', 9295),\n",
       " ('Coffman Union', 8002),\n",
       " ('Weisman Art Museum', 7655),\n",
       " ('Willey Hall', 6699),\n",
       " ('Hennepin County Government Center', 6262)]"
      ]
     },
     "execution_count": 22,
     "metadata": {},
     "output_type": "execute_result"
    }
   ],
   "source": [
    "members_from.most_common(5)"
   ]
  },
  {
   "cell_type": "code",
   "execution_count": 23,
   "metadata": {},
   "outputs": [
    {
     "data": {
      "text/plain": [
       "[('Washington Ave SE & Union Street SE', 9201),\n",
       " ('Coffman Union', 7319),\n",
       " ('Weisman Art Museum', 7195),\n",
       " ('McNamara Center', 6559),\n",
       " ('Social Sciences', 6353)]"
      ]
     },
     "execution_count": 23,
     "metadata": {},
     "output_type": "execute_result"
    }
   ],
   "source": [
    "members_to.most_common(5)"
   ]
  },
  {
   "cell_type": "code",
   "execution_count": 24,
   "metadata": {},
   "outputs": [],
   "source": [
    "casual_from = Counter()\n",
    "casual_to = Counter()\n",
    "for row in casual.values :\n",
    "    casual_from[row[1]] += 1\n",
    "    casual_to[row[4]] += 1\n",
    "# most casual use is around tourist destinations/lakes"
   ]
  },
  {
   "cell_type": "code",
   "execution_count": 25,
   "metadata": {},
   "outputs": [
    {
     "data": {
      "text/plain": [
       "[('Lake Street & Knox Ave S', 8514),\n",
       " ('100 Main Street SE', 5422),\n",
       " ('Lake Calhoun Center', 5189),\n",
       " ('11th Ave S & S 2nd Street', 4199),\n",
       " ('Lake Harriet Bandshell', 3883)]"
      ]
     },
     "execution_count": 25,
     "metadata": {},
     "output_type": "execute_result"
    }
   ],
   "source": [
    "casual_from.most_common(5)"
   ]
  },
  {
   "cell_type": "code",
   "execution_count": 26,
   "metadata": {},
   "outputs": [
    {
     "data": {
      "text/plain": [
       "[('Lake Street & Knox Ave S', 9059),\n",
       " ('100 Main Street SE', 5272),\n",
       " ('Lake Calhoun Center', 5162),\n",
       " ('11th Ave S & S 2nd Street', 4408),\n",
       " ('Lake Harriet Bandshell', 3977)]"
      ]
     },
     "execution_count": 26,
     "metadata": {},
     "output_type": "execute_result"
    }
   ],
   "source": [
    "casual_to.most_common(5)"
   ]
  },
  {
   "cell_type": "code",
   "execution_count": null,
   "metadata": {},
   "outputs": [],
   "source": []
  }
 ],
 "metadata": {
  "kernelspec": {
   "display_name": "Python 3",
   "language": "python",
   "name": "python3"
  },
  "language_info": {
   "codemirror_mode": {
    "name": "ipython",
    "version": 3
   },
   "file_extension": ".py",
   "mimetype": "text/x-python",
   "name": "python",
   "nbconvert_exporter": "python",
   "pygments_lexer": "ipython3",
   "version": "3.6.4"
  }
 },
 "nbformat": 4,
 "nbformat_minor": 2
}
