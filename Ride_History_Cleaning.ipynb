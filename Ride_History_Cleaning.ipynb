{
 "cells": [
  {
   "cell_type": "markdown",
   "metadata": {},
   "source": [
    "# Trip History data cleaning process per year"
   ]
  },
  {
   "cell_type": "markdown",
   "metadata": {},
   "source": [
    "**Load dependencies and data set**"
   ]
  },
  {
   "cell_type": "code",
   "execution_count": 1,
   "metadata": {},
   "outputs": [],
   "source": [
    "import numpy as np\n",
    "import pandas as pd\n",
    "import datetime as dt"
   ]
  },
  {
   "cell_type": "code",
   "execution_count": 2,
   "metadata": {},
   "outputs": [
    {
     "name": "stderr",
     "output_type": "stream",
     "text": [
      "/home/grimoire/anaconda3/lib/python3.6/site-packages/IPython/core/interactiveshell.py:2728: DtypeWarning: Columns (2,5) have mixed types. Specify dtype option on import or set low_memory=False.\n",
      "  interactivity=interactivity, compiler=compiler, result=result)\n",
      "/home/grimoire/anaconda3/lib/python3.6/site-packages/IPython/core/interactiveshell.py:2728: DtypeWarning: Columns (0,1,2,3,4,5,7) have mixed types. Specify dtype option on import or set low_memory=False.\n",
      "  interactivity=interactivity, compiler=compiler, result=result)\n"
     ]
    }
   ],
   "source": [
    "df_list = list(range(8))\n",
    "\n",
    "for x in range(8) :\n",
    "    df_list[x] = \\\n",
    "    pd.read_csv('~/Projects/NiceRide/Nice_Ride_data/201'+str(x)+'/Nice_Ride_trip_history_201'+str(x)+'_season.csv').dropna()\n",
    "# Warning can be ingnored, specifies that there are mixed data types and can't coerce specific type\n",
    "# File names were changed to match each other"
   ]
  },
  {
   "cell_type": "markdown",
   "metadata": {},
   "source": [
    "## Verify the data loaded in"
   ]
  },
  {
   "cell_type": "code",
   "execution_count": 3,
   "metadata": {
    "scrolled": true
   },
   "outputs": [
    {
     "name": "stdout",
     "output_type": "stream",
     "text": [
      "2010\n",
      "<class 'pandas.core.frame.DataFrame'>\n",
      "Int64Index: 101426 entries, 0 to 101850\n",
      "Data columns (total 8 columns):\n",
      "Start date             101426 non-null object\n",
      "Start station          101426 non-null object\n",
      "Start terminal         101426 non-null int64\n",
      "End date               101426 non-null object\n",
      "End station            101426 non-null object\n",
      "End terminal           101426 non-null float64\n",
      "Total duration (ms)    101426 non-null float64\n",
      "Account type           101426 non-null object\n",
      "dtypes: float64(2), int64(1), object(5)\n",
      "memory usage: 7.0+ MB\n",
      "None\n",
      "2011\n",
      "<class 'pandas.core.frame.DataFrame'>\n",
      "Int64Index: 217896 entries, 0 to 219794\n",
      "Data columns (total 8 columns):\n",
      "Start date             217896 non-null object\n",
      "Start station          217896 non-null object\n",
      "Start terminal         217896 non-null int64\n",
      "End date               217896 non-null object\n",
      "End station            217896 non-null object\n",
      "End terminal           217896 non-null float64\n",
      "Total duration (ms)    217896 non-null float64\n",
      "Account type           217896 non-null object\n",
      "dtypes: float64(2), int64(1), object(5)\n",
      "memory usage: 15.0+ MB\n",
      "None\n",
      "2012\n",
      "<class 'pandas.core.frame.DataFrame'>\n",
      "Int64Index: 274580 entries, 0 to 275749\n",
      "Data columns (total 8 columns):\n",
      "Start date             274580 non-null object\n",
      "Start station          274580 non-null object\n",
      "Start terminal         274580 non-null int64\n",
      "End date               274580 non-null object\n",
      "End station            274580 non-null object\n",
      "End terminal           274580 non-null float64\n",
      "Total duration (ms)    274580 non-null float64\n",
      "Account type           274580 non-null object\n",
      "dtypes: float64(2), int64(1), object(5)\n",
      "memory usage: 18.9+ MB\n",
      "None\n",
      "2013\n",
      "<class 'pandas.core.frame.DataFrame'>\n",
      "Int64Index: 308777 entries, 0 to 310652\n",
      "Data columns (total 8 columns):\n",
      "Start date             308777 non-null object\n",
      "Start station          308777 non-null object\n",
      "Start terminal         308777 non-null int64\n",
      "End date               308777 non-null object\n",
      "End station            308777 non-null object\n",
      "End terminal           308777 non-null float64\n",
      "Total duration (ms)    308777 non-null float64\n",
      "Account type           308777 non-null object\n",
      "dtypes: float64(2), int64(1), object(5)\n",
      "memory usage: 21.2+ MB\n",
      "None\n",
      "2014\n",
      "<class 'pandas.core.frame.DataFrame'>\n",
      "Int64Index: 415351 entries, 0 to 417173\n",
      "Data columns (total 8 columns):\n",
      "Start date             415351 non-null object\n",
      "Start station          415351 non-null object\n",
      "Start terminal         415351 non-null object\n",
      "End date               415351 non-null object\n",
      "End station            415351 non-null object\n",
      "End terminal           415351 non-null object\n",
      "Total duration (ms)    415351 non-null float64\n",
      "Account type           415351 non-null object\n",
      "dtypes: float64(1), object(7)\n",
      "memory usage: 28.5+ MB\n",
      "None\n",
      "2015\n",
      "<class 'pandas.core.frame.DataFrame'>\n",
      "Int64Index: 483229 entries, 0 to 483228\n",
      "Data columns (total 8 columns):\n",
      "Start date                  483229 non-null object\n",
      "Start station               483229 non-null object\n",
      "Start station number        483229 non-null object\n",
      "End date                    483229 non-null object\n",
      "End station                 483229 non-null object\n",
      "End station number          483229 non-null object\n",
      "Total duration (Seconds)    483229 non-null int64\n",
      "Account type                483229 non-null object\n",
      "dtypes: int64(1), object(7)\n",
      "memory usage: 33.2+ MB\n",
      "None\n",
      "2016\n",
      "<class 'pandas.core.frame.DataFrame'>\n",
      "Int64Index: 432274 entries, 0 to 432282\n",
      "Data columns (total 8 columns):\n",
      "Start date                  432274 non-null object\n",
      "Start station               432274 non-null object\n",
      "Start station number        432274 non-null object\n",
      "End date                    432274 non-null object\n",
      "End station                 432274 non-null object\n",
      "End station number          432274 non-null object\n",
      "Total duration (seconds)    432274 non-null int64\n",
      "Account type                432274 non-null object\n",
      "dtypes: int64(1), object(7)\n",
      "memory usage: 29.7+ MB\n",
      "None\n",
      "2017\n",
      "<class 'pandas.core.frame.DataFrame'>\n",
      "Int64Index: 460718 entries, 0 to 460717\n",
      "Data columns (total 8 columns):\n",
      "Start date                  460718 non-null object\n",
      "Start station               460718 non-null object\n",
      "Start station number        460718 non-null object\n",
      "End date                    460718 non-null object\n",
      "End station                 460718 non-null object\n",
      "End station number          460718 non-null object\n",
      "Account type                460718 non-null object\n",
      "Total duration (Seconds)    460718 non-null int64\n",
      "dtypes: int64(1), object(7)\n",
      "memory usage: 31.6+ MB\n",
      "None\n"
     ]
    }
   ],
   "source": [
    "for x in range(8) :\n",
    "    print('201'+str(x))\n",
    "    print(df_list[x].info())"
   ]
  },
  {
   "cell_type": "markdown",
   "metadata": {},
   "source": [
    "**Duration columns vary by year for milleseconds and seconds**\n",
    " * This needs to be addressed for the 2010-2015 year"
   ]
  },
  {
   "cell_type": "code",
   "execution_count": 4,
   "metadata": {},
   "outputs": [],
   "source": [
    "for x in range(5) : # 0:2010, 1:2011, 2:2012, 3:2013, 4:2014\n",
    "    df_list[x]['Total duration (ms)'] = round(df_list[x]['Total duration (ms)'] * .001).astype(int)"
   ]
  },
  {
   "cell_type": "markdown",
   "metadata": {},
   "source": [
    "** Renaming terminal columns for legibility**\n",
    "\n",
    "The following naming convention will be used for all ride history data\n",
    " * Start_date\n",
    " * Start_station\n",
    " * Start_terminal\n",
    " * End_date\n",
    " * End_station\n",
    " * End_terminal\n",
    " * Duration\n",
    " * Account"
   ]
  },
  {
   "cell_type": "code",
   "execution_count": 5,
   "metadata": {},
   "outputs": [
    {
     "name": "stdout",
     "output_type": "stream",
     "text": [
      "Index(['Start date', 'Start station', 'Start terminal', 'End date',\n",
      "       'End station', 'End terminal', 'Total duration (ms)', 'Account type'],\n",
      "      dtype='object')\n",
      "Index(['Start date', 'Start station', 'Start terminal', 'End date',\n",
      "       'End station', 'End terminal', 'Total duration (ms)', 'Account type'],\n",
      "      dtype='object')\n",
      "Index(['Start date', 'Start station', 'Start terminal', 'End date',\n",
      "       'End station', 'End terminal', 'Total duration (ms)', 'Account type'],\n",
      "      dtype='object')\n",
      "Index(['Start date', 'Start station', 'Start terminal', 'End date',\n",
      "       'End station', 'End terminal', 'Total duration (ms)', 'Account type'],\n",
      "      dtype='object')\n",
      "Index(['Start date', 'Start station', 'Start terminal', 'End date',\n",
      "       'End station', 'End terminal', 'Total duration (ms)', 'Account type'],\n",
      "      dtype='object')\n",
      "Index(['Start date', 'Start station', 'Start station number', 'End date',\n",
      "       'End station', 'End station number', 'Total duration (Seconds)',\n",
      "       'Account type'],\n",
      "      dtype='object')\n",
      "Index(['Start date', 'Start station', 'Start station number', 'End date',\n",
      "       'End station', 'End station number', 'Total duration (seconds)',\n",
      "       'Account type'],\n",
      "      dtype='object')\n",
      "Index(['Start date', 'Start station', 'Start station number', 'End date',\n",
      "       'End station', 'End station number', 'Account type',\n",
      "       'Total duration (Seconds)'],\n",
      "      dtype='object')\n"
     ]
    }
   ],
   "source": [
    "for x in range(8):\n",
    "    print(df_list[x].columns)\n",
    "# Notice how 2010-2015 have their duration configured to be in milliseconds, not seconds"
   ]
  },
  {
   "cell_type": "code",
   "execution_count": 6,
   "metadata": {},
   "outputs": [],
   "source": [
    "# .rename doesn't mutate original Dataframe unless it's assigned\n",
    "for x in range(8) :\n",
    "    df_list[x] = df_list[x].rename(index=str, columns={\\\n",
    "                                           'Start date' : 'Start_date',\n",
    "                                           'Start station' : 'Start_name',\n",
    "                                           'Start station number' : 'Start_id',\n",
    "                                           'Start terminal' : 'Start_id',\n",
    "                                           'End date' : 'End_date',\n",
    "                                           'End station' : 'End_name',\n",
    "                                           'End station number' : 'End_id',\n",
    "                                           'End terminal': 'End_id',\n",
    "                                           'Total duration (ms)' : 'duration',\n",
    "                                           'Total duration (Seconds)' : 'duration',\n",
    "                                           'Total duration (seconds)' : 'duration',\n",
    "                                           'Account type': 'account'})"
   ]
  },
  {
   "cell_type": "code",
   "execution_count": 7,
   "metadata": {},
   "outputs": [
    {
     "name": "stdout",
     "output_type": "stream",
     "text": [
      "Index(['Start_date', 'Start_name', 'Start_id', 'End_date', 'End_name',\n",
      "       'End_id', 'duration', 'account'],\n",
      "      dtype='object')\n",
      "Index(['Start_date', 'Start_name', 'Start_id', 'End_date', 'End_name',\n",
      "       'End_id', 'duration', 'account'],\n",
      "      dtype='object')\n",
      "Index(['Start_date', 'Start_name', 'Start_id', 'End_date', 'End_name',\n",
      "       'End_id', 'duration', 'account'],\n",
      "      dtype='object')\n",
      "Index(['Start_date', 'Start_name', 'Start_id', 'End_date', 'End_name',\n",
      "       'End_id', 'duration', 'account'],\n",
      "      dtype='object')\n",
      "Index(['Start_date', 'Start_name', 'Start_id', 'End_date', 'End_name',\n",
      "       'End_id', 'duration', 'account'],\n",
      "      dtype='object')\n",
      "Index(['Start_date', 'Start_name', 'Start_id', 'End_date', 'End_name',\n",
      "       'End_id', 'duration', 'account'],\n",
      "      dtype='object')\n",
      "Index(['Start_date', 'Start_name', 'Start_id', 'End_date', 'End_name',\n",
      "       'End_id', 'duration', 'account'],\n",
      "      dtype='object')\n",
      "Index(['Start_date', 'Start_name', 'Start_id', 'End_date', 'End_name',\n",
      "       'End_id', 'account', 'duration'],\n",
      "      dtype='object')\n"
     ]
    }
   ],
   "source": [
    "for x in range(8):\n",
    "    print(df_list[x].columns)\n",
    "# 2017 columns will require a reordering to match the rest"
   ]
  },
  {
   "cell_type": "markdown",
   "metadata": {},
   "source": [
    "## Addressing data type issues in data\n",
    "Our data should look as follows\n",
    " * Start_data : datetime object\n",
    " * Start_name : object\n",
    " * Start_id : int\n",
    " * End_date : datetime object\n",
    " * End_name : object\n",
    " * End_id : int\n",
    " * duration : int\n",
    " * account : object"
   ]
  },
  {
   "cell_type": "code",
   "execution_count": 8,
   "metadata": {},
   "outputs": [],
   "source": [
    "# Changing dates into datetimes\n",
    "for x in range(8):\n",
    "    df_list[x]['Start_date'] = df_list[x]['Start_date'].apply(lambda x: dt.datetime.strptime(x,'%m/%d/%Y %H:%M'))\n",
    "    df_list[x]['End_date'] = df_list[x]['End_date'].apply(lambda x: dt.datetime.strptime(x,'%m/%d/%Y %H:%M'))\n",
    "    \n",
    "# Time intensive, consider changing to work with values/numpy instead"
   ]
  },
  {
   "cell_type": "markdown",
   "metadata": {},
   "source": [
    "Value checking Start_id prior to coercing data types to int. Since the data was loaded in as an object there is most likely some value(s) that are preventing the data from being loaded as float or int. We can see this happens in 2014, 2015, 2016, 2017. This step will need to be repeated for End_id"
   ]
  },
  {
   "cell_type": "code",
   "execution_count": 10,
   "metadata": {
    "scrolled": true
   },
   "outputs": [
    {
     "name": "stdout",
     "output_type": "stream",
     "text": [
      "2010\n",
      "[30000 30039 30004 30040 30014 30031 30001 30044 30022 30064 30053 30052\n",
      " 30050 30009 30032 30027 30051 30007 30023 30024 30037 30036 30048 30038\n",
      " 30058 30063 30033 30045 30041 30059 30005 30010 30029 30042 30043 30035\n",
      " 30017 30013 30055 30026 30018 30057 30008 30054 30062 30012 30060 30049\n",
      " 30011 30034 30003 30002 30019 30030 30056 30047 30061 30016 30021 30015\n",
      " 30028 30046 30025 30006 30020]\n",
      "2011\n",
      "[30008 30016 30006 30051 30055 30001 30048 30050 30009 30000 30052 30044\n",
      " 30017 30028 30013 30043 30021 30061 30039 30042 30022 30004 30047 30025\n",
      " 30060 30053 30056 30011 30012 30049 30020 30064 30015 30046 30038 30040\n",
      " 30018 30005 30030 30063 30035 30031 30010 30007 30062 30027 30033 30024\n",
      " 30041 30045 30032 30014 30002 30054 30003 30023 30019 30059 30070 30071\n",
      " 30065 30029 30036 30067 30068 30066 30034 30037 30026 30057 30058 30069\n",
      " 30072 30080 30081 30073 30075 30074 30076 30077 30079 30088 30083 30082\n",
      " 30086 30078 30087 30091 30090 30095 30094 30096 30098 30097 30092 30085\n",
      " 30093 30089 30099 30084 30102 30103 30105 30101 30109 30108 30110 30107\n",
      " 30104 30100 30112 30106 30114 30111 30113 30115]\n",
      "2012\n",
      "[30008 30023 30054 30103 30019 30080 30037 30045 30038 30036 30009 30025\n",
      " 30027 30013 30024 30091 30029 30018 30094 30088 30090 30089 30011 30106\n",
      " 30026 30006 30110 30015 30052 30044 30043 30057 30064 30074 30061 30021\n",
      " 30004 30005 30048 30028 30060 30007 30016 30014 30109 30056 30092 30050\n",
      " 30020 30081 30097 30030 30039 30049 30076 30113 30042 30047 30001 30114\n",
      " 30065 30086 30051 30040 30107 30100 30034 30046 30000 30098 30022 30073\n",
      " 30010 30078 30087 30063 30067 30099 30072 30083 30066 30058 30033 30032\n",
      " 30017 30055 30095 30112 30111 30062 30012 30053 30035 30096 30108 30077\n",
      " 30075 30084 30079 30002 30085 30041 30105 30104 30003 30093 30115 30031\n",
      " 30071 30068 30102 30059 30069 30070 30101 30133 30141 30124 30116 30119\n",
      " 30117 30128 30125 30131 30136 30134 30126 30129 30137 30138 30140 30139\n",
      " 30132 30120 30118 30121 30130 30135 30122 30127 30123 30144 30142 30145\n",
      " 30143]\n",
      "2013\n",
      "[30008 30023 30042 30054 30143 30030 30091 30047 30098 30050 30088 30000\n",
      " 30009 30029 30013 30056 30028 30057 30074 30006 30020 30010 30044 30021\n",
      " 30027 30041 30046 30051 30083 30094 30025 30104 30097 30052 30093 30122\n",
      " 30001 30090 30061 30124 30039 30132 30004 30019 30040 30058 30016 30079\n",
      " 30005 30138 30049 30015 30048 30045 30017 30060 30081 30089 30075 30024\n",
      " 30063 30002 30092 30026 30037 30018 30087 30119 30022 30110 30031 30102\n",
      " 30012 30055 30034 30065 30035 30108 30038 30142 30043 30053 30080 30086\n",
      " 30007 30099 30113 30033 30109 30096 30076 30064 30078 30100 30120 30137\n",
      " 30117 30103 30112 30116 30032 30128 30118 30125 30121 30141 30011 30127\n",
      " 30003 30066 30059 30084 30134 30144 30131 30036 30111 30145 30095 30107\n",
      " 30106 30136 30140 30085 30135 30070 30069 30072 30067 30101 30014 30071\n",
      " 30115 30105 30062 30129 30126 30114 30077 30130 30068 30133 30139 30123\n",
      " 30073 30160 30147 30158 30167 30149 30153 30150 30157 30161 30166 30159\n",
      " 30163 30162 30156 30165 30151 30155 30148 30154 30169 30152 30164 30146\n",
      " 30082 30168]\n",
      "2014\n",
      "[30158 30042 30093 30090 30030 30157 30024 30016 30080 30035 30074 30053\n",
      " 30032 30027 30036 30014 30043 30153 30028 30026 30006 30000 30112 30047\n",
      " 30154 30018 30091 30033 30011 30019 30009 30015 30008 30048 30110 30005\n",
      " 30060 30142 30088 30044 30089 30169 30049 30041 30022 30001 30064 30021\n",
      " 30108 30166 30057 30045 30037 30029 30010 30092 30056 30058 30100 30149\n",
      " 30147 30069 30081 30067 30109 30025 30146 30113 30040 30023 30007 30106\n",
      " 30087 30131 30066 30012 30134 30098 30017 30065 30096 30079 30050 30144\n",
      " 30073 30020 30152 30114 30151 30004 30124 30143 30039 30068 30103 30046\n",
      " 30013 30031 30155 30136 30084 30085 30086 30099 30135 30054 30063 30161\n",
      " 30162 30160 30104 30094 30072 30055 30052 30150 30038 30097 30107 30111\n",
      " 30082 30076 30117 30133 30148 30137 30125 30120 30002 30128 30127 30119\n",
      " 30078 30126 30101 30102 30123 30138 30139 30051 30145 30034 30075 30061\n",
      " 30165 30132 30071 30118 30163 30121 30122 30070 30141 30116 30156 30115\n",
      " 30077 30168 30062 30003 30129 30140 30105 30130 30059 30164 30095 30159\n",
      " 30083 '30143' '30004' '30035' '30074' '30147' '30042' '30033' '30081'\n",
      " '30015' '30010' '30045' '30032' '30051' '30055' '30018' '30092' '30049'\n",
      " '30016' '30054' '30030' '30157' '30017' '30023' '30149' '30065' '30028'\n",
      " '30008' '30009' '30088' '30134' '30071' '30158' '30043' '30110' '30156'\n",
      " '30000' '30146' '30025' '30135' '30109' '30024' '30087' '30048' '30053'\n",
      " '30100' '30159' '30039' '30013' '30080' '30005' '30036' '30040' '30062'\n",
      " '30011' '30164' '30063' '30052' '30112' '30086' '30106' '30089' '30034'\n",
      " '30142' '30153' '30019' '30058' '30144' '30002' '30056' '30119' '30127'\n",
      " '30077' '30090' '30148' '30047' '30046' '30096' '30154' '30098' '30067'\n",
      " '30115' '30057' '30064' '30084' '30137' '30006' '30085' '30114' '30165'\n",
      " '30166' '30044' '30050' '30141' '30068' '30061' '30014' '30103' '30022'\n",
      " '30027' '30093' '30066' '30160' '30094' '30073' '30021' '30108' '30155'\n",
      " '30101' '30121' '30001' '30095' '30128' '30151' '30091' '30041' '30145'\n",
      " '30060' '30083' '30020' '30029' '30131' '30125' '30026' '30132' '30136'\n",
      " '30111' '30037' '30078' '30007' '30104' '30099' '30140' '30162' '30163'\n",
      " '30113' '30122' '30130' '30152' '30161' '30102' '30120' '30031' '30003'\n",
      " '30126' '30076' '30107' '30138' '30116' '30168' '30012' '30117' '30169'\n",
      " '30105' '30097' '30139' '30038' '30072' '30150' '30075' '30059' '30123'\n",
      " '30129' '30133' '30079' '30118' '30069' '30082' '30070' 'x-30158' '30124']\n",
      "2015\n",
      "['30093' '30009' '30017' '30006' '30024' '30064' '30051' '30053' '30090'\n",
      " '30029' '30025' '30058' '30088' '30037' '30154' '30055' '30004' '30098'\n",
      " '30057' '30094' '30033' '30142' '30040' '30091' '30000' '30183' '30095'\n",
      " '30014' '30186' '30077' '30030' '30069' '30143' '30076' '30045' '30060'\n",
      " '30074' '30019' '30079' '30027' '30140' '30115' '30002' '30138' '30082'\n",
      " '30042' '30105' '30099' '30075' '30114' '30155' '30101' '30034' '30086'\n",
      " '30050' '30031' '30085' '30010' '30083' '30161' '30011' '30084' '30111'\n",
      " '30162' '30015' '30047' '30097' '30147' '30001' '30113' '30120' '30126'\n",
      " '30141' '30108' '30123' '30139' '30119' '30102' '30008' '30065' '30187'\n",
      " '30117' '30054' '30100' '30043' '30158' '30170' '30049' '30182' '30149'\n",
      " '30166' '30078' '30089' '30131' '30157' '30109' '30110' '30044' '30046'\n",
      " '30156' '30021' '30164' '30122' '30035' '30176' '30087' '30061' '30188'\n",
      " '30181' '30018' '30012' '30026' '30171' '30167' '30179' '30175' '30092'\n",
      " '30036' '30022' '30151' '30134' '30152' '30125' '30144' '30032' '30048'\n",
      " '30160' '30013' '30073' '30189' '30153' '30172' '30052' '30148' '30130'\n",
      " '30150' '30020' '30007' '30137' '30128' '30165' '30005' '30028' '30173'\n",
      " '30180' '30063' '30169' '30062' '30159' '30185' '30104' '30103' '30096'\n",
      " '30023' '30041' '30080' '30107' '30081' '30112' '30106' '30127' '30163'\n",
      " '30177' '30038' '30016' '30059' '30067' '30068' '30072' '30116' '30124'\n",
      " '30132' '30178' '30129' 'NRHQ' '30121' '30146' '30066' '30056' '30003'\n",
      " '30145' '30168' '30135' '30118' '30133' '30184' '30136' '30070' '30174'\n",
      " '30071' '30039' 30086 30006 30143 30144 30036 30158 30110 30149 30045\n",
      " 30157 30009 30013 30042 30104 30054 30186 30035 30010 30023 30019 30113\n",
      " 30147 30080 30016 30051 30089 30008 30101 30021 30166 30000 30124 30093\n",
      " 30178 30007 30005 30073 30122 30046 30022 30060 30048 30028 30156 30065\n",
      " 30134 30004 30025 30014 30164 30160 30170 30027 30029 30082 30137 30112\n",
      " 30011 30162 30115 30061 30034 30096 30039 30098 30100 30092 30032 30050\n",
      " 30085 30081 30109 30091 30058 30184 30103 30064 30033 30127 30052 30189\n",
      " 30159 30015 30024 30053 30074 30049 30094 30095 30088 30001 30030 30031\n",
      " 30087 30165 30020 30154 30012 30090 30145 30083 30120 30141 30099 30040\n",
      " 30018 30044 30153 30155 30047 30071 30072 30179 30187 30123 30172 30114\n",
      " 30002 30017 30063 30026 30069 30111 30142 30188 30038 30056 30102 30076\n",
      " 30057 30043 30176 30132 30062 30075 30105 30180 30078 30077 30084 30108\n",
      " 30150 30140 30003 30119 30136 30185 30121 30135 30117 30133 30151 30106\n",
      " 30107 30041 30173 30168 30037 30066 30163 30128 30148 30171 30118 30079\n",
      " 30055 30116 30131 30068 30059 30097 30138 30130 30169 30152 30125 30161\n",
      " 30139 30070 30126 30181 30167 30129 30177 30146 30175 30067]\n",
      "2016\n",
      "['30195' '30182' '30154' '30030' '30037' '30015' '30122' '30052' '30119'\n",
      " '30002' '30006' '30115' '30087' '30034' '30192' '30048' '30137' '30005'\n",
      " '30074' '30061' '30167' '30027' '30096' '30197' '30188' '30092' '30129'\n",
      " '30184' '30148' '30000' '30190' '30011' '30017' '30057' '30024' '30090'\n",
      " '30010' '30189' '30110' '30026' '30163' '30186' '30004' '30084-A' '30181'\n",
      " '30009' '30021' '30013' '30117' '30042' '30183' '30099' '30145' '30031'\n",
      " '30046' '30086' '30018' '30105' '30172' '30091' '30160' '30174' '30134'\n",
      " '30047' '30035' '30155' '30088' '30054' '30116' '30022' '30151' '30053'\n",
      " '30124' '30055' '30166' '30198' '30025' '30012' '30040' '30153' '30023'\n",
      " '30171' '30141' '30058' '30179' '30187' '30050' '30168' '30158' 'NRHQ'\n",
      " '30032' '30144' '30100' '30044' '30008' '30029' '30062' '30125' '30176'\n",
      " '30157' '30180' '30149' '30175' '30033' '30194' '30196' '30043' '30147'\n",
      " '30079' '30185' '30107' '30109' '30039' '30156' '30066' '30132' '30111'\n",
      " '30063' '30143' '30083' '30193' '30028' '30007' '30019' '30127' '30094'\n",
      " '30097' '30159' '30059' '30051' '30130' '30131' '30161' '30170' '30085'\n",
      " '30102' '30041' '30056' '30191' '30106' '30138' '30093' '30001' '30095'\n",
      " '30104' '30045' '30082' '30014' '30162' '30038' '30073' '30139' '30077'\n",
      " '30020' '30060' '30152' '30136' '30112' '30118' '30075' '30173' '30080'\n",
      " '30016' '30076' '30126' '30078' '30101' '30113' '30169' '30165' '30064'\n",
      " '30164' '30123' '30065' '30140' '30081' '30133' '30103' '30128' '30098'\n",
      " '30049' '30178' '30150' '30146-A' '30068' '30114' '30135' '30108' '30177'\n",
      " '30003' '30071' '30121' '30070' '30067' '30069' '30089' '30142' '30072'\n",
      " '30036' '30084' '30120' '30146' 30186 30015 30182 30165 30110 30065 30042\n",
      " 30156 30058 30061 30161 30081 30088 30157 30031 30089 30104 30013 30005\n",
      " 30050 30144 30017 30115 30027 30030 30142 30032 30127 30095 30091 30154\n",
      " 30009 30048 30002 30019 30141 30158 30026 30024 30057 30021 30181 30189\n",
      " 30113 30102 30164 30053 30148 30172 30183 30101 30109 30176 30063 30121\n",
      " 30162 30028 30145 30087 30014 30166 30001 30044 30000 30097 30043 30039\n",
      " 30187 30034 30029 30067 30131 30025 30134 30147 30090 30075 30036 30143\n",
      " 30076 30051 30100 30040 30035 30140 30059 30086 30008 30074 30146 30093\n",
      " 30094 30006 30047 30010 30092 30007 30117 30023 30062 30168 30020 30180\n",
      " 30046 30137 30056 30011 30055 30077 30188 30126 30052 30054 30114 30153\n",
      " 30184 30022 30045 30178 30041 30004 30138 30185 30103 30080 30082 30112\n",
      " 30135 30128 30119 30038 30160 30149 30060 30167 30018 30083 30171 30175\n",
      " 30037 30174 30098 30151 30170 30106 30012 30155 30064 30163 30152 30159\n",
      " 30033 30139 30078 30016 30125 30099 30123 30169 30136 30118 30073 30079\n",
      " 30124 30049 30122 30107 30173 30108 30132 30085 30066 30096 30129 30116\n",
      " 30177 30133 30130 30071 30070 30003 30105 30084 30069 30072 30111 30150\n",
      " 30120 30068]\n",
      "2017\n",
      "['30184' '30122' '30106' '30183' '30030' '30197' '30067' '30101' '30051'\n",
      " '30004' '30115' '30186' '30192' '30196' '30057' '30109' '30088' '30080'\n",
      " '30039' '30047' '30090' '30110' '30013' '30009' '30180' '30187' '30029'\n",
      " '30141' '30091' '30035' '30194' '30027' '30116' '30011' '30032' '30018'\n",
      " '30176' '30087' '30034' '30142' '30204' '30060' '30025' '30127' '30031'\n",
      " '30000' '30189' '30085' '30100' '30019' '30149' '30155' '30105' '30042'\n",
      " '30156' 'NRHQ' '30094' '30074' '30147' '30191' '30174' '30190' '30012'\n",
      " '30024' '30198' '30185' '30037' '30020' '30043' '30049' '30015' '30062'\n",
      " '30166' '30093' '30125' '30026' '30017' '30111' '30007' '30044' '30061'\n",
      " '30202' '30188' '30137' '30195' '30128' '30064' '30073' '30046' '30171'\n",
      " '30014' '30048' '30138' '30181' '30159' '30003' '30153' '30006' '30086'\n",
      " '30113' '30144' '30162' '30179' '30008' '30038' '30089' '30154' '30054'\n",
      " '30053' '30040' '30002' '30182' '30055' '30107' '30193' '30143' '30052'\n",
      " '30140' '30095' '30104' '30028' '30045' '30010' '30161' '30118' '30157'\n",
      " '30160' '30083' '30199' '30102' '30099' '30158' '30050' '30170' '30033'\n",
      " '30151' '30097' '30001' '30103' '30076' '30071' '30063' '30132' '30023'\n",
      " '30098' '30041' '30070' '30130' '30139' '30016' '30065' '30058' '30131'\n",
      " '30163' '30005' '30117' '30177' '30056' '30059' '30082' '30077' '30164'\n",
      " '30096' '30081' '30092' '30148' '30126' '30069' '30075' '30123' '30178'\n",
      " '30145' '30021' '30136' '30066' '30120' '30168' '30167' '30129' '30114'\n",
      " '30175' '30135' '30079' '30119' '30078' '30203' '30169' '30150' '30165'\n",
      " '30152' '30108' '30133' '30121' '30134' '30146' '30068' '30201' '30173'\n",
      " '30172' '30124' '30022' '30112' 30195 30009 30040 30188 30183 30047 30191\n",
      " 30202 30027 30057 30107 30019 30002 30020 30024 30051 30179 30035 30161\n",
      " 30074 30033 30144 30011 30030 30158 30042 30026 30092 30031 30110 30197\n",
      " 30088 30029 30062 30089 30091 30196 30004 30154 30006 30182 30184 30043\n",
      " 30018 30052 30135 30157 30087 30115 30193 30109 30099 30016 30141 30143\n",
      " 30190 30037 30149 30014 30067 30008 30172 30005 30186 30185 30015 30001\n",
      " 30022 30025 30063 30046 30194 30174 30122 30048 30104 30093 30066 30034\n",
      " 30045 30137 30152 30060 30032 30100 30059 30010 30189 30013 30165 30160\n",
      " 30131 30096 30095 30192 30103 30041 30151 30061 30090 30106 30044 30098\n",
      " 30054 30073 30000 30058 30112 30064 30102 30012 30140 30180 30065 30049\n",
      " 30138 30171 30117 30094 30021 30147 30007 30003 30118 30170 30176 30017\n",
      " 30130 30178 30187 30071 30156 30101 30121 30126 30050 30145 30081 30123\n",
      " 30127 30053 30028 30201 30085 30132 30105 30038 30163 30056 30181 30164\n",
      " 30080 30153 30114 30108 30175 30159 30166 30039 30116 30134 30119 30148\n",
      " 30124 30146 30162 30198 30075 30082 30055 30086 30068 30079 30128 30129\n",
      " 30077 30023 30167 30125 30113 30083 30173 30136 30076 30139 30097 30150\n",
      " 30111 30133 30203 30155 30169 30120 30168 30078 30070 30177 30069 30142]\n"
     ]
    }
   ],
   "source": [
    "for x in range(8) :\n",
    "    print('201'+str(x))\n",
    "    print(df_list[x]['Start_id'].unique())"
   ]
  },
  {
   "cell_type": "code",
   "execution_count": null,
   "metadata": {},
   "outputs": [],
   "source": [
    "for x in range(8) :\n",
    "    print('201'+str(x))\n",
    "    print(df_list[x]['End_id'].unique())"
   ]
  },
  {
   "cell_type": "markdown",
   "metadata": {},
   "source": [
    "Start_id : \n",
    " * 2014: 'x-30158'\n",
    " * 2015: 'NRHQ'\n",
    " * 2016: '30084-A', 'NRHQ', '30146-A'\n",
    " * 2017: 'NRHQ'\n",
    "End_id : \n",
    " * 2014: 'NR-test'\n",
    " * 2015: 'NRHQ'\n",
    " * 2016: '30084-A', 'NRHQ', '30146-A'\n",
    " * 2017: 'NRHQ'\n",
    "\n",
    "These are our 'bad' terminal ID's, Looking through station ID data notes, we can find out that 'NRHQ' is a headquarters terminal. This terminal isn't a 'real' use terminal and can be deleted. This was confirmed by contacting MN Nice Ride and asking about this stations use."
   ]
  },
  {
   "cell_type": "code",
   "execution_count": 11,
   "metadata": {},
   "outputs": [],
   "source": [
    "df_list[5] = df_list[5][df_list[5]['Start_id'] != 'NRHQ']\n",
    "df_list[6] = df_list[6][df_list[6]['Start_id'] != 'NRHQ']\n",
    "df_list[7] = df_list[7][df_list[7]['Start_id'] != 'NRHQ']\n",
    "df_list[5] = df_list[5][df_list[5]['End_id'] != 'NRHQ']\n",
    "df_list[6] = df_list[6][df_list[6]['End_id'] != 'NRHQ']\n",
    "df_list[7] = df_list[7][df_list[7]['End_id'] != 'NRHQ']\n",
    "\n",
    "df_list[4] = df_list[4][df_list[4]['End_id'] != 'NR-test']"
   ]
  },
  {
   "cell_type": "code",
   "execution_count": 12,
   "metadata": {},
   "outputs": [
    {
     "name": "stdout",
     "output_type": "stream",
     "text": [
      "count    1.027000e+03\n",
      "mean     1.782697e+04\n",
      "std      4.896123e+05\n",
      "min      5.000000e+00\n",
      "25%      1.084000e+03\n",
      "50%      1.661000e+03\n",
      "75%      2.782500e+03\n",
      "max      1.569208e+07\n",
      "Name: duration, dtype: float64\n",
      "1027\n"
     ]
    }
   ],
   "source": [
    "print(df_list[4][df_list[4]['Start_id'] == 'x-30158']['duration'].describe())\n",
    "print(len(df_list[4][df_list[4]['Start_id'] == 'x-30158']['duration'].values))"
   ]
  },
  {
   "cell_type": "code",
   "execution_count": 13,
   "metadata": {},
   "outputs": [
    {
     "name": "stdout",
     "output_type": "stream",
     "text": [
      "count    7.770000e+02\n",
      "mean     9.612391e+03\n",
      "std      1.065370e+05\n",
      "min      6.100000e+01\n",
      "25%      4.310000e+02\n",
      "50%      7.050000e+02\n",
      "75%      1.392000e+03\n",
      "max      2.500669e+06\n",
      "Name: duration, dtype: float64\n",
      "777\n"
     ]
    }
   ],
   "source": [
    "print(df_list[6][df_list[6]['Start_id'] == '30084-A']['duration'].describe())\n",
    "print(len(df_list[6][df_list[6]['Start_id'] == '30084-A']['duration'].values))"
   ]
  },
  {
   "cell_type": "code",
   "execution_count": 14,
   "metadata": {
    "scrolled": true
   },
   "outputs": [
    {
     "name": "stdout",
     "output_type": "stream",
     "text": [
      "count      98.000000\n",
      "mean     2545.459184\n",
      "std      1327.361278\n",
      "min       177.000000\n",
      "25%      1674.250000\n",
      "50%      2268.000000\n",
      "75%      3022.250000\n",
      "max      7454.000000\n",
      "Name: duration, dtype: float64\n",
      "98\n"
     ]
    }
   ],
   "source": [
    "print(df_list[6][df_list[6]['Start_id'] == '30146-A']['duration'].describe())\n",
    "print(len(df_list[6][df_list[6]['Start_id'] == '30146-A']['duration'].values))"
   ]
  },
  {
   "cell_type": "markdown",
   "metadata": {},
   "source": [
    "The 2014 station 'x-30158' has a mean use time of ~18 seconds. This data can be purged, most bicycle rides would be longer than 18 seconds."
   ]
  },
  {
   "cell_type": "code",
   "execution_count": 15,
   "metadata": {},
   "outputs": [],
   "source": [
    "df_list[4] = df_list[4][df_list[4]['Start_id'] != 'x-30158']\n",
    "df_list[4] = df_list[4][df_list[4]['End_id'] != 'x-30158']"
   ]
  },
  {
   "cell_type": "markdown",
   "metadata": {},
   "source": [
    " The 2016 stations ('30084-A', '30146-A') have a reasonable mean use time and will be preserved. This will help 'save' 875 rides worth of data."
   ]
  },
  {
   "cell_type": "code",
   "execution_count": 16,
   "metadata": {},
   "outputs": [],
   "source": [
    "# df_list[6]['Start_id'] = df_list[6][df_list[6]['Start_id'] == '30084-A'].apply(lambda x: 30146)\n",
    "\n",
    "#nr2010 = nr2010.loc[~(nr2010['account'] == 'Unknown')]"
   ]
  },
  {
   "cell_type": "code",
   "execution_count": 17,
   "metadata": {},
   "outputs": [],
   "source": [
    "df_list[6] = df_list[6][df_list[6]['Start_id'] != '30084-A']\n",
    "df_list[6] = df_list[6][df_list[6]['End_id'] != '30084-A']\n",
    "df_list[6] = df_list[6][df_list[6]['Start_id'] != '30146-A']\n",
    "df_list[6] = df_list[6][df_list[6]['End_id'] != '30146-A']"
   ]
  },
  {
   "cell_type": "markdown",
   "metadata": {},
   "source": [
    "## The data types can now be changed since the columns only contain numerical data now"
   ]
  },
  {
   "cell_type": "code",
   "execution_count": 23,
   "metadata": {},
   "outputs": [],
   "source": [
    "# can force dtype now that NaN have been removed\n",
    "for x in range(8) :\n",
    "    df_list[x]['Start_id'] = df_list[x]['Start_id'].astype(int)\n",
    "    df_list[x]['End_id'] = df_list[x]['End_id'].astype(int)\n",
    "    df_list[x]['duration'] = df_list[x]['duration'].astype(int)"
   ]
  },
  {
   "cell_type": "code",
   "execution_count": 24,
   "metadata": {},
   "outputs": [
    {
     "name": "stdout",
     "output_type": "stream",
     "text": [
      "2010\n",
      "<class 'pandas.core.frame.DataFrame'>\n",
      "Index: 101426 entries, 0 to 101850\n",
      "Data columns (total 8 columns):\n",
      "Start_date    101426 non-null datetime64[ns]\n",
      "Start_name    101426 non-null object\n",
      "Start_id      101426 non-null int64\n",
      "End_date      101426 non-null datetime64[ns]\n",
      "End_name      101426 non-null object\n",
      "End_id        101426 non-null int64\n",
      "duration      101426 non-null int64\n",
      "account       101426 non-null object\n",
      "dtypes: datetime64[ns](2), int64(3), object(3)\n",
      "memory usage: 7.0+ MB\n",
      "None\n",
      "2011\n",
      "<class 'pandas.core.frame.DataFrame'>\n",
      "Index: 217896 entries, 0 to 219794\n",
      "Data columns (total 8 columns):\n",
      "Start_date    217896 non-null datetime64[ns]\n",
      "Start_name    217896 non-null object\n",
      "Start_id      217896 non-null int64\n",
      "End_date      217896 non-null datetime64[ns]\n",
      "End_name      217896 non-null object\n",
      "End_id        217896 non-null int64\n",
      "duration      217896 non-null int64\n",
      "account       217896 non-null object\n",
      "dtypes: datetime64[ns](2), int64(3), object(3)\n",
      "memory usage: 15.0+ MB\n",
      "None\n",
      "2012\n",
      "<class 'pandas.core.frame.DataFrame'>\n",
      "Index: 274580 entries, 0 to 275749\n",
      "Data columns (total 8 columns):\n",
      "Start_date    274580 non-null datetime64[ns]\n",
      "Start_name    274580 non-null object\n",
      "Start_id      274580 non-null int64\n",
      "End_date      274580 non-null datetime64[ns]\n",
      "End_name      274580 non-null object\n",
      "End_id        274580 non-null int64\n",
      "duration      274580 non-null int64\n",
      "account       274580 non-null object\n",
      "dtypes: datetime64[ns](2), int64(3), object(3)\n",
      "memory usage: 18.9+ MB\n",
      "None\n",
      "2013\n",
      "<class 'pandas.core.frame.DataFrame'>\n",
      "Index: 308777 entries, 0 to 310652\n",
      "Data columns (total 8 columns):\n",
      "Start_date    308777 non-null datetime64[ns]\n",
      "Start_name    308777 non-null object\n",
      "Start_id      308777 non-null int64\n",
      "End_date      308777 non-null datetime64[ns]\n",
      "End_name      308777 non-null object\n",
      "End_id        308777 non-null int64\n",
      "duration      308777 non-null int64\n",
      "account       308777 non-null object\n",
      "dtypes: datetime64[ns](2), int64(3), object(3)\n",
      "memory usage: 21.2+ MB\n",
      "None\n",
      "2014\n",
      "<class 'pandas.core.frame.DataFrame'>\n",
      "Index: 413633 entries, 0 to 417173\n",
      "Data columns (total 8 columns):\n",
      "Start_date    413633 non-null datetime64[ns]\n",
      "Start_name    413633 non-null object\n",
      "Start_id      413633 non-null int64\n",
      "End_date      413633 non-null datetime64[ns]\n",
      "End_name      413633 non-null object\n",
      "End_id        413633 non-null int64\n",
      "duration      413633 non-null int64\n",
      "account       413633 non-null object\n",
      "dtypes: datetime64[ns](2), int64(3), object(3)\n",
      "memory usage: 28.4+ MB\n",
      "None\n",
      "2015\n",
      "<class 'pandas.core.frame.DataFrame'>\n",
      "Index: 483100 entries, 0 to 483228\n",
      "Data columns (total 8 columns):\n",
      "Start_date    483100 non-null datetime64[ns]\n",
      "Start_name    483100 non-null object\n",
      "Start_id      483100 non-null int64\n",
      "End_date      483100 non-null datetime64[ns]\n",
      "End_name      483100 non-null object\n",
      "End_id        483100 non-null int64\n",
      "duration      483100 non-null int64\n",
      "account       483100 non-null object\n",
      "dtypes: datetime64[ns](2), int64(3), object(3)\n",
      "memory usage: 33.2+ MB\n",
      "None\n",
      "2016\n",
      "<class 'pandas.core.frame.DataFrame'>\n",
      "Index: 430211 entries, 0 to 432282\n",
      "Data columns (total 8 columns):\n",
      "Start_date    430211 non-null datetime64[ns]\n",
      "Start_name    430211 non-null object\n",
      "Start_id      430211 non-null int64\n",
      "End_date      430211 non-null datetime64[ns]\n",
      "End_name      430211 non-null object\n",
      "End_id        430211 non-null int64\n",
      "duration      430211 non-null int64\n",
      "account       430211 non-null object\n",
      "dtypes: datetime64[ns](2), int64(3), object(3)\n",
      "memory usage: 29.5+ MB\n",
      "None\n",
      "2017\n",
      "<class 'pandas.core.frame.DataFrame'>\n",
      "Index: 459905 entries, 0 to 460717\n",
      "Data columns (total 8 columns):\n",
      "Start_date    459905 non-null datetime64[ns]\n",
      "Start_name    459905 non-null object\n",
      "Start_id      459905 non-null int64\n",
      "End_date      459905 non-null datetime64[ns]\n",
      "End_name      459905 non-null object\n",
      "End_id        459905 non-null int64\n",
      "account       459905 non-null object\n",
      "duration      459905 non-null int64\n",
      "dtypes: datetime64[ns](2), int64(3), object(3)\n",
      "memory usage: 31.6+ MB\n",
      "None\n"
     ]
    }
   ],
   "source": [
    "# Final data types check, everything should match\n",
    "for x in range(8) :\n",
    "    print('201'+str(x))\n",
    "    print(df_list[x].info())"
   ]
  },
  {
   "cell_type": "markdown",
   "metadata": {},
   "source": [
    "## Removing unknown account types\n",
    " * Unknown\n",
    " * Inconnu\n",
    "     * French for unknown"
   ]
  },
  {
   "cell_type": "code",
   "execution_count": 25,
   "metadata": {},
   "outputs": [
    {
     "name": "stdout",
     "output_type": "stream",
     "text": [
      "2010\n",
      "Casual     52521\n",
      "Member     48853\n",
      "Unknown       52\n",
      "Name: account, dtype: int64\n",
      "2011\n",
      "Member    148544\n",
      "Casual     69352\n",
      "Name: account, dtype: int64\n",
      "2012\n",
      "Member    170177\n",
      "Casual    104403\n",
      "Name: account, dtype: int64\n",
      "2013\n",
      "Member     178062\n",
      "Casual     130714\n",
      "Unknown         1\n",
      "Name: account, dtype: int64\n",
      "2014\n",
      "Member     211211\n",
      "Casual     202417\n",
      "Unknown         5\n",
      "Name: account, dtype: int64\n",
      "2015\n",
      "Member     243745\n",
      "Casual     239354\n",
      "Unknown         1\n",
      "Name: account, dtype: int64\n",
      "2016\n",
      "Member     281054\n",
      "Casual     149154\n",
      "Inconnu         3\n",
      "Name: account, dtype: int64\n",
      "2017\n",
      "Member     289514\n",
      "Casual     170389\n",
      "Inconnu         2\n",
      "Name: account, dtype: int64\n"
     ]
    }
   ],
   "source": [
    "for x in range(8) :\n",
    "    print('201'+str(x))\n",
    "    print(df_list[x]['account'].value_counts())"
   ]
  },
  {
   "cell_type": "code",
   "execution_count": 28,
   "metadata": {},
   "outputs": [],
   "source": [
    "for x in range(8) :\n",
    "    df_list[x] = df_list[x][df_list[x]['account'] != 'Unknown']\n",
    "    df_list[x] = df_list[x][df_list[x]['account'] != 'Inconnu']"
   ]
  },
  {
   "cell_type": "code",
   "execution_count": 29,
   "metadata": {},
   "outputs": [
    {
     "name": "stdout",
     "output_type": "stream",
     "text": [
      "2010\n",
      "Casual    52521\n",
      "Member    48853\n",
      "Name: account, dtype: int64\n",
      "2011\n",
      "Member    148544\n",
      "Casual     69352\n",
      "Name: account, dtype: int64\n",
      "2012\n",
      "Member    170177\n",
      "Casual    104403\n",
      "Name: account, dtype: int64\n",
      "2013\n",
      "Member    178062\n",
      "Casual    130714\n",
      "Name: account, dtype: int64\n",
      "2014\n",
      "Member    211211\n",
      "Casual    202417\n",
      "Name: account, dtype: int64\n",
      "2015\n",
      "Member    243745\n",
      "Casual    239354\n",
      "Name: account, dtype: int64\n",
      "2016\n",
      "Member     281054\n",
      "Casual     149154\n",
      "Inconnu         3\n",
      "Name: account, dtype: int64\n",
      "2017\n",
      "Member     289514\n",
      "Casual     170389\n",
      "Inconnu         2\n",
      "Name: account, dtype: int64\n"
     ]
    }
   ],
   "source": [
    "for x in range(8) :\n",
    "    print('201'+str(x))\n",
    "    print(df_list[x]['account'].value_counts())"
   ]
  },
  {
   "cell_type": "markdown",
   "metadata": {},
   "source": [
    "## Reordering of columns so each year is identical"
   ]
  },
  {
   "cell_type": "code",
   "execution_count": 33,
   "metadata": {},
   "outputs": [],
   "source": [
    "reorder_columns = ['Start_date', 'Start_name', 'Start_id', 'End_date', 'End_name','End_id', 'duration', 'account']\n",
    "\n",
    "for x in range(8):\n",
    "    df_list[x] = df_list[x].reindex(columns=reorder_columns)"
   ]
  },
  {
   "cell_type": "markdown",
   "metadata": {},
   "source": [
    "Verifying that the columns reordered as desired"
   ]
  },
  {
   "cell_type": "code",
   "execution_count": 34,
   "metadata": {},
   "outputs": [
    {
     "name": "stdout",
     "output_type": "stream",
     "text": [
      "Index(['Start_date', 'Start_name', 'Start_id', 'End_date', 'End_name',\n",
      "       'End_id', 'duration', 'account'],\n",
      "      dtype='object')\n",
      "Index(['Start_date', 'Start_name', 'Start_id', 'End_date', 'End_name',\n",
      "       'End_id', 'duration', 'account'],\n",
      "      dtype='object')\n",
      "Index(['Start_date', 'Start_name', 'Start_id', 'End_date', 'End_name',\n",
      "       'End_id', 'duration', 'account'],\n",
      "      dtype='object')\n",
      "Index(['Start_date', 'Start_name', 'Start_id', 'End_date', 'End_name',\n",
      "       'End_id', 'duration', 'account'],\n",
      "      dtype='object')\n",
      "Index(['Start_date', 'Start_name', 'Start_id', 'End_date', 'End_name',\n",
      "       'End_id', 'duration', 'account'],\n",
      "      dtype='object')\n",
      "Index(['Start_date', 'Start_name', 'Start_id', 'End_date', 'End_name',\n",
      "       'End_id', 'duration', 'account'],\n",
      "      dtype='object')\n",
      "Index(['Start_date', 'Start_name', 'Start_id', 'End_date', 'End_name',\n",
      "       'End_id', 'duration', 'account'],\n",
      "      dtype='object')\n",
      "Index(['Start_date', 'Start_name', 'Start_id', 'End_date', 'End_name',\n",
      "       'End_id', 'duration', 'account'],\n",
      "      dtype='object')\n"
     ]
    }
   ],
   "source": [
    "for x in range(8):\n",
    "    print(df_list[x].columns)"
   ]
  },
  {
   "cell_type": "markdown",
   "metadata": {},
   "source": [
    "**Cleaning complete, save to file**"
   ]
  },
  {
   "cell_type": "code",
   "execution_count": null,
   "metadata": {},
   "outputs": [],
   "source": [
    "for x in range(8) :\n",
    "    df_list[x].to_csv('~/Projects/NiceRide/Nice_Ride_data/201'+str(x)+'/NiceRide_trip_history_201'+str(x)+'.csv'\\\n",
    "                     index=False)"
   ]
  }
 ],
 "metadata": {
  "kernelspec": {
   "display_name": "Python 3",
   "language": "python",
   "name": "python3"
  },
  "language_info": {
   "codemirror_mode": {
    "name": "ipython",
    "version": 3
   },
   "file_extension": ".py",
   "mimetype": "text/x-python",
   "name": "python",
   "nbconvert_exporter": "python",
   "pygments_lexer": "ipython3",
   "version": "3.6.2"
  }
 },
 "nbformat": 4,
 "nbformat_minor": 2
}
